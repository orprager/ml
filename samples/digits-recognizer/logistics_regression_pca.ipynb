{
 "cells": [
  {
   "cell_type": "code",
   "execution_count": null,
   "metadata": {},
   "outputs": [],
   "source": [
    "# IMPORTS\n",
    "from sklearn.linear_model import LogisticRegression\n",
    "from sklearn.metrics import accuracy_score\n",
    "import pandas as pd\n",
    "from sklearn.model_selection import train_test_split\n",
    "from sklearn.decomposition import PCA\n",
    "\n",
    "%matplotlib inline"
   ]
  },
  {
   "cell_type": "code",
   "execution_count": 2,
   "metadata": {},
   "outputs": [],
   "source": [
    "# OPTIONS\n",
    "IMAGES_TO_PROCESS = 5000\n",
    "TEST_RATIO = 0.15\n",
    "RANDOM_STATE = 42\n",
    "VERBOSE = 3\n",
    "PCA_N_COMPENENTS = 100"
   ]
  },
  {
   "cell_type": "code",
   "execution_count": null,
   "metadata": {},
   "outputs": [],
   "source": [
    "# Load data + pull out images and lables\n",
    "labeled_images = pd.read_csv(\"../../data/digits-recognizer/train.csv\")\n",
    "\n",
    "images = labeled_images.iloc[0:IMAGES_TO_PROCESS, 1:]\n",
    "labels = labeled_images.iloc[0:IMAGES_TO_PROCESS, :1]"
   ]
  },
  {
   "cell_type": "code",
   "execution_count": null,
   "metadata": {},
   "outputs": [],
   "source": [
    "# Split to train and test datasets\n",
    "images_train, images_test, labels_train, labels_test = train_test_split(images,\n",
    "                                                                        labels,\n",
    "                                                                        test_size=TEST_RATIO,\n",
    "                                                                        random_state=RANDOM_STATE,\n",
    "                                                                        # to preserve initial class balance\n",
    "                                                                        stratify=labeled_images[\n",
    "                                                                                     labeled_images.columns[0]].values[\n",
    "                                                                                 :IMAGES_TO_PROCESS])\n"
   ]
  },
  {
   "cell_type": "code",
   "execution_count": null,
   "metadata": {},
   "outputs": [],
   "source": [
    "# PCA Transformation\n",
    "pca = PCA(n_components=PCA_N_COMPENENTS, random_state=RANDOM_STATE)\n",
    "\n",
    "images_train_transformed = pca.fit_transform(images_train)\n",
    "\n",
    "print \"Original shape: {0}\".format(images_train.shape)\n",
    "print \"PCA shape: {0}\".format(images_train_transformed.shape)"
   ]
  },
  {
   "cell_type": "code",
   "execution_count": null,
   "metadata": {},
   "outputs": [],
   "source": [
    "# TODO: study args\n",
    "clf = LogisticRegression(n_jobs=-1, \n",
    "                         C=1000,\n",
    "                         fit_intercept=False,\n",
    "                         class_weight='balanced', \n",
    "                         random_state=RANDOM_STATE,\n",
    "                         solver='lbfgs',\n",
    "                         multi_class='multinomial',\n",
    "                         verbose=VERBOSE)\n",
    "\n",
    "clf.fit(images_train, labels_train.values.ravel())\n",
    "\n",
    "score = accuracy_score(clf.predict(images_test), labels_test)\n",
    "print \"score: {0}\".format(score)"
   ]
  },
  {
   "cell_type": "code",
   "execution_count": null,
   "metadata": {},
   "outputs": [],
   "source": []
  }
 ],
 "metadata": {
  "kernelspec": {
   "display_name": "Python 2",
   "language": "python",
   "name": "python2"
  },
  "language_info": {
   "codemirror_mode": {
    "name": "ipython",
    "version": 2
   },
   "file_extension": ".py",
   "mimetype": "text/x-python",
   "name": "python",
   "nbconvert_exporter": "python",
   "pygments_lexer": "ipython2",
   "version": "2.7.14"
  }
 },
 "nbformat": 4,
 "nbformat_minor": 2
}
