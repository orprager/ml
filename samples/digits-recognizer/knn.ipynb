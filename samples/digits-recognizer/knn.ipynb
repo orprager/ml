{
 "cells": [
  {
   "cell_type": "code",
   "execution_count": null,
   "metadata": {},
   "outputs": [],
   "source": [
    "# IMPORTS\n",
    "from sklearn.neighbors import KNeighborsClassifier\n",
    "from sklearn.metrics import accuracy_score\n",
    "import pandas as pd\n",
    "from sklearn.model_selection import train_test_split\n",
    "\n",
    "%matplotlib inline"
   ]
  },
  {
   "cell_type": "code",
   "execution_count": 9,
   "metadata": {},
   "outputs": [],
   "source": [
    "# OPTIONS\n",
    "IMAGES_TO_PROCESS = 5000\n",
    "TEST_RATIO = 0.15\n",
    "RANDOM_STATE = 42\n",
    "VERBOSE = 3\n",
    "KNN_N = 3"
   ]
  },
  {
   "cell_type": "code",
   "execution_count": 5,
   "metadata": {},
   "outputs": [],
   "source": [
    "# Load data + pull out images and lables\n",
    "labeled_images = pd.read_csv(\"../../data/digits-recognizer/train.csv\")\n",
    "\n",
    "images = labeled_images.iloc[0:IMAGES_TO_PROCESS, 1:]\n",
    "labels = labeled_images.iloc[0:IMAGES_TO_PROCESS, :1]"
   ]
  },
  {
   "cell_type": "code",
   "execution_count": 10,
   "metadata": {},
   "outputs": [],
   "source": [
    "images_train, images_test, labels_train, labels_test = train_test_split(images,\n",
    "                                                                        labels,\n",
    "                                                                        test_size=TEST_RATIO,\n",
    "                                                                        random_state=RANDOM_STATE,\n",
    "                                                                        # to preserve initial class balance\n",
    "                                                                        stratify=labeled_images[\n",
    "                                                                                     labeled_images.columns[0]].values[\n",
    "                                                                                 :IMAGES_TO_PROCESS])\n"
   ]
  },
  {
   "cell_type": "code",
   "execution_count": 13,
   "metadata": {},
   "outputs": [
    {
     "name": "stderr",
     "output_type": "stream",
     "text": [
      "/usr/local/lib/python2.7/site-packages/sklearn/linear_model/logistic.py:718: UserWarning: lbfgs failed to converge. Increase the number of iterations.\n",
      "  warnings.warn(\"lbfgs failed to converge. Increase the number \"\n"
     ]
    },
    {
     "name": "stdout",
     "output_type": "stream",
     "text": [
      "score: 0.86\n"
     ]
    },
    {
     "name": "stderr",
     "output_type": "stream",
     "text": [
      "[Parallel(n_jobs=-1)]: Done   1 out of   1 | elapsed:    2.4s finished\n"
     ]
    }
   ],
   "source": [
    "# TODO: study args\n",
    "knn = KNeighborsClassifier(n_neighbors=KNN_N)\n",
    "knn.fit(images_train, labels_train) \n",
    "\n",
    "score = accuracy_score(knn.predict(images_test), labels_test)\n",
    "print \"score: {0}\".format(score)"
   ]
  },
  {
   "cell_type": "code",
   "execution_count": null,
   "metadata": {},
   "outputs": [],
   "source": []
  }
 ],
 "metadata": {
  "kernelspec": {
   "display_name": "Python 2",
   "language": "python",
   "name": "python2"
  },
  "language_info": {
   "codemirror_mode": {
    "name": "ipython",
    "version": 2
   },
   "file_extension": ".py",
   "mimetype": "text/x-python",
   "name": "python",
   "nbconvert_exporter": "python",
   "pygments_lexer": "ipython2",
   "version": "2.7.14"
  }
 },
 "nbformat": 4,
 "nbformat_minor": 2
}
