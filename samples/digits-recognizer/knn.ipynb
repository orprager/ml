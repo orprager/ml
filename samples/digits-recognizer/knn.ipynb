{
 "cells": [
  {
   "cell_type": "code",
   "execution_count": 1,
   "metadata": {},
   "outputs": [],
   "source": [
    "# IMPORTS\n",
    "from sklearn.metrics import accuracy_score\n",
    "import pandas as pd\n",
    "from sklearn.model_selection import train_test_split\n",
    "\n",
    "%matplotlib inline"
   ]
  },
  {
   "cell_type": "code",
   "execution_count": 2,
   "metadata": {},
   "outputs": [],
   "source": [
    "# OPTIONS\n",
    "IMAGES_TO_PROCESS = 5000\n",
    "TEST_RATIO = 0.15\n",
    "RANDOM_STATE = 42\n",
    "VERBOSE = 3\n",
    "KNN_N = 3"
   ]
  },
  {
   "cell_type": "code",
   "execution_count": 3,
   "metadata": {},
   "outputs": [],
   "source": [
    "# Load data + pull out images and lables\n",
    "labeled_images = pd.read_csv(\"./data/digits-recognizer/train.csv\")\n",
    "\n",
    "images = labeled_images.iloc[0:IMAGES_TO_PROCESS, 1:]\n",
    "labels = labeled_images.iloc[0:IMAGES_TO_PROCESS, :1]"
   ]
  },
  {
   "cell_type": "code",
   "execution_count": 4,
   "metadata": {},
   "outputs": [],
   "source": [
    "images_train, images_test, labels_train, labels_test = train_test_split(images,\n",
    "                                                                        labels,\n",
    "                                                                        test_size=TEST_RATIO,\n",
    "                                                                        random_state=RANDOM_STATE,\n",
    "                                                                        # to preserve initial class balance\n",
    "                                                                        stratify=labeled_images[\n",
    "                                                                                     labeled_images.columns[0]].values[\n",
    "                                                                                 :IMAGES_TO_PROCESS])\n"
   ]
  },
  {
   "cell_type": "code",
   "execution_count": 32,
   "metadata": {},
   "outputs": [
    {
     "data": {
      "text/plain": [
       "array([[1],\n       [4],\n       [4],\n       ...,\n       [9],\n       [4],\n       [9]])"
      ]
     },
     "execution_count": 32,
     "metadata": {},
     "output_type": "execute_result"
    }
   ],
   "source": [
    "labels_train.values"
   ]
  },
  {
   "cell_type": "code",
   "execution_count": 26,
   "metadata": {},
   "outputs": [
    {
     "name": "stdout",
     "output_type": "stream",
     "text": [
      "score: 0.937333333333\nscore: 0.937333333333\nscore: 0.933333333333\n"
     ]
    }
   ],
   "source": [
    "# TODO: study args\n",
    "from lib.models.knn.knn import KNN\n",
    "\n",
    "knn = KNN()\n",
    "knn.fit(images_train.values, labels_train.values.ravel()) \n",
    "\n",
    "score = accuracy_score(knn.predict(images_test.values, KNN_N), labels_test.values)\n",
    "print \"score: {0}\".format(score)"
   ]
  },
  {
   "cell_type": "code",
   "execution_count": null,
   "metadata": {},
   "outputs": [],
   "source": []
  }
 ],
 "metadata": {
  "kernelspec": {
   "display_name": "Python 2",
   "language": "python",
   "name": "python2"
  },
  "language_info": {
   "codemirror_mode": {
    "name": "ipython",
    "version": 2
   },
   "file_extension": ".py",
   "mimetype": "text/x-python",
   "name": "python",
   "nbconvert_exporter": "python",
   "pygments_lexer": "ipython2",
   "version": "2.7.14"
  }
 },
 "nbformat": 4,
 "nbformat_minor": 2
}
