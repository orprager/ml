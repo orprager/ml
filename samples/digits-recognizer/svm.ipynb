{
 "cells": [
  {
   "cell_type": "code",
   "execution_count": 1,
   "metadata": {},
   "outputs": [],
   "source": [
    "import pandas as pd\n",
    "import matplotlib.pyplot as plt, matplotlib.image as mpimg\n",
    "from sklearn.model_selection import train_test_split\n",
    "\n",
    "%matplotlib inline"
   ]
  },
  {
   "cell_type": "code",
   "execution_count": 2,
   "metadata": {},
   "outputs": [],
   "source": [
    "# Load data + pull out images and lables\n",
    "labeled_images = pd.read_csv(\"./data/digits-recognizer/train.csv\")\n",
    "\n"
   ]
  },
  {
   "cell_type": "code",
   "execution_count": 3,
   "metadata": {},
   "outputs": [],
   "source": [
    "# Pull data only for images of number 1 and 2 (our classifier support 2-class classification\n",
    "labeled_images_of_one = labeled_images.loc[labeled_images['label'] == 1]\n",
    "labeled_images_of_two = labeled_images.loc[labeled_images['label'] == 2]\n",
    "\n",
    "limited_labeled_images = pd.concat([labeled_images_of_one, labeled_images_of_two])\n",
    "\n",
    "images = limited_labeled_images.iloc[0:5000, 1:]\n",
    "labels = limited_labeled_images.iloc[0:5000, :1]"
   ]
  },
  {
   "cell_type": "code",
   "execution_count": 4,
   "metadata": {},
   "outputs": [
    {
     "name": "stderr",
     "output_type": "stream",
     "text": [
      "/usr/local/lib/python2.7/site-packages/sklearn/model_selection/_split.py:2026: FutureWarning: From version 0.21, test_size will always complement train_size unless both are specified.\n  FutureWarning)\n"
     ]
    }
   ],
   "source": [
    "# Split data into train and test datasets\n",
    "train_images, test_images, train_labels, test_labels = \\\n",
    "    train_test_split(images, labels, train_size=0.8, random_state=0)"
   ]
  },
  {
   "cell_type": "code",
   "execution_count": 6,
   "metadata": {},
   "outputs": [
    {
     "data": {
      "text/plain": [
       "Text(0.5,1,u'1')"
      ]
     },
     "execution_count": 6,
     "metadata": {},
     "output_type": "execute_result"
    },
    {
     "data": {
      "image/png": "[encoded data removed]",
      "text/plain": [
       "<matplotlib.figure.Figure at 0x10fdc5b90>"
      ]
     },
     "metadata": {},
     "output_type": "display_data"
    }
   ],
   "source": [
    "# Viewing an image\n",
    "i = 2  # image index \n",
    "img = train_images.iloc[i].as_matrix()  # transform one-dimention image into a 1-d numpy array\n",
    "img = img.reshape((28, 28))  # reshape numpy 1d array inti 2d 28x28 array\n",
    "plt.imshow(img, cmap='gray')\n",
    "plt.title(train_labels.iloc[i, 0])  # Put the image a title by it's label\n"
   ]
  },
  {
   "cell_type": "code",
   "execution_count": 7,
   "metadata": {
    "scrolled": true
   },
   "outputs": [
    {
     "data": {
      "text/plain": [
       "(array([725.,   3.,   4.,   2.,   8.,   4.,   3.,   4.,   5.,  26.]),\n array([  0. ,  25.5,  51. ,  76.5, 102. , 127.5, 153. , 178.5, 204. ,\n        229.5, 255. ]),\n <a list of 10 Patch objects>)"
      ]
     },
     "execution_count": 7,
     "metadata": {},
     "output_type": "execute_result"
    },
    {
     "data": {
      "image/png": "[encoded data removed]",
      "text/plain": [
       "<matplotlib.figure.Figure at 0x115fe2c90>"
      ]
     },
     "metadata": {},
     "output_type": "display_data"
    }
   ],
   "source": [
    "# in order to understand the image we can plot the histogram of our possible pixel values\n",
    "plt.hist(train_images.iloc[i])\n",
    "# we can see that our pixels not really with values of 1 and 0, and it might have affect\n",
    "# on our model."
   ]
  },
  {
   "cell_type": "code",
   "execution_count": 8,
   "metadata": {},
   "outputs": [
    {
     "name": "stderr",
     "output_type": "stream",
     "text": [
      "/usr/local/lib/python2.7/site-packages/ipykernel_launcher.py:5: SettingWithCopyWarning: \nA value is trying to be set on a copy of a slice from a DataFrame.\nTry using .loc[row_indexer,col_indexer] = value instead\n\nSee the caveats in the documentation: http://pandas.pydata.org/pandas-docs/stable/indexing.html#indexing-view-versus-copy\n  \"\"\"\n/usr/local/lib/python2.7/site-packages/pandas/core/frame.py:2554: SettingWithCopyWarning: \nA value is trying to be set on a copy of a slice from a DataFrame\n\nSee the caveats in the documentation: http://pandas.pydata.org/pandas-docs/stable/indexing.html#indexing-view-versus-copy\n  self._where(-key, value, inplace=True)\n/usr/local/lib/python2.7/site-packages/ipykernel_launcher.py:6: SettingWithCopyWarning: \nA value is trying to be set on a copy of a slice from a DataFrame.\nTry using .loc[row_indexer,col_indexer] = value instead\n\nSee the caveats in the documentation: http://pandas.pydata.org/pandas-docs/stable/indexing.html#indexing-view-versus-copy\n  \n"
     ]
    },
    {
     "data": {
      "text/plain": [
       "Text(0.5,1,u'label    1\\nName: 29421, dtype: int64')"
      ]
     },
     "execution_count": 8,
     "metadata": {},
     "output_type": "execute_result"
    },
    {
     "data": {
      "image/png": "[encoded data removed]",
      "text/plain": [
       "<matplotlib.figure.Figure at 0x110eedc90>"
      ]
     },
     "metadata": {},
     "output_type": "display_data"
    }
   ],
   "source": [
    "# Our images are white digits on black background, now we'll try to change the background\n",
    "# to white and the digits to black so the digits (pixels) will be easier to detect\n",
    "i = 1\n",
    "# TODO: what is the syntax of x > 0 -> 1 means?\n",
    "test_images[test_images > 0] = 1\n",
    "train_images[train_images > 0] = 1\n",
    "\n",
    "img = train_images.iloc[i].as_matrix().reshape((28, 28))\n",
    "plt.imshow(img, cmap='binary')\n",
    "plt.title(train_labels.iloc[i])\n"
   ]
  },
  {
   "cell_type": "code",
   "execution_count": 9,
   "metadata": {},
   "outputs": [
    {
     "data": {
      "text/plain": [
       "(array([711.,   0.,   0.,   0.,   0.,   0.,   0.,   0.,   0.,  73.]),\n array([0. , 0.1, 0.2, 0.3, 0.4, 0.5, 0.6, 0.7, 0.8, 0.9, 1. ]),\n <a list of 10 Patch objects>)"
      ]
     },
     "execution_count": 9,
     "metadata": {},
     "output_type": "execute_result"
    },
    {
     "data": {
      "image/png": "[encoded data removed]",
      "text/plain": [
       "<matplotlib.figure.Figure at 0x110e3c110>"
      ]
     },
     "metadata": {},
     "output_type": "display_data"
    }
   ],
   "source": [
    "# now after we changed the colors and removed our gray area of pixels we can plot the image's\n",
    "# color histogram again\n",
    "plt.hist(train_images.iloc[i])\n",
    "# now we can see that all the pixels are with values of 1 and 0"
   ]
  },
  {
   "cell_type": "code",
   "execution_count": 10,
   "metadata": {},
   "outputs": [],
   "source": [
    "# Train our model\n",
    "from sklearn.metrics import accuracy_score\n",
    "\n",
    "from lib.models.svm import SVM\n",
    "\n",
    "clf = SVM()\n",
    "clf.fit(train_images.values, train_labels.values.ravel())\n",
    "accuracy = accuracy_score(clf.predict(test_images), test_labels.ravel())\n",
    "\n",
    "print \"accuracy: {}\".format(accuracy)"
   ]
  }
 ],
 "metadata": {
  "kernelspec": {
   "display_name": "Python 2",
   "language": "python",
   "name": "python2"
  },
  "language_info": {
   "codemirror_mode": {
    "name": "ipython",
    "version": 2
   },
   "file_extension": ".py",
   "mimetype": "text/x-python",
   "name": "python",
   "nbconvert_exporter": "python",
   "pygments_lexer": "ipython2",
   "version": "2.7.14"
  }
 },
 "nbformat": 4,
 "nbformat_minor": 2
}
