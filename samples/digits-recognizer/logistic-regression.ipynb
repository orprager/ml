{
 "cells": [
  {
   "cell_type": "code",
   "execution_count": null,
   "metadata": {},
   "outputs": [],
   "source": [
    "# Logistic regression\n",
    "from sklearn.linear_model import LogisticRegression\n",
    "from sklearn.metrics import accuracy_score\n",
    "import pandas as pd\n",
    "from sklearn.model_selection import train_test_split\n",
    "\n",
    "%matplotlib inline"
   ]
  },
  {
   "cell_type": "code",
   "execution_count": null,
   "metadata": {},
   "outputs": [],
   "source": [
    "# Load data + pull out images and lables\n",
    "labeled_images = pd.read_csv(\"./data/digits-recognizer/train.csv\")\n",
    "\n",
    "images = labeled_images.iloc[0:5000, 1:]\n",
    "labels = labeled_images.iloc[0:5000, :1]"
   ]
  },
  {
   "cell_type": "code",
   "execution_count": null,
   "metadata": {},
   "outputs": [],
   "source": [
    "X_train, X_holdout, y_train, y_holdout = train_test_split(\n",
    "                                            images,\n",
    "                                            labels,\n",
    "                                            test_size=0.15,\n",
    "                                            random_state=42,\n",
    "                                            # to preserve initial class balance\n",
    "                                            stratify=labeled_images[labeled_images.columns[0]].values[:5000])\n",
    "\n"
   ]
  },
  {
   "cell_type": "code",
   "execution_count": null,
   "metadata": {},
   "outputs": [],
   "source": [
    "# TODO: study args\n",
    "clf = LogisticRegression(n_jobs=-1, \n",
    "                         C=1000,\n",
    "                         fit_intercept=False,\n",
    "                         class_weight='balanced', \n",
    "                         random_state=42,\n",
    "                         solver='lbfgs',\n",
    "                         multi_class='multinomial',\n",
    "                         verbose=3)\n",
    "\n",
    "clf.fit(X_train, y_train.values.ravel())\n",
    "score = accuracy_score(clf.predict(X_holdout), y_holdout)\n",
    "print score"
   ]
  }
 ],
 "metadata": {
  "kernelspec": {
   "display_name": "Python 2",
   "language": "python",
   "name": "python2"
  },
  "language_info": {
   "codemirror_mode": {
    "name": "ipython",
    "version": 2
   },
   "file_extension": ".py",
   "mimetype": "text/x-python",
   "name": "python",
   "nbconvert_exporter": "python",
   "pygments_lexer": "ipython2",
   "version": "2.7.14"
  }
 },
 "nbformat": 4,
 "nbformat_minor": 2
}
