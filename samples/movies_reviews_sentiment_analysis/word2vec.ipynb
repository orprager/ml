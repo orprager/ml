{
 "cells": [
  {
   "cell_type": "code",
   "execution_count": 1,
   "metadata": {},
   "outputs": [
    {
     "name": "stdout",
     "output_type": "stream",
     "text": [
      "CPU times: user 1 µs, sys: 1 µs, total: 2 µs\nWall time: 4.05 µs\n"
     ]
    }
   ],
   "source": [
    "%time \n",
    "\n",
    "import os\n",
    "import sys\n",
    "\n",
    "PROJECT_PATH = '/Users/orprager/PycharmProjects/ml'\n",
    "module_path = os.path.abspath('/Users/orprager/PycharmProjects/ml')\n",
    "if module_path not in sys.path:\n",
    "    print \"adding {} to sys.path\".format(module_path)\n",
    "    sys.path.insert(1, module_path)\n"
   ]
  },
  {
   "cell_type": "code",
   "execution_count": 3,
   "metadata": {},
   "outputs": [
    {
     "name": "stdout",
     "output_type": "stream",
     "text": [
      "CPU times: user 9 µs, sys: 2 µs, total: 11 µs\nWall time: 21 µs\n"
     ]
    },
    {
     "name": "stdout",
     "output_type": "stream",
     "text": [
      "labeled reviews: (25000, 3)\ntest reviews: (25000, 2)\nunlabeled reviews: (50000, 2)\n\nlabeled reviews columns: ['id' 'sentiment' 'review']\n"
     ]
    }
   ],
   "source": [
    "%time\n",
    "\n",
    "# Loading the reviews\n",
    "import pandas as pd\n",
    "from samples.movies_reviews_sentiment_analysis import get_labeled_train_data, get_test_unlabeled_data, \\\n",
    "    get_unlabeled_train_data\n",
    "\n",
    "labeled_train_review = get_labeled_train_data()\n",
    "test_reviews = get_test_unlabeled_data()\n",
    "unlabeled_train_reviews = get_unlabeled_train_data()\n",
    "\n",
    "print \"labeled reviews: {}\".format(labeled_train_review.shape)\n",
    "print \"test reviews: {}\".format(test_reviews.shape)\n",
    "print \"unlabeled reviews: {}\".format(unlabeled_train_reviews.shape)\n",
    "\n",
    "print \"\\nlabeled reviews columns: {}\".format(labeled_train_review.columns.values)\n"
   ]
  },
  {
   "cell_type": "code",
   "execution_count": 4,
   "metadata": {},
   "outputs": [
    {
     "name": "stdout",
     "output_type": "stream",
     "text": [
      "CPU times: user 2 µs, sys: 1 µs, total: 3 µs\nWall time: 5.01 µs\n"
     ]
    },
    {
     "name": "stdout",
     "output_type": "stream",
     "text": [
      "Parsing sentences from labeled training set\n"
     ]
    },
    {
     "name": "stderr",
     "output_type": "stream",
     "text": [
      "/usr/local/lib/python2.7/site-packages/bs4/__init__.py:219: UserWarning: \".\" looks like a filename, not markup. You should probably open this file and pass the filehandle into Beautiful Soup.\n  ' Beautiful Soup.' % markup)\n"
     ]
    },
    {
     "name": "stderr",
     "output_type": "stream",
     "text": [
      "/usr/local/lib/python2.7/site-packages/bs4/__init__.py:282: UserWarning: \"http://www.happierabroad.com\"\" looks like a URL. Beautiful Soup is not an HTTP client. You should probably use an HTTP client like requests to get the document behind the URL, and feed that document to Beautiful Soup.\n  ' that document to Beautiful Soup.' % decoded_markup\n"
     ]
    },
    {
     "name": "stdout",
     "output_type": "stream",
     "text": [
      "Parsing sentences from unlabeled set\n"
     ]
    },
    {
     "name": "stderr",
     "output_type": "stream",
     "text": [
      "/usr/local/lib/python2.7/site-packages/bs4/__init__.py:282: UserWarning: \"http://www.archive.org/details/LovefromaStranger\"\" looks like a URL. Beautiful Soup is not an HTTP client. You should probably use an HTTP client like requests to get the document behind the URL, and feed that document to Beautiful Soup.\n  ' that document to Beautiful Soup.' % decoded_markup\n"
     ]
    },
    {
     "name": "stderr",
     "output_type": "stream",
     "text": [
      "/usr/local/lib/python2.7/site-packages/bs4/__init__.py:282: UserWarning: \"http://www.loosechangeguide.com/LooseChangeGuide.html\"\" looks like a URL. Beautiful Soup is not an HTTP client. You should probably use an HTTP client like requests to get the document behind the URL, and feed that document to Beautiful Soup.\n  ' that document to Beautiful Soup.' % decoded_markup\n"
     ]
    },
    {
     "name": "stderr",
     "output_type": "stream",
     "text": [
      "/usr/local/lib/python2.7/site-packages/bs4/__init__.py:282: UserWarning: \"http://www.msnbc.msn.com/id/4972055/site/newsweek/\"\" looks like a URL. Beautiful Soup is not an HTTP client. You should probably use an HTTP client like requests to get the document behind the URL, and feed that document to Beautiful Soup.\n  ' that document to Beautiful Soup.' % decoded_markup\n"
     ]
    },
    {
     "name": "stderr",
     "output_type": "stream",
     "text": [
      "/usr/local/lib/python2.7/site-packages/bs4/__init__.py:219: UserWarning: \"..\" looks like a filename, not markup. You should probably open this file and pass the filehandle into Beautiful Soup.\n  ' Beautiful Soup.' % markup)\n"
     ]
    },
    {
     "name": "stderr",
     "output_type": "stream",
     "text": [
      "/usr/local/lib/python2.7/site-packages/bs4/__init__.py:282: UserWarning: \"http://www.youtube.com/watch?v=a0KSqelmgN8\"\" looks like a URL. Beautiful Soup is not an HTTP client. You should probably use an HTTP client like requests to get the document behind the URL, and feed that document to Beautiful Soup.\n  ' that document to Beautiful Soup.' % decoded_markup\n"
     ]
    },
    {
     "name": "stderr",
     "output_type": "stream",
     "text": [
      "/usr/local/lib/python2.7/site-packages/bs4/__init__.py:282: UserWarning: \"http://jake-weird.blogspot.com/2007/08/beneath.html\"\" looks like a URL. Beautiful Soup is not an HTTP client. You should probably use an HTTP client like requests to get the document behind the URL, and feed that document to Beautiful Soup.\n  ' that document to Beautiful Soup.' % decoded_markup\n"
     ]
    }
   ],
   "source": [
    "%time\n",
    "# Review to list of sentences (word2vec expect to get the sentences separated)\n",
    "\n",
    "from lib.nlp import text_to_sentences\n",
    "import nltk\n",
    "\n",
    "# NLTK has a tokenizer allow us to split text by sentences\n",
    "sentence_tokenizer = nltk.data.load('tokenizers/punkt/english.pickle')\n",
    "\n",
    "sentences = []\n",
    "\n",
    "print \"Parsing sentences from labeled training set\"\n",
    "for review in labeled_train_review[\"review\"]:\n",
    "    sentences += text_to_sentences(review, sentence_tokenizer)\n",
    "\n",
    "print \"Parsing sentences from unlabeled set\"\n",
    "for review in unlabeled_train_reviews[\"review\"]:\n",
    "    sentences += text_to_sentences(review, sentence_tokenizer)\n"
   ]
  },
  {
   "cell_type": "code",
   "execution_count": 5,
   "metadata": {
    "collapsed": true
   },
   "outputs": [
    {
     "name": "stdout",
     "output_type": "stream",
     "text": [
      "CPU times: user 3 µs, sys: 1 µs, total: 4 µs\nWall time: 6.91 µs\n"
     ]
    },
    {
     "name": "stderr",
     "output_type": "stream",
     "text": [
      "2018-03-04 10:58:57,073 : INFO : collecting all words and their counts\n"
     ]
    },
    {
     "name": "stderr",
     "output_type": "stream",
     "text": [
      "2018-03-04 10:58:57,075 : INFO : PROGRESS: at sentence #0, processed 0 words, keeping 0 word types\n"
     ]
    },
    {
     "name": "stderr",
     "output_type": "stream",
     "text": [
      "2018-03-04 10:58:57,164 : INFO : PROGRESS: at sentence #10000, processed 225803 words, keeping 17776 word types\n"
     ]
    },
    {
     "name": "stderr",
     "output_type": "stream",
     "text": [
      "2018-03-04 10:58:57,290 : INFO : PROGRESS: at sentence #20000, processed 451892 words, keeping 24948 word types\n"
     ]
    },
    {
     "name": "stderr",
     "output_type": "stream",
     "text": [
      "2018-03-04 10:58:57,356 : INFO : PROGRESS: at sentence #30000, processed 671314 words, keeping 30034 word types\n"
     ]
    },
    {
     "name": "stderr",
     "output_type": "stream",
     "text": [
      "2018-03-04 10:58:57,408 : INFO : PROGRESS: at sentence #40000, processed 897814 words, keeping 34348 word types\n"
     ]
    },
    {
     "name": "stderr",
     "output_type": "stream",
     "text": [
      "2018-03-04 10:58:57,463 : INFO : PROGRESS: at sentence #50000, processed 1116962 words, keeping 37761 word types\n"
     ]
    },
    {
     "name": "stderr",
     "output_type": "stream",
     "text": [
      "2018-03-04 10:58:57,519 : INFO : PROGRESS: at sentence #60000, processed 1338403 words, keeping 40723 word types\n"
     ]
    },
    {
     "name": "stderr",
     "output_type": "stream",
     "text": [
      "2018-03-04 10:58:57,575 : INFO : PROGRESS: at sentence #70000, processed 1561579 words, keeping 43333 word types\n"
     ]
    },
    {
     "name": "stderr",
     "output_type": "stream",
     "text": [
      "2018-03-04 10:58:57,635 : INFO : PROGRESS: at sentence #80000, processed 1780886 words, keeping 45714 word types\n"
     ]
    },
    {
     "name": "stderr",
     "output_type": "stream",
     "text": [
      "2018-03-04 10:58:57,694 : INFO : PROGRESS: at sentence #90000, processed 2004995 words, keeping 48135 word types\n"
     ]
    },
    {
     "name": "stderr",
     "output_type": "stream",
     "text": [
      "2018-03-04 10:58:57,756 : INFO : PROGRESS: at sentence #100000, processed 2226966 words, keeping 50207 word types\n"
     ]
    },
    {
     "name": "stderr",
     "output_type": "stream",
     "text": [
      "2018-03-04 10:58:57,813 : INFO : PROGRESS: at sentence #110000, processed 2446580 words, keeping 52081 word types\n"
     ]
    },
    {
     "name": "stderr",
     "output_type": "stream",
     "text": [
      "2018-03-04 10:58:57,898 : INFO : PROGRESS: at sentence #120000, processed 2668775 words, keeping 54119 word types\n"
     ]
    },
    {
     "name": "stderr",
     "output_type": "stream",
     "text": [
      "2018-03-04 10:58:57,979 : INFO : PROGRESS: at sentence #130000, processed 2894303 words, keeping 55847 word types\n"
     ]
    },
    {
     "name": "stderr",
     "output_type": "stream",
     "text": [
      "2018-03-04 10:58:58,062 : INFO : PROGRESS: at sentence #140000, processed 3107005 words, keeping 57346 word types\n"
     ]
    },
    {
     "name": "stderr",
     "output_type": "stream",
     "text": [
      "2018-03-04 10:58:58,148 : INFO : PROGRESS: at sentence #150000, processed 3332627 words, keeping 59055 word types\n"
     ]
    },
    {
     "name": "stderr",
     "output_type": "stream",
     "text": [
      "2018-03-04 10:58:58,228 : INFO : PROGRESS: at sentence #160000, processed 3555315 words, keeping 60617 word types\n"
     ]
    },
    {
     "name": "stderr",
     "output_type": "stream",
     "text": [
      "2018-03-04 10:58:58,288 : INFO : PROGRESS: at sentence #170000, processed 3778655 words, keeping 62077 word types\n"
     ]
    },
    {
     "name": "stderr",
     "output_type": "stream",
     "text": [
      "2018-03-04 10:58:58,340 : INFO : PROGRESS: at sentence #180000, processed 3999236 words, keeping 63496 word types\n"
     ]
    },
    {
     "name": "stderr",
     "output_type": "stream",
     "text": [
      "2018-03-04 10:58:58,401 : INFO : PROGRESS: at sentence #190000, processed 4224449 words, keeping 64794 word types\n"
     ]
    },
    {
     "name": "stderr",
     "output_type": "stream",
     "text": [
      "2018-03-04 10:58:58,455 : INFO : PROGRESS: at sentence #200000, processed 4448603 words, keeping 66087 word types\n"
     ]
    },
    {
     "name": "stderr",
     "output_type": "stream",
     "text": [
      "2018-03-04 10:58:58,516 : INFO : PROGRESS: at sentence #210000, processed 4669967 words, keeping 67390 word types\n"
     ]
    },
    {
     "name": "stderr",
     "output_type": "stream",
     "text": [
      "2018-03-04 10:58:58,571 : INFO : PROGRESS: at sentence #220000, processed 4894968 words, keeping 68697 word types\n"
     ]
    },
    {
     "name": "stderr",
     "output_type": "stream",
     "text": [
      "2018-03-04 10:58:58,624 : INFO : PROGRESS: at sentence #230000, processed 5117545 words, keeping 69958 word types\n"
     ]
    },
    {
     "name": "stderr",
     "output_type": "stream",
     "text": [
      "2018-03-04 10:58:58,685 : INFO : PROGRESS: at sentence #240000, processed 5345050 words, keeping 71167 word types\n"
     ]
    },
    {
     "name": "stderr",
     "output_type": "stream",
     "text": [
      "2018-03-04 10:58:58,738 : INFO : PROGRESS: at sentence #250000, processed 5559165 words, keeping 72351 word types\n"
     ]
    },
    {
     "name": "stderr",
     "output_type": "stream",
     "text": [
      "2018-03-04 10:58:58,788 : INFO : PROGRESS: at sentence #260000, processed 5779146 words, keeping 73478 word types\n"
     ]
    },
    {
     "name": "stderr",
     "output_type": "stream",
     "text": [
      "2018-03-04 10:58:58,840 : INFO : PROGRESS: at sentence #270000, processed 6000435 words, keeping 74767 word types\n"
     ]
    },
    {
     "name": "stderr",
     "output_type": "stream",
     "text": [
      "2018-03-04 10:58:58,895 : INFO : PROGRESS: at sentence #280000, processed 6226314 words, keeping 76369 word types\n"
     ]
    },
    {
     "name": "stderr",
     "output_type": "stream",
     "text": [
      "2018-03-04 10:58:58,948 : INFO : PROGRESS: at sentence #290000, processed 6449474 words, keeping 77839 word types\n"
     ]
    },
    {
     "name": "stderr",
     "output_type": "stream",
     "text": [
      "2018-03-04 10:58:59,001 : INFO : PROGRESS: at sentence #300000, processed 6674077 words, keeping 79171 word types\n"
     ]
    },
    {
     "name": "stderr",
     "output_type": "stream",
     "text": [
      "2018-03-04 10:58:59,054 : INFO : PROGRESS: at sentence #310000, processed 6899391 words, keeping 80480 word types\n"
     ]
    },
    {
     "name": "stderr",
     "output_type": "stream",
     "text": [
      "2018-03-04 10:58:59,105 : INFO : PROGRESS: at sentence #320000, processed 7124278 words, keeping 81808 word types\n"
     ]
    },
    {
     "name": "stderr",
     "output_type": "stream",
     "text": [
      "2018-03-04 10:58:59,163 : INFO : PROGRESS: at sentence #330000, processed 7346021 words, keeping 83030 word types\n"
     ]
    },
    {
     "name": "stderr",
     "output_type": "stream",
     "text": [
      "2018-03-04 10:58:59,219 : INFO : PROGRESS: at sentence #340000, processed 7575533 words, keeping 84280 word types\n"
     ]
    },
    {
     "name": "stderr",
     "output_type": "stream",
     "text": [
      "2018-03-04 10:58:59,270 : INFO : PROGRESS: at sentence #350000, processed 7798803 words, keeping 85425 word types\n"
     ]
    },
    {
     "name": "stderr",
     "output_type": "stream",
     "text": [
      "2018-03-04 10:58:59,320 : INFO : PROGRESS: at sentence #360000, processed 8019466 words, keeping 86596 word types\n"
     ]
    },
    {
     "name": "stderr",
     "output_type": "stream",
     "text": [
      "2018-03-04 10:58:59,376 : INFO : PROGRESS: at sentence #370000, processed 8246654 words, keeping 87708 word types\n"
     ]
    },
    {
     "name": "stderr",
     "output_type": "stream",
     "text": [
      "2018-03-04 10:58:59,429 : INFO : PROGRESS: at sentence #380000, processed 8471801 words, keeping 88878 word types\n"
     ]
    },
    {
     "name": "stderr",
     "output_type": "stream",
     "text": [
      "2018-03-04 10:58:59,487 : INFO : PROGRESS: at sentence #390000, processed 8701551 words, keeping 89907 word types\n"
     ]
    },
    {
     "name": "stderr",
     "output_type": "stream",
     "text": [
      "2018-03-04 10:58:59,544 : INFO : PROGRESS: at sentence #400000, processed 8924500 words, keeping 90916 word types\n"
     ]
    },
    {
     "name": "stderr",
     "output_type": "stream",
     "text": [
      "2018-03-04 10:58:59,599 : INFO : PROGRESS: at sentence #410000, processed 9145850 words, keeping 91880 word types\n"
     ]
    },
    {
     "name": "stderr",
     "output_type": "stream",
     "text": [
      "2018-03-04 10:58:59,657 : INFO : PROGRESS: at sentence #420000, processed 9366930 words, keeping 92912 word types\n"
     ]
    },
    {
     "name": "stderr",
     "output_type": "stream",
     "text": [
      "2018-03-04 10:58:59,709 : INFO : PROGRESS: at sentence #430000, processed 9594467 words, keeping 93932 word types\n"
     ]
    },
    {
     "name": "stderr",
     "output_type": "stream",
     "text": [
      "2018-03-04 10:58:59,764 : INFO : PROGRESS: at sentence #440000, processed 9821218 words, keeping 94906 word types\n"
     ]
    },
    {
     "name": "stderr",
     "output_type": "stream",
     "text": [
      "2018-03-04 10:58:59,819 : INFO : PROGRESS: at sentence #450000, processed 10044980 words, keeping 96036 word types\n"
     ]
    },
    {
     "name": "stderr",
     "output_type": "stream",
     "text": [
      "2018-03-04 10:58:59,873 : INFO : PROGRESS: at sentence #460000, processed 10277740 words, keeping 97088 word types\n"
     ]
    },
    {
     "name": "stderr",
     "output_type": "stream",
     "text": [
      "2018-03-04 10:58:59,930 : INFO : PROGRESS: at sentence #470000, processed 10505665 words, keeping 97933 word types\n"
     ]
    },
    {
     "name": "stderr",
     "output_type": "stream",
     "text": [
      "2018-03-04 10:58:59,984 : INFO : PROGRESS: at sentence #480000, processed 10726049 words, keeping 98862 word types\n"
     ]
    },
    {
     "name": "stderr",
     "output_type": "stream",
     "text": [
      "2018-03-04 10:59:00,041 : INFO : PROGRESS: at sentence #490000, processed 10952793 words, keeping 99871 word types\n"
     ]
    },
    {
     "name": "stderr",
     "output_type": "stream",
     "text": [
      "2018-03-04 10:59:00,097 : INFO : PROGRESS: at sentence #500000, processed 11174449 words, keeping 100765 word types\n"
     ]
    },
    {
     "name": "stderr",
     "output_type": "stream",
     "text": [
      "2018-03-04 10:59:00,158 : INFO : PROGRESS: at sentence #510000, processed 11399724 words, keeping 101699 word types\n"
     ]
    },
    {
     "name": "stderr",
     "output_type": "stream",
     "text": [
      "2018-03-04 10:59:00,218 : INFO : PROGRESS: at sentence #520000, processed 11623075 words, keeping 102598 word types\n"
     ]
    },
    {
     "name": "stderr",
     "output_type": "stream",
     "text": [
      "2018-03-04 10:59:00,274 : INFO : PROGRESS: at sentence #530000, processed 11847473 words, keeping 103400 word types\n"
     ]
    },
    {
     "name": "stderr",
     "output_type": "stream",
     "text": [
      "2018-03-04 10:59:00,329 : INFO : PROGRESS: at sentence #540000, processed 12072088 words, keeping 104265 word types\n"
     ]
    },
    {
     "name": "stderr",
     "output_type": "stream",
     "text": [
      "2018-03-04 10:59:00,385 : INFO : PROGRESS: at sentence #550000, processed 12297639 words, keeping 105133 word types\n"
     ]
    },
    {
     "name": "stderr",
     "output_type": "stream",
     "text": [
      "2018-03-04 10:59:00,434 : INFO : PROGRESS: at sentence #560000, processed 12518929 words, keeping 105997 word types\n"
     ]
    },
    {
     "name": "stderr",
     "output_type": "stream",
     "text": [
      "2018-03-04 10:59:00,493 : INFO : PROGRESS: at sentence #570000, processed 12748076 words, keeping 106787 word types\n"
     ]
    },
    {
     "name": "stderr",
     "output_type": "stream",
     "text": [
      "2018-03-04 10:59:00,550 : INFO : PROGRESS: at sentence #580000, processed 12969572 words, keeping 107665 word types\n"
     ]
    },
    {
     "name": "stderr",
     "output_type": "stream",
     "text": [
      "2018-03-04 10:59:00,603 : INFO : PROGRESS: at sentence #590000, processed 13195097 words, keeping 108501 word types\n"
     ]
    },
    {
     "name": "stderr",
     "output_type": "stream",
     "text": [
      "2018-03-04 10:59:00,657 : INFO : PROGRESS: at sentence #600000, processed 13417295 words, keeping 109218 word types\n"
     ]
    },
    {
     "name": "stderr",
     "output_type": "stream",
     "text": [
      "2018-03-04 10:59:00,713 : INFO : PROGRESS: at sentence #610000, processed 13638318 words, keeping 110092 word types\n"
     ]
    },
    {
     "name": "stderr",
     "output_type": "stream",
     "text": [
      "2018-03-04 10:59:00,769 : INFO : PROGRESS: at sentence #620000, processed 13864643 words, keeping 110837 word types\n"
     ]
    },
    {
     "name": "stderr",
     "output_type": "stream",
     "text": [
      "2018-03-04 10:59:00,824 : INFO : PROGRESS: at sentence #630000, processed 14088929 words, keeping 111610 word types\n"
     ]
    },
    {
     "name": "stderr",
     "output_type": "stream",
     "text": [
      "2018-03-04 10:59:00,874 : INFO : PROGRESS: at sentence #640000, processed 14309712 words, keeping 112416 word types\n"
     ]
    },
    {
     "name": "stderr",
     "output_type": "stream",
     "text": [
      "2018-03-04 10:59:00,931 : INFO : PROGRESS: at sentence #650000, processed 14535468 words, keeping 113196 word types\n"
     ]
    },
    {
     "name": "stderr",
     "output_type": "stream",
     "text": [
      "2018-03-04 10:59:00,991 : INFO : PROGRESS: at sentence #660000, processed 14758258 words, keeping 113945 word types\n"
     ]
    },
    {
     "name": "stderr",
     "output_type": "stream",
     "text": [
      "2018-03-04 10:59:01,045 : INFO : PROGRESS: at sentence #670000, processed 14981651 words, keeping 114643 word types\n"
     ]
    },
    {
     "name": "stderr",
     "output_type": "stream",
     "text": [
      "2018-03-04 10:59:01,102 : INFO : PROGRESS: at sentence #680000, processed 15206483 words, keeping 115354 word types\n"
     ]
    },
    {
     "name": "stderr",
     "output_type": "stream",
     "text": [
      "2018-03-04 10:59:01,156 : INFO : PROGRESS: at sentence #690000, processed 15428676 words, keeping 116131 word types\n"
     ]
    },
    {
     "name": "stderr",
     "output_type": "stream",
     "text": [
      "2018-03-04 10:59:01,212 : INFO : PROGRESS: at sentence #700000, processed 15657382 words, keeping 116943 word types\n"
     ]
    },
    {
     "name": "stderr",
     "output_type": "stream",
     "text": [
      "2018-03-04 10:59:01,266 : INFO : PROGRESS: at sentence #710000, processed 15880371 words, keeping 117596 word types\n"
     ]
    },
    {
     "name": "stderr",
     "output_type": "stream",
     "text": [
      "2018-03-04 10:59:01,317 : INFO : PROGRESS: at sentence #720000, processed 16105658 words, keeping 118221 word types\n"
     ]
    },
    {
     "name": "stderr",
     "output_type": "stream",
     "text": [
      "2018-03-04 10:59:01,372 : INFO : PROGRESS: at sentence #730000, processed 16332039 words, keeping 118954 word types\n"
     ]
    },
    {
     "name": "stderr",
     "output_type": "stream",
     "text": [
      "2018-03-04 10:59:01,427 : INFO : PROGRESS: at sentence #740000, processed 16553072 words, keeping 119668 word types\n"
     ]
    },
    {
     "name": "stderr",
     "output_type": "stream",
     "text": [
      "2018-03-04 10:59:01,485 : INFO : PROGRESS: at sentence #750000, processed 16771399 words, keeping 120295 word types\n"
     ]
    },
    {
     "name": "stderr",
     "output_type": "stream",
     "text": [
      "2018-03-04 10:59:01,548 : INFO : PROGRESS: at sentence #760000, processed 16990803 words, keeping 120930 word types\n"
     ]
    },
    {
     "name": "stderr",
     "output_type": "stream",
     "text": [
      "2018-03-04 10:59:01,604 : INFO : PROGRESS: at sentence #770000, processed 17217940 words, keeping 121703 word types\n"
     ]
    },
    {
     "name": "stderr",
     "output_type": "stream",
     "text": [
      "2018-03-04 10:59:01,660 : INFO : PROGRESS: at sentence #780000, processed 17448086 words, keeping 122402 word types\n"
     ]
    },
    {
     "name": "stderr",
     "output_type": "stream",
     "text": [
      "2018-03-04 10:59:01,721 : INFO : PROGRESS: at sentence #790000, processed 17675162 words, keeping 123066 word types\n"
     ]
    },
    {
     "name": "stderr",
     "output_type": "stream",
     "text": [
      "2018-03-04 10:59:01,752 : INFO : collected 123504 word types from a corpus of 17798263 raw words and 795538 sentences\n"
     ]
    },
    {
     "name": "stderr",
     "output_type": "stream",
     "text": [
      "2018-03-04 10:59:01,753 : INFO : Loading a fresh vocabulary\n"
     ]
    },
    {
     "name": "stderr",
     "output_type": "stream",
     "text": [
      "2018-03-04 10:59:02,388 : INFO : min_count=40 retains 16490 unique words (13% of original 123504, drops 107014)\n"
     ]
    },
    {
     "name": "stderr",
     "output_type": "stream",
     "text": [
      "2018-03-04 10:59:02,390 : INFO : min_count=40 leaves 17239118 word corpus (96% of original 17798263, drops 559145)\n"
     ]
    },
    {
     "name": "stderr",
     "output_type": "stream",
     "text": [
      "2018-03-04 10:59:02,442 : INFO : deleting the raw counts dictionary of 123504 items\n"
     ]
    },
    {
     "name": "stderr",
     "output_type": "stream",
     "text": [
      "2018-03-04 10:59:02,449 : INFO : sample=0.001 downsamples 48 most-common words\n"
     ]
    },
    {
     "name": "stderr",
     "output_type": "stream",
     "text": [
      "2018-03-04 10:59:02,451 : INFO : downsampling leaves estimated 12749794 word corpus (74.0% of prior 17239118)\n"
     ]
    },
    {
     "name": "stderr",
     "output_type": "stream",
     "text": [
      "2018-03-04 10:59:02,503 : INFO : estimated required memory for 16490 words and 300 dimensions: 47821000 bytes\n"
     ]
    },
    {
     "name": "stderr",
     "output_type": "stream",
     "text": [
      "2018-03-04 10:59:02,505 : INFO : resetting layer weights\n"
     ]
    },
    {
     "name": "stderr",
     "output_type": "stream",
     "text": [
      "2018-03-04 10:59:02,728 : INFO : training model with 4 workers on 16490 vocabulary and 300 features, using sg=0 hs=0 sample=0.001 negative=5 window=10\n"
     ]
    },
    {
     "name": "stderr",
     "output_type": "stream",
     "text": [
      "2018-03-04 10:59:03,741 : INFO : EPOCH 1 - PROGRESS: at 7.30% examples, 925292 words/s, in_qsize 7, out_qsize 0\n"
     ]
    },
    {
     "name": "stderr",
     "output_type": "stream",
     "text": [
      "2018-03-04 10:59:04,747 : INFO : EPOCH 1 - PROGRESS: at 14.83% examples, 935950 words/s, in_qsize 7, out_qsize 0\n"
     ]
    },
    {
     "name": "stderr",
     "output_type": "stream",
     "text": [
      "2018-03-04 10:59:05,753 : INFO : EPOCH 1 - PROGRESS: at 21.92% examples, 920188 words/s, in_qsize 8, out_qsize 0\n"
     ]
    },
    {
     "name": "stderr",
     "output_type": "stream",
     "text": [
      "2018-03-04 10:59:06,778 : INFO : EPOCH 1 - PROGRESS: at 27.03% examples, 847806 words/s, in_qsize 8, out_qsize 0\n"
     ]
    },
    {
     "name": "stderr",
     "output_type": "stream",
     "text": [
      "2018-03-04 10:59:07,786 : INFO : EPOCH 1 - PROGRESS: at 31.56% examples, 791681 words/s, in_qsize 7, out_qsize 0\n"
     ]
    },
    {
     "name": "stderr",
     "output_type": "stream",
     "text": [
      "2018-03-04 10:59:08,799 : INFO : EPOCH 1 - PROGRESS: at 38.18% examples, 798584 words/s, in_qsize 7, out_qsize 0\n"
     ]
    },
    {
     "name": "stderr",
     "output_type": "stream",
     "text": [
      "2018-03-04 10:59:09,813 : INFO : EPOCH 1 - PROGRESS: at 44.27% examples, 795372 words/s, in_qsize 7, out_qsize 0\n"
     ]
    },
    {
     "name": "stderr",
     "output_type": "stream",
     "text": [
      "2018-03-04 10:59:10,811 : INFO : EPOCH 1 - PROGRESS: at 50.05% examples, 788378 words/s, in_qsize 8, out_qsize 0\n"
     ]
    },
    {
     "name": "stderr",
     "output_type": "stream",
     "text": [
      "2018-03-04 10:59:11,821 : INFO : EPOCH 1 - PROGRESS: at 55.77% examples, 780940 words/s, in_qsize 7, out_qsize 0\n"
     ]
    },
    {
     "name": "stderr",
     "output_type": "stream",
     "text": [
      "2018-03-04 10:59:12,831 : INFO : EPOCH 1 - PROGRESS: at 62.03% examples, 782763 words/s, in_qsize 8, out_qsize 0\n"
     ]
    },
    {
     "name": "stderr",
     "output_type": "stream",
     "text": [
      "2018-03-04 10:59:13,834 : INFO : EPOCH 1 - PROGRESS: at 68.15% examples, 782340 words/s, in_qsize 8, out_qsize 0\n"
     ]
    },
    {
     "name": "stderr",
     "output_type": "stream",
     "text": [
      "2018-03-04 10:59:14,845 : INFO : EPOCH 1 - PROGRESS: at 73.50% examples, 773739 words/s, in_qsize 8, out_qsize 0\n"
     ]
    },
    {
     "name": "stderr",
     "output_type": "stream",
     "text": [
      "2018-03-04 10:59:15,857 : INFO : EPOCH 1 - PROGRESS: at 78.61% examples, 763664 words/s, in_qsize 8, out_qsize 1\n"
     ]
    },
    {
     "name": "stderr",
     "output_type": "stream",
     "text": [
      "2018-03-04 10:59:16,865 : INFO : EPOCH 1 - PROGRESS: at 84.78% examples, 764869 words/s, in_qsize 7, out_qsize 0\n"
     ]
    },
    {
     "name": "stderr",
     "output_type": "stream",
     "text": [
      "2018-03-04 10:59:17,875 : INFO : EPOCH 1 - PROGRESS: at 91.76% examples, 772938 words/s, in_qsize 7, out_qsize 0\n"
     ]
    },
    {
     "name": "stderr",
     "output_type": "stream",
     "text": [
      "2018-03-04 10:59:18,881 : INFO : EPOCH 1 - PROGRESS: at 98.17% examples, 775252 words/s, in_qsize 8, out_qsize 0\n"
     ]
    },
    {
     "name": "stderr",
     "output_type": "stream",
     "text": [
      "2018-03-04 10:59:19,117 : INFO : worker thread finished; awaiting finish of 3 more threads\n"
     ]
    },
    {
     "name": "stderr",
     "output_type": "stream",
     "text": [
      "2018-03-04 10:59:19,125 : INFO : worker thread finished; awaiting finish of 2 more threads\n"
     ]
    },
    {
     "name": "stderr",
     "output_type": "stream",
     "text": [
      "2018-03-04 10:59:19,131 : INFO : worker thread finished; awaiting finish of 1 more threads\n"
     ]
    },
    {
     "name": "stderr",
     "output_type": "stream",
     "text": [
      "2018-03-04 10:59:19,135 : INFO : worker thread finished; awaiting finish of 0 more threads\n"
     ]
    },
    {
     "name": "stderr",
     "output_type": "stream",
     "text": [
      "2018-03-04 10:59:19,137 : INFO : EPOCH - 1 : training on 17798263 raw words (12751018 effective words) took 16.4s, 777538 effective words/s\n"
     ]
    },
    {
     "name": "stderr",
     "output_type": "stream",
     "text": [
      "2018-03-04 10:59:20,144 : INFO : EPOCH 2 - PROGRESS: at 6.04% examples, 768506 words/s, in_qsize 7, out_qsize 0\n"
     ]
    },
    {
     "name": "stderr",
     "output_type": "stream",
     "text": [
      "2018-03-04 10:59:21,155 : INFO : EPOCH 2 - PROGRESS: at 13.43% examples, 844606 words/s, in_qsize 7, out_qsize 0\n"
     ]
    },
    {
     "name": "stderr",
     "output_type": "stream",
     "text": [
      "2018-03-04 10:59:22,155 : INFO : EPOCH 2 - PROGRESS: at 19.65% examples, 825094 words/s, in_qsize 7, out_qsize 1\n"
     ]
    },
    {
     "name": "stderr",
     "output_type": "stream",
     "text": [
      "2018-03-04 10:59:23,160 : INFO : EPOCH 2 - PROGRESS: at 25.80% examples, 812890 words/s, in_qsize 7, out_qsize 0\n"
     ]
    },
    {
     "name": "stderr",
     "output_type": "stream",
     "text": [
      "2018-03-04 10:59:24,173 : INFO : EPOCH 2 - PROGRESS: at 31.67% examples, 796907 words/s, in_qsize 6, out_qsize 0\n"
     ]
    },
    {
     "name": "stderr",
     "output_type": "stream",
     "text": [
      "2018-03-04 10:59:25,173 : INFO : EPOCH 2 - PROGRESS: at 36.45% examples, 765415 words/s, in_qsize 8, out_qsize 0\n"
     ]
    },
    {
     "name": "stderr",
     "output_type": "stream",
     "text": [
      "2018-03-04 10:59:26,174 : INFO : EPOCH 2 - PROGRESS: at 40.41% examples, 728761 words/s, in_qsize 8, out_qsize 0\n"
     ]
    },
    {
     "name": "stderr",
     "output_type": "stream",
     "text": [
      "2018-03-04 10:59:27,188 : INFO : EPOCH 2 - PROGRESS: at 45.60% examples, 719638 words/s, in_qsize 8, out_qsize 0\n"
     ]
    },
    {
     "name": "stderr",
     "output_type": "stream",
     "text": [
      "2018-03-04 10:59:28,197 : INFO : EPOCH 2 - PROGRESS: at 49.44% examples, 694087 words/s, in_qsize 8, out_qsize 0\n"
     ]
    },
    {
     "name": "stderr",
     "output_type": "stream",
     "text": [
      "2018-03-04 10:59:29,206 : INFO : EPOCH 2 - PROGRESS: at 55.77% examples, 704814 words/s, in_qsize 8, out_qsize 0\n"
     ]
    },
    {
     "name": "stderr",
     "output_type": "stream",
     "text": [
      "2018-03-04 10:59:30,214 : INFO : EPOCH 2 - PROGRESS: at 61.36% examples, 705802 words/s, in_qsize 8, out_qsize 0\n"
     ]
    },
    {
     "name": "stderr",
     "output_type": "stream",
     "text": [
      "2018-03-04 10:59:31,216 : INFO : EPOCH 2 - PROGRESS: at 66.63% examples, 702949 words/s, in_qsize 7, out_qsize 0\n"
     ]
    },
    {
     "name": "stderr",
     "output_type": "stream",
     "text": [
      "2018-03-04 10:59:32,226 : INFO : EPOCH 2 - PROGRESS: at 73.50% examples, 716317 words/s, in_qsize 7, out_qsize 1\n"
     ]
    },
    {
     "name": "stderr",
     "output_type": "stream",
     "text": [
      "2018-03-04 10:59:33,224 : INFO : EPOCH 2 - PROGRESS: at 79.06% examples, 715526 words/s, in_qsize 7, out_qsize 0\n"
     ]
    },
    {
     "name": "stderr",
     "output_type": "stream",
     "text": [
      "2018-03-04 10:59:34,227 : INFO : EPOCH 2 - PROGRESS: at 85.96% examples, 726317 words/s, in_qsize 8, out_qsize 0\n"
     ]
    },
    {
     "name": "stderr",
     "output_type": "stream",
     "text": [
      "2018-03-04 10:59:35,242 : INFO : EPOCH 2 - PROGRESS: at 93.01% examples, 736456 words/s, in_qsize 8, out_qsize 0\n"
     ]
    },
    {
     "name": "stderr",
     "output_type": "stream",
     "text": [
      "2018-03-04 10:59:36,250 : INFO : EPOCH 2 - PROGRESS: at 99.38% examples, 740738 words/s, in_qsize 8, out_qsize 0\n"
     ]
    },
    {
     "name": "stderr",
     "output_type": "stream",
     "text": [
      "2018-03-04 10:59:36,318 : INFO : worker thread finished; awaiting finish of 3 more threads\n"
     ]
    },
    {
     "name": "stderr",
     "output_type": "stream",
     "text": [
      "2018-03-04 10:59:36,319 : INFO : worker thread finished; awaiting finish of 2 more threads\n"
     ]
    },
    {
     "name": "stderr",
     "output_type": "stream",
     "text": [
      "2018-03-04 10:59:36,332 : INFO : worker thread finished; awaiting finish of 1 more threads\n"
     ]
    },
    {
     "name": "stderr",
     "output_type": "stream",
     "text": [
      "2018-03-04 10:59:36,337 : INFO : worker thread finished; awaiting finish of 0 more threads\n"
     ]
    },
    {
     "name": "stderr",
     "output_type": "stream",
     "text": [
      "2018-03-04 10:59:36,339 : INFO : EPOCH - 2 : training on 17798263 raw words (12752858 effective words) took 17.2s, 741461 effective words/s\n"
     ]
    },
    {
     "name": "stderr",
     "output_type": "stream",
     "text": [
      "2018-03-04 10:59:37,356 : INFO : EPOCH 3 - PROGRESS: at 5.19% examples, 658577 words/s, in_qsize 7, out_qsize 0\n"
     ]
    },
    {
     "name": "stderr",
     "output_type": "stream",
     "text": [
      "2018-03-04 10:59:38,364 : INFO : EPOCH 3 - PROGRESS: at 8.67% examples, 545357 words/s, in_qsize 8, out_qsize 0\n"
     ]
    },
    {
     "name": "stderr",
     "output_type": "stream",
     "text": [
      "2018-03-04 10:59:39,364 : INFO : EPOCH 3 - PROGRESS: at 14.78% examples, 620831 words/s, in_qsize 7, out_qsize 0\n"
     ]
    },
    {
     "name": "stderr",
     "output_type": "stream",
     "text": [
      "2018-03-04 10:59:40,369 : INFO : EPOCH 3 - PROGRESS: at 21.80% examples, 686219 words/s, in_qsize 7, out_qsize 0\n"
     ]
    },
    {
     "name": "stderr",
     "output_type": "stream",
     "text": [
      "2018-03-04 10:59:41,376 : INFO : EPOCH 3 - PROGRESS: at 27.85% examples, 702312 words/s, in_qsize 7, out_qsize 0\n"
     ]
    },
    {
     "name": "stderr",
     "output_type": "stream",
     "text": [
      "2018-03-04 10:59:42,376 : INFO : EPOCH 3 - PROGRESS: at 30.62% examples, 643931 words/s, in_qsize 7, out_qsize 0\n"
     ]
    },
    {
     "name": "stderr",
     "output_type": "stream",
     "text": [
      "2018-03-04 10:59:43,382 : INFO : EPOCH 3 - PROGRESS: at 36.34% examples, 654401 words/s, in_qsize 6, out_qsize 0\n"
     ]
    },
    {
     "name": "stderr",
     "output_type": "stream",
     "text": [
      "2018-03-04 10:59:44,400 : INFO : EPOCH 3 - PROGRESS: at 39.54% examples, 622314 words/s, in_qsize 8, out_qsize 0\n"
     ]
    },
    {
     "name": "stderr",
     "output_type": "stream",
     "text": [
      "2018-03-04 10:59:45,426 : INFO : EPOCH 3 - PROGRESS: at 42.92% examples, 600052 words/s, in_qsize 7, out_qsize 0\n"
     ]
    },
    {
     "name": "stderr",
     "output_type": "stream",
     "text": [
      "2018-03-04 10:59:46,445 : INFO : EPOCH 3 - PROGRESS: at 47.10% examples, 592573 words/s, in_qsize 8, out_qsize 0\n"
     ]
    },
    {
     "name": "stderr",
     "output_type": "stream",
     "text": [
      "2018-03-04 10:59:47,479 : INFO : EPOCH 3 - PROGRESS: at 51.47% examples, 587634 words/s, in_qsize 8, out_qsize 0\n"
     ]
    },
    {
     "name": "stderr",
     "output_type": "stream",
     "text": [
      "2018-03-04 10:59:48,487 : INFO : EPOCH 3 - PROGRESS: at 56.55% examples, 592370 words/s, in_qsize 8, out_qsize 0\n"
     ]
    },
    {
     "name": "stderr",
     "output_type": "stream",
     "text": [
      "2018-03-04 10:59:49,488 : INFO : EPOCH 3 - PROGRESS: at 62.88% examples, 609258 words/s, in_qsize 8, out_qsize 0\n"
     ]
    },
    {
     "name": "stderr",
     "output_type": "stream",
     "text": [
      "2018-03-04 10:59:50,501 : INFO : EPOCH 3 - PROGRESS: at 69.87% examples, 629066 words/s, in_qsize 7, out_qsize 0\n"
     ]
    },
    {
     "name": "stderr",
     "output_type": "stream",
     "text": [
      "2018-03-04 10:59:51,499 : INFO : EPOCH 3 - PROGRESS: at 76.93% examples, 646987 words/s, in_qsize 8, out_qsize 0\n"
     ]
    },
    {
     "name": "stderr",
     "output_type": "stream",
     "text": [
      "2018-03-04 10:59:52,505 : INFO : EPOCH 3 - PROGRESS: at 83.39% examples, 657712 words/s, in_qsize 7, out_qsize 0\n"
     ]
    },
    {
     "name": "stderr",
     "output_type": "stream",
     "text": [
      "2018-03-04 10:59:53,504 : INFO : EPOCH 3 - PROGRESS: at 90.37% examples, 671382 words/s, in_qsize 8, out_qsize 0\n"
     ]
    },
    {
     "name": "stderr",
     "output_type": "stream",
     "text": [
      "2018-03-04 10:59:54,512 : INFO : EPOCH 3 - PROGRESS: at 97.51% examples, 684192 words/s, in_qsize 8, out_qsize 0\n"
     ]
    },
    {
     "name": "stderr",
     "output_type": "stream",
     "text": [
      "2018-03-04 10:59:54,861 : INFO : worker thread finished; awaiting finish of 3 more threads\n"
     ]
    },
    {
     "name": "stderr",
     "output_type": "stream",
     "text": [
      "2018-03-04 10:59:54,863 : INFO : worker thread finished; awaiting finish of 2 more threads\n"
     ]
    },
    {
     "name": "stderr",
     "output_type": "stream",
     "text": [
      "2018-03-04 10:59:54,875 : INFO : worker thread finished; awaiting finish of 1 more threads\n"
     ]
    },
    {
     "name": "stderr",
     "output_type": "stream",
     "text": [
      "2018-03-04 10:59:54,881 : INFO : worker thread finished; awaiting finish of 0 more threads\n"
     ]
    },
    {
     "name": "stderr",
     "output_type": "stream",
     "text": [
      "2018-03-04 10:59:54,882 : INFO : EPOCH - 3 : training on 17798263 raw words (12749807 effective words) took 18.5s, 687831 effective words/s\n"
     ]
    },
    {
     "name": "stderr",
     "output_type": "stream",
     "text": [
      "2018-03-04 10:59:55,892 : INFO : EPOCH 4 - PROGRESS: at 5.98% examples, 764403 words/s, in_qsize 7, out_qsize 0\n"
     ]
    },
    {
     "name": "stderr",
     "output_type": "stream",
     "text": [
      "2018-03-04 10:59:56,896 : INFO : EPOCH 4 - PROGRESS: at 12.87% examples, 813663 words/s, in_qsize 8, out_qsize 0\n"
     ]
    },
    {
     "name": "stderr",
     "output_type": "stream",
     "text": [
      "2018-03-04 10:59:57,898 : INFO : EPOCH 4 - PROGRESS: at 19.71% examples, 830288 words/s, in_qsize 7, out_qsize 0\n"
     ]
    },
    {
     "name": "stderr",
     "output_type": "stream",
     "text": [
      "2018-03-04 10:59:58,904 : INFO : EPOCH 4 - PROGRESS: at 26.69% examples, 843103 words/s, in_qsize 7, out_qsize 0\n"
     ]
    },
    {
     "name": "stderr",
     "output_type": "stream",
     "text": [
      "2018-03-04 10:59:59,908 : INFO : EPOCH 4 - PROGRESS: at 31.79% examples, 802459 words/s, in_qsize 7, out_qsize 0\n"
     ]
    },
    {
     "name": "stderr",
     "output_type": "stream",
     "text": [
      "2018-03-04 11:00:00,908 : INFO : EPOCH 4 - PROGRESS: at 36.90% examples, 777133 words/s, in_qsize 8, out_qsize 0\n"
     ]
    },
    {
     "name": "stderr",
     "output_type": "stream",
     "text": [
      "2018-03-04 11:00:01,915 : INFO : EPOCH 4 - PROGRESS: at 43.75% examples, 790995 words/s, in_qsize 7, out_qsize 0\n"
     ]
    },
    {
     "name": "stderr",
     "output_type": "stream",
     "text": [
      "2018-03-04 11:00:02,918 : INFO : EPOCH 4 - PROGRESS: at 49.93% examples, 791009 words/s, in_qsize 8, out_qsize 0\n"
     ]
    },
    {
     "name": "stderr",
     "output_type": "stream",
     "text": [
      "2018-03-04 11:00:03,930 : INFO : EPOCH 4 - PROGRESS: at 56.00% examples, 787885 words/s, in_qsize 8, out_qsize 0\n"
     ]
    },
    {
     "name": "stderr",
     "output_type": "stream",
     "text": [
      "2018-03-04 11:00:04,950 : INFO : EPOCH 4 - PROGRESS: at 61.58% examples, 779799 words/s, in_qsize 7, out_qsize 0\n"
     ]
    },
    {
     "name": "stderr",
     "output_type": "stream",
     "text": [
      "2018-03-04 11:00:05,952 : INFO : EPOCH 4 - PROGRESS: at 66.23% examples, 762803 words/s, in_qsize 7, out_qsize 0\n"
     ]
    },
    {
     "name": "stderr",
     "output_type": "stream",
     "text": [
      "2018-03-04 11:00:06,965 : INFO : EPOCH 4 - PROGRESS: at 72.84% examples, 769138 words/s, in_qsize 7, out_qsize 0\n"
     ]
    },
    {
     "name": "stderr",
     "output_type": "stream",
     "text": [
      "2018-03-04 11:00:07,960 : INFO : EPOCH 4 - PROGRESS: at 79.75% examples, 777585 words/s, in_qsize 8, out_qsize 0\n"
     ]
    },
    {
     "name": "stderr",
     "output_type": "stream",
     "text": [
      "2018-03-04 11:00:08,962 : INFO : EPOCH 4 - PROGRESS: at 86.02% examples, 779169 words/s, in_qsize 8, out_qsize 0\n"
     ]
    },
    {
     "name": "stderr",
     "output_type": "stream",
     "text": [
      "2018-03-04 11:00:09,977 : INFO : EPOCH 4 - PROGRESS: at 92.74% examples, 783803 words/s, in_qsize 7, out_qsize 1\n"
     ]
    },
    {
     "name": "stderr",
     "output_type": "stream",
     "text": [
      "2018-03-04 11:00:10,980 : INFO : EPOCH 4 - PROGRESS: at 99.44% examples, 788168 words/s, in_qsize 7, out_qsize 0\n"
     ]
    },
    {
     "name": "stderr",
     "output_type": "stream",
     "text": [
      "2018-03-04 11:00:11,043 : INFO : worker thread finished; awaiting finish of 3 more threads\n"
     ]
    },
    {
     "name": "stderr",
     "output_type": "stream",
     "text": [
      "2018-03-04 11:00:11,046 : INFO : worker thread finished; awaiting finish of 2 more threads\n"
     ]
    },
    {
     "name": "stderr",
     "output_type": "stream",
     "text": [
      "2018-03-04 11:00:11,054 : INFO : worker thread finished; awaiting finish of 1 more threads\n"
     ]
    },
    {
     "name": "stderr",
     "output_type": "stream",
     "text": [
      "2018-03-04 11:00:11,060 : INFO : worker thread finished; awaiting finish of 0 more threads\n"
     ]
    },
    {
     "name": "stderr",
     "output_type": "stream",
     "text": [
      "2018-03-04 11:00:11,061 : INFO : EPOCH - 4 : training on 17798263 raw words (12750867 effective words) took 16.2s, 788577 effective words/s\n"
     ]
    },
    {
     "name": "stderr",
     "output_type": "stream",
     "text": [
      "2018-03-04 11:00:12,067 : INFO : EPOCH 5 - PROGRESS: at 6.40% examples, 812360 words/s, in_qsize 7, out_qsize 0\n"
     ]
    },
    {
     "name": "stderr",
     "output_type": "stream",
     "text": [
      "2018-03-04 11:00:13,071 : INFO : EPOCH 5 - PROGRESS: at 13.03% examples, 823552 words/s, in_qsize 7, out_qsize 0\n"
     ]
    },
    {
     "name": "stderr",
     "output_type": "stream",
     "text": [
      "2018-03-04 11:00:14,099 : INFO : EPOCH 5 - PROGRESS: at 19.81% examples, 828871 words/s, in_qsize 7, out_qsize 1\n"
     ]
    },
    {
     "name": "stderr",
     "output_type": "stream",
     "text": [
      "2018-03-04 11:00:15,094 : INFO : EPOCH 5 - PROGRESS: at 25.91% examples, 814548 words/s, in_qsize 8, out_qsize 0\n"
     ]
    },
    {
     "name": "stderr",
     "output_type": "stream",
     "text": [
      "2018-03-04 11:00:16,100 : INFO : EPOCH 5 - PROGRESS: at 30.20% examples, 760896 words/s, in_qsize 7, out_qsize 0\n"
     ]
    },
    {
     "name": "stderr",
     "output_type": "stream",
     "text": [
      "2018-03-04 11:00:17,123 : INFO : EPOCH 5 - PROGRESS: at 35.21% examples, 736249 words/s, in_qsize 7, out_qsize 0\n"
     ]
    },
    {
     "name": "stderr",
     "output_type": "stream",
     "text": [
      "2018-03-04 11:00:18,131 : INFO : EPOCH 5 - PROGRESS: at 39.75% examples, 713190 words/s, in_qsize 7, out_qsize 0\n"
     ]
    },
    {
     "name": "stderr",
     "output_type": "stream",
     "text": [
      "2018-03-04 11:00:19,134 : INFO : EPOCH 5 - PROGRESS: at 45.12% examples, 709528 words/s, in_qsize 8, out_qsize 0\n"
     ]
    },
    {
     "name": "stderr",
     "output_type": "stream",
     "text": [
      "2018-03-04 11:00:20,137 : INFO : EPOCH 5 - PROGRESS: at 49.15% examples, 688636 words/s, in_qsize 7, out_qsize 0\n"
     ]
    },
    {
     "name": "stderr",
     "output_type": "stream",
     "text": [
      "2018-03-04 11:00:21,142 : INFO : EPOCH 5 - PROGRESS: at 53.33% examples, 672429 words/s, in_qsize 7, out_qsize 0\n"
     ]
    },
    {
     "name": "stderr",
     "output_type": "stream",
     "text": [
      "2018-03-04 11:00:22,154 : INFO : EPOCH 5 - PROGRESS: at 56.32% examples, 645917 words/s, in_qsize 8, out_qsize 0\n"
     ]
    },
    {
     "name": "stderr",
     "output_type": "stream",
     "text": [
      "2018-03-04 11:00:23,157 : INFO : EPOCH 5 - PROGRESS: at 59.44% examples, 626009 words/s, in_qsize 7, out_qsize 0\n"
     ]
    },
    {
     "name": "stderr",
     "output_type": "stream",
     "text": [
      "2018-03-04 11:00:24,170 : INFO : EPOCH 5 - PROGRESS: at 63.16% examples, 613614 words/s, in_qsize 7, out_qsize 0\n"
     ]
    },
    {
     "name": "stderr",
     "output_type": "stream",
     "text": [
      "2018-03-04 11:00:25,180 : INFO : EPOCH 5 - PROGRESS: at 69.31% examples, 625721 words/s, in_qsize 6, out_qsize 0\n"
     ]
    },
    {
     "name": "stderr",
     "output_type": "stream",
     "text": [
      "2018-03-04 11:00:26,185 : INFO : EPOCH 5 - PROGRESS: at 76.16% examples, 641699 words/s, in_qsize 7, out_qsize 0\n"
     ]
    },
    {
     "name": "stderr",
     "output_type": "stream",
     "text": [
      "2018-03-04 11:00:27,193 : INFO : EPOCH 5 - PROGRESS: at 82.38% examples, 650792 words/s, in_qsize 7, out_qsize 0\n"
     ]
    },
    {
     "name": "stderr",
     "output_type": "stream",
     "text": [
      "2018-03-04 11:00:28,199 : INFO : EPOCH 5 - PROGRESS: at 88.74% examples, 660229 words/s, in_qsize 7, out_qsize 0\n"
     ]
    },
    {
     "name": "stderr",
     "output_type": "stream",
     "text": [
      "2018-03-04 11:00:29,212 : INFO : EPOCH 5 - PROGRESS: at 95.06% examples, 667572 words/s, in_qsize 7, out_qsize 1\n"
     ]
    },
    {
     "name": "stderr",
     "output_type": "stream",
     "text": [
      "2018-03-04 11:00:29,998 : INFO : worker thread finished; awaiting finish of 3 more threads\n"
     ]
    },
    {
     "name": "stderr",
     "output_type": "stream",
     "text": [
      "2018-03-04 11:00:30,003 : INFO : worker thread finished; awaiting finish of 2 more threads\n"
     ]
    },
    {
     "name": "stderr",
     "output_type": "stream",
     "text": [
      "2018-03-04 11:00:30,013 : INFO : worker thread finished; awaiting finish of 1 more threads\n"
     ]
    },
    {
     "name": "stderr",
     "output_type": "stream",
     "text": [
      "2018-03-04 11:00:30,020 : INFO : worker thread finished; awaiting finish of 0 more threads\n"
     ]
    },
    {
     "name": "stderr",
     "output_type": "stream",
     "text": [
      "2018-03-04 11:00:30,022 : INFO : EPOCH - 5 : training on 17798263 raw words (12750020 effective words) took 19.0s, 672528 effective words/s\n"
     ]
    },
    {
     "name": "stderr",
     "output_type": "stream",
     "text": [
      "2018-03-04 11:00:30,024 : INFO : training on a 88991315 raw words (63754570 effective words) took 87.3s, 730339 effective words/s\n"
     ]
    },
    {
     "name": "stderr",
     "output_type": "stream",
     "text": [
      "2018-03-04 11:00:30,025 : INFO : precomputing L2-norms of word weight vectors\n"
     ]
    },
    {
     "name": "stderr",
     "output_type": "stream",
     "text": [
      "2018-03-04 11:00:30,175 : INFO : storing 16490x300 projection weights into 300features_40minwords_10context\n"
     ]
    }
   ],
   "source": [
    "%time\n",
    "\n",
    "# Word2vec training\n",
    "from gensim.models import Word2Vec\n",
    "import logging\n",
    "\n",
    "logging.basicConfig(format='%(asctime)s : %(levelname)s : %(message)s', level=logging.INFO)\n",
    "\n",
    "# Set values for various parameters\n",
    "num_features = 300  # Word vector dimensionality                      \n",
    "min_word_count = 40  # min word count to include in vocabulary                        \n",
    "num_workers = 4  # Number of threads to run in parallel\n",
    "context = 10  # Context window size - the max size between predicated word to other in same context                                                                                   \n",
    "downsampling = 1e-3  # Downsample setting for frequent words\n",
    "\n",
    "model = Word2Vec(sentences, workers=num_workers, size=num_features, min_count=min_word_count,\n",
    "                 window=context, sample=downsampling)\n",
    "\n",
    "# If you don't plan to train the model any further, calling \n",
    "# init_sims will make the model much more memory-efficient.\n",
    "model.init_sims(replace=True)\n",
    "\n",
    "# It can be helpful to create a meaningful model name and \n",
    "# save the model for later use. You can load it later using Word2Vec.load()\n",
    "model_name = \"{0}features_{1}minwords_{2}context\".format(num_features, min_word_count, context)\n",
    "model.wv.save_word2vec_format(model_name)"
   ]
  },
  {
   "cell_type": "code",
   "execution_count": 6,
   "metadata": {},
   "outputs": [
    {
     "name": "stdout",
     "output_type": "stream",
     "text": [
      "CPU times: user 2 µs, sys: 1 µs, total: 3 µs\nWall time: 5.01 µs\n"
     ]
    },
    {
     "name": "stderr",
     "output_type": "stream",
     "text": [
      "/usr/local/lib/python2.7/site-packages/ipykernel_launcher.py:4: DeprecationWarning: Call to deprecated `most_similar` (Method will be removed in 4.0.0, use self.wv.most_similar() instead).\n  after removing the cwd from sys.path.\n"
     ]
    },
    {
     "data": {
      "text/plain": [
       "[(u'decent', 0.6794548630714417),\n (u'bad', 0.6264511942863464),\n (u'great', 0.6156489849090576),\n (u'nice', 0.5974811315536499),\n (u'lousy', 0.5720666646957397),\n (u'fine', 0.5697389841079712),\n (u'passable', 0.562705934047699),\n (u'cool', 0.5605120658874512),\n (u'mediocre', 0.549391508102417),\n (u'terrible', 0.5140118598937988)]"
      ]
     },
     "execution_count": 6,
     "metadata": {},
     "output_type": "execute_result"
    }
   ],
   "source": [
    "%time\n",
    "# Here we can play with our model\n",
    "\n",
    "model.most_similar(\"good\", topn=10)"
   ]
  },
  {
   "cell_type": "code",
   "execution_count": 7,
   "metadata": {},
   "outputs": [
    {
     "name": "stderr",
     "output_type": "stream",
     "text": [
      "2018-03-04 11:00:54,432 : INFO : loading projection weights from /Users/orprager/PycharmProjects/ml/samples/movies_reviews_sentiment_analysis/300features_40minwords_10context\n"
     ]
    },
    {
     "name": "stderr",
     "output_type": "stream",
     "text": [
      "2018-03-04 11:00:54,436 : WARNING : duplicate word '' in /Users/orprager/PycharmProjects/ml/samples/movies_reviews_sentiment_analysis/300features_40minwords_10context, ignoring all but first\n"
     ]
    },
    {
     "name": "stderr",
     "output_type": "stream",
     "text": [
      "2018-03-04 11:00:54,438 : WARNING : duplicate word '' in /Users/orprager/PycharmProjects/ml/samples/movies_reviews_sentiment_analysis/300features_40minwords_10context, ignoring all but first\n"
     ]
    },
    {
     "name": "stderr",
     "output_type": "stream",
     "text": [
      "2018-03-04 11:00:54,440 : WARNING : duplicate word '' in /Users/orprager/PycharmProjects/ml/samples/movies_reviews_sentiment_analysis/300features_40minwords_10context, ignoring all but first\n"
     ]
    },
    {
     "name": "stderr",
     "output_type": "stream",
     "text": [
      "2018-03-04 11:00:54,441 : WARNING : duplicate word '' in /Users/orprager/PycharmProjects/ml/samples/movies_reviews_sentiment_analysis/300features_40minwords_10context, ignoring all but first\n"
     ]
    },
    {
     "name": "stderr",
     "output_type": "stream",
     "text": [
      "2018-03-04 11:00:54,443 : WARNING : duplicate word '' in /Users/orprager/PycharmProjects/ml/samples/movies_reviews_sentiment_analysis/300features_40minwords_10context, ignoring all but first\n"
     ]
    },
    {
     "name": "stderr",
     "output_type": "stream",
     "text": [
      "2018-03-04 11:00:54,446 : WARNING : duplicate word '6' in /Users/orprager/PycharmProjects/ml/samples/movies_reviews_sentiment_analysis/300features_40minwords_10context, ignoring all but first\n"
     ]
    },
    {
     "name": "stderr",
     "output_type": "stream",
     "text": [
      "2018-03-04 11:00:54,447 : WARNING : duplicate word '' in /Users/orprager/PycharmProjects/ml/samples/movies_reviews_sentiment_analysis/300features_40minwords_10context, ignoring all but first\n"
     ]
    },
    {
     "name": "stderr",
     "output_type": "stream",
     "text": [
      "2018-03-04 11:00:54,449 : WARNING : duplicate word '' in /Users/orprager/PycharmProjects/ml/samples/movies_reviews_sentiment_analysis/300features_40minwords_10context, ignoring all but first\n"
     ]
    },
    {
     "name": "stderr",
     "output_type": "stream",
     "text": [
      "2018-03-04 11:00:54,455 : WARNING : duplicate word '' in /Users/orprager/PycharmProjects/ml/samples/movies_reviews_sentiment_analysis/300features_40minwords_10context, ignoring all but first\n"
     ]
    },
    {
     "name": "stderr",
     "output_type": "stream",
     "text": [
      "2018-03-04 11:00:54,459 : WARNING : duplicate word '' in /Users/orprager/PycharmProjects/ml/samples/movies_reviews_sentiment_analysis/300features_40minwords_10context, ignoring all but first\n"
     ]
    },
    {
     "name": "stderr",
     "output_type": "stream",
     "text": [
      "2018-03-04 11:00:54,462 : WARNING : duplicate word '7' in /Users/orprager/PycharmProjects/ml/samples/movies_reviews_sentiment_analysis/300features_40minwords_10context, ignoring all but first\n"
     ]
    },
    {
     "name": "stderr",
     "output_type": "stream",
     "text": [
      "2018-03-04 11:00:54,465 : WARNING : duplicate word '2' in /Users/orprager/PycharmProjects/ml/samples/movies_reviews_sentiment_analysis/300features_40minwords_10context, ignoring all but first\n"
     ]
    },
    {
     "name": "stderr",
     "output_type": "stream",
     "text": [
      "2018-03-04 11:00:54,467 : WARNING : duplicate word '' in /Users/orprager/PycharmProjects/ml/samples/movies_reviews_sentiment_analysis/300features_40minwords_10context, ignoring all but first\n"
     ]
    },
    {
     "name": "stderr",
     "output_type": "stream",
     "text": [
      "2018-03-04 11:00:54,470 : WARNING : duplicate word '7' in /Users/orprager/PycharmProjects/ml/samples/movies_reviews_sentiment_analysis/300features_40minwords_10context, ignoring all but first\n"
     ]
    },
    {
     "name": "stderr",
     "output_type": "stream",
     "text": [
      "2018-03-04 11:00:54,472 : WARNING : duplicate word '4' in /Users/orprager/PycharmProjects/ml/samples/movies_reviews_sentiment_analysis/300features_40minwords_10context, ignoring all but first\n"
     ]
    },
    {
     "name": "stderr",
     "output_type": "stream",
     "text": [
      "2018-03-04 11:00:54,474 : WARNING : duplicate word '' in /Users/orprager/PycharmProjects/ml/samples/movies_reviews_sentiment_analysis/300features_40minwords_10context, ignoring all but first\n"
     ]
    },
    {
     "name": "stderr",
     "output_type": "stream",
     "text": [
      "2018-03-04 11:00:54,476 : WARNING : duplicate word '6' in /Users/orprager/PycharmProjects/ml/samples/movies_reviews_sentiment_analysis/300features_40minwords_10context, ignoring all but first\n"
     ]
    },
    {
     "name": "stderr",
     "output_type": "stream",
     "text": [
      "2018-03-04 11:00:54,482 : WARNING : duplicate word '4' in /Users/orprager/PycharmProjects/ml/samples/movies_reviews_sentiment_analysis/300features_40minwords_10context, ignoring all but first\n"
     ]
    },
    {
     "name": "stderr",
     "output_type": "stream",
     "text": [
      "2018-03-04 11:00:54,484 : WARNING : duplicate word '8' in /Users/orprager/PycharmProjects/ml/samples/movies_reviews_sentiment_analysis/300features_40minwords_10context, ignoring all but first\n"
     ]
    },
    {
     "name": "stderr",
     "output_type": "stream",
     "text": [
      "2018-03-04 11:00:54,486 : WARNING : duplicate word '' in /Users/orprager/PycharmProjects/ml/samples/movies_reviews_sentiment_analysis/300features_40minwords_10context, ignoring all but first\n"
     ]
    },
    {
     "name": "stderr",
     "output_type": "stream",
     "text": [
      "2018-03-04 11:00:54,488 : WARNING : duplicate word '4' in /Users/orprager/PycharmProjects/ml/samples/movies_reviews_sentiment_analysis/300features_40minwords_10context, ignoring all but first\n"
     ]
    },
    {
     "name": "stderr",
     "output_type": "stream",
     "text": [
      "2018-03-04 11:00:54,490 : WARNING : duplicate word '6' in /Users/orprager/PycharmProjects/ml/samples/movies_reviews_sentiment_analysis/300features_40minwords_10context, ignoring all but first\n"
     ]
    },
    {
     "name": "stderr",
     "output_type": "stream",
     "text": [
      "2018-03-04 11:00:54,491 : WARNING : duplicate word '' in /Users/orprager/PycharmProjects/ml/samples/movies_reviews_sentiment_analysis/300features_40minwords_10context, ignoring all but first\n"
     ]
    },
    {
     "name": "stderr",
     "output_type": "stream",
     "text": [
      "2018-03-04 11:00:54,493 : WARNING : duplicate word '' in /Users/orprager/PycharmProjects/ml/samples/movies_reviews_sentiment_analysis/300features_40minwords_10context, ignoring all but first\n"
     ]
    },
    {
     "name": "stderr",
     "output_type": "stream",
     "text": [
      "2018-03-04 11:00:54,496 : WARNING : duplicate word '' in /Users/orprager/PycharmProjects/ml/samples/movies_reviews_sentiment_analysis/300features_40minwords_10context, ignoring all but first\n"
     ]
    },
    {
     "name": "stderr",
     "output_type": "stream",
     "text": [
      "2018-03-04 11:00:54,498 : WARNING : duplicate word '16' in /Users/orprager/PycharmProjects/ml/samples/movies_reviews_sentiment_analysis/300features_40minwords_10context, ignoring all but first\n"
     ]
    },
    {
     "name": "stderr",
     "output_type": "stream",
     "text": [
      "2018-03-04 11:00:54,501 : WARNING : duplicate word '7' in /Users/orprager/PycharmProjects/ml/samples/movies_reviews_sentiment_analysis/300features_40minwords_10context, ignoring all but first\n"
     ]
    },
    {
     "name": "stderr",
     "output_type": "stream",
     "text": [
      "2018-03-04 11:00:54,503 : WARNING : duplicate word '4' in /Users/orprager/PycharmProjects/ml/samples/movies_reviews_sentiment_analysis/300features_40minwords_10context, ignoring all but first\n"
     ]
    },
    {
     "name": "stderr",
     "output_type": "stream",
     "text": [
      "2018-03-04 11:00:54,506 : WARNING : duplicate word '' in /Users/orprager/PycharmProjects/ml/samples/movies_reviews_sentiment_analysis/300features_40minwords_10context, ignoring all but first\n"
     ]
    },
    {
     "name": "stderr",
     "output_type": "stream",
     "text": [
      "2018-03-04 11:00:54,508 : WARNING : duplicate word '' in /Users/orprager/PycharmProjects/ml/samples/movies_reviews_sentiment_analysis/300features_40minwords_10context, ignoring all but first\n"
     ]
    },
    {
     "name": "stderr",
     "output_type": "stream",
     "text": [
      "2018-03-04 11:00:54,509 : WARNING : duplicate word '9' in /Users/orprager/PycharmProjects/ml/samples/movies_reviews_sentiment_analysis/300features_40minwords_10context, ignoring all but first\n"
     ]
    },
    {
     "name": "stderr",
     "output_type": "stream",
     "text": [
      "2018-03-04 11:00:54,511 : WARNING : duplicate word '' in /Users/orprager/PycharmProjects/ml/samples/movies_reviews_sentiment_analysis/300features_40minwords_10context, ignoring all but first\n"
     ]
    },
    {
     "name": "stderr",
     "output_type": "stream",
     "text": [
      "2018-03-04 11:00:54,512 : WARNING : duplicate word '' in /Users/orprager/PycharmProjects/ml/samples/movies_reviews_sentiment_analysis/300features_40minwords_10context, ignoring all but first\n"
     ]
    },
    {
     "name": "stderr",
     "output_type": "stream",
     "text": [
      "2018-03-04 11:00:54,514 : WARNING : duplicate word '4' in /Users/orprager/PycharmProjects/ml/samples/movies_reviews_sentiment_analysis/300features_40minwords_10context, ignoring all but first\n"
     ]
    },
    {
     "name": "stderr",
     "output_type": "stream",
     "text": [
      "2018-03-04 11:00:54,516 : WARNING : duplicate word '' in /Users/orprager/PycharmProjects/ml/samples/movies_reviews_sentiment_analysis/300features_40minwords_10context, ignoring all but first\n"
     ]
    },
    {
     "name": "stderr",
     "output_type": "stream",
     "text": [
      "2018-03-04 11:00:54,517 : WARNING : duplicate word '' in /Users/orprager/PycharmProjects/ml/samples/movies_reviews_sentiment_analysis/300features_40minwords_10context, ignoring all but first\n"
     ]
    },
    {
     "name": "stderr",
     "output_type": "stream",
     "text": [
      "2018-03-04 11:00:54,519 : WARNING : duplicate word '18' in /Users/orprager/PycharmProjects/ml/samples/movies_reviews_sentiment_analysis/300features_40minwords_10context, ignoring all but first\n"
     ]
    },
    {
     "name": "stderr",
     "output_type": "stream",
     "text": [
      "2018-03-04 11:00:54,520 : WARNING : duplicate word '' in /Users/orprager/PycharmProjects/ml/samples/movies_reviews_sentiment_analysis/300features_40minwords_10context, ignoring all but first\n"
     ]
    },
    {
     "name": "stderr",
     "output_type": "stream",
     "text": [
      "2018-03-04 11:00:54,522 : WARNING : duplicate word '' in /Users/orprager/PycharmProjects/ml/samples/movies_reviews_sentiment_analysis/300features_40minwords_10context, ignoring all but first\n"
     ]
    },
    {
     "name": "stderr",
     "output_type": "stream",
     "text": [
      "2018-03-04 11:00:54,523 : WARNING : duplicate word '5' in /Users/orprager/PycharmProjects/ml/samples/movies_reviews_sentiment_analysis/300features_40minwords_10context, ignoring all but first\n"
     ]
    },
    {
     "name": "stderr",
     "output_type": "stream",
     "text": [
      "2018-03-04 11:00:54,524 : WARNING : duplicate word '5' in /Users/orprager/PycharmProjects/ml/samples/movies_reviews_sentiment_analysis/300features_40minwords_10context, ignoring all but first\n"
     ]
    },
    {
     "name": "stderr",
     "output_type": "stream",
     "text": [
      "2018-03-04 11:00:54,526 : WARNING : duplicate word '4' in /Users/orprager/PycharmProjects/ml/samples/movies_reviews_sentiment_analysis/300features_40minwords_10context, ignoring all but first\n"
     ]
    },
    {
     "name": "stderr",
     "output_type": "stream",
     "text": [
      "2018-03-04 11:00:54,531 : WARNING : duplicate word '' in /Users/orprager/PycharmProjects/ml/samples/movies_reviews_sentiment_analysis/300features_40minwords_10context, ignoring all but first\n"
     ]
    },
    {
     "name": "stderr",
     "output_type": "stream",
     "text": [
      "2018-03-04 11:00:54,533 : WARNING : duplicate word '6' in /Users/orprager/PycharmProjects/ml/samples/movies_reviews_sentiment_analysis/300features_40minwords_10context, ignoring all but first\n"
     ]
    },
    {
     "name": "stderr",
     "output_type": "stream",
     "text": [
      "2018-03-04 11:00:54,534 : WARNING : duplicate word '' in /Users/orprager/PycharmProjects/ml/samples/movies_reviews_sentiment_analysis/300features_40minwords_10context, ignoring all but first\n"
     ]
    },
    {
     "name": "stderr",
     "output_type": "stream",
     "text": [
      "2018-03-04 11:00:54,536 : WARNING : duplicate word '' in /Users/orprager/PycharmProjects/ml/samples/movies_reviews_sentiment_analysis/300features_40minwords_10context, ignoring all but first\n"
     ]
    },
    {
     "name": "stderr",
     "output_type": "stream",
     "text": [
      "2018-03-04 11:00:54,538 : WARNING : duplicate word '' in /Users/orprager/PycharmProjects/ml/samples/movies_reviews_sentiment_analysis/300features_40minwords_10context, ignoring all but first\n"
     ]
    },
    {
     "name": "stderr",
     "output_type": "stream",
     "text": [
      "2018-03-04 11:00:54,540 : WARNING : duplicate word '' in /Users/orprager/PycharmProjects/ml/samples/movies_reviews_sentiment_analysis/300features_40minwords_10context, ignoring all but first\n"
     ]
    },
    {
     "name": "stderr",
     "output_type": "stream",
     "text": [
      "2018-03-04 11:00:54,541 : WARNING : duplicate word '' in /Users/orprager/PycharmProjects/ml/samples/movies_reviews_sentiment_analysis/300features_40minwords_10context, ignoring all but first\n"
     ]
    },
    {
     "name": "stderr",
     "output_type": "stream",
     "text": [
      "2018-03-04 11:00:54,543 : WARNING : duplicate word '6' in /Users/orprager/PycharmProjects/ml/samples/movies_reviews_sentiment_analysis/300features_40minwords_10context, ignoring all but first\n"
     ]
    },
    {
     "name": "stderr",
     "output_type": "stream",
     "text": [
      "2018-03-04 11:00:54,545 : WARNING : duplicate word '844' in /Users/orprager/PycharmProjects/ml/samples/movies_reviews_sentiment_analysis/300features_40minwords_10context, ignoring all but first\n"
     ]
    },
    {
     "name": "stderr",
     "output_type": "stream",
     "text": [
      "2018-03-04 11:00:54,547 : WARNING : duplicate word '' in /Users/orprager/PycharmProjects/ml/samples/movies_reviews_sentiment_analysis/300features_40minwords_10context, ignoring all but first\n"
     ]
    },
    {
     "name": "stderr",
     "output_type": "stream",
     "text": [
      "2018-03-04 11:00:54,549 : WARNING : duplicate word '' in /Users/orprager/PycharmProjects/ml/samples/movies_reviews_sentiment_analysis/300features_40minwords_10context, ignoring all but first\n"
     ]
    },
    {
     "name": "stderr",
     "output_type": "stream",
     "text": [
      "2018-03-04 11:00:54,551 : WARNING : duplicate word '5' in /Users/orprager/PycharmProjects/ml/samples/movies_reviews_sentiment_analysis/300features_40minwords_10context, ignoring all but first\n"
     ]
    },
    {
     "name": "stderr",
     "output_type": "stream",
     "text": [
      "2018-03-04 11:00:54,552 : WARNING : duplicate word '7' in /Users/orprager/PycharmProjects/ml/samples/movies_reviews_sentiment_analysis/300features_40minwords_10context, ignoring all but first\n"
     ]
    },
    {
     "name": "stderr",
     "output_type": "stream",
     "text": [
      "2018-03-04 11:00:54,554 : WARNING : duplicate word '16' in /Users/orprager/PycharmProjects/ml/samples/movies_reviews_sentiment_analysis/300features_40minwords_10context, ignoring all but first\n"
     ]
    },
    {
     "name": "stderr",
     "output_type": "stream",
     "text": [
      "2018-03-04 11:00:54,556 : WARNING : duplicate word '' in /Users/orprager/PycharmProjects/ml/samples/movies_reviews_sentiment_analysis/300features_40minwords_10context, ignoring all but first\n"
     ]
    },
    {
     "name": "stderr",
     "output_type": "stream",
     "text": [
      "2018-03-04 11:00:54,558 : WARNING : duplicate word '' in /Users/orprager/PycharmProjects/ml/samples/movies_reviews_sentiment_analysis/300features_40minwords_10context, ignoring all but first\n"
     ]
    },
    {
     "name": "stderr",
     "output_type": "stream",
     "text": [
      "2018-03-04 11:00:54,559 : WARNING : duplicate word '8' in /Users/orprager/PycharmProjects/ml/samples/movies_reviews_sentiment_analysis/300features_40minwords_10context, ignoring all but first\n"
     ]
    },
    {
     "name": "stderr",
     "output_type": "stream",
     "text": [
      "2018-03-04 11:00:54,561 : WARNING : duplicate word '' in /Users/orprager/PycharmProjects/ml/samples/movies_reviews_sentiment_analysis/300features_40minwords_10context, ignoring all but first\n"
     ]
    },
    {
     "name": "stderr",
     "output_type": "stream",
     "text": [
      "2018-03-04 11:00:54,564 : WARNING : duplicate word '' in /Users/orprager/PycharmProjects/ml/samples/movies_reviews_sentiment_analysis/300features_40minwords_10context, ignoring all but first\n"
     ]
    },
    {
     "name": "stderr",
     "output_type": "stream",
     "text": [
      "2018-03-04 11:00:54,566 : WARNING : duplicate word '1' in /Users/orprager/PycharmProjects/ml/samples/movies_reviews_sentiment_analysis/300features_40minwords_10context, ignoring all but first\n"
     ]
    },
    {
     "name": "stderr",
     "output_type": "stream",
     "text": [
      "2018-03-04 11:00:54,568 : WARNING : duplicate word '4' in /Users/orprager/PycharmProjects/ml/samples/movies_reviews_sentiment_analysis/300features_40minwords_10context, ignoring all but first\n"
     ]
    },
    {
     "name": "stderr",
     "output_type": "stream",
     "text": [
      "2018-03-04 11:00:54,569 : WARNING : duplicate word '5' in /Users/orprager/PycharmProjects/ml/samples/movies_reviews_sentiment_analysis/300features_40minwords_10context, ignoring all but first\n"
     ]
    },
    {
     "name": "stderr",
     "output_type": "stream",
     "text": [
      "2018-03-04 11:00:54,571 : WARNING : duplicate word '' in /Users/orprager/PycharmProjects/ml/samples/movies_reviews_sentiment_analysis/300features_40minwords_10context, ignoring all but first\n"
     ]
    },
    {
     "name": "stderr",
     "output_type": "stream",
     "text": [
      "2018-03-04 11:00:54,572 : WARNING : duplicate word '' in /Users/orprager/PycharmProjects/ml/samples/movies_reviews_sentiment_analysis/300features_40minwords_10context, ignoring all but first\n"
     ]
    },
    {
     "name": "stderr",
     "output_type": "stream",
     "text": [
      "2018-03-04 11:00:54,577 : WARNING : duplicate word '1' in /Users/orprager/PycharmProjects/ml/samples/movies_reviews_sentiment_analysis/300features_40minwords_10context, ignoring all but first\n"
     ]
    },
    {
     "name": "stderr",
     "output_type": "stream",
     "text": [
      "2018-03-04 11:00:54,579 : WARNING : duplicate word '' in /Users/orprager/PycharmProjects/ml/samples/movies_reviews_sentiment_analysis/300features_40minwords_10context, ignoring all but first\n"
     ]
    },
    {
     "name": "stderr",
     "output_type": "stream",
     "text": [
      "2018-03-04 11:00:54,581 : WARNING : duplicate word '' in /Users/orprager/PycharmProjects/ml/samples/movies_reviews_sentiment_analysis/300features_40minwords_10context, ignoring all but first\n"
     ]
    },
    {
     "name": "stderr",
     "output_type": "stream",
     "text": [
      "2018-03-04 11:00:54,583 : WARNING : duplicate word '' in /Users/orprager/PycharmProjects/ml/samples/movies_reviews_sentiment_analysis/300features_40minwords_10context, ignoring all but first\n"
     ]
    },
    {
     "name": "stderr",
     "output_type": "stream",
     "text": [
      "2018-03-04 11:00:54,584 : WARNING : duplicate word '6' in /Users/orprager/PycharmProjects/ml/samples/movies_reviews_sentiment_analysis/300features_40minwords_10context, ignoring all but first\n"
     ]
    },
    {
     "name": "stderr",
     "output_type": "stream",
     "text": [
      "2018-03-04 11:00:54,586 : WARNING : duplicate word '' in /Users/orprager/PycharmProjects/ml/samples/movies_reviews_sentiment_analysis/300features_40minwords_10context, ignoring all but first\n"
     ]
    },
    {
     "name": "stderr",
     "output_type": "stream",
     "text": [
      "2018-03-04 11:00:54,588 : WARNING : duplicate word '5' in /Users/orprager/PycharmProjects/ml/samples/movies_reviews_sentiment_analysis/300features_40minwords_10context, ignoring all but first\n"
     ]
    },
    {
     "name": "stderr",
     "output_type": "stream",
     "text": [
      "2018-03-04 11:00:54,590 : WARNING : duplicate word '' in /Users/orprager/PycharmProjects/ml/samples/movies_reviews_sentiment_analysis/300features_40minwords_10context, ignoring all but first\n"
     ]
    },
    {
     "name": "stderr",
     "output_type": "stream",
     "text": [
      "2018-03-04 11:00:54,591 : WARNING : duplicate word '44' in /Users/orprager/PycharmProjects/ml/samples/movies_reviews_sentiment_analysis/300features_40minwords_10context, ignoring all but first\n"
     ]
    },
    {
     "name": "stderr",
     "output_type": "stream",
     "text": [
      "2018-03-04 11:00:54,593 : WARNING : duplicate word '' in /Users/orprager/PycharmProjects/ml/samples/movies_reviews_sentiment_analysis/300features_40minwords_10context, ignoring all but first\n"
     ]
    },
    {
     "name": "stderr",
     "output_type": "stream",
     "text": [
      "2018-03-04 11:00:54,594 : WARNING : duplicate word '5' in /Users/orprager/PycharmProjects/ml/samples/movies_reviews_sentiment_analysis/300features_40minwords_10context, ignoring all but first\n"
     ]
    },
    {
     "name": "stderr",
     "output_type": "stream",
     "text": [
      "2018-03-04 11:00:54,596 : WARNING : duplicate word '844' in /Users/orprager/PycharmProjects/ml/samples/movies_reviews_sentiment_analysis/300features_40minwords_10context, ignoring all but first\n"
     ]
    },
    {
     "name": "stderr",
     "output_type": "stream",
     "text": [
      "2018-03-04 11:00:54,597 : WARNING : duplicate word '' in /Users/orprager/PycharmProjects/ml/samples/movies_reviews_sentiment_analysis/300features_40minwords_10context, ignoring all but first\n"
     ]
    },
    {
     "name": "stderr",
     "output_type": "stream",
     "text": [
      "2018-03-04 11:00:54,599 : WARNING : duplicate word '' in /Users/orprager/PycharmProjects/ml/samples/movies_reviews_sentiment_analysis/300features_40minwords_10context, ignoring all but first\n"
     ]
    },
    {
     "name": "stderr",
     "output_type": "stream",
     "text": [
      "2018-03-04 11:00:54,602 : WARNING : duplicate word '24' in /Users/orprager/PycharmProjects/ml/samples/movies_reviews_sentiment_analysis/300features_40minwords_10context, ignoring all but first\n"
     ]
    },
    {
     "name": "stderr",
     "output_type": "stream",
     "text": [
      "2018-03-04 11:00:54,604 : WARNING : duplicate word '' in /Users/orprager/PycharmProjects/ml/samples/movies_reviews_sentiment_analysis/300features_40minwords_10context, ignoring all but first\n"
     ]
    },
    {
     "name": "stderr",
     "output_type": "stream",
     "text": [
      "2018-03-04 11:00:54,606 : WARNING : duplicate word '43' in /Users/orprager/PycharmProjects/ml/samples/movies_reviews_sentiment_analysis/300features_40minwords_10context, ignoring all but first\n"
     ]
    },
    {
     "name": "stderr",
     "output_type": "stream",
     "text": [
      "2018-03-04 11:00:54,608 : WARNING : duplicate word '44' in /Users/orprager/PycharmProjects/ml/samples/movies_reviews_sentiment_analysis/300features_40minwords_10context, ignoring all but first\n"
     ]
    },
    {
     "name": "stderr",
     "output_type": "stream",
     "text": [
      "2018-03-04 11:00:54,610 : WARNING : duplicate word '9' in /Users/orprager/PycharmProjects/ml/samples/movies_reviews_sentiment_analysis/300features_40minwords_10context, ignoring all but first\n"
     ]
    },
    {
     "name": "stderr",
     "output_type": "stream",
     "text": [
      "2018-03-04 11:00:54,612 : WARNING : duplicate word '4' in /Users/orprager/PycharmProjects/ml/samples/movies_reviews_sentiment_analysis/300features_40minwords_10context, ignoring all but first\n"
     ]
    },
    {
     "name": "stderr",
     "output_type": "stream",
     "text": [
      "2018-03-04 11:00:54,613 : WARNING : duplicate word '96' in /Users/orprager/PycharmProjects/ml/samples/movies_reviews_sentiment_analysis/300features_40minwords_10context, ignoring all but first\n"
     ]
    },
    {
     "name": "stderr",
     "output_type": "stream",
     "text": [
      "2018-03-04 11:00:54,615 : WARNING : duplicate word '' in /Users/orprager/PycharmProjects/ml/samples/movies_reviews_sentiment_analysis/300features_40minwords_10context, ignoring all but first\n"
     ]
    },
    {
     "name": "stderr",
     "output_type": "stream",
     "text": [
      "2018-03-04 11:00:54,616 : WARNING : duplicate word '' in /Users/orprager/PycharmProjects/ml/samples/movies_reviews_sentiment_analysis/300features_40minwords_10context, ignoring all but first\n"
     ]
    },
    {
     "name": "stderr",
     "output_type": "stream",
     "text": [
      "2018-03-04 11:00:54,619 : WARNING : duplicate word '' in /Users/orprager/PycharmProjects/ml/samples/movies_reviews_sentiment_analysis/300features_40minwords_10context, ignoring all but first\n"
     ]
    },
    {
     "name": "stderr",
     "output_type": "stream",
     "text": [
      "2018-03-04 11:00:54,621 : WARNING : duplicate word '9' in /Users/orprager/PycharmProjects/ml/samples/movies_reviews_sentiment_analysis/300features_40minwords_10context, ignoring all but first\n"
     ]
    },
    {
     "name": "stderr",
     "output_type": "stream",
     "text": [
      "2018-03-04 11:00:54,622 : WARNING : duplicate word '3' in /Users/orprager/PycharmProjects/ml/samples/movies_reviews_sentiment_analysis/300features_40minwords_10context, ignoring all but first\n"
     ]
    },
    {
     "name": "stderr",
     "output_type": "stream",
     "text": [
      "2018-03-04 11:00:54,624 : WARNING : duplicate word '' in /Users/orprager/PycharmProjects/ml/samples/movies_reviews_sentiment_analysis/300features_40minwords_10context, ignoring all but first\n"
     ]
    },
    {
     "name": "stderr",
     "output_type": "stream",
     "text": [
      "2018-03-04 11:00:54,625 : WARNING : duplicate word '' in /Users/orprager/PycharmProjects/ml/samples/movies_reviews_sentiment_analysis/300features_40minwords_10context, ignoring all but first\n"
     ]
    },
    {
     "name": "stderr",
     "output_type": "stream",
     "text": [
      "2018-03-04 11:00:54,627 : WARNING : duplicate word '3' in /Users/orprager/PycharmProjects/ml/samples/movies_reviews_sentiment_analysis/300features_40minwords_10context, ignoring all but first\n"
     ]
    },
    {
     "name": "stderr",
     "output_type": "stream",
     "text": [
      "2018-03-04 11:00:54,628 : WARNING : duplicate word '5' in /Users/orprager/PycharmProjects/ml/samples/movies_reviews_sentiment_analysis/300features_40minwords_10context, ignoring all but first\n"
     ]
    },
    {
     "name": "stderr",
     "output_type": "stream",
     "text": [
      "2018-03-04 11:00:54,630 : WARNING : duplicate word '96' in /Users/orprager/PycharmProjects/ml/samples/movies_reviews_sentiment_analysis/300features_40minwords_10context, ignoring all but first\n"
     ]
    },
    {
     "name": "stderr",
     "output_type": "stream",
     "text": [
      "2018-03-04 11:00:54,632 : WARNING : duplicate word '' in /Users/orprager/PycharmProjects/ml/samples/movies_reviews_sentiment_analysis/300features_40minwords_10context, ignoring all but first\n"
     ]
    },
    {
     "name": "stdout",
     "output_type": "stream",
     "text": [
      "CPU times: user 2 µs, sys: 0 ns, total: 2 µs\nWall time: 4.05 µs\n"
     ]
    },
    {
     "name": "stderr",
     "output_type": "stream",
     "text": [
      "2018-03-04 11:00:54,634 : WARNING : duplicate word '' in /Users/orprager/PycharmProjects/ml/samples/movies_reviews_sentiment_analysis/300features_40minwords_10context, ignoring all but first\n"
     ]
    },
    {
     "name": "stderr",
     "output_type": "stream",
     "text": [
      "2018-03-04 11:00:54,635 : WARNING : duplicate word '492' in /Users/orprager/PycharmProjects/ml/samples/movies_reviews_sentiment_analysis/300features_40minwords_10context, ignoring all but first\n"
     ]
    },
    {
     "name": "stderr",
     "output_type": "stream",
     "text": [
      "2018-03-04 11:00:54,636 : WARNING : duplicate word '' in /Users/orprager/PycharmProjects/ml/samples/movies_reviews_sentiment_analysis/300features_40minwords_10context, ignoring all but first\n"
     ]
    },
    {
     "name": "stderr",
     "output_type": "stream",
     "text": [
      "2018-03-04 11:00:54,638 : WARNING : duplicate word '8' in /Users/orprager/PycharmProjects/ml/samples/movies_reviews_sentiment_analysis/300features_40minwords_10context, ignoring all but first\n"
     ]
    },
    {
     "name": "stderr",
     "output_type": "stream",
     "text": [
      "2018-03-04 11:00:54,639 : WARNING : duplicate word '4' in /Users/orprager/PycharmProjects/ml/samples/movies_reviews_sentiment_analysis/300features_40minwords_10context, ignoring all but first\n"
     ]
    },
    {
     "name": "stderr",
     "output_type": "stream",
     "text": [
      "2018-03-04 11:00:54,640 : WARNING : duplicate word '365' in /Users/orprager/PycharmProjects/ml/samples/movies_reviews_sentiment_analysis/300features_40minwords_10context, ignoring all but first\n"
     ]
    },
    {
     "name": "stderr",
     "output_type": "stream",
     "text": [
      "2018-03-04 11:00:54,642 : WARNING : duplicate word '' in /Users/orprager/PycharmProjects/ml/samples/movies_reviews_sentiment_analysis/300features_40minwords_10context, ignoring all but first\n"
     ]
    },
    {
     "name": "stderr",
     "output_type": "stream",
     "text": [
      "2018-03-04 11:00:54,644 : WARNING : duplicate word '' in /Users/orprager/PycharmProjects/ml/samples/movies_reviews_sentiment_analysis/300features_40minwords_10context, ignoring all but first\n"
     ]
    },
    {
     "name": "stderr",
     "output_type": "stream",
     "text": [
      "2018-03-04 11:00:54,645 : WARNING : duplicate word '' in /Users/orprager/PycharmProjects/ml/samples/movies_reviews_sentiment_analysis/300features_40minwords_10context, ignoring all but first\n"
     ]
    },
    {
     "name": "stderr",
     "output_type": "stream",
     "text": [
      "2018-03-04 11:00:54,648 : WARNING : duplicate word '' in /Users/orprager/PycharmProjects/ml/samples/movies_reviews_sentiment_analysis/300features_40minwords_10context, ignoring all but first\n"
     ]
    },
    {
     "name": "stderr",
     "output_type": "stream",
     "text": [
      "2018-03-04 11:00:54,652 : WARNING : duplicate word '45' in /Users/orprager/PycharmProjects/ml/samples/movies_reviews_sentiment_analysis/300features_40minwords_10context, ignoring all but first\n"
     ]
    },
    {
     "name": "stderr",
     "output_type": "stream",
     "text": [
      "2018-03-04 11:00:54,654 : WARNING : duplicate word '' in /Users/orprager/PycharmProjects/ml/samples/movies_reviews_sentiment_analysis/300features_40minwords_10context, ignoring all but first\n"
     ]
    },
    {
     "name": "stderr",
     "output_type": "stream",
     "text": [
      "2018-03-04 11:00:54,655 : WARNING : duplicate word '2' in /Users/orprager/PycharmProjects/ml/samples/movies_reviews_sentiment_analysis/300features_40minwords_10context, ignoring all but first\n"
     ]
    },
    {
     "name": "stderr",
     "output_type": "stream",
     "text": [
      "2018-03-04 11:00:54,657 : WARNING : duplicate word '12' in /Users/orprager/PycharmProjects/ml/samples/movies_reviews_sentiment_analysis/300features_40minwords_10context, ignoring all but first\n"
     ]
    },
    {
     "name": "stderr",
     "output_type": "stream",
     "text": [
      "2018-03-04 11:00:54,658 : WARNING : duplicate word '9' in /Users/orprager/PycharmProjects/ml/samples/movies_reviews_sentiment_analysis/300features_40minwords_10context, ignoring all but first\n"
     ]
    },
    {
     "name": "stderr",
     "output_type": "stream",
     "text": [
      "2018-03-04 11:00:54,660 : WARNING : duplicate word '9' in /Users/orprager/PycharmProjects/ml/samples/movies_reviews_sentiment_analysis/300features_40minwords_10context, ignoring all but first\n"
     ]
    },
    {
     "name": "stderr",
     "output_type": "stream",
     "text": [
      "2018-03-04 11:00:54,662 : WARNING : duplicate word '5' in /Users/orprager/PycharmProjects/ml/samples/movies_reviews_sentiment_analysis/300features_40minwords_10context, ignoring all but first\n"
     ]
    },
    {
     "name": "stderr",
     "output_type": "stream",
     "text": [
      "2018-03-04 11:00:54,663 : WARNING : duplicate word '' in /Users/orprager/PycharmProjects/ml/samples/movies_reviews_sentiment_analysis/300features_40minwords_10context, ignoring all but first\n"
     ]
    },
    {
     "name": "stderr",
     "output_type": "stream",
     "text": [
      "2018-03-04 11:00:54,665 : WARNING : duplicate word '5' in /Users/orprager/PycharmProjects/ml/samples/movies_reviews_sentiment_analysis/300features_40minwords_10context, ignoring all but first\n"
     ]
    },
    {
     "name": "stderr",
     "output_type": "stream",
     "text": [
      "2018-03-04 11:00:54,666 : WARNING : duplicate word '' in /Users/orprager/PycharmProjects/ml/samples/movies_reviews_sentiment_analysis/300features_40minwords_10context, ignoring all but first\n"
     ]
    },
    {
     "name": "stderr",
     "output_type": "stream",
     "text": [
      "2018-03-04 11:00:54,668 : WARNING : duplicate word '61' in /Users/orprager/PycharmProjects/ml/samples/movies_reviews_sentiment_analysis/300features_40minwords_10context, ignoring all but first\n"
     ]
    },
    {
     "name": "stderr",
     "output_type": "stream",
     "text": [
      "2018-03-04 11:00:54,669 : WARNING : duplicate word '' in /Users/orprager/PycharmProjects/ml/samples/movies_reviews_sentiment_analysis/300features_40minwords_10context, ignoring all but first\n"
     ]
    },
    {
     "name": "stderr",
     "output_type": "stream",
     "text": [
      "2018-03-04 11:00:54,671 : WARNING : duplicate word '' in /Users/orprager/PycharmProjects/ml/samples/movies_reviews_sentiment_analysis/300features_40minwords_10context, ignoring all but first\n"
     ]
    },
    {
     "name": "stderr",
     "output_type": "stream",
     "text": [
      "2018-03-04 11:00:54,673 : WARNING : duplicate word '21' in /Users/orprager/PycharmProjects/ml/samples/movies_reviews_sentiment_analysis/300features_40minwords_10context, ignoring all but first\n"
     ]
    },
    {
     "name": "stderr",
     "output_type": "stream",
     "text": [
      "2018-03-04 11:00:54,676 : WARNING : duplicate word '4' in /Users/orprager/PycharmProjects/ml/samples/movies_reviews_sentiment_analysis/300features_40minwords_10context, ignoring all but first\n"
     ]
    },
    {
     "name": "stderr",
     "output_type": "stream",
     "text": [
      "2018-03-04 11:00:54,680 : WARNING : duplicate word '' in /Users/orprager/PycharmProjects/ml/samples/movies_reviews_sentiment_analysis/300features_40minwords_10context, ignoring all but first\n"
     ]
    },
    {
     "name": "stderr",
     "output_type": "stream",
     "text": [
      "2018-03-04 11:00:54,683 : WARNING : duplicate word '7' in /Users/orprager/PycharmProjects/ml/samples/movies_reviews_sentiment_analysis/300features_40minwords_10context, ignoring all but first\n"
     ]
    },
    {
     "name": "stderr",
     "output_type": "stream",
     "text": [
      "2018-03-04 11:00:54,686 : WARNING : duplicate word '4' in /Users/orprager/PycharmProjects/ml/samples/movies_reviews_sentiment_analysis/300features_40minwords_10context, ignoring all but first\n"
     ]
    },
    {
     "name": "stderr",
     "output_type": "stream",
     "text": [
      "2018-03-04 11:00:54,687 : WARNING : duplicate word '' in /Users/orprager/PycharmProjects/ml/samples/movies_reviews_sentiment_analysis/300features_40minwords_10context, ignoring all but first\n"
     ]
    },
    {
     "name": "stderr",
     "output_type": "stream",
     "text": [
      "2018-03-04 11:00:54,689 : WARNING : duplicate word '' in /Users/orprager/PycharmProjects/ml/samples/movies_reviews_sentiment_analysis/300features_40minwords_10context, ignoring all but first\n"
     ]
    },
    {
     "name": "stderr",
     "output_type": "stream",
     "text": [
      "2018-03-04 11:00:54,691 : WARNING : duplicate word '' in /Users/orprager/PycharmProjects/ml/samples/movies_reviews_sentiment_analysis/300features_40minwords_10context, ignoring all but first\n"
     ]
    },
    {
     "name": "stderr",
     "output_type": "stream",
     "text": [
      "2018-03-04 11:00:54,693 : WARNING : duplicate word '3' in /Users/orprager/PycharmProjects/ml/samples/movies_reviews_sentiment_analysis/300features_40minwords_10context, ignoring all but first\n"
     ]
    },
    {
     "name": "stderr",
     "output_type": "stream",
     "text": [
      "2018-03-04 11:00:54,696 : WARNING : duplicate word '208' in /Users/orprager/PycharmProjects/ml/samples/movies_reviews_sentiment_analysis/300features_40minwords_10context, ignoring all but first\n"
     ]
    },
    {
     "name": "stderr",
     "output_type": "stream",
     "text": [
      "2018-03-04 11:00:54,700 : WARNING : duplicate word '326' in /Users/orprager/PycharmProjects/ml/samples/movies_reviews_sentiment_analysis/300features_40minwords_10context, ignoring all but first\n"
     ]
    },
    {
     "name": "stderr",
     "output_type": "stream",
     "text": [
      "2018-03-04 11:00:54,702 : WARNING : duplicate word '2' in /Users/orprager/PycharmProjects/ml/samples/movies_reviews_sentiment_analysis/300features_40minwords_10context, ignoring all but first\n"
     ]
    },
    {
     "name": "stderr",
     "output_type": "stream",
     "text": [
      "2018-03-04 11:00:54,704 : WARNING : duplicate word '' in /Users/orprager/PycharmProjects/ml/samples/movies_reviews_sentiment_analysis/300features_40minwords_10context, ignoring all but first\n"
     ]
    },
    {
     "name": "stderr",
     "output_type": "stream",
     "text": [
      "2018-03-04 11:00:54,708 : WARNING : duplicate word '5' in /Users/orprager/PycharmProjects/ml/samples/movies_reviews_sentiment_analysis/300features_40minwords_10context, ignoring all but first\n"
     ]
    },
    {
     "name": "stderr",
     "output_type": "stream",
     "text": [
      "2018-03-04 11:00:54,710 : WARNING : duplicate word '6' in /Users/orprager/PycharmProjects/ml/samples/movies_reviews_sentiment_analysis/300features_40minwords_10context, ignoring all but first\n"
     ]
    },
    {
     "name": "stderr",
     "output_type": "stream",
     "text": [
      "2018-03-04 11:00:54,711 : WARNING : duplicate word '' in /Users/orprager/PycharmProjects/ml/samples/movies_reviews_sentiment_analysis/300features_40minwords_10context, ignoring all but first\n"
     ]
    },
    {
     "name": "stderr",
     "output_type": "stream",
     "text": [
      "2018-03-04 11:00:54,712 : WARNING : duplicate word '' in /Users/orprager/PycharmProjects/ml/samples/movies_reviews_sentiment_analysis/300features_40minwords_10context, ignoring all but first\n"
     ]
    },
    {
     "name": "stderr",
     "output_type": "stream",
     "text": [
      "2018-03-04 11:00:54,714 : WARNING : duplicate word '4' in /Users/orprager/PycharmProjects/ml/samples/movies_reviews_sentiment_analysis/300features_40minwords_10context, ignoring all but first\n"
     ]
    },
    {
     "name": "stderr",
     "output_type": "stream",
     "text": [
      "2018-03-04 11:00:54,716 : WARNING : duplicate word '9' in /Users/orprager/PycharmProjects/ml/samples/movies_reviews_sentiment_analysis/300features_40minwords_10context, ignoring all but first\n"
     ]
    },
    {
     "name": "stderr",
     "output_type": "stream",
     "text": [
      "2018-03-04 11:00:54,718 : WARNING : duplicate word '' in /Users/orprager/PycharmProjects/ml/samples/movies_reviews_sentiment_analysis/300features_40minwords_10context, ignoring all but first\n"
     ]
    },
    {
     "name": "stderr",
     "output_type": "stream",
     "text": [
      "2018-03-04 11:00:54,721 : WARNING : duplicate word '3' in /Users/orprager/PycharmProjects/ml/samples/movies_reviews_sentiment_analysis/300features_40minwords_10context, ignoring all but first\n"
     ]
    },
    {
     "name": "stderr",
     "output_type": "stream",
     "text": [
      "2018-03-04 11:00:54,723 : WARNING : duplicate word '3' in /Users/orprager/PycharmProjects/ml/samples/movies_reviews_sentiment_analysis/300features_40minwords_10context, ignoring all but first\n"
     ]
    },
    {
     "name": "stderr",
     "output_type": "stream",
     "text": [
      "2018-03-04 11:00:54,725 : WARNING : duplicate word '' in /Users/orprager/PycharmProjects/ml/samples/movies_reviews_sentiment_analysis/300features_40minwords_10context, ignoring all but first\n"
     ]
    },
    {
     "name": "stderr",
     "output_type": "stream",
     "text": [
      "2018-03-04 11:00:54,726 : WARNING : duplicate word '8' in /Users/orprager/PycharmProjects/ml/samples/movies_reviews_sentiment_analysis/300features_40minwords_10context, ignoring all but first\n"
     ]
    },
    {
     "name": "stderr",
     "output_type": "stream",
     "text": [
      "2018-03-04 11:00:54,728 : WARNING : duplicate word '' in /Users/orprager/PycharmProjects/ml/samples/movies_reviews_sentiment_analysis/300features_40minwords_10context, ignoring all but first\n"
     ]
    },
    {
     "name": "stderr",
     "output_type": "stream",
     "text": [
      "2018-03-04 11:00:54,729 : WARNING : duplicate word '07' in /Users/orprager/PycharmProjects/ml/samples/movies_reviews_sentiment_analysis/300features_40minwords_10context, ignoring all but first\n"
     ]
    },
    {
     "name": "stderr",
     "output_type": "stream",
     "text": [
      "2018-03-04 11:00:54,731 : WARNING : duplicate word '' in /Users/orprager/PycharmProjects/ml/samples/movies_reviews_sentiment_analysis/300features_40minwords_10context, ignoring all but first\n"
     ]
    },
    {
     "name": "stderr",
     "output_type": "stream",
     "text": [
      "2018-03-04 11:00:54,735 : WARNING : duplicate word '6' in /Users/orprager/PycharmProjects/ml/samples/movies_reviews_sentiment_analysis/300features_40minwords_10context, ignoring all but first\n"
     ]
    },
    {
     "name": "stderr",
     "output_type": "stream",
     "text": [
      "2018-03-04 11:00:54,737 : WARNING : duplicate word '6' in /Users/orprager/PycharmProjects/ml/samples/movies_reviews_sentiment_analysis/300features_40minwords_10context, ignoring all but first\n"
     ]
    },
    {
     "name": "stderr",
     "output_type": "stream",
     "text": [
      "2018-03-04 11:00:54,738 : WARNING : duplicate word '' in /Users/orprager/PycharmProjects/ml/samples/movies_reviews_sentiment_analysis/300features_40minwords_10context, ignoring all but first\n"
     ]
    },
    {
     "name": "stderr",
     "output_type": "stream",
     "text": [
      "2018-03-04 11:00:54,740 : WARNING : duplicate word '4' in /Users/orprager/PycharmProjects/ml/samples/movies_reviews_sentiment_analysis/300features_40minwords_10context, ignoring all but first\n"
     ]
    },
    {
     "name": "stderr",
     "output_type": "stream",
     "text": [
      "2018-03-04 11:00:54,742 : WARNING : duplicate word '93' in /Users/orprager/PycharmProjects/ml/samples/movies_reviews_sentiment_analysis/300features_40minwords_10context, ignoring all but first\n"
     ]
    },
    {
     "name": "stderr",
     "output_type": "stream",
     "text": [
      "2018-03-04 11:00:54,745 : WARNING : duplicate word '28' in /Users/orprager/PycharmProjects/ml/samples/movies_reviews_sentiment_analysis/300features_40minwords_10context, ignoring all but first\n"
     ]
    },
    {
     "name": "stderr",
     "output_type": "stream",
     "text": [
      "2018-03-04 11:00:54,750 : WARNING : duplicate word '' in /Users/orprager/PycharmProjects/ml/samples/movies_reviews_sentiment_analysis/300features_40minwords_10context, ignoring all but first\n"
     ]
    },
    {
     "name": "stderr",
     "output_type": "stream",
     "text": [
      "2018-03-04 11:00:54,752 : WARNING : duplicate word '6' in /Users/orprager/PycharmProjects/ml/samples/movies_reviews_sentiment_analysis/300features_40minwords_10context, ignoring all but first\n"
     ]
    },
    {
     "name": "stderr",
     "output_type": "stream",
     "text": [
      "2018-03-04 11:00:54,754 : WARNING : duplicate word '13' in /Users/orprager/PycharmProjects/ml/samples/movies_reviews_sentiment_analysis/300features_40minwords_10context, ignoring all but first\n"
     ]
    },
    {
     "name": "stderr",
     "output_type": "stream",
     "text": [
      "2018-03-04 11:00:54,755 : WARNING : duplicate word '' in /Users/orprager/PycharmProjects/ml/samples/movies_reviews_sentiment_analysis/300features_40minwords_10context, ignoring all but first\n"
     ]
    },
    {
     "name": "stderr",
     "output_type": "stream",
     "text": [
      "2018-03-04 11:00:54,757 : WARNING : duplicate word '14' in /Users/orprager/PycharmProjects/ml/samples/movies_reviews_sentiment_analysis/300features_40minwords_10context, ignoring all but first\n"
     ]
    },
    {
     "name": "stderr",
     "output_type": "stream",
     "text": [
      "2018-03-04 11:00:54,760 : WARNING : duplicate word '' in /Users/orprager/PycharmProjects/ml/samples/movies_reviews_sentiment_analysis/300features_40minwords_10context, ignoring all but first\n"
     ]
    },
    {
     "name": "stderr",
     "output_type": "stream",
     "text": [
      "2018-03-04 11:00:54,763 : WARNING : duplicate word '' in /Users/orprager/PycharmProjects/ml/samples/movies_reviews_sentiment_analysis/300features_40minwords_10context, ignoring all but first\n"
     ]
    },
    {
     "name": "stderr",
     "output_type": "stream",
     "text": [
      "2018-03-04 11:00:54,767 : WARNING : duplicate word '16' in /Users/orprager/PycharmProjects/ml/samples/movies_reviews_sentiment_analysis/300features_40minwords_10context, ignoring all but first\n"
     ]
    },
    {
     "name": "stderr",
     "output_type": "stream",
     "text": [
      "2018-03-04 11:00:54,771 : WARNING : duplicate word '' in /Users/orprager/PycharmProjects/ml/samples/movies_reviews_sentiment_analysis/300features_40minwords_10context, ignoring all but first\n"
     ]
    },
    {
     "name": "stderr",
     "output_type": "stream",
     "text": [
      "2018-03-04 11:00:54,775 : WARNING : duplicate word '13' in /Users/orprager/PycharmProjects/ml/samples/movies_reviews_sentiment_analysis/300features_40minwords_10context, ignoring all but first\n"
     ]
    },
    {
     "name": "stderr",
     "output_type": "stream",
     "text": [
      "2018-03-04 11:00:54,777 : WARNING : duplicate word '2' in /Users/orprager/PycharmProjects/ml/samples/movies_reviews_sentiment_analysis/300features_40minwords_10context, ignoring all but first\n"
     ]
    },
    {
     "name": "stderr",
     "output_type": "stream",
     "text": [
      "2018-03-04 11:00:54,779 : WARNING : duplicate word '' in /Users/orprager/PycharmProjects/ml/samples/movies_reviews_sentiment_analysis/300features_40minwords_10context, ignoring all but first\n"
     ]
    },
    {
     "name": "stderr",
     "output_type": "stream",
     "text": [
      "2018-03-04 11:00:54,781 : WARNING : duplicate word '5' in /Users/orprager/PycharmProjects/ml/samples/movies_reviews_sentiment_analysis/300features_40minwords_10context, ignoring all but first\n"
     ]
    },
    {
     "name": "stderr",
     "output_type": "stream",
     "text": [
      "2018-03-04 11:00:54,783 : WARNING : duplicate word '4' in /Users/orprager/PycharmProjects/ml/samples/movies_reviews_sentiment_analysis/300features_40minwords_10context, ignoring all but first\n"
     ]
    },
    {
     "name": "stderr",
     "output_type": "stream",
     "text": [
      "2018-03-04 11:00:54,786 : WARNING : duplicate word '6' in /Users/orprager/PycharmProjects/ml/samples/movies_reviews_sentiment_analysis/300features_40minwords_10context, ignoring all but first\n"
     ]
    },
    {
     "name": "stderr",
     "output_type": "stream",
     "text": [
      "2018-03-04 11:00:54,789 : WARNING : duplicate word '' in /Users/orprager/PycharmProjects/ml/samples/movies_reviews_sentiment_analysis/300features_40minwords_10context, ignoring all but first\n"
     ]
    },
    {
     "name": "stderr",
     "output_type": "stream",
     "text": [
      "2018-03-04 11:00:54,791 : WARNING : duplicate word '2' in /Users/orprager/PycharmProjects/ml/samples/movies_reviews_sentiment_analysis/300features_40minwords_10context, ignoring all but first\n"
     ]
    },
    {
     "name": "stderr",
     "output_type": "stream",
     "text": [
      "2018-03-04 11:00:54,793 : WARNING : duplicate word '' in /Users/orprager/PycharmProjects/ml/samples/movies_reviews_sentiment_analysis/300features_40minwords_10context, ignoring all but first\n"
     ]
    },
    {
     "name": "stderr",
     "output_type": "stream",
     "text": [
      "2018-03-04 11:00:54,795 : WARNING : duplicate word '3' in /Users/orprager/PycharmProjects/ml/samples/movies_reviews_sentiment_analysis/300features_40minwords_10context, ignoring all but first\n"
     ]
    },
    {
     "name": "stderr",
     "output_type": "stream",
     "text": [
      "2018-03-04 11:00:54,796 : WARNING : duplicate word '' in /Users/orprager/PycharmProjects/ml/samples/movies_reviews_sentiment_analysis/300features_40minwords_10context, ignoring all but first\n"
     ]
    },
    {
     "name": "stderr",
     "output_type": "stream",
     "text": [
      "2018-03-04 11:00:54,799 : WARNING : duplicate word '37' in /Users/orprager/PycharmProjects/ml/samples/movies_reviews_sentiment_analysis/300features_40minwords_10context, ignoring all but first\n"
     ]
    },
    {
     "name": "stderr",
     "output_type": "stream",
     "text": [
      "2018-03-04 11:00:54,801 : WARNING : duplicate word '' in /Users/orprager/PycharmProjects/ml/samples/movies_reviews_sentiment_analysis/300features_40minwords_10context, ignoring all but first\n"
     ]
    },
    {
     "name": "stderr",
     "output_type": "stream",
     "text": [
      "2018-03-04 11:00:54,802 : WARNING : duplicate word '45' in /Users/orprager/PycharmProjects/ml/samples/movies_reviews_sentiment_analysis/300features_40minwords_10context, ignoring all but first\n"
     ]
    },
    {
     "name": "stderr",
     "output_type": "stream",
     "text": [
      "2018-03-04 11:00:54,804 : WARNING : duplicate word '6' in /Users/orprager/PycharmProjects/ml/samples/movies_reviews_sentiment_analysis/300features_40minwords_10context, ignoring all but first\n"
     ]
    },
    {
     "name": "stderr",
     "output_type": "stream",
     "text": [
      "2018-03-04 11:00:54,805 : WARNING : duplicate word '' in /Users/orprager/PycharmProjects/ml/samples/movies_reviews_sentiment_analysis/300features_40minwords_10context, ignoring all but first\n"
     ]
    },
    {
     "name": "stderr",
     "output_type": "stream",
     "text": [
      "2018-03-04 11:00:54,807 : WARNING : duplicate word '2' in /Users/orprager/PycharmProjects/ml/samples/movies_reviews_sentiment_analysis/300features_40minwords_10context, ignoring all but first\n"
     ]
    },
    {
     "name": "stderr",
     "output_type": "stream",
     "text": [
      "2018-03-04 11:00:54,810 : WARNING : duplicate word '4' in /Users/orprager/PycharmProjects/ml/samples/movies_reviews_sentiment_analysis/300features_40minwords_10context, ignoring all but first\n"
     ]
    },
    {
     "name": "stderr",
     "output_type": "stream",
     "text": [
      "2018-03-04 11:00:54,813 : WARNING : duplicate word '47' in /Users/orprager/PycharmProjects/ml/samples/movies_reviews_sentiment_analysis/300features_40minwords_10context, ignoring all but first\n"
     ]
    },
    {
     "name": "stderr",
     "output_type": "stream",
     "text": [
      "2018-03-04 11:00:54,815 : WARNING : duplicate word '' in /Users/orprager/PycharmProjects/ml/samples/movies_reviews_sentiment_analysis/300features_40minwords_10context, ignoring all but first\n"
     ]
    },
    {
     "name": "stderr",
     "output_type": "stream",
     "text": [
      "2018-03-04 11:00:54,816 : WARNING : duplicate word '822' in /Users/orprager/PycharmProjects/ml/samples/movies_reviews_sentiment_analysis/300features_40minwords_10context, ignoring all but first\n"
     ]
    },
    {
     "name": "stderr",
     "output_type": "stream",
     "text": [
      "2018-03-04 11:00:54,819 : WARNING : duplicate word '3' in /Users/orprager/PycharmProjects/ml/samples/movies_reviews_sentiment_analysis/300features_40minwords_10context, ignoring all but first\n"
     ]
    },
    {
     "name": "stderr",
     "output_type": "stream",
     "text": [
      "2018-03-04 11:00:54,820 : WARNING : duplicate word '5' in /Users/orprager/PycharmProjects/ml/samples/movies_reviews_sentiment_analysis/300features_40minwords_10context, ignoring all but first\n"
     ]
    },
    {
     "name": "stderr",
     "output_type": "stream",
     "text": [
      "2018-03-04 11:00:54,822 : WARNING : duplicate word '7' in /Users/orprager/PycharmProjects/ml/samples/movies_reviews_sentiment_analysis/300features_40minwords_10context, ignoring all but first\n"
     ]
    },
    {
     "name": "stderr",
     "output_type": "stream",
     "text": [
      "2018-03-04 11:00:54,824 : WARNING : duplicate word '' in /Users/orprager/PycharmProjects/ml/samples/movies_reviews_sentiment_analysis/300features_40minwords_10context, ignoring all but first\n"
     ]
    },
    {
     "name": "stderr",
     "output_type": "stream",
     "text": [
      "2018-03-04 11:00:54,827 : WARNING : duplicate word '79' in /Users/orprager/PycharmProjects/ml/samples/movies_reviews_sentiment_analysis/300features_40minwords_10context, ignoring all but first\n"
     ]
    },
    {
     "name": "stderr",
     "output_type": "stream",
     "text": [
      "2018-03-04 11:00:54,829 : WARNING : duplicate word '7' in /Users/orprager/PycharmProjects/ml/samples/movies_reviews_sentiment_analysis/300features_40minwords_10context, ignoring all but first\n"
     ]
    },
    {
     "name": "stderr",
     "output_type": "stream",
     "text": [
      "2018-03-04 11:00:54,831 : WARNING : duplicate word '' in /Users/orprager/PycharmProjects/ml/samples/movies_reviews_sentiment_analysis/300features_40minwords_10context, ignoring all but first\n"
     ]
    },
    {
     "name": "stderr",
     "output_type": "stream",
     "text": [
      "2018-03-04 11:00:54,832 : WARNING : duplicate word '' in /Users/orprager/PycharmProjects/ml/samples/movies_reviews_sentiment_analysis/300features_40minwords_10context, ignoring all but first\n"
     ]
    },
    {
     "name": "stderr",
     "output_type": "stream",
     "text": [
      "2018-03-04 11:00:54,839 : WARNING : duplicate word '' in /Users/orprager/PycharmProjects/ml/samples/movies_reviews_sentiment_analysis/300features_40minwords_10context, ignoring all but first\n"
     ]
    },
    {
     "name": "stderr",
     "output_type": "stream",
     "text": [
      "2018-03-04 11:00:54,841 : WARNING : duplicate word '12' in /Users/orprager/PycharmProjects/ml/samples/movies_reviews_sentiment_analysis/300features_40minwords_10context, ignoring all but first\n"
     ]
    },
    {
     "name": "stderr",
     "output_type": "stream",
     "text": [
      "2018-03-04 11:00:54,845 : WARNING : duplicate word '' in /Users/orprager/PycharmProjects/ml/samples/movies_reviews_sentiment_analysis/300features_40minwords_10context, ignoring all but first\n"
     ]
    },
    {
     "name": "stderr",
     "output_type": "stream",
     "text": [
      "2018-03-04 11:00:54,850 : WARNING : duplicate word '' in /Users/orprager/PycharmProjects/ml/samples/movies_reviews_sentiment_analysis/300features_40minwords_10context, ignoring all but first\n"
     ]
    },
    {
     "name": "stderr",
     "output_type": "stream",
     "text": [
      "2018-03-04 11:00:54,854 : WARNING : duplicate word '8' in /Users/orprager/PycharmProjects/ml/samples/movies_reviews_sentiment_analysis/300features_40minwords_10context, ignoring all but first\n"
     ]
    },
    {
     "name": "stderr",
     "output_type": "stream",
     "text": [
      "2018-03-04 11:00:54,857 : WARNING : duplicate word '77' in /Users/orprager/PycharmProjects/ml/samples/movies_reviews_sentiment_analysis/300features_40minwords_10context, ignoring all but first\n"
     ]
    },
    {
     "name": "stderr",
     "output_type": "stream",
     "text": [
      "2018-03-04 11:00:54,863 : WARNING : duplicate word '3' in /Users/orprager/PycharmProjects/ml/samples/movies_reviews_sentiment_analysis/300features_40minwords_10context, ignoring all but first\n"
     ]
    },
    {
     "name": "stderr",
     "output_type": "stream",
     "text": [
      "2018-03-04 11:00:54,867 : WARNING : duplicate word '5' in /Users/orprager/PycharmProjects/ml/samples/movies_reviews_sentiment_analysis/300features_40minwords_10context, ignoring all but first\n"
     ]
    },
    {
     "name": "stderr",
     "output_type": "stream",
     "text": [
      "2018-03-04 11:00:54,871 : WARNING : duplicate word '4' in /Users/orprager/PycharmProjects/ml/samples/movies_reviews_sentiment_analysis/300features_40minwords_10context, ignoring all but first\n"
     ]
    },
    {
     "name": "stderr",
     "output_type": "stream",
     "text": [
      "2018-03-04 11:00:54,874 : WARNING : duplicate word '14' in /Users/orprager/PycharmProjects/ml/samples/movies_reviews_sentiment_analysis/300features_40minwords_10context, ignoring all but first\n"
     ]
    },
    {
     "name": "stderr",
     "output_type": "stream",
     "text": [
      "2018-03-04 11:00:54,877 : WARNING : duplicate word '7' in /Users/orprager/PycharmProjects/ml/samples/movies_reviews_sentiment_analysis/300features_40minwords_10context, ignoring all but first\n"
     ]
    },
    {
     "name": "stderr",
     "output_type": "stream",
     "text": [
      "2018-03-04 11:00:54,884 : WARNING : duplicate word '01' in /Users/orprager/PycharmProjects/ml/samples/movies_reviews_sentiment_analysis/300features_40minwords_10context, ignoring all but first\n"
     ]
    },
    {
     "name": "stderr",
     "output_type": "stream",
     "text": [
      "2018-03-04 11:00:54,887 : WARNING : duplicate word '2' in /Users/orprager/PycharmProjects/ml/samples/movies_reviews_sentiment_analysis/300features_40minwords_10context, ignoring all but first\n"
     ]
    },
    {
     "name": "stderr",
     "output_type": "stream",
     "text": [
      "2018-03-04 11:00:54,889 : WARNING : duplicate word '7' in /Users/orprager/PycharmProjects/ml/samples/movies_reviews_sentiment_analysis/300features_40minwords_10context, ignoring all but first\n"
     ]
    },
    {
     "name": "stderr",
     "output_type": "stream",
     "text": [
      "2018-03-04 11:00:54,891 : WARNING : duplicate word '8' in /Users/orprager/PycharmProjects/ml/samples/movies_reviews_sentiment_analysis/300features_40minwords_10context, ignoring all but first\n"
     ]
    },
    {
     "name": "stderr",
     "output_type": "stream",
     "text": [
      "2018-03-04 11:00:54,894 : WARNING : duplicate word '04' in /Users/orprager/PycharmProjects/ml/samples/movies_reviews_sentiment_analysis/300features_40minwords_10context, ignoring all but first\n"
     ]
    },
    {
     "name": "stderr",
     "output_type": "stream",
     "text": [
      "2018-03-04 11:00:54,897 : WARNING : duplicate word '94' in /Users/orprager/PycharmProjects/ml/samples/movies_reviews_sentiment_analysis/300features_40minwords_10context, ignoring all but first\n"
     ]
    },
    {
     "name": "stderr",
     "output_type": "stream",
     "text": [
      "2018-03-04 11:00:54,901 : WARNING : duplicate word '' in /Users/orprager/PycharmProjects/ml/samples/movies_reviews_sentiment_analysis/300features_40minwords_10context, ignoring all but first\n"
     ]
    },
    {
     "name": "stderr",
     "output_type": "stream",
     "text": [
      "2018-03-04 11:00:54,905 : WARNING : duplicate word '46' in /Users/orprager/PycharmProjects/ml/samples/movies_reviews_sentiment_analysis/300features_40minwords_10context, ignoring all but first\n"
     ]
    },
    {
     "name": "stderr",
     "output_type": "stream",
     "text": [
      "2018-03-04 11:00:54,907 : WARNING : duplicate word '44' in /Users/orprager/PycharmProjects/ml/samples/movies_reviews_sentiment_analysis/300features_40minwords_10context, ignoring all but first\n"
     ]
    },
    {
     "name": "stderr",
     "output_type": "stream",
     "text": [
      "2018-03-04 11:00:54,909 : WARNING : duplicate word '66' in /Users/orprager/PycharmProjects/ml/samples/movies_reviews_sentiment_analysis/300features_40minwords_10context, ignoring all but first\n"
     ]
    },
    {
     "name": "stderr",
     "output_type": "stream",
     "text": [
      "2018-03-04 11:00:54,910 : WARNING : duplicate word '' in /Users/orprager/PycharmProjects/ml/samples/movies_reviews_sentiment_analysis/300features_40minwords_10context, ignoring all but first\n"
     ]
    },
    {
     "name": "stderr",
     "output_type": "stream",
     "text": [
      "2018-03-04 11:00:54,914 : WARNING : duplicate word '' in /Users/orprager/PycharmProjects/ml/samples/movies_reviews_sentiment_analysis/300features_40minwords_10context, ignoring all but first\n"
     ]
    },
    {
     "name": "stderr",
     "output_type": "stream",
     "text": [
      "2018-03-04 11:00:54,915 : WARNING : duplicate word '' in /Users/orprager/PycharmProjects/ml/samples/movies_reviews_sentiment_analysis/300features_40minwords_10context, ignoring all but first\n"
     ]
    },
    {
     "name": "stderr",
     "output_type": "stream",
     "text": [
      "2018-03-04 11:00:54,917 : WARNING : duplicate word '2' in /Users/orprager/PycharmProjects/ml/samples/movies_reviews_sentiment_analysis/300features_40minwords_10context, ignoring all but first\n"
     ]
    },
    {
     "name": "stderr",
     "output_type": "stream",
     "text": [
      "2018-03-04 11:00:54,919 : WARNING : duplicate word '326' in /Users/orprager/PycharmProjects/ml/samples/movies_reviews_sentiment_analysis/300features_40minwords_10context, ignoring all but first\n"
     ]
    },
    {
     "name": "stderr",
     "output_type": "stream",
     "text": [
      "2018-03-04 11:00:54,922 : WARNING : duplicate word '8' in /Users/orprager/PycharmProjects/ml/samples/movies_reviews_sentiment_analysis/300features_40minwords_10context, ignoring all but first\n"
     ]
    },
    {
     "name": "stderr",
     "output_type": "stream",
     "text": [
      "2018-03-04 11:00:54,925 : WARNING : duplicate word '4' in /Users/orprager/PycharmProjects/ml/samples/movies_reviews_sentiment_analysis/300features_40minwords_10context, ignoring all but first\n"
     ]
    },
    {
     "name": "stderr",
     "output_type": "stream",
     "text": [
      "2018-03-04 11:00:54,927 : WARNING : duplicate word '7' in /Users/orprager/PycharmProjects/ml/samples/movies_reviews_sentiment_analysis/300features_40minwords_10context, ignoring all but first\n"
     ]
    },
    {
     "name": "stderr",
     "output_type": "stream",
     "text": [
      "2018-03-04 11:00:54,929 : WARNING : duplicate word '' in /Users/orprager/PycharmProjects/ml/samples/movies_reviews_sentiment_analysis/300features_40minwords_10context, ignoring all but first\n"
     ]
    },
    {
     "name": "stderr",
     "output_type": "stream",
     "text": [
      "2018-03-04 11:00:54,930 : WARNING : duplicate word '6' in /Users/orprager/PycharmProjects/ml/samples/movies_reviews_sentiment_analysis/300features_40minwords_10context, ignoring all but first\n"
     ]
    },
    {
     "name": "stderr",
     "output_type": "stream",
     "text": [
      "2018-03-04 11:00:54,932 : WARNING : duplicate word '' in /Users/orprager/PycharmProjects/ml/samples/movies_reviews_sentiment_analysis/300features_40minwords_10context, ignoring all but first\n"
     ]
    },
    {
     "name": "stderr",
     "output_type": "stream",
     "text": [
      "2018-03-04 11:00:54,933 : WARNING : duplicate word '' in /Users/orprager/PycharmProjects/ml/samples/movies_reviews_sentiment_analysis/300features_40minwords_10context, ignoring all but first\n"
     ]
    },
    {
     "name": "stderr",
     "output_type": "stream",
     "text": [
      "2018-03-04 11:00:54,936 : WARNING : duplicate word '5' in /Users/orprager/PycharmProjects/ml/samples/movies_reviews_sentiment_analysis/300features_40minwords_10context, ignoring all but first\n"
     ]
    },
    {
     "name": "stderr",
     "output_type": "stream",
     "text": [
      "2018-03-04 11:00:54,940 : WARNING : duplicate word '57' in /Users/orprager/PycharmProjects/ml/samples/movies_reviews_sentiment_analysis/300features_40minwords_10context, ignoring all but first\n"
     ]
    },
    {
     "name": "stderr",
     "output_type": "stream",
     "text": [
      "2018-03-04 11:00:54,942 : WARNING : duplicate word '4' in /Users/orprager/PycharmProjects/ml/samples/movies_reviews_sentiment_analysis/300features_40minwords_10context, ignoring all but first\n"
     ]
    },
    {
     "name": "stderr",
     "output_type": "stream",
     "text": [
      "2018-03-04 11:00:54,944 : WARNING : duplicate word '14' in /Users/orprager/PycharmProjects/ml/samples/movies_reviews_sentiment_analysis/300features_40minwords_10context, ignoring all but first\n"
     ]
    },
    {
     "name": "stderr",
     "output_type": "stream",
     "text": [
      "2018-03-04 11:00:54,945 : WARNING : duplicate word '' in /Users/orprager/PycharmProjects/ml/samples/movies_reviews_sentiment_analysis/300features_40minwords_10context, ignoring all but first\n"
     ]
    },
    {
     "name": "stderr",
     "output_type": "stream",
     "text": [
      "2018-03-04 11:00:54,947 : WARNING : duplicate word '5' in /Users/orprager/PycharmProjects/ml/samples/movies_reviews_sentiment_analysis/300features_40minwords_10context, ignoring all but first\n"
     ]
    },
    {
     "name": "stderr",
     "output_type": "stream",
     "text": [
      "2018-03-04 11:00:54,951 : WARNING : duplicate word '8' in /Users/orprager/PycharmProjects/ml/samples/movies_reviews_sentiment_analysis/300features_40minwords_10context, ignoring all but first\n"
     ]
    },
    {
     "name": "stderr",
     "output_type": "stream",
     "text": [
      "2018-03-04 11:00:54,953 : WARNING : duplicate word '' in /Users/orprager/PycharmProjects/ml/samples/movies_reviews_sentiment_analysis/300features_40minwords_10context, ignoring all but first\n"
     ]
    },
    {
     "name": "stderr",
     "output_type": "stream",
     "text": [
      "2018-03-04 11:00:54,954 : WARNING : duplicate word '1' in /Users/orprager/PycharmProjects/ml/samples/movies_reviews_sentiment_analysis/300features_40minwords_10context, ignoring all but first\n"
     ]
    },
    {
     "name": "stderr",
     "output_type": "stream",
     "text": [
      "2018-03-04 11:00:54,955 : WARNING : duplicate word '83' in /Users/orprager/PycharmProjects/ml/samples/movies_reviews_sentiment_analysis/300features_40minwords_10context, ignoring all but first\n"
     ]
    },
    {
     "name": "stderr",
     "output_type": "stream",
     "text": [
      "2018-03-04 11:00:54,957 : WARNING : duplicate word '5' in /Users/orprager/PycharmProjects/ml/samples/movies_reviews_sentiment_analysis/300features_40minwords_10context, ignoring all but first\n"
     ]
    },
    {
     "name": "stderr",
     "output_type": "stream",
     "text": [
      "2018-03-04 11:00:54,961 : WARNING : duplicate word '8' in /Users/orprager/PycharmProjects/ml/samples/movies_reviews_sentiment_analysis/300features_40minwords_10context, ignoring all but first\n"
     ]
    },
    {
     "name": "stderr",
     "output_type": "stream",
     "text": [
      "2018-03-04 11:00:54,965 : WARNING : duplicate word '' in /Users/orprager/PycharmProjects/ml/samples/movies_reviews_sentiment_analysis/300features_40minwords_10context, ignoring all but first\n"
     ]
    },
    {
     "name": "stderr",
     "output_type": "stream",
     "text": [
      "2018-03-04 11:00:54,967 : WARNING : duplicate word '28' in /Users/orprager/PycharmProjects/ml/samples/movies_reviews_sentiment_analysis/300features_40minwords_10context, ignoring all but first\n"
     ]
    },
    {
     "name": "stderr",
     "output_type": "stream",
     "text": [
      "2018-03-04 11:00:54,968 : WARNING : duplicate word '8' in /Users/orprager/PycharmProjects/ml/samples/movies_reviews_sentiment_analysis/300features_40minwords_10context, ignoring all but first\n"
     ]
    },
    {
     "name": "stderr",
     "output_type": "stream",
     "text": [
      "2018-03-04 11:00:54,970 : WARNING : duplicate word '4' in /Users/orprager/PycharmProjects/ml/samples/movies_reviews_sentiment_analysis/300features_40minwords_10context, ignoring all but first\n"
     ]
    },
    {
     "name": "stderr",
     "output_type": "stream",
     "text": [
      "2018-03-04 11:00:54,972 : WARNING : duplicate word '294' in /Users/orprager/PycharmProjects/ml/samples/movies_reviews_sentiment_analysis/300features_40minwords_10context, ignoring all but first\n"
     ]
    },
    {
     "name": "stderr",
     "output_type": "stream",
     "text": [
      "2018-03-04 11:00:54,975 : WARNING : duplicate word '' in /Users/orprager/PycharmProjects/ml/samples/movies_reviews_sentiment_analysis/300features_40minwords_10context, ignoring all but first\n"
     ]
    },
    {
     "name": "stderr",
     "output_type": "stream",
     "text": [
      "2018-03-04 11:00:54,977 : WARNING : duplicate word '7' in /Users/orprager/PycharmProjects/ml/samples/movies_reviews_sentiment_analysis/300features_40minwords_10context, ignoring all but first\n"
     ]
    },
    {
     "name": "stderr",
     "output_type": "stream",
     "text": [
      "2018-03-04 11:00:54,978 : WARNING : duplicate word '' in /Users/orprager/PycharmProjects/ml/samples/movies_reviews_sentiment_analysis/300features_40minwords_10context, ignoring all but first\n"
     ]
    },
    {
     "name": "stderr",
     "output_type": "stream",
     "text": [
      "2018-03-04 11:00:54,984 : WARNING : duplicate word '47' in /Users/orprager/PycharmProjects/ml/samples/movies_reviews_sentiment_analysis/300features_40minwords_10context, ignoring all but first\n"
     ]
    },
    {
     "name": "stderr",
     "output_type": "stream",
     "text": [
      "2018-03-04 11:00:54,989 : WARNING : duplicate word '46' in /Users/orprager/PycharmProjects/ml/samples/movies_reviews_sentiment_analysis/300features_40minwords_10context, ignoring all but first\n"
     ]
    },
    {
     "name": "stderr",
     "output_type": "stream",
     "text": [
      "2018-03-04 11:00:54,992 : WARNING : duplicate word '584' in /Users/orprager/PycharmProjects/ml/samples/movies_reviews_sentiment_analysis/300features_40minwords_10context, ignoring all but first\n"
     ]
    },
    {
     "name": "stderr",
     "output_type": "stream",
     "text": [
      "2018-03-04 11:00:54,994 : WARNING : duplicate word '' in /Users/orprager/PycharmProjects/ml/samples/movies_reviews_sentiment_analysis/300features_40minwords_10context, ignoring all but first\n"
     ]
    },
    {
     "name": "stderr",
     "output_type": "stream",
     "text": [
      "2018-03-04 11:00:54,996 : WARNING : duplicate word '7' in /Users/orprager/PycharmProjects/ml/samples/movies_reviews_sentiment_analysis/300features_40minwords_10context, ignoring all but first\n"
     ]
    },
    {
     "name": "stderr",
     "output_type": "stream",
     "text": [
      "2018-03-04 11:00:54,999 : WARNING : duplicate word '' in /Users/orprager/PycharmProjects/ml/samples/movies_reviews_sentiment_analysis/300features_40minwords_10context, ignoring all but first\n"
     ]
    },
    {
     "name": "stderr",
     "output_type": "stream",
     "text": [
      "2018-03-04 11:00:55,001 : WARNING : duplicate word '6' in /Users/orprager/PycharmProjects/ml/samples/movies_reviews_sentiment_analysis/300features_40minwords_10context, ignoring all but first\n"
     ]
    },
    {
     "name": "stderr",
     "output_type": "stream",
     "text": [
      "2018-03-04 11:00:55,003 : WARNING : duplicate word '13' in /Users/orprager/PycharmProjects/ml/samples/movies_reviews_sentiment_analysis/300features_40minwords_10context, ignoring all but first\n"
     ]
    },
    {
     "name": "stderr",
     "output_type": "stream",
     "text": [
      "2018-03-04 11:00:55,008 : WARNING : duplicate word '425' in /Users/orprager/PycharmProjects/ml/samples/movies_reviews_sentiment_analysis/300features_40minwords_10context, ignoring all but first\n"
     ]
    },
    {
     "name": "stderr",
     "output_type": "stream",
     "text": [
      "2018-03-04 11:00:55,018 : WARNING : duplicate word '7' in /Users/orprager/PycharmProjects/ml/samples/movies_reviews_sentiment_analysis/300features_40minwords_10context, ignoring all but first\n"
     ]
    },
    {
     "name": "stderr",
     "output_type": "stream",
     "text": [
      "2018-03-04 11:00:55,024 : WARNING : duplicate word '5' in /Users/orprager/PycharmProjects/ml/samples/movies_reviews_sentiment_analysis/300features_40minwords_10context, ignoring all but first\n"
     ]
    },
    {
     "name": "stderr",
     "output_type": "stream",
     "text": [
      "2018-03-04 11:00:55,032 : WARNING : duplicate word '1' in /Users/orprager/PycharmProjects/ml/samples/movies_reviews_sentiment_analysis/300features_40minwords_10context, ignoring all but first\n"
     ]
    },
    {
     "name": "stderr",
     "output_type": "stream",
     "text": [
      "2018-03-04 11:00:55,038 : WARNING : duplicate word '' in /Users/orprager/PycharmProjects/ml/samples/movies_reviews_sentiment_analysis/300features_40minwords_10context, ignoring all but first\n"
     ]
    },
    {
     "name": "stderr",
     "output_type": "stream",
     "text": [
      "2018-03-04 11:00:55,040 : WARNING : duplicate word '7' in /Users/orprager/PycharmProjects/ml/samples/movies_reviews_sentiment_analysis/300features_40minwords_10context, ignoring all but first\n"
     ]
    },
    {
     "name": "stderr",
     "output_type": "stream",
     "text": [
      "2018-03-04 11:00:55,041 : WARNING : duplicate word '5' in /Users/orprager/PycharmProjects/ml/samples/movies_reviews_sentiment_analysis/300features_40minwords_10context, ignoring all but first\n"
     ]
    },
    {
     "name": "stderr",
     "output_type": "stream",
     "text": [
      "2018-03-04 11:00:55,043 : WARNING : duplicate word '' in /Users/orprager/PycharmProjects/ml/samples/movies_reviews_sentiment_analysis/300features_40minwords_10context, ignoring all but first\n"
     ]
    },
    {
     "name": "stderr",
     "output_type": "stream",
     "text": [
      "2018-03-04 11:00:55,044 : WARNING : duplicate word '4' in /Users/orprager/PycharmProjects/ml/samples/movies_reviews_sentiment_analysis/300features_40minwords_10context, ignoring all but first\n"
     ]
    },
    {
     "name": "stderr",
     "output_type": "stream",
     "text": [
      "2018-03-04 11:00:55,046 : WARNING : duplicate word '6' in /Users/orprager/PycharmProjects/ml/samples/movies_reviews_sentiment_analysis/300features_40minwords_10context, ignoring all but first\n"
     ]
    },
    {
     "name": "stderr",
     "output_type": "stream",
     "text": [
      "2018-03-04 11:00:55,048 : WARNING : duplicate word '' in /Users/orprager/PycharmProjects/ml/samples/movies_reviews_sentiment_analysis/300features_40minwords_10context, ignoring all but first\n"
     ]
    },
    {
     "name": "stderr",
     "output_type": "stream",
     "text": [
      "2018-03-04 11:00:55,049 : WARNING : duplicate word '05' in /Users/orprager/PycharmProjects/ml/samples/movies_reviews_sentiment_analysis/300features_40minwords_10context, ignoring all but first\n"
     ]
    },
    {
     "name": "stderr",
     "output_type": "stream",
     "text": [
      "2018-03-04 11:00:55,055 : WARNING : duplicate word '' in /Users/orprager/PycharmProjects/ml/samples/movies_reviews_sentiment_analysis/300features_40minwords_10context, ignoring all but first\n"
     ]
    },
    {
     "name": "stderr",
     "output_type": "stream",
     "text": [
      "2018-03-04 11:00:55,057 : WARNING : duplicate word '7' in /Users/orprager/PycharmProjects/ml/samples/movies_reviews_sentiment_analysis/300features_40minwords_10context, ignoring all but first\n"
     ]
    },
    {
     "name": "stderr",
     "output_type": "stream",
     "text": [
      "2018-03-04 11:00:55,059 : WARNING : duplicate word '4' in /Users/orprager/PycharmProjects/ml/samples/movies_reviews_sentiment_analysis/300features_40minwords_10context, ignoring all but first\n"
     ]
    },
    {
     "name": "stderr",
     "output_type": "stream",
     "text": [
      "2018-03-04 11:00:55,064 : WARNING : duplicate word '93' in /Users/orprager/PycharmProjects/ml/samples/movies_reviews_sentiment_analysis/300features_40minwords_10context, ignoring all but first\n"
     ]
    },
    {
     "name": "stderr",
     "output_type": "stream",
     "text": [
      "2018-03-04 11:00:55,068 : WARNING : duplicate word '6' in /Users/orprager/PycharmProjects/ml/samples/movies_reviews_sentiment_analysis/300features_40minwords_10context, ignoring all but first\n"
     ]
    },
    {
     "name": "stderr",
     "output_type": "stream",
     "text": [
      "2018-03-04 11:00:55,070 : WARNING : duplicate word '' in /Users/orprager/PycharmProjects/ml/samples/movies_reviews_sentiment_analysis/300features_40minwords_10context, ignoring all but first\n"
     ]
    },
    {
     "name": "stderr",
     "output_type": "stream",
     "text": [
      "2018-03-04 11:00:55,072 : WARNING : duplicate word '64' in /Users/orprager/PycharmProjects/ml/samples/movies_reviews_sentiment_analysis/300features_40minwords_10context, ignoring all but first\n"
     ]
    },
    {
     "name": "stderr",
     "output_type": "stream",
     "text": [
      "2018-03-04 11:00:55,073 : WARNING : duplicate word '6' in /Users/orprager/PycharmProjects/ml/samples/movies_reviews_sentiment_analysis/300features_40minwords_10context, ignoring all but first\n"
     ]
    },
    {
     "name": "stderr",
     "output_type": "stream",
     "text": [
      "2018-03-04 11:00:55,075 : WARNING : duplicate word '' in /Users/orprager/PycharmProjects/ml/samples/movies_reviews_sentiment_analysis/300features_40minwords_10context, ignoring all but first\n"
     ]
    },
    {
     "name": "stderr",
     "output_type": "stream",
     "text": [
      "2018-03-04 11:00:55,076 : WARNING : duplicate word '7' in /Users/orprager/PycharmProjects/ml/samples/movies_reviews_sentiment_analysis/300features_40minwords_10context, ignoring all but first\n"
     ]
    },
    {
     "name": "stderr",
     "output_type": "stream",
     "text": [
      "2018-03-04 11:00:55,079 : WARNING : duplicate word '' in /Users/orprager/PycharmProjects/ml/samples/movies_reviews_sentiment_analysis/300features_40minwords_10context, ignoring all but first\n"
     ]
    },
    {
     "name": "stderr",
     "output_type": "stream",
     "text": [
      "2018-03-04 11:00:55,084 : WARNING : duplicate word '83' in /Users/orprager/PycharmProjects/ml/samples/movies_reviews_sentiment_analysis/300features_40minwords_10context, ignoring all but first\n"
     ]
    },
    {
     "name": "stderr",
     "output_type": "stream",
     "text": [
      "2018-03-04 11:00:55,086 : WARNING : duplicate word '' in /Users/orprager/PycharmProjects/ml/samples/movies_reviews_sentiment_analysis/300features_40minwords_10context, ignoring all but first\n"
     ]
    },
    {
     "name": "stderr",
     "output_type": "stream",
     "text": [
      "2018-03-04 11:00:55,088 : WARNING : duplicate word '66' in /Users/orprager/PycharmProjects/ml/samples/movies_reviews_sentiment_analysis/300features_40minwords_10context, ignoring all but first\n"
     ]
    },
    {
     "name": "stderr",
     "output_type": "stream",
     "text": [
      "2018-03-04 11:00:55,089 : WARNING : duplicate word '9' in /Users/orprager/PycharmProjects/ml/samples/movies_reviews_sentiment_analysis/300features_40minwords_10context, ignoring all but first\n"
     ]
    },
    {
     "name": "stderr",
     "output_type": "stream",
     "text": [
      "2018-03-04 11:00:55,091 : WARNING : duplicate word '27' in /Users/orprager/PycharmProjects/ml/samples/movies_reviews_sentiment_analysis/300features_40minwords_10context, ignoring all but first\n"
     ]
    },
    {
     "name": "stderr",
     "output_type": "stream",
     "text": [
      "2018-03-04 11:00:55,092 : WARNING : duplicate word '3' in /Users/orprager/PycharmProjects/ml/samples/movies_reviews_sentiment_analysis/300features_40minwords_10context, ignoring all but first\n"
     ]
    },
    {
     "name": "stderr",
     "output_type": "stream",
     "text": [
      "2018-03-04 11:00:55,094 : WARNING : duplicate word '2' in /Users/orprager/PycharmProjects/ml/samples/movies_reviews_sentiment_analysis/300features_40minwords_10context, ignoring all but first\n"
     ]
    },
    {
     "name": "stderr",
     "output_type": "stream",
     "text": [
      "2018-03-04 11:00:55,104 : WARNING : duplicate word '01' in /Users/orprager/PycharmProjects/ml/samples/movies_reviews_sentiment_analysis/300features_40minwords_10context, ignoring all but first\n"
     ]
    },
    {
     "name": "stderr",
     "output_type": "stream",
     "text": [
      "2018-03-04 11:00:55,106 : WARNING : duplicate word '9' in /Users/orprager/PycharmProjects/ml/samples/movies_reviews_sentiment_analysis/300features_40minwords_10context, ignoring all but first\n"
     ]
    },
    {
     "name": "stderr",
     "output_type": "stream",
     "text": [
      "2018-03-04 11:00:55,111 : WARNING : duplicate word '2' in /Users/orprager/PycharmProjects/ml/samples/movies_reviews_sentiment_analysis/300features_40minwords_10context, ignoring all but first\n"
     ]
    },
    {
     "name": "stderr",
     "output_type": "stream",
     "text": [
      "2018-03-04 11:00:55,112 : WARNING : duplicate word '1' in /Users/orprager/PycharmProjects/ml/samples/movies_reviews_sentiment_analysis/300features_40minwords_10context, ignoring all but first\n"
     ]
    },
    {
     "name": "stderr",
     "output_type": "stream",
     "text": [
      "2018-03-04 11:00:55,114 : WARNING : duplicate word '36' in /Users/orprager/PycharmProjects/ml/samples/movies_reviews_sentiment_analysis/300features_40minwords_10context, ignoring all but first\n"
     ]
    },
    {
     "name": "stderr",
     "output_type": "stream",
     "text": [
      "2018-03-04 11:00:55,116 : WARNING : duplicate word '' in /Users/orprager/PycharmProjects/ml/samples/movies_reviews_sentiment_analysis/300features_40minwords_10context, ignoring all but first\n"
     ]
    },
    {
     "name": "stderr",
     "output_type": "stream",
     "text": [
      "2018-03-04 11:00:55,121 : WARNING : duplicate word '6' in /Users/orprager/PycharmProjects/ml/samples/movies_reviews_sentiment_analysis/300features_40minwords_10context, ignoring all but first\n"
     ]
    },
    {
     "name": "stderr",
     "output_type": "stream",
     "text": [
      "2018-03-04 11:00:55,123 : WARNING : duplicate word '' in /Users/orprager/PycharmProjects/ml/samples/movies_reviews_sentiment_analysis/300features_40minwords_10context, ignoring all but first\n"
     ]
    },
    {
     "name": "stderr",
     "output_type": "stream",
     "text": [
      "2018-03-04 11:00:55,124 : WARNING : duplicate word '5' in /Users/orprager/PycharmProjects/ml/samples/movies_reviews_sentiment_analysis/300features_40minwords_10context, ignoring all but first\n"
     ]
    },
    {
     "name": "stderr",
     "output_type": "stream",
     "text": [
      "2018-03-04 11:00:55,127 : WARNING : duplicate word '55' in /Users/orprager/PycharmProjects/ml/samples/movies_reviews_sentiment_analysis/300features_40minwords_10context, ignoring all but first\n"
     ]
    },
    {
     "name": "stderr",
     "output_type": "stream",
     "text": [
      "2018-03-04 11:00:55,128 : WARNING : duplicate word '2' in /Users/orprager/PycharmProjects/ml/samples/movies_reviews_sentiment_analysis/300features_40minwords_10context, ignoring all but first\n"
     ]
    },
    {
     "name": "stderr",
     "output_type": "stream",
     "text": [
      "2018-03-04 11:00:55,130 : WARNING : duplicate word '' in /Users/orprager/PycharmProjects/ml/samples/movies_reviews_sentiment_analysis/300features_40minwords_10context, ignoring all but first\n"
     ]
    },
    {
     "name": "stderr",
     "output_type": "stream",
     "text": [
      "2018-03-04 11:00:55,131 : WARNING : duplicate word '' in /Users/orprager/PycharmProjects/ml/samples/movies_reviews_sentiment_analysis/300features_40minwords_10context, ignoring all but first\n"
     ]
    },
    {
     "name": "stderr",
     "output_type": "stream",
     "text": [
      "2018-03-04 11:00:55,133 : WARNING : duplicate word '6' in /Users/orprager/PycharmProjects/ml/samples/movies_reviews_sentiment_analysis/300features_40minwords_10context, ignoring all but first\n"
     ]
    },
    {
     "name": "stderr",
     "output_type": "stream",
     "text": [
      "2018-03-04 11:00:55,134 : WARNING : duplicate word '25' in /Users/orprager/PycharmProjects/ml/samples/movies_reviews_sentiment_analysis/300features_40minwords_10context, ignoring all but first\n"
     ]
    },
    {
     "name": "stderr",
     "output_type": "stream",
     "text": [
      "2018-03-04 11:00:55,136 : WARNING : duplicate word '66' in /Users/orprager/PycharmProjects/ml/samples/movies_reviews_sentiment_analysis/300features_40minwords_10context, ignoring all but first\n"
     ]
    },
    {
     "name": "stderr",
     "output_type": "stream",
     "text": [
      "2018-03-04 11:00:55,141 : WARNING : duplicate word '65' in /Users/orprager/PycharmProjects/ml/samples/movies_reviews_sentiment_analysis/300features_40minwords_10context, ignoring all but first\n"
     ]
    },
    {
     "name": "stderr",
     "output_type": "stream",
     "text": [
      "2018-03-04 11:00:55,142 : WARNING : duplicate word '9' in /Users/orprager/PycharmProjects/ml/samples/movies_reviews_sentiment_analysis/300features_40minwords_10context, ignoring all but first\n"
     ]
    },
    {
     "name": "stderr",
     "output_type": "stream",
     "text": [
      "2018-03-04 11:00:55,144 : WARNING : duplicate word '' in /Users/orprager/PycharmProjects/ml/samples/movies_reviews_sentiment_analysis/300features_40minwords_10context, ignoring all but first\n"
     ]
    },
    {
     "name": "stderr",
     "output_type": "stream",
     "text": [
      "2018-03-04 11:00:55,146 : WARNING : duplicate word '' in /Users/orprager/PycharmProjects/ml/samples/movies_reviews_sentiment_analysis/300features_40minwords_10context, ignoring all but first\n"
     ]
    },
    {
     "name": "stderr",
     "output_type": "stream",
     "text": [
      "2018-03-04 11:00:55,147 : WARNING : duplicate word '36' in /Users/orprager/PycharmProjects/ml/samples/movies_reviews_sentiment_analysis/300features_40minwords_10context, ignoring all but first\n"
     ]
    },
    {
     "name": "stderr",
     "output_type": "stream",
     "text": [
      "2018-03-04 11:00:55,150 : WARNING : duplicate word '61' in /Users/orprager/PycharmProjects/ml/samples/movies_reviews_sentiment_analysis/300features_40minwords_10context, ignoring all but first\n"
     ]
    },
    {
     "name": "stderr",
     "output_type": "stream",
     "text": [
      "2018-03-04 11:00:55,155 : WARNING : duplicate word '425' in /Users/orprager/PycharmProjects/ml/samples/movies_reviews_sentiment_analysis/300features_40minwords_10context, ignoring all but first\n"
     ]
    },
    {
     "name": "stderr",
     "output_type": "stream",
     "text": [
      "2018-03-04 11:00:55,156 : WARNING : duplicate word '5' in /Users/orprager/PycharmProjects/ml/samples/movies_reviews_sentiment_analysis/300features_40minwords_10context, ignoring all but first\n"
     ]
    },
    {
     "name": "stderr",
     "output_type": "stream",
     "text": [
      "2018-03-04 11:00:55,158 : WARNING : duplicate word '8' in /Users/orprager/PycharmProjects/ml/samples/movies_reviews_sentiment_analysis/300features_40minwords_10context, ignoring all but first\n"
     ]
    },
    {
     "name": "stderr",
     "output_type": "stream",
     "text": [
      "2018-03-04 11:00:55,159 : WARNING : duplicate word '765' in /Users/orprager/PycharmProjects/ml/samples/movies_reviews_sentiment_analysis/300features_40minwords_10context, ignoring all but first\n"
     ]
    },
    {
     "name": "stderr",
     "output_type": "stream",
     "text": [
      "2018-03-04 11:00:55,161 : WARNING : duplicate word '' in /Users/orprager/PycharmProjects/ml/samples/movies_reviews_sentiment_analysis/300features_40minwords_10context, ignoring all but first\n"
     ]
    },
    {
     "name": "stderr",
     "output_type": "stream",
     "text": [
      "2018-03-04 11:00:55,163 : WARNING : duplicate word '57' in /Users/orprager/PycharmProjects/ml/samples/movies_reviews_sentiment_analysis/300features_40minwords_10context, ignoring all but first\n"
     ]
    },
    {
     "name": "stderr",
     "output_type": "stream",
     "text": [
      "2018-03-04 11:00:55,165 : WARNING : duplicate word '5' in /Users/orprager/PycharmProjects/ml/samples/movies_reviews_sentiment_analysis/300features_40minwords_10context, ignoring all but first\n"
     ]
    },
    {
     "name": "stderr",
     "output_type": "stream",
     "text": [
      "2018-03-04 11:00:55,167 : WARNING : duplicate word '' in /Users/orprager/PycharmProjects/ml/samples/movies_reviews_sentiment_analysis/300features_40minwords_10context, ignoring all but first\n"
     ]
    },
    {
     "name": "stderr",
     "output_type": "stream",
     "text": [
      "2018-03-04 11:00:55,168 : WARNING : duplicate word '' in /Users/orprager/PycharmProjects/ml/samples/movies_reviews_sentiment_analysis/300features_40minwords_10context, ignoring all but first\n"
     ]
    },
    {
     "name": "stderr",
     "output_type": "stream",
     "text": [
      "2018-03-04 11:00:55,169 : WARNING : duplicate word '5' in /Users/orprager/PycharmProjects/ml/samples/movies_reviews_sentiment_analysis/300features_40minwords_10context, ignoring all but first\n"
     ]
    },
    {
     "name": "stderr",
     "output_type": "stream",
     "text": [
      "2018-03-04 11:00:55,171 : WARNING : duplicate word '' in /Users/orprager/PycharmProjects/ml/samples/movies_reviews_sentiment_analysis/300features_40minwords_10context, ignoring all but first\n"
     ]
    },
    {
     "name": "stderr",
     "output_type": "stream",
     "text": [
      "2018-03-04 11:00:55,173 : WARNING : duplicate word '4' in /Users/orprager/PycharmProjects/ml/samples/movies_reviews_sentiment_analysis/300features_40minwords_10context, ignoring all but first\n"
     ]
    },
    {
     "name": "stderr",
     "output_type": "stream",
     "text": [
      "2018-03-04 11:00:55,175 : WARNING : duplicate word '94' in /Users/orprager/PycharmProjects/ml/samples/movies_reviews_sentiment_analysis/300features_40minwords_10context, ignoring all but first\n"
     ]
    },
    {
     "name": "stderr",
     "output_type": "stream",
     "text": [
      "2018-03-04 11:00:55,179 : WARNING : duplicate word '11' in /Users/orprager/PycharmProjects/ml/samples/movies_reviews_sentiment_analysis/300features_40minwords_10context, ignoring all but first\n"
     ]
    },
    {
     "name": "stderr",
     "output_type": "stream",
     "text": [
      "2018-03-04 11:00:55,181 : WARNING : duplicate word '' in /Users/orprager/PycharmProjects/ml/samples/movies_reviews_sentiment_analysis/300features_40minwords_10context, ignoring all but first\n"
     ]
    },
    {
     "name": "stderr",
     "output_type": "stream",
     "text": [
      "2018-03-04 11:00:55,182 : WARNING : duplicate word '' in /Users/orprager/PycharmProjects/ml/samples/movies_reviews_sentiment_analysis/300features_40minwords_10context, ignoring all but first\n"
     ]
    },
    {
     "name": "stderr",
     "output_type": "stream",
     "text": [
      "2018-03-04 11:00:55,184 : WARNING : duplicate word '' in /Users/orprager/PycharmProjects/ml/samples/movies_reviews_sentiment_analysis/300features_40minwords_10context, ignoring all but first\n"
     ]
    },
    {
     "name": "stderr",
     "output_type": "stream",
     "text": [
      "2018-03-04 11:00:55,185 : WARNING : duplicate word '4' in /Users/orprager/PycharmProjects/ml/samples/movies_reviews_sentiment_analysis/300features_40minwords_10context, ignoring all but first\n"
     ]
    },
    {
     "name": "stderr",
     "output_type": "stream",
     "text": [
      "2018-03-04 11:00:55,187 : WARNING : duplicate word '3' in /Users/orprager/PycharmProjects/ml/samples/movies_reviews_sentiment_analysis/300features_40minwords_10context, ignoring all but first\n"
     ]
    },
    {
     "name": "stderr",
     "output_type": "stream",
     "text": [
      "2018-03-04 11:00:55,188 : WARNING : duplicate word '' in /Users/orprager/PycharmProjects/ml/samples/movies_reviews_sentiment_analysis/300features_40minwords_10context, ignoring all but first\n"
     ]
    },
    {
     "name": "stderr",
     "output_type": "stream",
     "text": [
      "2018-03-04 11:00:55,191 : WARNING : duplicate word '' in /Users/orprager/PycharmProjects/ml/samples/movies_reviews_sentiment_analysis/300features_40minwords_10context, ignoring all but first\n"
     ]
    },
    {
     "name": "stderr",
     "output_type": "stream",
     "text": [
      "2018-03-04 11:00:55,193 : WARNING : duplicate word '6' in /Users/orprager/PycharmProjects/ml/samples/movies_reviews_sentiment_analysis/300features_40minwords_10context, ignoring all but first\n"
     ]
    },
    {
     "name": "stderr",
     "output_type": "stream",
     "text": [
      "2018-03-04 11:00:55,194 : WARNING : duplicate word '' in /Users/orprager/PycharmProjects/ml/samples/movies_reviews_sentiment_analysis/300features_40minwords_10context, ignoring all but first\n"
     ]
    },
    {
     "name": "stderr",
     "output_type": "stream",
     "text": [
      "2018-03-04 11:00:55,196 : WARNING : duplicate word '' in /Users/orprager/PycharmProjects/ml/samples/movies_reviews_sentiment_analysis/300features_40minwords_10context, ignoring all but first\n"
     ]
    },
    {
     "name": "stderr",
     "output_type": "stream",
     "text": [
      "2018-03-04 11:00:55,199 : WARNING : duplicate word '4' in /Users/orprager/PycharmProjects/ml/samples/movies_reviews_sentiment_analysis/300features_40minwords_10context, ignoring all but first\n"
     ]
    },
    {
     "name": "stderr",
     "output_type": "stream",
     "text": [
      "2018-03-04 11:00:55,201 : WARNING : duplicate word '34' in /Users/orprager/PycharmProjects/ml/samples/movies_reviews_sentiment_analysis/300features_40minwords_10context, ignoring all but first\n"
     ]
    },
    {
     "name": "stderr",
     "output_type": "stream",
     "text": [
      "2018-03-04 11:00:55,204 : WARNING : duplicate word '' in /Users/orprager/PycharmProjects/ml/samples/movies_reviews_sentiment_analysis/300features_40minwords_10context, ignoring all but first\n"
     ]
    },
    {
     "name": "stderr",
     "output_type": "stream",
     "text": [
      "2018-03-04 11:00:55,206 : WARNING : duplicate word '' in /Users/orprager/PycharmProjects/ml/samples/movies_reviews_sentiment_analysis/300features_40minwords_10context, ignoring all but first\n"
     ]
    },
    {
     "name": "stderr",
     "output_type": "stream",
     "text": [
      "2018-03-04 11:00:55,207 : WARNING : duplicate word '4' in /Users/orprager/PycharmProjects/ml/samples/movies_reviews_sentiment_analysis/300features_40minwords_10context, ignoring all but first\n"
     ]
    },
    {
     "name": "stderr",
     "output_type": "stream",
     "text": [
      "2018-03-04 11:00:55,209 : WARNING : duplicate word '' in /Users/orprager/PycharmProjects/ml/samples/movies_reviews_sentiment_analysis/300features_40minwords_10context, ignoring all but first\n"
     ]
    },
    {
     "name": "stderr",
     "output_type": "stream",
     "text": [
      "2018-03-04 11:00:55,210 : WARNING : duplicate word '' in /Users/orprager/PycharmProjects/ml/samples/movies_reviews_sentiment_analysis/300features_40minwords_10context, ignoring all but first\n"
     ]
    },
    {
     "name": "stderr",
     "output_type": "stream",
     "text": [
      "2018-03-04 11:00:55,212 : WARNING : duplicate word '8' in /Users/orprager/PycharmProjects/ml/samples/movies_reviews_sentiment_analysis/300features_40minwords_10context, ignoring all but first\n"
     ]
    },
    {
     "name": "stderr",
     "output_type": "stream",
     "text": [
      "2018-03-04 11:00:55,214 : WARNING : duplicate word '' in /Users/orprager/PycharmProjects/ml/samples/movies_reviews_sentiment_analysis/300features_40minwords_10context, ignoring all but first\n"
     ]
    },
    {
     "name": "stderr",
     "output_type": "stream",
     "text": [
      "2018-03-04 11:00:55,216 : WARNING : duplicate word '' in /Users/orprager/PycharmProjects/ml/samples/movies_reviews_sentiment_analysis/300features_40minwords_10context, ignoring all but first\n"
     ]
    },
    {
     "name": "stderr",
     "output_type": "stream",
     "text": [
      "2018-03-04 11:00:55,218 : WARNING : duplicate word '' in /Users/orprager/PycharmProjects/ml/samples/movies_reviews_sentiment_analysis/300features_40minwords_10context, ignoring all but first\n"
     ]
    },
    {
     "name": "stderr",
     "output_type": "stream",
     "text": [
      "2018-03-04 11:00:55,219 : WARNING : duplicate word '' in /Users/orprager/PycharmProjects/ml/samples/movies_reviews_sentiment_analysis/300features_40minwords_10context, ignoring all but first\n"
     ]
    },
    {
     "name": "stderr",
     "output_type": "stream",
     "text": [
      "2018-03-04 11:00:55,222 : WARNING : duplicate word '' in /Users/orprager/PycharmProjects/ml/samples/movies_reviews_sentiment_analysis/300features_40minwords_10context, ignoring all but first\n"
     ]
    },
    {
     "name": "stderr",
     "output_type": "stream",
     "text": [
      "2018-03-04 11:00:55,227 : WARNING : duplicate word '6' in /Users/orprager/PycharmProjects/ml/samples/movies_reviews_sentiment_analysis/300features_40minwords_10context, ignoring all but first\n"
     ]
    },
    {
     "name": "stderr",
     "output_type": "stream",
     "text": [
      "2018-03-04 11:00:55,230 : WARNING : duplicate word '' in /Users/orprager/PycharmProjects/ml/samples/movies_reviews_sentiment_analysis/300features_40minwords_10context, ignoring all but first\n"
     ]
    },
    {
     "name": "stderr",
     "output_type": "stream",
     "text": [
      "2018-03-04 11:00:55,232 : WARNING : duplicate word '4' in /Users/orprager/PycharmProjects/ml/samples/movies_reviews_sentiment_analysis/300features_40minwords_10context, ignoring all but first\n"
     ]
    },
    {
     "name": "stderr",
     "output_type": "stream",
     "text": [
      "2018-03-04 11:00:55,235 : WARNING : duplicate word '' in /Users/orprager/PycharmProjects/ml/samples/movies_reviews_sentiment_analysis/300features_40minwords_10context, ignoring all but first\n"
     ]
    },
    {
     "name": "stderr",
     "output_type": "stream",
     "text": [
      "2018-03-04 11:00:55,237 : WARNING : duplicate word '57' in /Users/orprager/PycharmProjects/ml/samples/movies_reviews_sentiment_analysis/300features_40minwords_10context, ignoring all but first\n"
     ]
    },
    {
     "name": "stderr",
     "output_type": "stream",
     "text": [
      "2018-03-04 11:00:55,239 : WARNING : duplicate word '005' in /Users/orprager/PycharmProjects/ml/samples/movies_reviews_sentiment_analysis/300features_40minwords_10context, ignoring all but first\n"
     ]
    },
    {
     "name": "stderr",
     "output_type": "stream",
     "text": [
      "2018-03-04 11:00:55,244 : WARNING : duplicate word '0075' in /Users/orprager/PycharmProjects/ml/samples/movies_reviews_sentiment_analysis/300features_40minwords_10context, ignoring all but first\n"
     ]
    },
    {
     "name": "stderr",
     "output_type": "stream",
     "text": [
      "2018-03-04 11:00:55,245 : WARNING : duplicate word '5' in /Users/orprager/PycharmProjects/ml/samples/movies_reviews_sentiment_analysis/300features_40minwords_10context, ignoring all but first\n"
     ]
    },
    {
     "name": "stderr",
     "output_type": "stream",
     "text": [
      "2018-03-04 11:00:55,248 : WARNING : duplicate word '' in /Users/orprager/PycharmProjects/ml/samples/movies_reviews_sentiment_analysis/300features_40minwords_10context, ignoring all but first\n"
     ]
    },
    {
     "name": "stderr",
     "output_type": "stream",
     "text": [
      "2018-03-04 11:00:55,250 : WARNING : duplicate word '7' in /Users/orprager/PycharmProjects/ml/samples/movies_reviews_sentiment_analysis/300features_40minwords_10context, ignoring all but first\n"
     ]
    },
    {
     "name": "stderr",
     "output_type": "stream",
     "text": [
      "2018-03-04 11:00:55,252 : WARNING : duplicate word '215' in /Users/orprager/PycharmProjects/ml/samples/movies_reviews_sentiment_analysis/300features_40minwords_10context, ignoring all but first\n"
     ]
    },
    {
     "name": "stderr",
     "output_type": "stream",
     "text": [
      "2018-03-04 11:00:55,254 : WARNING : duplicate word '' in /Users/orprager/PycharmProjects/ml/samples/movies_reviews_sentiment_analysis/300features_40minwords_10context, ignoring all but first\n"
     ]
    },
    {
     "name": "stderr",
     "output_type": "stream",
     "text": [
      "2018-03-04 11:00:55,257 : WARNING : duplicate word '9' in /Users/orprager/PycharmProjects/ml/samples/movies_reviews_sentiment_analysis/300features_40minwords_10context, ignoring all but first\n"
     ]
    },
    {
     "name": "stderr",
     "output_type": "stream",
     "text": [
      "2018-03-04 11:00:55,258 : WARNING : duplicate word '6' in /Users/orprager/PycharmProjects/ml/samples/movies_reviews_sentiment_analysis/300features_40minwords_10context, ignoring all but first\n"
     ]
    },
    {
     "name": "stderr",
     "output_type": "stream",
     "text": [
      "2018-03-04 11:00:55,260 : WARNING : duplicate word '44' in /Users/orprager/PycharmProjects/ml/samples/movies_reviews_sentiment_analysis/300features_40minwords_10context, ignoring all but first\n"
     ]
    },
    {
     "name": "stderr",
     "output_type": "stream",
     "text": [
      "2018-03-04 11:00:55,261 : WARNING : duplicate word '87' in /Users/orprager/PycharmProjects/ml/samples/movies_reviews_sentiment_analysis/300features_40minwords_10context, ignoring all but first\n"
     ]
    },
    {
     "name": "stderr",
     "output_type": "stream",
     "text": [
      "2018-03-04 11:00:55,264 : WARNING : duplicate word '94' in /Users/orprager/PycharmProjects/ml/samples/movies_reviews_sentiment_analysis/300features_40minwords_10context, ignoring all but first\n"
     ]
    },
    {
     "name": "stderr",
     "output_type": "stream",
     "text": [
      "2018-03-04 11:00:55,270 : WARNING : duplicate word '26' in /Users/orprager/PycharmProjects/ml/samples/movies_reviews_sentiment_analysis/300features_40minwords_10context, ignoring all but first\n"
     ]
    },
    {
     "name": "stderr",
     "output_type": "stream",
     "text": [
      "2018-03-04 11:00:55,271 : WARNING : duplicate word '1' in /Users/orprager/PycharmProjects/ml/samples/movies_reviews_sentiment_analysis/300features_40minwords_10context, ignoring all but first\n"
     ]
    },
    {
     "name": "stderr",
     "output_type": "stream",
     "text": [
      "2018-03-04 11:00:55,274 : WARNING : duplicate word '1' in /Users/orprager/PycharmProjects/ml/samples/movies_reviews_sentiment_analysis/300features_40minwords_10context, ignoring all but first\n"
     ]
    },
    {
     "name": "stderr",
     "output_type": "stream",
     "text": [
      "2018-03-04 11:00:55,275 : WARNING : duplicate word '' in /Users/orprager/PycharmProjects/ml/samples/movies_reviews_sentiment_analysis/300features_40minwords_10context, ignoring all but first\n"
     ]
    },
    {
     "name": "stderr",
     "output_type": "stream",
     "text": [
      "2018-03-04 11:00:55,277 : WARNING : duplicate word '9' in /Users/orprager/PycharmProjects/ml/samples/movies_reviews_sentiment_analysis/300features_40minwords_10context, ignoring all but first\n"
     ]
    },
    {
     "name": "stderr",
     "output_type": "stream",
     "text": [
      "2018-03-04 11:00:55,280 : WARNING : duplicate word '5' in /Users/orprager/PycharmProjects/ml/samples/movies_reviews_sentiment_analysis/300features_40minwords_10context, ignoring all but first\n"
     ]
    },
    {
     "name": "stderr",
     "output_type": "stream",
     "text": [
      "2018-03-04 11:00:55,284 : WARNING : duplicate word '' in /Users/orprager/PycharmProjects/ml/samples/movies_reviews_sentiment_analysis/300features_40minwords_10context, ignoring all but first\n"
     ]
    },
    {
     "name": "stderr",
     "output_type": "stream",
     "text": [
      "2018-03-04 11:00:55,286 : WARNING : duplicate word '6' in /Users/orprager/PycharmProjects/ml/samples/movies_reviews_sentiment_analysis/300features_40minwords_10context, ignoring all but first\n"
     ]
    },
    {
     "name": "stderr",
     "output_type": "stream",
     "text": [
      "2018-03-04 11:00:55,288 : WARNING : duplicate word '6' in /Users/orprager/PycharmProjects/ml/samples/movies_reviews_sentiment_analysis/300features_40minwords_10context, ignoring all but first\n"
     ]
    },
    {
     "name": "stderr",
     "output_type": "stream",
     "text": [
      "2018-03-04 11:00:55,289 : WARNING : duplicate word '46' in /Users/orprager/PycharmProjects/ml/samples/movies_reviews_sentiment_analysis/300features_40minwords_10context, ignoring all but first\n"
     ]
    },
    {
     "name": "stderr",
     "output_type": "stream",
     "text": [
      "2018-03-04 11:00:55,292 : WARNING : duplicate word '84' in /Users/orprager/PycharmProjects/ml/samples/movies_reviews_sentiment_analysis/300features_40minwords_10context, ignoring all but first\n"
     ]
    },
    {
     "name": "stderr",
     "output_type": "stream",
     "text": [
      "2018-03-04 11:00:55,294 : WARNING : duplicate word '3' in /Users/orprager/PycharmProjects/ml/samples/movies_reviews_sentiment_analysis/300features_40minwords_10context, ignoring all but first\n"
     ]
    },
    {
     "name": "stderr",
     "output_type": "stream",
     "text": [
      "2018-03-04 11:00:55,296 : WARNING : duplicate word '4' in /Users/orprager/PycharmProjects/ml/samples/movies_reviews_sentiment_analysis/300features_40minwords_10context, ignoring all but first\n"
     ]
    },
    {
     "name": "stderr",
     "output_type": "stream",
     "text": [
      "2018-03-04 11:00:55,297 : WARNING : duplicate word '18' in /Users/orprager/PycharmProjects/ml/samples/movies_reviews_sentiment_analysis/300features_40minwords_10context, ignoring all but first\n"
     ]
    },
    {
     "name": "stderr",
     "output_type": "stream",
     "text": [
      "2018-03-04 11:00:55,300 : WARNING : duplicate word '1' in /Users/orprager/PycharmProjects/ml/samples/movies_reviews_sentiment_analysis/300features_40minwords_10context, ignoring all but first\n"
     ]
    },
    {
     "name": "stderr",
     "output_type": "stream",
     "text": [
      "2018-03-04 11:00:55,302 : WARNING : duplicate word '39' in /Users/orprager/PycharmProjects/ml/samples/movies_reviews_sentiment_analysis/300features_40minwords_10context, ignoring all but first\n"
     ]
    },
    {
     "name": "stderr",
     "output_type": "stream",
     "text": [
      "2018-03-04 11:00:55,305 : WARNING : duplicate word '' in /Users/orprager/PycharmProjects/ml/samples/movies_reviews_sentiment_analysis/300features_40minwords_10context, ignoring all but first\n"
     ]
    },
    {
     "name": "stderr",
     "output_type": "stream",
     "text": [
      "2018-03-04 11:00:55,308 : WARNING : duplicate word '3' in /Users/orprager/PycharmProjects/ml/samples/movies_reviews_sentiment_analysis/300features_40minwords_10context, ignoring all but first\n"
     ]
    },
    {
     "name": "stderr",
     "output_type": "stream",
     "text": [
      "2018-03-04 11:00:55,310 : WARNING : duplicate word '3' in /Users/orprager/PycharmProjects/ml/samples/movies_reviews_sentiment_analysis/300features_40minwords_10context, ignoring all but first\n"
     ]
    },
    {
     "name": "stderr",
     "output_type": "stream",
     "text": [
      "2018-03-04 11:00:55,311 : WARNING : duplicate word '5' in /Users/orprager/PycharmProjects/ml/samples/movies_reviews_sentiment_analysis/300features_40minwords_10context, ignoring all but first\n"
     ]
    },
    {
     "name": "stderr",
     "output_type": "stream",
     "text": [
      "2018-03-04 11:00:55,313 : WARNING : duplicate word '7' in /Users/orprager/PycharmProjects/ml/samples/movies_reviews_sentiment_analysis/300features_40minwords_10context, ignoring all but first\n"
     ]
    },
    {
     "name": "stderr",
     "output_type": "stream",
     "text": [
      "2018-03-04 11:00:55,314 : WARNING : duplicate word '' in /Users/orprager/PycharmProjects/ml/samples/movies_reviews_sentiment_analysis/300features_40minwords_10context, ignoring all but first\n"
     ]
    },
    {
     "name": "stderr",
     "output_type": "stream",
     "text": [
      "2018-03-04 11:00:55,316 : WARNING : duplicate word '2' in /Users/orprager/PycharmProjects/ml/samples/movies_reviews_sentiment_analysis/300features_40minwords_10context, ignoring all but first\n"
     ]
    },
    {
     "name": "stderr",
     "output_type": "stream",
     "text": [
      "2018-03-04 11:00:55,319 : WARNING : duplicate word '' in /Users/orprager/PycharmProjects/ml/samples/movies_reviews_sentiment_analysis/300features_40minwords_10context, ignoring all but first\n"
     ]
    },
    {
     "name": "stderr",
     "output_type": "stream",
     "text": [
      "2018-03-04 11:00:55,320 : WARNING : duplicate word '7' in /Users/orprager/PycharmProjects/ml/samples/movies_reviews_sentiment_analysis/300features_40minwords_10context, ignoring all but first\n"
     ]
    },
    {
     "name": "stderr",
     "output_type": "stream",
     "text": [
      "2018-03-04 11:00:55,322 : WARNING : duplicate word '56' in /Users/orprager/PycharmProjects/ml/samples/movies_reviews_sentiment_analysis/300features_40minwords_10context, ignoring all but first\n"
     ]
    },
    {
     "name": "stderr",
     "output_type": "stream",
     "text": [
      "2018-03-04 11:00:55,323 : WARNING : duplicate word '5' in /Users/orprager/PycharmProjects/ml/samples/movies_reviews_sentiment_analysis/300features_40minwords_10context, ignoring all but first\n"
     ]
    },
    {
     "name": "stderr",
     "output_type": "stream",
     "text": [
      "2018-03-04 11:00:55,325 : WARNING : duplicate word '' in /Users/orprager/PycharmProjects/ml/samples/movies_reviews_sentiment_analysis/300features_40minwords_10context, ignoring all but first\n"
     ]
    },
    {
     "name": "stderr",
     "output_type": "stream",
     "text": [
      "2018-03-04 11:00:55,327 : WARNING : duplicate word '85' in /Users/orprager/PycharmProjects/ml/samples/movies_reviews_sentiment_analysis/300features_40minwords_10context, ignoring all but first\n"
     ]
    },
    {
     "name": "stderr",
     "output_type": "stream",
     "text": [
      "2018-03-04 11:00:55,331 : WARNING : duplicate word '1' in /Users/orprager/PycharmProjects/ml/samples/movies_reviews_sentiment_analysis/300features_40minwords_10context, ignoring all but first\n"
     ]
    },
    {
     "name": "stderr",
     "output_type": "stream",
     "text": [
      "2018-03-04 11:00:55,335 : WARNING : duplicate word '' in /Users/orprager/PycharmProjects/ml/samples/movies_reviews_sentiment_analysis/300features_40minwords_10context, ignoring all but first\n"
     ]
    },
    {
     "name": "stderr",
     "output_type": "stream",
     "text": [
      "2018-03-04 11:00:55,337 : WARNING : duplicate word '' in /Users/orprager/PycharmProjects/ml/samples/movies_reviews_sentiment_analysis/300features_40minwords_10context, ignoring all but first\n"
     ]
    },
    {
     "name": "stderr",
     "output_type": "stream",
     "text": [
      "2018-03-04 11:00:55,338 : WARNING : duplicate word '' in /Users/orprager/PycharmProjects/ml/samples/movies_reviews_sentiment_analysis/300features_40minwords_10context, ignoring all but first\n"
     ]
    },
    {
     "name": "stderr",
     "output_type": "stream",
     "text": [
      "2018-03-04 11:00:55,340 : WARNING : duplicate word '7' in /Users/orprager/PycharmProjects/ml/samples/movies_reviews_sentiment_analysis/300features_40minwords_10context, ignoring all but first\n"
     ]
    },
    {
     "name": "stderr",
     "output_type": "stream",
     "text": [
      "2018-03-04 11:00:55,341 : WARNING : duplicate word '14' in /Users/orprager/PycharmProjects/ml/samples/movies_reviews_sentiment_analysis/300features_40minwords_10context, ignoring all but first\n"
     ]
    },
    {
     "name": "stderr",
     "output_type": "stream",
     "text": [
      "2018-03-04 11:00:55,344 : WARNING : duplicate word '' in /Users/orprager/PycharmProjects/ml/samples/movies_reviews_sentiment_analysis/300features_40minwords_10context, ignoring all but first\n"
     ]
    },
    {
     "name": "stderr",
     "output_type": "stream",
     "text": [
      "2018-03-04 11:00:55,345 : WARNING : duplicate word '4' in /Users/orprager/PycharmProjects/ml/samples/movies_reviews_sentiment_analysis/300features_40minwords_10context, ignoring all but first\n"
     ]
    },
    {
     "name": "stderr",
     "output_type": "stream",
     "text": [
      "2018-03-04 11:00:55,347 : WARNING : duplicate word '105' in /Users/orprager/PycharmProjects/ml/samples/movies_reviews_sentiment_analysis/300features_40minwords_10context, ignoring all but first\n"
     ]
    },
    {
     "name": "stderr",
     "output_type": "stream",
     "text": [
      "2018-03-04 11:00:55,349 : WARNING : duplicate word '' in /Users/orprager/PycharmProjects/ml/samples/movies_reviews_sentiment_analysis/300features_40minwords_10context, ignoring all but first\n"
     ]
    },
    {
     "name": "stderr",
     "output_type": "stream",
     "text": [
      "2018-03-04 11:00:55,350 : WARNING : duplicate word '83' in /Users/orprager/PycharmProjects/ml/samples/movies_reviews_sentiment_analysis/300features_40minwords_10context, ignoring all but first\n"
     ]
    },
    {
     "name": "stderr",
     "output_type": "stream",
     "text": [
      "2018-03-04 11:00:55,352 : WARNING : duplicate word '' in /Users/orprager/PycharmProjects/ml/samples/movies_reviews_sentiment_analysis/300features_40minwords_10context, ignoring all but first\n"
     ]
    },
    {
     "name": "stderr",
     "output_type": "stream",
     "text": [
      "2018-03-04 11:00:55,355 : WARNING : duplicate word '8' in /Users/orprager/PycharmProjects/ml/samples/movies_reviews_sentiment_analysis/300features_40minwords_10context, ignoring all but first\n"
     ]
    },
    {
     "name": "stderr",
     "output_type": "stream",
     "text": [
      "2018-03-04 11:00:55,358 : WARNING : duplicate word '2' in /Users/orprager/PycharmProjects/ml/samples/movies_reviews_sentiment_analysis/300features_40minwords_10context, ignoring all but first\n"
     ]
    },
    {
     "name": "stderr",
     "output_type": "stream",
     "text": [
      "2018-03-04 11:00:55,359 : WARNING : duplicate word '4' in /Users/orprager/PycharmProjects/ml/samples/movies_reviews_sentiment_analysis/300features_40minwords_10context, ignoring all but first\n"
     ]
    },
    {
     "name": "stderr",
     "output_type": "stream",
     "text": [
      "2018-03-04 11:00:55,361 : WARNING : duplicate word '8' in /Users/orprager/PycharmProjects/ml/samples/movies_reviews_sentiment_analysis/300features_40minwords_10context, ignoring all but first\n"
     ]
    },
    {
     "name": "stderr",
     "output_type": "stream",
     "text": [
      "2018-03-04 11:00:55,363 : WARNING : duplicate word '3' in /Users/orprager/PycharmProjects/ml/samples/movies_reviews_sentiment_analysis/300features_40minwords_10context, ignoring all but first\n"
     ]
    },
    {
     "name": "stderr",
     "output_type": "stream",
     "text": [
      "2018-03-04 11:00:55,365 : WARNING : duplicate word '' in /Users/orprager/PycharmProjects/ml/samples/movies_reviews_sentiment_analysis/300features_40minwords_10context, ignoring all but first\n"
     ]
    },
    {
     "name": "stderr",
     "output_type": "stream",
     "text": [
      "2018-03-04 11:00:55,367 : WARNING : duplicate word '18' in /Users/orprager/PycharmProjects/ml/samples/movies_reviews_sentiment_analysis/300features_40minwords_10context, ignoring all but first\n"
     ]
    },
    {
     "name": "stderr",
     "output_type": "stream",
     "text": [
      "2018-03-04 11:00:55,372 : WARNING : duplicate word '9' in /Users/orprager/PycharmProjects/ml/samples/movies_reviews_sentiment_analysis/300features_40minwords_10context, ignoring all but first\n"
     ]
    },
    {
     "name": "stderr",
     "output_type": "stream",
     "text": [
      "2018-03-04 11:00:55,374 : WARNING : duplicate word '4' in /Users/orprager/PycharmProjects/ml/samples/movies_reviews_sentiment_analysis/300features_40minwords_10context, ignoring all but first\n"
     ]
    },
    {
     "name": "stderr",
     "output_type": "stream",
     "text": [
      "2018-03-04 11:00:55,376 : WARNING : duplicate word '81' in /Users/orprager/PycharmProjects/ml/samples/movies_reviews_sentiment_analysis/300features_40minwords_10context, ignoring all but first\n"
     ]
    },
    {
     "name": "stderr",
     "output_type": "stream",
     "text": [
      "2018-03-04 11:00:55,377 : WARNING : duplicate word '' in /Users/orprager/PycharmProjects/ml/samples/movies_reviews_sentiment_analysis/300features_40minwords_10context, ignoring all but first\n"
     ]
    },
    {
     "name": "stderr",
     "output_type": "stream",
     "text": [
      "2018-03-04 11:00:55,379 : WARNING : duplicate word '' in /Users/orprager/PycharmProjects/ml/samples/movies_reviews_sentiment_analysis/300features_40minwords_10context, ignoring all but first\n"
     ]
    },
    {
     "name": "stderr",
     "output_type": "stream",
     "text": [
      "2018-03-04 11:00:55,381 : WARNING : duplicate word '816' in /Users/orprager/PycharmProjects/ml/samples/movies_reviews_sentiment_analysis/300features_40minwords_10context, ignoring all but first\n"
     ]
    },
    {
     "name": "stderr",
     "output_type": "stream",
     "text": [
      "2018-03-04 11:00:55,383 : WARNING : duplicate word '2' in /Users/orprager/PycharmProjects/ml/samples/movies_reviews_sentiment_analysis/300features_40minwords_10context, ignoring all but first\n"
     ]
    },
    {
     "name": "stderr",
     "output_type": "stream",
     "text": [
      "2018-03-04 11:00:55,384 : WARNING : duplicate word '84' in /Users/orprager/PycharmProjects/ml/samples/movies_reviews_sentiment_analysis/300features_40minwords_10context, ignoring all but first\n"
     ]
    },
    {
     "name": "stderr",
     "output_type": "stream",
     "text": [
      "2018-03-04 11:00:55,386 : WARNING : duplicate word '5' in /Users/orprager/PycharmProjects/ml/samples/movies_reviews_sentiment_analysis/300features_40minwords_10context, ignoring all but first\n"
     ]
    },
    {
     "name": "stderr",
     "output_type": "stream",
     "text": [
      "2018-03-04 11:00:55,399 : WARNING : duplicate word '' in /Users/orprager/PycharmProjects/ml/samples/movies_reviews_sentiment_analysis/300features_40minwords_10context, ignoring all but first\n"
     ]
    },
    {
     "name": "stderr",
     "output_type": "stream",
     "text": [
      "2018-03-04 11:00:55,401 : WARNING : duplicate word '615' in /Users/orprager/PycharmProjects/ml/samples/movies_reviews_sentiment_analysis/300features_40minwords_10context, ignoring all but first\n"
     ]
    },
    {
     "name": "stderr",
     "output_type": "stream",
     "text": [
      "2018-03-04 11:00:55,402 : WARNING : duplicate word '7' in /Users/orprager/PycharmProjects/ml/samples/movies_reviews_sentiment_analysis/300features_40minwords_10context, ignoring all but first\n"
     ]
    },
    {
     "name": "stderr",
     "output_type": "stream",
     "text": [
      "2018-03-04 11:00:55,404 : WARNING : duplicate word '57' in /Users/orprager/PycharmProjects/ml/samples/movies_reviews_sentiment_analysis/300features_40minwords_10context, ignoring all but first\n"
     ]
    },
    {
     "name": "stderr",
     "output_type": "stream",
     "text": [
      "2018-03-04 11:00:55,407 : WARNING : duplicate word '4' in /Users/orprager/PycharmProjects/ml/samples/movies_reviews_sentiment_analysis/300features_40minwords_10context, ignoring all but first\n"
     ]
    },
    {
     "name": "stderr",
     "output_type": "stream",
     "text": [
      "2018-03-04 11:00:55,409 : WARNING : duplicate word '83' in /Users/orprager/PycharmProjects/ml/samples/movies_reviews_sentiment_analysis/300features_40minwords_10context, ignoring all but first\n"
     ]
    },
    {
     "name": "stderr",
     "output_type": "stream",
     "text": [
      "2018-03-04 11:00:55,411 : WARNING : duplicate word '58' in /Users/orprager/PycharmProjects/ml/samples/movies_reviews_sentiment_analysis/300features_40minwords_10context, ignoring all but first\n"
     ]
    },
    {
     "name": "stderr",
     "output_type": "stream",
     "text": [
      "2018-03-04 11:00:55,413 : WARNING : duplicate word '6' in /Users/orprager/PycharmProjects/ml/samples/movies_reviews_sentiment_analysis/300features_40minwords_10context, ignoring all but first\n"
     ]
    },
    {
     "name": "stderr",
     "output_type": "stream",
     "text": [
      "2018-03-04 11:00:55,416 : WARNING : duplicate word '6' in /Users/orprager/PycharmProjects/ml/samples/movies_reviews_sentiment_analysis/300features_40minwords_10context, ignoring all but first\n"
     ]
    },
    {
     "name": "stderr",
     "output_type": "stream",
     "text": [
      "2018-03-04 11:00:55,420 : WARNING : duplicate word '36' in /Users/orprager/PycharmProjects/ml/samples/movies_reviews_sentiment_analysis/300features_40minwords_10context, ignoring all but first\n"
     ]
    },
    {
     "name": "stderr",
     "output_type": "stream",
     "text": [
      "2018-03-04 11:00:55,423 : WARNING : duplicate word '' in /Users/orprager/PycharmProjects/ml/samples/movies_reviews_sentiment_analysis/300features_40minwords_10context, ignoring all but first\n"
     ]
    },
    {
     "name": "stderr",
     "output_type": "stream",
     "text": [
      "2018-03-04 11:00:55,425 : WARNING : duplicate word '' in /Users/orprager/PycharmProjects/ml/samples/movies_reviews_sentiment_analysis/300features_40minwords_10context, ignoring all but first\n"
     ]
    },
    {
     "name": "stderr",
     "output_type": "stream",
     "text": [
      "2018-03-04 11:00:55,427 : WARNING : duplicate word '5' in /Users/orprager/PycharmProjects/ml/samples/movies_reviews_sentiment_analysis/300features_40minwords_10context, ignoring all but first\n"
     ]
    },
    {
     "name": "stderr",
     "output_type": "stream",
     "text": [
      "2018-03-04 11:00:55,429 : WARNING : duplicate word '' in /Users/orprager/PycharmProjects/ml/samples/movies_reviews_sentiment_analysis/300features_40minwords_10context, ignoring all but first\n"
     ]
    },
    {
     "name": "stderr",
     "output_type": "stream",
     "text": [
      "2018-03-04 11:00:55,431 : WARNING : duplicate word '' in /Users/orprager/PycharmProjects/ml/samples/movies_reviews_sentiment_analysis/300features_40minwords_10context, ignoring all but first\n"
     ]
    },
    {
     "name": "stderr",
     "output_type": "stream",
     "text": [
      "2018-03-04 11:00:55,432 : WARNING : duplicate word '' in /Users/orprager/PycharmProjects/ml/samples/movies_reviews_sentiment_analysis/300features_40minwords_10context, ignoring all but first\n"
     ]
    },
    {
     "name": "stderr",
     "output_type": "stream",
     "text": [
      "2018-03-04 11:00:55,435 : WARNING : duplicate word '' in /Users/orprager/PycharmProjects/ml/samples/movies_reviews_sentiment_analysis/300features_40minwords_10context, ignoring all but first\n"
     ]
    },
    {
     "name": "stderr",
     "output_type": "stream",
     "text": [
      "2018-03-04 11:00:55,438 : WARNING : duplicate word '43' in /Users/orprager/PycharmProjects/ml/samples/movies_reviews_sentiment_analysis/300features_40minwords_10context, ignoring all but first\n"
     ]
    },
    {
     "name": "stderr",
     "output_type": "stream",
     "text": [
      "2018-03-04 11:00:55,440 : WARNING : duplicate word '2' in /Users/orprager/PycharmProjects/ml/samples/movies_reviews_sentiment_analysis/300features_40minwords_10context, ignoring all but first\n"
     ]
    },
    {
     "name": "stderr",
     "output_type": "stream",
     "text": [
      "2018-03-04 11:00:55,442 : WARNING : duplicate word '' in /Users/orprager/PycharmProjects/ml/samples/movies_reviews_sentiment_analysis/300features_40minwords_10context, ignoring all but first\n"
     ]
    },
    {
     "name": "stderr",
     "output_type": "stream",
     "text": [
      "2018-03-04 11:00:55,444 : WARNING : duplicate word '1' in /Users/orprager/PycharmProjects/ml/samples/movies_reviews_sentiment_analysis/300features_40minwords_10context, ignoring all but first\n"
     ]
    },
    {
     "name": "stderr",
     "output_type": "stream",
     "text": [
      "2018-03-04 11:00:55,446 : WARNING : duplicate word '85' in /Users/orprager/PycharmProjects/ml/samples/movies_reviews_sentiment_analysis/300features_40minwords_10context, ignoring all but first\n"
     ]
    },
    {
     "name": "stderr",
     "output_type": "stream",
     "text": [
      "2018-03-04 11:00:55,448 : WARNING : duplicate word '' in /Users/orprager/PycharmProjects/ml/samples/movies_reviews_sentiment_analysis/300features_40minwords_10context, ignoring all but first\n"
     ]
    },
    {
     "name": "stderr",
     "output_type": "stream",
     "text": [
      "2018-03-04 11:00:55,449 : WARNING : duplicate word '8' in /Users/orprager/PycharmProjects/ml/samples/movies_reviews_sentiment_analysis/300features_40minwords_10context, ignoring all but first\n"
     ]
    },
    {
     "name": "stderr",
     "output_type": "stream",
     "text": [
      "2018-03-04 11:00:55,453 : WARNING : duplicate word '4' in /Users/orprager/PycharmProjects/ml/samples/movies_reviews_sentiment_analysis/300features_40minwords_10context, ignoring all but first\n"
     ]
    },
    {
     "name": "stderr",
     "output_type": "stream",
     "text": [
      "2018-03-04 11:00:55,455 : WARNING : duplicate word '83' in /Users/orprager/PycharmProjects/ml/samples/movies_reviews_sentiment_analysis/300features_40minwords_10context, ignoring all but first\n"
     ]
    },
    {
     "name": "stderr",
     "output_type": "stream",
     "text": [
      "2018-03-04 11:00:55,457 : WARNING : duplicate word '7' in /Users/orprager/PycharmProjects/ml/samples/movies_reviews_sentiment_analysis/300features_40minwords_10context, ignoring all but first\n"
     ]
    },
    {
     "name": "stderr",
     "output_type": "stream",
     "text": [
      "2018-03-04 11:00:55,459 : WARNING : duplicate word '3' in /Users/orprager/PycharmProjects/ml/samples/movies_reviews_sentiment_analysis/300features_40minwords_10context, ignoring all but first\n"
     ]
    },
    {
     "name": "stderr",
     "output_type": "stream",
     "text": [
      "2018-03-04 11:00:55,461 : WARNING : duplicate word '2' in /Users/orprager/PycharmProjects/ml/samples/movies_reviews_sentiment_analysis/300features_40minwords_10context, ignoring all but first\n"
     ]
    },
    {
     "name": "stderr",
     "output_type": "stream",
     "text": [
      "2018-03-04 11:00:55,463 : WARNING : duplicate word '' in /Users/orprager/PycharmProjects/ml/samples/movies_reviews_sentiment_analysis/300features_40minwords_10context, ignoring all but first\n"
     ]
    },
    {
     "name": "stderr",
     "output_type": "stream",
     "text": [
      "2018-03-04 11:00:55,465 : WARNING : duplicate word '35' in /Users/orprager/PycharmProjects/ml/samples/movies_reviews_sentiment_analysis/300features_40minwords_10context, ignoring all but first\n"
     ]
    },
    {
     "name": "stderr",
     "output_type": "stream",
     "text": [
      "2018-03-04 11:00:55,468 : WARNING : duplicate word '8' in /Users/orprager/PycharmProjects/ml/samples/movies_reviews_sentiment_analysis/300features_40minwords_10context, ignoring all but first\n"
     ]
    },
    {
     "name": "stderr",
     "output_type": "stream",
     "text": [
      "2018-03-04 11:00:55,471 : WARNING : duplicate word '9' in /Users/orprager/PycharmProjects/ml/samples/movies_reviews_sentiment_analysis/300features_40minwords_10context, ignoring all but first\n"
     ]
    },
    {
     "name": "stderr",
     "output_type": "stream",
     "text": [
      "2018-03-04 11:00:55,472 : WARNING : duplicate word '' in /Users/orprager/PycharmProjects/ml/samples/movies_reviews_sentiment_analysis/300features_40minwords_10context, ignoring all but first\n"
     ]
    },
    {
     "name": "stderr",
     "output_type": "stream",
     "text": [
      "2018-03-04 11:00:55,474 : WARNING : duplicate word '' in /Users/orprager/PycharmProjects/ml/samples/movies_reviews_sentiment_analysis/300features_40minwords_10context, ignoring all but first\n"
     ]
    },
    {
     "name": "stderr",
     "output_type": "stream",
     "text": [
      "2018-03-04 11:00:55,475 : WARNING : duplicate word '' in /Users/orprager/PycharmProjects/ml/samples/movies_reviews_sentiment_analysis/300features_40minwords_10context, ignoring all but first\n"
     ]
    },
    {
     "name": "stderr",
     "output_type": "stream",
     "text": [
      "2018-03-04 11:00:55,477 : WARNING : duplicate word '2' in /Users/orprager/PycharmProjects/ml/samples/movies_reviews_sentiment_analysis/300features_40minwords_10context, ignoring all but first\n"
     ]
    },
    {
     "name": "stderr",
     "output_type": "stream",
     "text": [
      "2018-03-04 11:00:55,480 : WARNING : duplicate word '05' in /Users/orprager/PycharmProjects/ml/samples/movies_reviews_sentiment_analysis/300features_40minwords_10context, ignoring all but first\n"
     ]
    },
    {
     "name": "stderr",
     "output_type": "stream",
     "text": [
      "2018-03-04 11:00:55,484 : WARNING : duplicate word '' in /Users/orprager/PycharmProjects/ml/samples/movies_reviews_sentiment_analysis/300features_40minwords_10context, ignoring all but first\n"
     ]
    },
    {
     "name": "stderr",
     "output_type": "stream",
     "text": [
      "2018-03-04 11:00:55,486 : WARNING : duplicate word '82' in /Users/orprager/PycharmProjects/ml/samples/movies_reviews_sentiment_analysis/300features_40minwords_10context, ignoring all but first\n"
     ]
    },
    {
     "name": "stderr",
     "output_type": "stream",
     "text": [
      "2018-03-04 11:00:55,487 : WARNING : duplicate word '5' in /Users/orprager/PycharmProjects/ml/samples/movies_reviews_sentiment_analysis/300features_40minwords_10context, ignoring all but first\n"
     ]
    },
    {
     "name": "stderr",
     "output_type": "stream",
     "text": [
      "2018-03-04 11:00:55,489 : WARNING : duplicate word '4' in /Users/orprager/PycharmProjects/ml/samples/movies_reviews_sentiment_analysis/300features_40minwords_10context, ignoring all but first\n"
     ]
    },
    {
     "name": "stderr",
     "output_type": "stream",
     "text": [
      "2018-03-04 11:00:55,490 : WARNING : duplicate word '86' in /Users/orprager/PycharmProjects/ml/samples/movies_reviews_sentiment_analysis/300features_40minwords_10context, ignoring all but first\n"
     ]
    },
    {
     "name": "stderr",
     "output_type": "stream",
     "text": [
      "2018-03-04 11:00:55,492 : WARNING : duplicate word '' in /Users/orprager/PycharmProjects/ml/samples/movies_reviews_sentiment_analysis/300features_40minwords_10context, ignoring all but first\n"
     ]
    },
    {
     "name": "stderr",
     "output_type": "stream",
     "text": [
      "2018-03-04 11:00:55,494 : WARNING : duplicate word '5' in /Users/orprager/PycharmProjects/ml/samples/movies_reviews_sentiment_analysis/300features_40minwords_10context, ignoring all but first\n"
     ]
    },
    {
     "name": "stderr",
     "output_type": "stream",
     "text": [
      "2018-03-04 11:00:55,498 : WARNING : duplicate word '5' in /Users/orprager/PycharmProjects/ml/samples/movies_reviews_sentiment_analysis/300features_40minwords_10context, ignoring all but first\n"
     ]
    },
    {
     "name": "stderr",
     "output_type": "stream",
     "text": [
      "2018-03-04 11:00:55,501 : WARNING : duplicate word '43' in /Users/orprager/PycharmProjects/ml/samples/movies_reviews_sentiment_analysis/300features_40minwords_10context, ignoring all but first\n"
     ]
    },
    {
     "name": "stderr",
     "output_type": "stream",
     "text": [
      "2018-03-04 11:00:55,502 : WARNING : duplicate word '' in /Users/orprager/PycharmProjects/ml/samples/movies_reviews_sentiment_analysis/300features_40minwords_10context, ignoring all but first\n"
     ]
    },
    {
     "name": "stderr",
     "output_type": "stream",
     "text": [
      "2018-03-04 11:00:55,504 : WARNING : duplicate word '' in /Users/orprager/PycharmProjects/ml/samples/movies_reviews_sentiment_analysis/300features_40minwords_10context, ignoring all but first\n"
     ]
    },
    {
     "name": "stderr",
     "output_type": "stream",
     "text": [
      "2018-03-04 11:00:55,506 : WARNING : duplicate word '4' in /Users/orprager/PycharmProjects/ml/samples/movies_reviews_sentiment_analysis/300features_40minwords_10context, ignoring all but first\n"
     ]
    },
    {
     "name": "stderr",
     "output_type": "stream",
     "text": [
      "2018-03-04 11:00:55,507 : WARNING : duplicate word '24' in /Users/orprager/PycharmProjects/ml/samples/movies_reviews_sentiment_analysis/300features_40minwords_10context, ignoring all but first\n"
     ]
    },
    {
     "name": "stderr",
     "output_type": "stream",
     "text": [
      "2018-03-04 11:00:55,509 : WARNING : duplicate word '6' in /Users/orprager/PycharmProjects/ml/samples/movies_reviews_sentiment_analysis/300features_40minwords_10context, ignoring all but first\n"
     ]
    },
    {
     "name": "stderr",
     "output_type": "stream",
     "text": [
      "2018-03-04 11:00:55,511 : WARNING : duplicate word '' in /Users/orprager/PycharmProjects/ml/samples/movies_reviews_sentiment_analysis/300features_40minwords_10context, ignoring all but first\n"
     ]
    },
    {
     "name": "stderr",
     "output_type": "stream",
     "text": [
      "2018-03-04 11:00:55,513 : WARNING : duplicate word '91' in /Users/orprager/PycharmProjects/ml/samples/movies_reviews_sentiment_analysis/300features_40minwords_10context, ignoring all but first\n"
     ]
    },
    {
     "name": "stderr",
     "output_type": "stream",
     "text": [
      "2018-03-04 11:00:55,514 : WARNING : duplicate word '' in /Users/orprager/PycharmProjects/ml/samples/movies_reviews_sentiment_analysis/300features_40minwords_10context, ignoring all but first\n"
     ]
    },
    {
     "name": "stderr",
     "output_type": "stream",
     "text": [
      "2018-03-04 11:00:55,516 : WARNING : duplicate word '' in /Users/orprager/PycharmProjects/ml/samples/movies_reviews_sentiment_analysis/300features_40minwords_10context, ignoring all but first\n"
     ]
    },
    {
     "name": "stderr",
     "output_type": "stream",
     "text": [
      "2018-03-04 11:00:55,517 : WARNING : duplicate word '' in /Users/orprager/PycharmProjects/ml/samples/movies_reviews_sentiment_analysis/300features_40minwords_10context, ignoring all but first\n"
     ]
    },
    {
     "name": "stderr",
     "output_type": "stream",
     "text": [
      "2018-03-04 11:00:55,519 : WARNING : duplicate word '' in /Users/orprager/PycharmProjects/ml/samples/movies_reviews_sentiment_analysis/300features_40minwords_10context, ignoring all but first\n"
     ]
    },
    {
     "name": "stderr",
     "output_type": "stream",
     "text": [
      "2018-03-04 11:00:55,521 : WARNING : duplicate word '5' in /Users/orprager/PycharmProjects/ml/samples/movies_reviews_sentiment_analysis/300features_40minwords_10context, ignoring all but first\n"
     ]
    },
    {
     "name": "stderr",
     "output_type": "stream",
     "text": [
      "2018-03-04 11:00:55,525 : WARNING : duplicate word '4' in /Users/orprager/PycharmProjects/ml/samples/movies_reviews_sentiment_analysis/300features_40minwords_10context, ignoring all but first\n"
     ]
    },
    {
     "name": "stderr",
     "output_type": "stream",
     "text": [
      "2018-03-04 11:00:55,530 : WARNING : duplicate word '143' in /Users/orprager/PycharmProjects/ml/samples/movies_reviews_sentiment_analysis/300features_40minwords_10context, ignoring all but first\n"
     ]
    },
    {
     "name": "stderr",
     "output_type": "stream",
     "text": [
      "2018-03-04 11:00:55,532 : WARNING : duplicate word '18' in /Users/orprager/PycharmProjects/ml/samples/movies_reviews_sentiment_analysis/300features_40minwords_10context, ignoring all but first\n"
     ]
    },
    {
     "name": "stderr",
     "output_type": "stream",
     "text": [
      "2018-03-04 11:00:55,534 : WARNING : duplicate word '95' in /Users/orprager/PycharmProjects/ml/samples/movies_reviews_sentiment_analysis/300features_40minwords_10context, ignoring all but first\n"
     ]
    },
    {
     "name": "stderr",
     "output_type": "stream",
     "text": [
      "2018-03-04 11:00:55,535 : WARNING : duplicate word '3' in /Users/orprager/PycharmProjects/ml/samples/movies_reviews_sentiment_analysis/300features_40minwords_10context, ignoring all but first\n"
     ]
    },
    {
     "name": "stderr",
     "output_type": "stream",
     "text": [
      "2018-03-04 11:00:55,539 : WARNING : duplicate word '08' in /Users/orprager/PycharmProjects/ml/samples/movies_reviews_sentiment_analysis/300features_40minwords_10context, ignoring all but first\n"
     ]
    },
    {
     "name": "stderr",
     "output_type": "stream",
     "text": [
      "2018-03-04 11:00:55,543 : WARNING : duplicate word '' in /Users/orprager/PycharmProjects/ml/samples/movies_reviews_sentiment_analysis/300features_40minwords_10context, ignoring all but first\n"
     ]
    },
    {
     "name": "stderr",
     "output_type": "stream",
     "text": [
      "2018-03-04 11:00:55,544 : WARNING : duplicate word '86' in /Users/orprager/PycharmProjects/ml/samples/movies_reviews_sentiment_analysis/300features_40minwords_10context, ignoring all but first\n"
     ]
    },
    {
     "name": "stderr",
     "output_type": "stream",
     "text": [
      "2018-03-04 11:00:55,546 : WARNING : duplicate word '49' in /Users/orprager/PycharmProjects/ml/samples/movies_reviews_sentiment_analysis/300features_40minwords_10context, ignoring all but first\n"
     ]
    },
    {
     "name": "stderr",
     "output_type": "stream",
     "text": [
      "2018-03-04 11:00:55,547 : WARNING : duplicate word '27' in /Users/orprager/PycharmProjects/ml/samples/movies_reviews_sentiment_analysis/300features_40minwords_10context, ignoring all but first\n"
     ]
    },
    {
     "name": "stderr",
     "output_type": "stream",
     "text": [
      "2018-03-04 11:00:55,549 : WARNING : duplicate word '528' in /Users/orprager/PycharmProjects/ml/samples/movies_reviews_sentiment_analysis/300features_40minwords_10context, ignoring all but first\n"
     ]
    },
    {
     "name": "stderr",
     "output_type": "stream",
     "text": [
      "2018-03-04 11:00:55,551 : WARNING : duplicate word '' in /Users/orprager/PycharmProjects/ml/samples/movies_reviews_sentiment_analysis/300features_40minwords_10context, ignoring all but first\n"
     ]
    },
    {
     "name": "stderr",
     "output_type": "stream",
     "text": [
      "2018-03-04 11:00:55,555 : WARNING : duplicate word '844' in /Users/orprager/PycharmProjects/ml/samples/movies_reviews_sentiment_analysis/300features_40minwords_10context, ignoring all but first\n"
     ]
    },
    {
     "name": "stderr",
     "output_type": "stream",
     "text": [
      "2018-03-04 11:00:55,557 : WARNING : duplicate word '91' in /Users/orprager/PycharmProjects/ml/samples/movies_reviews_sentiment_analysis/300features_40minwords_10context, ignoring all but first\n"
     ]
    },
    {
     "name": "stderr",
     "output_type": "stream",
     "text": [
      "2018-03-04 11:00:55,559 : WARNING : duplicate word '22' in /Users/orprager/PycharmProjects/ml/samples/movies_reviews_sentiment_analysis/300features_40minwords_10context, ignoring all but first\n"
     ]
    },
    {
     "name": "stderr",
     "output_type": "stream",
     "text": [
      "2018-03-04 11:00:55,560 : WARNING : duplicate word '' in /Users/orprager/PycharmProjects/ml/samples/movies_reviews_sentiment_analysis/300features_40minwords_10context, ignoring all but first\n"
     ]
    },
    {
     "name": "stderr",
     "output_type": "stream",
     "text": [
      "2018-03-04 11:00:55,562 : WARNING : duplicate word '' in /Users/orprager/PycharmProjects/ml/samples/movies_reviews_sentiment_analysis/300features_40minwords_10context, ignoring all but first\n"
     ]
    },
    {
     "name": "stderr",
     "output_type": "stream",
     "text": [
      "2018-03-04 11:00:55,564 : WARNING : duplicate word '8' in /Users/orprager/PycharmProjects/ml/samples/movies_reviews_sentiment_analysis/300features_40minwords_10context, ignoring all but first\n"
     ]
    },
    {
     "name": "stderr",
     "output_type": "stream",
     "text": [
      "2018-03-04 11:00:55,567 : WARNING : duplicate word '' in /Users/orprager/PycharmProjects/ml/samples/movies_reviews_sentiment_analysis/300features_40minwords_10context, ignoring all but first\n"
     ]
    },
    {
     "name": "stderr",
     "output_type": "stream",
     "text": [
      "2018-03-04 11:00:55,570 : WARNING : duplicate word '' in /Users/orprager/PycharmProjects/ml/samples/movies_reviews_sentiment_analysis/300features_40minwords_10context, ignoring all but first\n"
     ]
    },
    {
     "name": "stderr",
     "output_type": "stream",
     "text": [
      "2018-03-04 11:00:55,573 : WARNING : duplicate word '98' in /Users/orprager/PycharmProjects/ml/samples/movies_reviews_sentiment_analysis/300features_40minwords_10context, ignoring all but first\n"
     ]
    },
    {
     "name": "stderr",
     "output_type": "stream",
     "text": [
      "2018-03-04 11:00:55,575 : WARNING : duplicate word '' in /Users/orprager/PycharmProjects/ml/samples/movies_reviews_sentiment_analysis/300features_40minwords_10context, ignoring all but first\n"
     ]
    },
    {
     "name": "stderr",
     "output_type": "stream",
     "text": [
      "2018-03-04 11:00:55,578 : WARNING : duplicate word '194' in /Users/orprager/PycharmProjects/ml/samples/movies_reviews_sentiment_analysis/300features_40minwords_10context, ignoring all but first\n"
     ]
    },
    {
     "name": "stderr",
     "output_type": "stream",
     "text": [
      "2018-03-04 11:00:55,580 : WARNING : duplicate word '' in /Users/orprager/PycharmProjects/ml/samples/movies_reviews_sentiment_analysis/300features_40minwords_10context, ignoring all but first\n"
     ]
    },
    {
     "name": "stderr",
     "output_type": "stream",
     "text": [
      "2018-03-04 11:00:55,581 : WARNING : duplicate word '11' in /Users/orprager/PycharmProjects/ml/samples/movies_reviews_sentiment_analysis/300features_40minwords_10context, ignoring all but first\n"
     ]
    },
    {
     "name": "stderr",
     "output_type": "stream",
     "text": [
      "2018-03-04 11:00:55,583 : WARNING : duplicate word '5' in /Users/orprager/PycharmProjects/ml/samples/movies_reviews_sentiment_analysis/300features_40minwords_10context, ignoring all but first\n"
     ]
    },
    {
     "name": "stderr",
     "output_type": "stream",
     "text": [
      "2018-03-04 11:00:55,586 : WARNING : duplicate word '' in /Users/orprager/PycharmProjects/ml/samples/movies_reviews_sentiment_analysis/300features_40minwords_10context, ignoring all but first\n"
     ]
    },
    {
     "name": "stderr",
     "output_type": "stream",
     "text": [
      "2018-03-04 11:00:55,589 : WARNING : duplicate word '69' in /Users/orprager/PycharmProjects/ml/samples/movies_reviews_sentiment_analysis/300features_40minwords_10context, ignoring all but first\n"
     ]
    },
    {
     "name": "stderr",
     "output_type": "stream",
     "text": [
      "2018-03-04 11:00:55,591 : WARNING : duplicate word '9' in /Users/orprager/PycharmProjects/ml/samples/movies_reviews_sentiment_analysis/300features_40minwords_10context, ignoring all but first\n"
     ]
    },
    {
     "name": "stderr",
     "output_type": "stream",
     "text": [
      "2018-03-04 11:00:55,593 : WARNING : duplicate word '3' in /Users/orprager/PycharmProjects/ml/samples/movies_reviews_sentiment_analysis/300features_40minwords_10context, ignoring all but first\n"
     ]
    },
    {
     "name": "stderr",
     "output_type": "stream",
     "text": [
      "2018-03-04 11:00:55,595 : WARNING : duplicate word '5' in /Users/orprager/PycharmProjects/ml/samples/movies_reviews_sentiment_analysis/300features_40minwords_10context, ignoring all but first\n"
     ]
    },
    {
     "name": "stderr",
     "output_type": "stream",
     "text": [
      "2018-03-04 11:00:55,600 : WARNING : duplicate word '5' in /Users/orprager/PycharmProjects/ml/samples/movies_reviews_sentiment_analysis/300features_40minwords_10context, ignoring all but first\n"
     ]
    },
    {
     "name": "stderr",
     "output_type": "stream",
     "text": [
      "2018-03-04 11:00:55,602 : WARNING : duplicate word '' in /Users/orprager/PycharmProjects/ml/samples/movies_reviews_sentiment_analysis/300features_40minwords_10context, ignoring all but first\n"
     ]
    },
    {
     "name": "stderr",
     "output_type": "stream",
     "text": [
      "2018-03-04 11:00:55,604 : WARNING : duplicate word '' in /Users/orprager/PycharmProjects/ml/samples/movies_reviews_sentiment_analysis/300features_40minwords_10context, ignoring all but first\n"
     ]
    },
    {
     "name": "stderr",
     "output_type": "stream",
     "text": [
      "2018-03-04 11:00:55,606 : WARNING : duplicate word '84' in /Users/orprager/PycharmProjects/ml/samples/movies_reviews_sentiment_analysis/300features_40minwords_10context, ignoring all but first\n"
     ]
    },
    {
     "name": "stderr",
     "output_type": "stream",
     "text": [
      "2018-03-04 11:00:55,607 : WARNING : duplicate word '' in /Users/orprager/PycharmProjects/ml/samples/movies_reviews_sentiment_analysis/300features_40minwords_10context, ignoring all but first\n"
     ]
    },
    {
     "name": "stderr",
     "output_type": "stream",
     "text": [
      "2018-03-04 11:00:55,609 : WARNING : duplicate word '7' in /Users/orprager/PycharmProjects/ml/samples/movies_reviews_sentiment_analysis/300features_40minwords_10context, ignoring all but first\n"
     ]
    },
    {
     "name": "stderr",
     "output_type": "stream",
     "text": [
      "2018-03-04 11:00:55,611 : WARNING : duplicate word '61' in /Users/orprager/PycharmProjects/ml/samples/movies_reviews_sentiment_analysis/300features_40minwords_10context, ignoring all but first\n"
     ]
    },
    {
     "name": "stderr",
     "output_type": "stream",
     "text": [
      "2018-03-04 11:00:55,613 : WARNING : duplicate word '' in /Users/orprager/PycharmProjects/ml/samples/movies_reviews_sentiment_analysis/300features_40minwords_10context, ignoring all but first\n"
     ]
    },
    {
     "name": "stderr",
     "output_type": "stream",
     "text": [
      "2018-03-04 11:00:55,615 : WARNING : duplicate word '24' in /Users/orprager/PycharmProjects/ml/samples/movies_reviews_sentiment_analysis/300features_40minwords_10context, ignoring all but first\n"
     ]
    },
    {
     "name": "stderr",
     "output_type": "stream",
     "text": [
      "2018-03-04 11:00:55,619 : WARNING : duplicate word '' in /Users/orprager/PycharmProjects/ml/samples/movies_reviews_sentiment_analysis/300features_40minwords_10context, ignoring all but first\n"
     ]
    },
    {
     "name": "stderr",
     "output_type": "stream",
     "text": [
      "2018-03-04 11:00:55,622 : WARNING : duplicate word '3' in /Users/orprager/PycharmProjects/ml/samples/movies_reviews_sentiment_analysis/300features_40minwords_10context, ignoring all but first\n"
     ]
    },
    {
     "name": "stderr",
     "output_type": "stream",
     "text": [
      "2018-03-04 11:00:55,624 : WARNING : duplicate word '7' in /Users/orprager/PycharmProjects/ml/samples/movies_reviews_sentiment_analysis/300features_40minwords_10context, ignoring all but first\n"
     ]
    },
    {
     "name": "stderr",
     "output_type": "stream",
     "text": [
      "2018-03-04 11:00:55,625 : WARNING : duplicate word '6' in /Users/orprager/PycharmProjects/ml/samples/movies_reviews_sentiment_analysis/300features_40minwords_10context, ignoring all but first\n"
     ]
    },
    {
     "name": "stderr",
     "output_type": "stream",
     "text": [
      "2018-03-04 11:00:55,627 : WARNING : duplicate word '42' in /Users/orprager/PycharmProjects/ml/samples/movies_reviews_sentiment_analysis/300features_40minwords_10context, ignoring all but first\n"
     ]
    },
    {
     "name": "stderr",
     "output_type": "stream",
     "text": [
      "2018-03-04 11:00:55,629 : WARNING : duplicate word '05' in /Users/orprager/PycharmProjects/ml/samples/movies_reviews_sentiment_analysis/300features_40minwords_10context, ignoring all but first\n"
     ]
    },
    {
     "name": "stderr",
     "output_type": "stream",
     "text": [
      "2018-03-04 11:00:55,630 : WARNING : duplicate word '4' in /Users/orprager/PycharmProjects/ml/samples/movies_reviews_sentiment_analysis/300features_40minwords_10context, ignoring all but first\n"
     ]
    },
    {
     "name": "stderr",
     "output_type": "stream",
     "text": [
      "2018-03-04 11:00:55,632 : WARNING : duplicate word '2' in /Users/orprager/PycharmProjects/ml/samples/movies_reviews_sentiment_analysis/300features_40minwords_10context, ignoring all but first\n"
     ]
    },
    {
     "name": "stderr",
     "output_type": "stream",
     "text": [
      "2018-03-04 11:00:55,634 : WARNING : duplicate word '215' in /Users/orprager/PycharmProjects/ml/samples/movies_reviews_sentiment_analysis/300features_40minwords_10context, ignoring all but first\n"
     ]
    },
    {
     "name": "stderr",
     "output_type": "stream",
     "text": [
      "2018-03-04 11:00:55,636 : WARNING : duplicate word '22' in /Users/orprager/PycharmProjects/ml/samples/movies_reviews_sentiment_analysis/300features_40minwords_10context, ignoring all but first\n"
     ]
    },
    {
     "name": "stderr",
     "output_type": "stream",
     "text": [
      "2018-03-04 11:00:55,637 : WARNING : duplicate word '' in /Users/orprager/PycharmProjects/ml/samples/movies_reviews_sentiment_analysis/300features_40minwords_10context, ignoring all but first\n"
     ]
    },
    {
     "name": "stderr",
     "output_type": "stream",
     "text": [
      "2018-03-04 11:00:55,639 : WARNING : duplicate word '4' in /Users/orprager/PycharmProjects/ml/samples/movies_reviews_sentiment_analysis/300features_40minwords_10context, ignoring all but first\n"
     ]
    },
    {
     "name": "stderr",
     "output_type": "stream",
     "text": [
      "2018-03-04 11:00:55,640 : WARNING : duplicate word '6' in /Users/orprager/PycharmProjects/ml/samples/movies_reviews_sentiment_analysis/300features_40minwords_10context, ignoring all but first\n"
     ]
    },
    {
     "name": "stderr",
     "output_type": "stream",
     "text": [
      "2018-03-04 11:00:55,642 : WARNING : duplicate word '' in /Users/orprager/PycharmProjects/ml/samples/movies_reviews_sentiment_analysis/300features_40minwords_10context, ignoring all but first\n"
     ]
    },
    {
     "name": "stderr",
     "output_type": "stream",
     "text": [
      "2018-03-04 11:00:55,644 : WARNING : duplicate word '94' in /Users/orprager/PycharmProjects/ml/samples/movies_reviews_sentiment_analysis/300features_40minwords_10context, ignoring all but first\n"
     ]
    },
    {
     "name": "stderr",
     "output_type": "stream",
     "text": [
      "2018-03-04 11:00:55,645 : WARNING : duplicate word '06' in /Users/orprager/PycharmProjects/ml/samples/movies_reviews_sentiment_analysis/300features_40minwords_10context, ignoring all but first\n"
     ]
    },
    {
     "name": "stderr",
     "output_type": "stream",
     "text": [
      "2018-03-04 11:00:55,647 : WARNING : duplicate word '5' in /Users/orprager/PycharmProjects/ml/samples/movies_reviews_sentiment_analysis/300features_40minwords_10context, ignoring all but first\n"
     ]
    },
    {
     "name": "stderr",
     "output_type": "stream",
     "text": [
      "2018-03-04 11:00:55,650 : WARNING : duplicate word '25' in /Users/orprager/PycharmProjects/ml/samples/movies_reviews_sentiment_analysis/300features_40minwords_10context, ignoring all but first\n"
     ]
    },
    {
     "name": "stderr",
     "output_type": "stream",
     "text": [
      "2018-03-04 11:00:55,653 : WARNING : duplicate word '2' in /Users/orprager/PycharmProjects/ml/samples/movies_reviews_sentiment_analysis/300features_40minwords_10context, ignoring all but first\n"
     ]
    },
    {
     "name": "stderr",
     "output_type": "stream",
     "text": [
      "2018-03-04 11:00:55,655 : WARNING : duplicate word '' in /Users/orprager/PycharmProjects/ml/samples/movies_reviews_sentiment_analysis/300features_40minwords_10context, ignoring all but first\n"
     ]
    },
    {
     "name": "stderr",
     "output_type": "stream",
     "text": [
      "2018-03-04 11:00:55,656 : WARNING : duplicate word '48' in /Users/orprager/PycharmProjects/ml/samples/movies_reviews_sentiment_analysis/300features_40minwords_10context, ignoring all but first\n"
     ]
    },
    {
     "name": "stderr",
     "output_type": "stream",
     "text": [
      "2018-03-04 11:00:55,658 : WARNING : duplicate word '' in /Users/orprager/PycharmProjects/ml/samples/movies_reviews_sentiment_analysis/300features_40minwords_10context, ignoring all but first\n"
     ]
    },
    {
     "name": "stderr",
     "output_type": "stream",
     "text": [
      "2018-03-04 11:00:55,659 : WARNING : duplicate word '48' in /Users/orprager/PycharmProjects/ml/samples/movies_reviews_sentiment_analysis/300features_40minwords_10context, ignoring all but first\n"
     ]
    },
    {
     "name": "stderr",
     "output_type": "stream",
     "text": [
      "2018-03-04 11:00:55,661 : WARNING : duplicate word '' in /Users/orprager/PycharmProjects/ml/samples/movies_reviews_sentiment_analysis/300features_40minwords_10context, ignoring all but first\n"
     ]
    },
    {
     "name": "stderr",
     "output_type": "stream",
     "text": [
      "2018-03-04 11:00:55,663 : WARNING : duplicate word '' in /Users/orprager/PycharmProjects/ml/samples/movies_reviews_sentiment_analysis/300features_40minwords_10context, ignoring all but first\n"
     ]
    },
    {
     "name": "stderr",
     "output_type": "stream",
     "text": [
      "2018-03-04 11:00:55,664 : WARNING : duplicate word '3' in /Users/orprager/PycharmProjects/ml/samples/movies_reviews_sentiment_analysis/300features_40minwords_10context, ignoring all but first\n"
     ]
    },
    {
     "name": "stderr",
     "output_type": "stream",
     "text": [
      "2018-03-04 11:00:55,666 : WARNING : duplicate word '3' in /Users/orprager/PycharmProjects/ml/samples/movies_reviews_sentiment_analysis/300features_40minwords_10context, ignoring all but first\n"
     ]
    },
    {
     "name": "stderr",
     "output_type": "stream",
     "text": [
      "2018-03-04 11:00:55,668 : WARNING : duplicate word '62' in /Users/orprager/PycharmProjects/ml/samples/movies_reviews_sentiment_analysis/300features_40minwords_10context, ignoring all but first\n"
     ]
    },
    {
     "name": "stderr",
     "output_type": "stream",
     "text": [
      "2018-03-04 11:00:55,669 : WARNING : duplicate word '' in /Users/orprager/PycharmProjects/ml/samples/movies_reviews_sentiment_analysis/300features_40minwords_10context, ignoring all but first\n"
     ]
    },
    {
     "name": "stderr",
     "output_type": "stream",
     "text": [
      "2018-03-04 11:00:55,671 : WARNING : duplicate word '65' in /Users/orprager/PycharmProjects/ml/samples/movies_reviews_sentiment_analysis/300features_40minwords_10context, ignoring all but first\n"
     ]
    },
    {
     "name": "stderr",
     "output_type": "stream",
     "text": [
      "2018-03-04 11:00:55,673 : WARNING : duplicate word '2' in /Users/orprager/PycharmProjects/ml/samples/movies_reviews_sentiment_analysis/300features_40minwords_10context, ignoring all but first\n"
     ]
    },
    {
     "name": "stderr",
     "output_type": "stream",
     "text": [
      "2018-03-04 11:00:55,678 : WARNING : duplicate word '' in /Users/orprager/PycharmProjects/ml/samples/movies_reviews_sentiment_analysis/300features_40minwords_10context, ignoring all but first\n"
     ]
    },
    {
     "name": "stderr",
     "output_type": "stream",
     "text": [
      "2018-03-04 11:00:55,681 : WARNING : duplicate word '' in /Users/orprager/PycharmProjects/ml/samples/movies_reviews_sentiment_analysis/300features_40minwords_10context, ignoring all but first\n"
     ]
    },
    {
     "name": "stderr",
     "output_type": "stream",
     "text": [
      "2018-03-04 11:00:55,683 : WARNING : duplicate word '15' in /Users/orprager/PycharmProjects/ml/samples/movies_reviews_sentiment_analysis/300features_40minwords_10context, ignoring all but first\n"
     ]
    },
    {
     "name": "stderr",
     "output_type": "stream",
     "text": [
      "2018-03-04 11:00:55,685 : WARNING : duplicate word '75' in /Users/orprager/PycharmProjects/ml/samples/movies_reviews_sentiment_analysis/300features_40minwords_10context, ignoring all but first\n"
     ]
    },
    {
     "name": "stderr",
     "output_type": "stream",
     "text": [
      "2018-03-04 11:00:55,687 : WARNING : duplicate word '869' in /Users/orprager/PycharmProjects/ml/samples/movies_reviews_sentiment_analysis/300features_40minwords_10context, ignoring all but first\n"
     ]
    },
    {
     "name": "stderr",
     "output_type": "stream",
     "text": [
      "2018-03-04 11:00:55,688 : WARNING : duplicate word '' in /Users/orprager/PycharmProjects/ml/samples/movies_reviews_sentiment_analysis/300features_40minwords_10context, ignoring all but first\n"
     ]
    },
    {
     "name": "stderr",
     "output_type": "stream",
     "text": [
      "2018-03-04 11:00:55,691 : WARNING : duplicate word '466' in /Users/orprager/PycharmProjects/ml/samples/movies_reviews_sentiment_analysis/300features_40minwords_10context, ignoring all but first\n"
     ]
    },
    {
     "name": "stderr",
     "output_type": "stream",
     "text": [
      "2018-03-04 11:00:55,693 : WARNING : duplicate word '6' in /Users/orprager/PycharmProjects/ml/samples/movies_reviews_sentiment_analysis/300features_40minwords_10context, ignoring all but first\n"
     ]
    },
    {
     "name": "stderr",
     "output_type": "stream",
     "text": [
      "2018-03-04 11:00:55,695 : WARNING : duplicate word '55' in /Users/orprager/PycharmProjects/ml/samples/movies_reviews_sentiment_analysis/300features_40minwords_10context, ignoring all but first\n"
     ]
    },
    {
     "name": "stderr",
     "output_type": "stream",
     "text": [
      "2018-03-04 11:00:55,700 : WARNING : duplicate word '' in /Users/orprager/PycharmProjects/ml/samples/movies_reviews_sentiment_analysis/300features_40minwords_10context, ignoring all but first\n"
     ]
    },
    {
     "name": "stderr",
     "output_type": "stream",
     "text": [
      "2018-03-04 11:00:55,702 : WARNING : duplicate word '' in /Users/orprager/PycharmProjects/ml/samples/movies_reviews_sentiment_analysis/300features_40minwords_10context, ignoring all but first\n"
     ]
    },
    {
     "name": "stderr",
     "output_type": "stream",
     "text": [
      "2018-03-04 11:00:55,704 : WARNING : duplicate word '' in /Users/orprager/PycharmProjects/ml/samples/movies_reviews_sentiment_analysis/300features_40minwords_10context, ignoring all but first\n"
     ]
    },
    {
     "name": "stderr",
     "output_type": "stream",
     "text": [
      "2018-03-04 11:00:55,705 : WARNING : duplicate word '63' in /Users/orprager/PycharmProjects/ml/samples/movies_reviews_sentiment_analysis/300features_40minwords_10context, ignoring all but first\n"
     ]
    },
    {
     "name": "stderr",
     "output_type": "stream",
     "text": [
      "2018-03-04 11:00:55,707 : WARNING : duplicate word '82' in /Users/orprager/PycharmProjects/ml/samples/movies_reviews_sentiment_analysis/300features_40minwords_10context, ignoring all but first\n"
     ]
    },
    {
     "name": "stderr",
     "output_type": "stream",
     "text": [
      "2018-03-04 11:00:55,710 : WARNING : duplicate word '7' in /Users/orprager/PycharmProjects/ml/samples/movies_reviews_sentiment_analysis/300features_40minwords_10context, ignoring all but first\n"
     ]
    },
    {
     "name": "stderr",
     "output_type": "stream",
     "text": [
      "2018-03-04 11:00:55,714 : WARNING : duplicate word '' in /Users/orprager/PycharmProjects/ml/samples/movies_reviews_sentiment_analysis/300features_40minwords_10context, ignoring all but first\n"
     ]
    },
    {
     "name": "stderr",
     "output_type": "stream",
     "text": [
      "2018-03-04 11:00:55,717 : WARNING : duplicate word '' in /Users/orprager/PycharmProjects/ml/samples/movies_reviews_sentiment_analysis/300features_40minwords_10context, ignoring all but first\n"
     ]
    },
    {
     "name": "stderr",
     "output_type": "stream",
     "text": [
      "2018-03-04 11:00:55,720 : WARNING : duplicate word '3' in /Users/orprager/PycharmProjects/ml/samples/movies_reviews_sentiment_analysis/300features_40minwords_10context, ignoring all but first\n"
     ]
    },
    {
     "name": "stderr",
     "output_type": "stream",
     "text": [
      "2018-03-04 11:00:55,722 : WARNING : duplicate word '' in /Users/orprager/PycharmProjects/ml/samples/movies_reviews_sentiment_analysis/300features_40minwords_10context, ignoring all but first\n"
     ]
    },
    {
     "name": "stderr",
     "output_type": "stream",
     "text": [
      "2018-03-04 11:00:55,724 : WARNING : duplicate word '75' in /Users/orprager/PycharmProjects/ml/samples/movies_reviews_sentiment_analysis/300features_40minwords_10context, ignoring all but first\n"
     ]
    },
    {
     "name": "stderr",
     "output_type": "stream",
     "text": [
      "2018-03-04 11:00:55,726 : WARNING : duplicate word '1' in /Users/orprager/PycharmProjects/ml/samples/movies_reviews_sentiment_analysis/300features_40minwords_10context, ignoring all but first\n"
     ]
    },
    {
     "name": "stderr",
     "output_type": "stream",
     "text": [
      "2018-03-04 11:00:55,729 : WARNING : duplicate word '18' in /Users/orprager/PycharmProjects/ml/samples/movies_reviews_sentiment_analysis/300features_40minwords_10context, ignoring all but first\n"
     ]
    },
    {
     "name": "stderr",
     "output_type": "stream",
     "text": [
      "2018-03-04 11:00:55,734 : WARNING : duplicate word '8' in /Users/orprager/PycharmProjects/ml/samples/movies_reviews_sentiment_analysis/300features_40minwords_10context, ignoring all but first\n"
     ]
    },
    {
     "name": "stderr",
     "output_type": "stream",
     "text": [
      "2018-03-04 11:00:55,736 : WARNING : duplicate word '' in /Users/orprager/PycharmProjects/ml/samples/movies_reviews_sentiment_analysis/300features_40minwords_10context, ignoring all but first\n"
     ]
    },
    {
     "name": "stderr",
     "output_type": "stream",
     "text": [
      "2018-03-04 11:00:55,738 : WARNING : duplicate word '' in /Users/orprager/PycharmProjects/ml/samples/movies_reviews_sentiment_analysis/300features_40minwords_10context, ignoring all but first\n"
     ]
    },
    {
     "name": "stderr",
     "output_type": "stream",
     "text": [
      "2018-03-04 11:00:55,740 : WARNING : duplicate word '7' in /Users/orprager/PycharmProjects/ml/samples/movies_reviews_sentiment_analysis/300features_40minwords_10context, ignoring all but first\n"
     ]
    },
    {
     "name": "stderr",
     "output_type": "stream",
     "text": [
      "2018-03-04 11:00:55,742 : WARNING : duplicate word '9' in /Users/orprager/PycharmProjects/ml/samples/movies_reviews_sentiment_analysis/300features_40minwords_10context, ignoring all but first\n"
     ]
    },
    {
     "name": "stderr",
     "output_type": "stream",
     "text": [
      "2018-03-04 11:00:55,744 : WARNING : duplicate word '' in /Users/orprager/PycharmProjects/ml/samples/movies_reviews_sentiment_analysis/300features_40minwords_10context, ignoring all but first\n"
     ]
    },
    {
     "name": "stderr",
     "output_type": "stream",
     "text": [
      "2018-03-04 11:00:55,748 : WARNING : duplicate word '' in /Users/orprager/PycharmProjects/ml/samples/movies_reviews_sentiment_analysis/300features_40minwords_10context, ignoring all but first\n"
     ]
    },
    {
     "name": "stderr",
     "output_type": "stream",
     "text": [
      "2018-03-04 11:00:55,751 : WARNING : duplicate word '8' in /Users/orprager/PycharmProjects/ml/samples/movies_reviews_sentiment_analysis/300features_40minwords_10context, ignoring all but first\n"
     ]
    },
    {
     "name": "stderr",
     "output_type": "stream",
     "text": [
      "2018-03-04 11:00:55,753 : WARNING : duplicate word '6' in /Users/orprager/PycharmProjects/ml/samples/movies_reviews_sentiment_analysis/300features_40minwords_10context, ignoring all but first\n"
     ]
    },
    {
     "name": "stderr",
     "output_type": "stream",
     "text": [
      "2018-03-04 11:00:55,755 : WARNING : duplicate word '39' in /Users/orprager/PycharmProjects/ml/samples/movies_reviews_sentiment_analysis/300features_40minwords_10context, ignoring all but first\n"
     ]
    },
    {
     "name": "stderr",
     "output_type": "stream",
     "text": [
      "2018-03-04 11:00:55,756 : WARNING : duplicate word '2' in /Users/orprager/PycharmProjects/ml/samples/movies_reviews_sentiment_analysis/300features_40minwords_10context, ignoring all but first\n"
     ]
    },
    {
     "name": "stderr",
     "output_type": "stream",
     "text": [
      "2018-03-04 11:00:55,759 : WARNING : duplicate word '8' in /Users/orprager/PycharmProjects/ml/samples/movies_reviews_sentiment_analysis/300features_40minwords_10context, ignoring all but first\n"
     ]
    },
    {
     "name": "stderr",
     "output_type": "stream",
     "text": [
      "2018-03-04 11:00:55,761 : WARNING : duplicate word '' in /Users/orprager/PycharmProjects/ml/samples/movies_reviews_sentiment_analysis/300features_40minwords_10context, ignoring all but first\n"
     ]
    },
    {
     "name": "stderr",
     "output_type": "stream",
     "text": [
      "2018-03-04 11:00:55,762 : WARNING : duplicate word '6' in /Users/orprager/PycharmProjects/ml/samples/movies_reviews_sentiment_analysis/300features_40minwords_10context, ignoring all but first\n"
     ]
    },
    {
     "name": "stderr",
     "output_type": "stream",
     "text": [
      "2018-03-04 11:00:55,765 : WARNING : duplicate word '4' in /Users/orprager/PycharmProjects/ml/samples/movies_reviews_sentiment_analysis/300features_40minwords_10context, ignoring all but first\n"
     ]
    },
    {
     "name": "stderr",
     "output_type": "stream",
     "text": [
      "2018-03-04 11:00:55,768 : WARNING : duplicate word '2' in /Users/orprager/PycharmProjects/ml/samples/movies_reviews_sentiment_analysis/300features_40minwords_10context, ignoring all but first\n"
     ]
    },
    {
     "name": "stderr",
     "output_type": "stream",
     "text": [
      "2018-03-04 11:00:55,771 : WARNING : duplicate word '5' in /Users/orprager/PycharmProjects/ml/samples/movies_reviews_sentiment_analysis/300features_40minwords_10context, ignoring all but first\n"
     ]
    },
    {
     "name": "stderr",
     "output_type": "stream",
     "text": [
      "2018-03-04 11:00:55,773 : WARNING : duplicate word '8' in /Users/orprager/PycharmProjects/ml/samples/movies_reviews_sentiment_analysis/300features_40minwords_10context, ignoring all but first\n"
     ]
    },
    {
     "name": "stderr",
     "output_type": "stream",
     "text": [
      "2018-03-04 11:00:55,775 : WARNING : duplicate word '62' in /Users/orprager/PycharmProjects/ml/samples/movies_reviews_sentiment_analysis/300features_40minwords_10context, ignoring all but first\n"
     ]
    },
    {
     "name": "stderr",
     "output_type": "stream",
     "text": [
      "2018-03-04 11:00:55,777 : WARNING : duplicate word '55' in /Users/orprager/PycharmProjects/ml/samples/movies_reviews_sentiment_analysis/300features_40minwords_10context, ignoring all but first\n"
     ]
    },
    {
     "name": "stderr",
     "output_type": "stream",
     "text": [
      "2018-03-04 11:00:55,779 : WARNING : duplicate word '78' in /Users/orprager/PycharmProjects/ml/samples/movies_reviews_sentiment_analysis/300features_40minwords_10context, ignoring all but first\n"
     ]
    },
    {
     "name": "stderr",
     "output_type": "stream",
     "text": [
      "2018-03-04 11:00:55,780 : WARNING : duplicate word '6' in /Users/orprager/PycharmProjects/ml/samples/movies_reviews_sentiment_analysis/300features_40minwords_10context, ignoring all but first\n"
     ]
    },
    {
     "name": "stderr",
     "output_type": "stream",
     "text": [
      "2018-03-04 11:00:55,784 : WARNING : duplicate word '' in /Users/orprager/PycharmProjects/ml/samples/movies_reviews_sentiment_analysis/300features_40minwords_10context, ignoring all but first\n"
     ]
    },
    {
     "name": "stderr",
     "output_type": "stream",
     "text": [
      "2018-03-04 11:00:55,786 : WARNING : duplicate word '04' in /Users/orprager/PycharmProjects/ml/samples/movies_reviews_sentiment_analysis/300features_40minwords_10context, ignoring all but first\n"
     ]
    },
    {
     "name": "stderr",
     "output_type": "stream",
     "text": [
      "2018-03-04 11:00:55,788 : WARNING : duplicate word '6' in /Users/orprager/PycharmProjects/ml/samples/movies_reviews_sentiment_analysis/300features_40minwords_10context, ignoring all but first\n"
     ]
    },
    {
     "name": "stderr",
     "output_type": "stream",
     "text": [
      "2018-03-04 11:00:55,791 : WARNING : duplicate word '27' in /Users/orprager/PycharmProjects/ml/samples/movies_reviews_sentiment_analysis/300features_40minwords_10context, ignoring all but first\n"
     ]
    },
    {
     "name": "stderr",
     "output_type": "stream",
     "text": [
      "2018-03-04 11:00:55,792 : WARNING : duplicate word '945' in /Users/orprager/PycharmProjects/ml/samples/movies_reviews_sentiment_analysis/300features_40minwords_10context, ignoring all but first\n"
     ]
    },
    {
     "name": "stderr",
     "output_type": "stream",
     "text": [
      "2018-03-04 11:00:55,794 : WARNING : duplicate word '' in /Users/orprager/PycharmProjects/ml/samples/movies_reviews_sentiment_analysis/300features_40minwords_10context, ignoring all but first\n"
     ]
    },
    {
     "name": "stderr",
     "output_type": "stream",
     "text": [
      "2018-03-04 11:00:55,797 : WARNING : duplicate word '7' in /Users/orprager/PycharmProjects/ml/samples/movies_reviews_sentiment_analysis/300features_40minwords_10context, ignoring all but first\n"
     ]
    },
    {
     "name": "stderr",
     "output_type": "stream",
     "text": [
      "2018-03-04 11:00:55,798 : WARNING : duplicate word '13' in /Users/orprager/PycharmProjects/ml/samples/movies_reviews_sentiment_analysis/300features_40minwords_10context, ignoring all but first\n"
     ]
    },
    {
     "name": "stderr",
     "output_type": "stream",
     "text": [
      "2018-03-04 11:00:55,802 : WARNING : duplicate word '' in /Users/orprager/PycharmProjects/ml/samples/movies_reviews_sentiment_analysis/300features_40minwords_10context, ignoring all but first\n"
     ]
    },
    {
     "name": "stderr",
     "output_type": "stream",
     "text": [
      "2018-03-04 11:00:55,805 : WARNING : duplicate word '1' in /Users/orprager/PycharmProjects/ml/samples/movies_reviews_sentiment_analysis/300features_40minwords_10context, ignoring all but first\n"
     ]
    },
    {
     "name": "stderr",
     "output_type": "stream",
     "text": [
      "2018-03-04 11:00:55,806 : WARNING : duplicate word '2' in /Users/orprager/PycharmProjects/ml/samples/movies_reviews_sentiment_analysis/300features_40minwords_10context, ignoring all but first\n"
     ]
    },
    {
     "name": "stderr",
     "output_type": "stream",
     "text": [
      "2018-03-04 11:00:55,808 : WARNING : duplicate word '' in /Users/orprager/PycharmProjects/ml/samples/movies_reviews_sentiment_analysis/300features_40minwords_10context, ignoring all but first\n"
     ]
    },
    {
     "name": "stderr",
     "output_type": "stream",
     "text": [
      "2018-03-04 11:00:55,810 : WARNING : duplicate word '' in /Users/orprager/PycharmProjects/ml/samples/movies_reviews_sentiment_analysis/300features_40minwords_10context, ignoring all but first\n"
     ]
    },
    {
     "name": "stderr",
     "output_type": "stream",
     "text": [
      "2018-03-04 11:00:55,811 : WARNING : duplicate word '3' in /Users/orprager/PycharmProjects/ml/samples/movies_reviews_sentiment_analysis/300features_40minwords_10context, ignoring all but first\n"
     ]
    },
    {
     "name": "stderr",
     "output_type": "stream",
     "text": [
      "2018-03-04 11:00:55,813 : WARNING : duplicate word '' in /Users/orprager/PycharmProjects/ml/samples/movies_reviews_sentiment_analysis/300features_40minwords_10context, ignoring all but first\n"
     ]
    },
    {
     "name": "stderr",
     "output_type": "stream",
     "text": [
      "2018-03-04 11:00:55,815 : WARNING : duplicate word '736' in /Users/orprager/PycharmProjects/ml/samples/movies_reviews_sentiment_analysis/300features_40minwords_10context, ignoring all but first\n"
     ]
    },
    {
     "name": "stderr",
     "output_type": "stream",
     "text": [
      "2018-03-04 11:00:55,818 : WARNING : duplicate word '15' in /Users/orprager/PycharmProjects/ml/samples/movies_reviews_sentiment_analysis/300features_40minwords_10context, ignoring all but first\n"
     ]
    },
    {
     "name": "stderr",
     "output_type": "stream",
     "text": [
      "2018-03-04 11:00:55,821 : WARNING : duplicate word '' in /Users/orprager/PycharmProjects/ml/samples/movies_reviews_sentiment_analysis/300features_40minwords_10context, ignoring all but first\n"
     ]
    },
    {
     "name": "stderr",
     "output_type": "stream",
     "text": [
      "2018-03-04 11:00:55,823 : WARNING : duplicate word '58' in /Users/orprager/PycharmProjects/ml/samples/movies_reviews_sentiment_analysis/300features_40minwords_10context, ignoring all but first\n"
     ]
    },
    {
     "name": "stderr",
     "output_type": "stream",
     "text": [
      "2018-03-04 11:00:55,825 : WARNING : duplicate word '2' in /Users/orprager/PycharmProjects/ml/samples/movies_reviews_sentiment_analysis/300features_40minwords_10context, ignoring all but first\n"
     ]
    },
    {
     "name": "stderr",
     "output_type": "stream",
     "text": [
      "2018-03-04 11:00:55,826 : WARNING : duplicate word '2' in /Users/orprager/PycharmProjects/ml/samples/movies_reviews_sentiment_analysis/300features_40minwords_10context, ignoring all but first\n"
     ]
    },
    {
     "name": "stderr",
     "output_type": "stream",
     "text": [
      "2018-03-04 11:00:55,829 : WARNING : duplicate word '1' in /Users/orprager/PycharmProjects/ml/samples/movies_reviews_sentiment_analysis/300features_40minwords_10context, ignoring all but first\n"
     ]
    },
    {
     "name": "stderr",
     "output_type": "stream",
     "text": [
      "2018-03-04 11:00:55,833 : WARNING : duplicate word '' in /Users/orprager/PycharmProjects/ml/samples/movies_reviews_sentiment_analysis/300features_40minwords_10context, ignoring all but first\n"
     ]
    },
    {
     "name": "stderr",
     "output_type": "stream",
     "text": [
      "2018-03-04 11:00:55,837 : WARNING : duplicate word '78' in /Users/orprager/PycharmProjects/ml/samples/movies_reviews_sentiment_analysis/300features_40minwords_10context, ignoring all but first\n"
     ]
    },
    {
     "name": "stderr",
     "output_type": "stream",
     "text": [
      "2018-03-04 11:00:55,838 : WARNING : duplicate word '55' in /Users/orprager/PycharmProjects/ml/samples/movies_reviews_sentiment_analysis/300features_40minwords_10context, ignoring all but first\n"
     ]
    },
    {
     "name": "stderr",
     "output_type": "stream",
     "text": [
      "2018-03-04 11:00:55,840 : WARNING : duplicate word '8' in /Users/orprager/PycharmProjects/ml/samples/movies_reviews_sentiment_analysis/300features_40minwords_10context, ignoring all but first\n"
     ]
    },
    {
     "name": "stderr",
     "output_type": "stream",
     "text": [
      "2018-03-04 11:00:55,842 : WARNING : duplicate word '' in /Users/orprager/PycharmProjects/ml/samples/movies_reviews_sentiment_analysis/300features_40minwords_10context, ignoring all but first\n"
     ]
    },
    {
     "name": "stderr",
     "output_type": "stream",
     "text": [
      "2018-03-04 11:00:55,843 : WARNING : duplicate word '' in /Users/orprager/PycharmProjects/ml/samples/movies_reviews_sentiment_analysis/300features_40minwords_10context, ignoring all but first\n"
     ]
    },
    {
     "name": "stderr",
     "output_type": "stream",
     "text": [
      "2018-03-04 11:00:55,845 : WARNING : duplicate word '' in /Users/orprager/PycharmProjects/ml/samples/movies_reviews_sentiment_analysis/300features_40minwords_10context, ignoring all but first\n"
     ]
    },
    {
     "name": "stderr",
     "output_type": "stream",
     "text": [
      "2018-03-04 11:00:55,848 : WARNING : duplicate word '7' in /Users/orprager/PycharmProjects/ml/samples/movies_reviews_sentiment_analysis/300features_40minwords_10context, ignoring all but first\n"
     ]
    },
    {
     "name": "stderr",
     "output_type": "stream",
     "text": [
      "2018-03-04 11:00:55,851 : WARNING : duplicate word '3' in /Users/orprager/PycharmProjects/ml/samples/movies_reviews_sentiment_analysis/300features_40minwords_10context, ignoring all but first\n"
     ]
    },
    {
     "name": "stderr",
     "output_type": "stream",
     "text": [
      "2018-03-04 11:00:55,857 : WARNING : duplicate word '' in /Users/orprager/PycharmProjects/ml/samples/movies_reviews_sentiment_analysis/300features_40minwords_10context, ignoring all but first\n"
     ]
    },
    {
     "name": "stderr",
     "output_type": "stream",
     "text": [
      "2018-03-04 11:00:55,859 : WARNING : duplicate word '5' in /Users/orprager/PycharmProjects/ml/samples/movies_reviews_sentiment_analysis/300features_40minwords_10context, ignoring all but first\n"
     ]
    },
    {
     "name": "stderr",
     "output_type": "stream",
     "text": [
      "2018-03-04 11:00:55,861 : WARNING : duplicate word '9' in /Users/orprager/PycharmProjects/ml/samples/movies_reviews_sentiment_analysis/300features_40minwords_10context, ignoring all but first\n"
     ]
    },
    {
     "name": "stderr",
     "output_type": "stream",
     "text": [
      "2018-03-04 11:00:55,862 : WARNING : duplicate word '7' in /Users/orprager/PycharmProjects/ml/samples/movies_reviews_sentiment_analysis/300features_40minwords_10context, ignoring all but first\n"
     ]
    },
    {
     "name": "stderr",
     "output_type": "stream",
     "text": [
      "2018-03-04 11:00:55,864 : WARNING : duplicate word '1016' in /Users/orprager/PycharmProjects/ml/samples/movies_reviews_sentiment_analysis/300features_40minwords_10context, ignoring all but first\n"
     ]
    },
    {
     "name": "stderr",
     "output_type": "stream",
     "text": [
      "2018-03-04 11:00:55,867 : WARNING : duplicate word '14' in /Users/orprager/PycharmProjects/ml/samples/movies_reviews_sentiment_analysis/300features_40minwords_10context, ignoring all but first\n"
     ]
    },
    {
     "name": "stderr",
     "output_type": "stream",
     "text": [
      "2018-03-04 11:00:55,870 : WARNING : duplicate word '86' in /Users/orprager/PycharmProjects/ml/samples/movies_reviews_sentiment_analysis/300features_40minwords_10context, ignoring all but first\n"
     ]
    },
    {
     "name": "stderr",
     "output_type": "stream",
     "text": [
      "2018-03-04 11:00:55,872 : WARNING : duplicate word '' in /Users/orprager/PycharmProjects/ml/samples/movies_reviews_sentiment_analysis/300features_40minwords_10context, ignoring all but first\n"
     ]
    },
    {
     "name": "stderr",
     "output_type": "stream",
     "text": [
      "2018-03-04 11:00:55,874 : WARNING : duplicate word '38' in /Users/orprager/PycharmProjects/ml/samples/movies_reviews_sentiment_analysis/300features_40minwords_10context, ignoring all but first\n"
     ]
    },
    {
     "name": "stderr",
     "output_type": "stream",
     "text": [
      "2018-03-04 11:00:55,876 : WARNING : duplicate word '6' in /Users/orprager/PycharmProjects/ml/samples/movies_reviews_sentiment_analysis/300features_40minwords_10context, ignoring all but first\n"
     ]
    },
    {
     "name": "stderr",
     "output_type": "stream",
     "text": [
      "2018-03-04 11:00:55,877 : WARNING : duplicate word '21' in /Users/orprager/PycharmProjects/ml/samples/movies_reviews_sentiment_analysis/300features_40minwords_10context, ignoring all but first\n"
     ]
    },
    {
     "name": "stderr",
     "output_type": "stream",
     "text": [
      "2018-03-04 11:00:55,879 : WARNING : duplicate word '4' in /Users/orprager/PycharmProjects/ml/samples/movies_reviews_sentiment_analysis/300features_40minwords_10context, ignoring all but first\n"
     ]
    },
    {
     "name": "stderr",
     "output_type": "stream",
     "text": [
      "2018-03-04 11:00:55,880 : WARNING : duplicate word '55' in /Users/orprager/PycharmProjects/ml/samples/movies_reviews_sentiment_analysis/300features_40minwords_10context, ignoring all but first\n"
     ]
    },
    {
     "name": "stderr",
     "output_type": "stream",
     "text": [
      "2018-03-04 11:00:55,882 : WARNING : duplicate word '86' in /Users/orprager/PycharmProjects/ml/samples/movies_reviews_sentiment_analysis/300features_40minwords_10context, ignoring all but first\n"
     ]
    },
    {
     "name": "stderr",
     "output_type": "stream",
     "text": [
      "2018-03-04 11:00:55,883 : WARNING : duplicate word '43' in /Users/orprager/PycharmProjects/ml/samples/movies_reviews_sentiment_analysis/300features_40minwords_10context, ignoring all but first\n"
     ]
    },
    {
     "name": "stderr",
     "output_type": "stream",
     "text": [
      "2018-03-04 11:00:55,884 : WARNING : duplicate word '' in /Users/orprager/PycharmProjects/ml/samples/movies_reviews_sentiment_analysis/300features_40minwords_10context, ignoring all but first\n"
     ]
    },
    {
     "name": "stderr",
     "output_type": "stream",
     "text": [
      "2018-03-04 11:00:55,887 : WARNING : duplicate word '' in /Users/orprager/PycharmProjects/ml/samples/movies_reviews_sentiment_analysis/300features_40minwords_10context, ignoring all but first\n"
     ]
    },
    {
     "name": "stderr",
     "output_type": "stream",
     "text": [
      "2018-03-04 11:00:55,889 : WARNING : duplicate word '1' in /Users/orprager/PycharmProjects/ml/samples/movies_reviews_sentiment_analysis/300features_40minwords_10context, ignoring all but first\n"
     ]
    },
    {
     "name": "stderr",
     "output_type": "stream",
     "text": [
      "2018-03-04 11:00:55,891 : WARNING : duplicate word '6' in /Users/orprager/PycharmProjects/ml/samples/movies_reviews_sentiment_analysis/300features_40minwords_10context, ignoring all but first\n"
     ]
    },
    {
     "name": "stderr",
     "output_type": "stream",
     "text": [
      "2018-03-04 11:00:55,894 : WARNING : duplicate word '74' in /Users/orprager/PycharmProjects/ml/samples/movies_reviews_sentiment_analysis/300features_40minwords_10context, ignoring all but first\n"
     ]
    },
    {
     "name": "stderr",
     "output_type": "stream",
     "text": [
      "2018-03-04 11:00:55,896 : WARNING : duplicate word '' in /Users/orprager/PycharmProjects/ml/samples/movies_reviews_sentiment_analysis/300features_40minwords_10context, ignoring all but first\n"
     ]
    },
    {
     "name": "stderr",
     "output_type": "stream",
     "text": [
      "2018-03-04 11:00:55,900 : WARNING : duplicate word '7' in /Users/orprager/PycharmProjects/ml/samples/movies_reviews_sentiment_analysis/300features_40minwords_10context, ignoring all but first\n"
     ]
    },
    {
     "name": "stderr",
     "output_type": "stream",
     "text": [
      "2018-03-04 11:00:55,903 : WARNING : duplicate word '04' in /Users/orprager/PycharmProjects/ml/samples/movies_reviews_sentiment_analysis/300features_40minwords_10context, ignoring all but first\n"
     ]
    },
    {
     "name": "stderr",
     "output_type": "stream",
     "text": [
      "2018-03-04 11:00:55,904 : WARNING : duplicate word '66' in /Users/orprager/PycharmProjects/ml/samples/movies_reviews_sentiment_analysis/300features_40minwords_10context, ignoring all but first\n"
     ]
    },
    {
     "name": "stderr",
     "output_type": "stream",
     "text": [
      "2018-03-04 11:00:55,907 : WARNING : duplicate word '' in /Users/orprager/PycharmProjects/ml/samples/movies_reviews_sentiment_analysis/300features_40minwords_10context, ignoring all but first\n"
     ]
    },
    {
     "name": "stderr",
     "output_type": "stream",
     "text": [
      "2018-03-04 11:00:55,909 : WARNING : duplicate word '' in /Users/orprager/PycharmProjects/ml/samples/movies_reviews_sentiment_analysis/300features_40minwords_10context, ignoring all but first\n"
     ]
    },
    {
     "name": "stderr",
     "output_type": "stream",
     "text": [
      "2018-03-04 11:00:55,911 : WARNING : duplicate word '' in /Users/orprager/PycharmProjects/ml/samples/movies_reviews_sentiment_analysis/300features_40minwords_10context, ignoring all but first\n"
     ]
    },
    {
     "name": "stderr",
     "output_type": "stream",
     "text": [
      "2018-03-04 11:00:55,914 : WARNING : duplicate word '' in /Users/orprager/PycharmProjects/ml/samples/movies_reviews_sentiment_analysis/300features_40minwords_10context, ignoring all but first\n"
     ]
    },
    {
     "name": "stderr",
     "output_type": "stream",
     "text": [
      "2018-03-04 11:00:55,917 : WARNING : duplicate word '12' in /Users/orprager/PycharmProjects/ml/samples/movies_reviews_sentiment_analysis/300features_40minwords_10context, ignoring all but first\n"
     ]
    },
    {
     "name": "stderr",
     "output_type": "stream",
     "text": [
      "2018-03-04 11:00:55,918 : WARNING : duplicate word '6' in /Users/orprager/PycharmProjects/ml/samples/movies_reviews_sentiment_analysis/300features_40minwords_10context, ignoring all but first\n"
     ]
    },
    {
     "name": "stderr",
     "output_type": "stream",
     "text": [
      "2018-03-04 11:00:55,920 : WARNING : duplicate word '6' in /Users/orprager/PycharmProjects/ml/samples/movies_reviews_sentiment_analysis/300features_40minwords_10context, ignoring all but first\n"
     ]
    },
    {
     "name": "stderr",
     "output_type": "stream",
     "text": [
      "2018-03-04 11:00:55,922 : WARNING : duplicate word '9' in /Users/orprager/PycharmProjects/ml/samples/movies_reviews_sentiment_analysis/300features_40minwords_10context, ignoring all but first\n"
     ]
    },
    {
     "name": "stderr",
     "output_type": "stream",
     "text": [
      "2018-03-04 11:00:55,925 : WARNING : duplicate word '2' in /Users/orprager/PycharmProjects/ml/samples/movies_reviews_sentiment_analysis/300features_40minwords_10context, ignoring all but first\n"
     ]
    },
    {
     "name": "stderr",
     "output_type": "stream",
     "text": [
      "2018-03-04 11:00:55,931 : WARNING : duplicate word '' in /Users/orprager/PycharmProjects/ml/samples/movies_reviews_sentiment_analysis/300features_40minwords_10context, ignoring all but first\n"
     ]
    },
    {
     "name": "stderr",
     "output_type": "stream",
     "text": [
      "2018-03-04 11:00:55,934 : WARNING : duplicate word '5' in /Users/orprager/PycharmProjects/ml/samples/movies_reviews_sentiment_analysis/300features_40minwords_10context, ignoring all but first\n"
     ]
    },
    {
     "name": "stderr",
     "output_type": "stream",
     "text": [
      "2018-03-04 11:00:55,936 : WARNING : duplicate word '09' in /Users/orprager/PycharmProjects/ml/samples/movies_reviews_sentiment_analysis/300features_40minwords_10context, ignoring all but first\n"
     ]
    },
    {
     "name": "stderr",
     "output_type": "stream",
     "text": [
      "2018-03-04 11:00:55,938 : WARNING : duplicate word '3' in /Users/orprager/PycharmProjects/ml/samples/movies_reviews_sentiment_analysis/300features_40minwords_10context, ignoring all but first\n"
     ]
    },
    {
     "name": "stderr",
     "output_type": "stream",
     "text": [
      "2018-03-04 11:00:55,940 : WARNING : duplicate word '3' in /Users/orprager/PycharmProjects/ml/samples/movies_reviews_sentiment_analysis/300features_40minwords_10context, ignoring all but first\n"
     ]
    },
    {
     "name": "stderr",
     "output_type": "stream",
     "text": [
      "2018-03-04 11:00:55,942 : WARNING : duplicate word '56' in /Users/orprager/PycharmProjects/ml/samples/movies_reviews_sentiment_analysis/300features_40minwords_10context, ignoring all but first\n"
     ]
    },
    {
     "name": "stderr",
     "output_type": "stream",
     "text": [
      "2018-03-04 11:00:55,946 : WARNING : duplicate word '2' in /Users/orprager/PycharmProjects/ml/samples/movies_reviews_sentiment_analysis/300features_40minwords_10context, ignoring all but first\n"
     ]
    },
    {
     "name": "stderr",
     "output_type": "stream",
     "text": [
      "2018-03-04 11:00:55,948 : WARNING : duplicate word '' in /Users/orprager/PycharmProjects/ml/samples/movies_reviews_sentiment_analysis/300features_40minwords_10context, ignoring all but first\n"
     ]
    },
    {
     "name": "stderr",
     "output_type": "stream",
     "text": [
      "2018-03-04 11:00:55,950 : WARNING : duplicate word '5' in /Users/orprager/PycharmProjects/ml/samples/movies_reviews_sentiment_analysis/300features_40minwords_10context, ignoring all but first\n"
     ]
    },
    {
     "name": "stderr",
     "output_type": "stream",
     "text": [
      "2018-03-04 11:00:55,952 : WARNING : duplicate word '368' in /Users/orprager/PycharmProjects/ml/samples/movies_reviews_sentiment_analysis/300features_40minwords_10context, ignoring all but first\n"
     ]
    },
    {
     "name": "stderr",
     "output_type": "stream",
     "text": [
      "2018-03-04 11:00:55,955 : WARNING : duplicate word '33' in /Users/orprager/PycharmProjects/ml/samples/movies_reviews_sentiment_analysis/300features_40minwords_10context, ignoring all but first\n"
     ]
    },
    {
     "name": "stderr",
     "output_type": "stream",
     "text": [
      "2018-03-04 11:00:55,957 : WARNING : duplicate word '36' in /Users/orprager/PycharmProjects/ml/samples/movies_reviews_sentiment_analysis/300features_40minwords_10context, ignoring all but first\n"
     ]
    },
    {
     "name": "stderr",
     "output_type": "stream",
     "text": [
      "2018-03-04 11:00:55,958 : WARNING : duplicate word '2' in /Users/orprager/PycharmProjects/ml/samples/movies_reviews_sentiment_analysis/300features_40minwords_10context, ignoring all but first\n"
     ]
    },
    {
     "name": "stderr",
     "output_type": "stream",
     "text": [
      "2018-03-04 11:00:55,961 : WARNING : duplicate word '' in /Users/orprager/PycharmProjects/ml/samples/movies_reviews_sentiment_analysis/300features_40minwords_10context, ignoring all but first\n"
     ]
    },
    {
     "name": "stderr",
     "output_type": "stream",
     "text": [
      "2018-03-04 11:00:55,962 : WARNING : duplicate word '55' in /Users/orprager/PycharmProjects/ml/samples/movies_reviews_sentiment_analysis/300features_40minwords_10context, ignoring all but first\n"
     ]
    },
    {
     "name": "stderr",
     "output_type": "stream",
     "text": [
      "2018-03-04 11:00:55,966 : WARNING : duplicate word '' in /Users/orprager/PycharmProjects/ml/samples/movies_reviews_sentiment_analysis/300features_40minwords_10context, ignoring all but first\n"
     ]
    },
    {
     "name": "stderr",
     "output_type": "stream",
     "text": [
      "2018-03-04 11:00:55,969 : WARNING : duplicate word '6' in /Users/orprager/PycharmProjects/ml/samples/movies_reviews_sentiment_analysis/300features_40minwords_10context, ignoring all but first\n"
     ]
    },
    {
     "name": "stderr",
     "output_type": "stream",
     "text": [
      "2018-03-04 11:00:55,971 : WARNING : duplicate word '' in /Users/orprager/PycharmProjects/ml/samples/movies_reviews_sentiment_analysis/300features_40minwords_10context, ignoring all but first\n"
     ]
    },
    {
     "name": "stderr",
     "output_type": "stream",
     "text": [
      "2018-03-04 11:00:55,973 : WARNING : duplicate word '7' in /Users/orprager/PycharmProjects/ml/samples/movies_reviews_sentiment_analysis/300features_40minwords_10context, ignoring all but first\n"
     ]
    },
    {
     "name": "stderr",
     "output_type": "stream",
     "text": [
      "2018-03-04 11:00:55,974 : WARNING : duplicate word '3' in /Users/orprager/PycharmProjects/ml/samples/movies_reviews_sentiment_analysis/300features_40minwords_10context, ignoring all but first\n"
     ]
    },
    {
     "name": "stderr",
     "output_type": "stream",
     "text": [
      "2018-03-04 11:00:55,976 : WARNING : duplicate word '' in /Users/orprager/PycharmProjects/ml/samples/movies_reviews_sentiment_analysis/300features_40minwords_10context, ignoring all but first\n"
     ]
    },
    {
     "name": "stderr",
     "output_type": "stream",
     "text": [
      "2018-03-04 11:00:55,978 : WARNING : duplicate word '42' in /Users/orprager/PycharmProjects/ml/samples/movies_reviews_sentiment_analysis/300features_40minwords_10context, ignoring all but first\n"
     ]
    },
    {
     "name": "stderr",
     "output_type": "stream",
     "text": [
      "2018-03-04 11:00:55,980 : WARNING : duplicate word '3' in /Users/orprager/PycharmProjects/ml/samples/movies_reviews_sentiment_analysis/300features_40minwords_10context, ignoring all but first\n"
     ]
    },
    {
     "name": "stderr",
     "output_type": "stream",
     "text": [
      "2018-03-04 11:00:55,983 : WARNING : duplicate word '5' in /Users/orprager/PycharmProjects/ml/samples/movies_reviews_sentiment_analysis/300features_40minwords_10context, ignoring all but first\n"
     ]
    },
    {
     "name": "stderr",
     "output_type": "stream",
     "text": [
      "2018-03-04 11:00:55,985 : WARNING : duplicate word '' in /Users/orprager/PycharmProjects/ml/samples/movies_reviews_sentiment_analysis/300features_40minwords_10context, ignoring all but first\n"
     ]
    },
    {
     "name": "stderr",
     "output_type": "stream",
     "text": [
      "2018-03-04 11:00:55,988 : WARNING : duplicate word '33' in /Users/orprager/PycharmProjects/ml/samples/movies_reviews_sentiment_analysis/300features_40minwords_10context, ignoring all but first\n"
     ]
    },
    {
     "name": "stderr",
     "output_type": "stream",
     "text": [
      "2018-03-04 11:00:55,990 : WARNING : duplicate word '195' in /Users/orprager/PycharmProjects/ml/samples/movies_reviews_sentiment_analysis/300features_40minwords_10context, ignoring all but first\n"
     ]
    },
    {
     "name": "stderr",
     "output_type": "stream",
     "text": [
      "2018-03-04 11:00:55,991 : WARNING : duplicate word '' in /Users/orprager/PycharmProjects/ml/samples/movies_reviews_sentiment_analysis/300features_40minwords_10context, ignoring all but first\n"
     ]
    },
    {
     "name": "stderr",
     "output_type": "stream",
     "text": [
      "2018-03-04 11:00:55,993 : WARNING : duplicate word '85' in /Users/orprager/PycharmProjects/ml/samples/movies_reviews_sentiment_analysis/300features_40minwords_10context, ignoring all but first\n"
     ]
    },
    {
     "name": "stderr",
     "output_type": "stream",
     "text": [
      "2018-03-04 11:00:55,994 : WARNING : duplicate word '99' in /Users/orprager/PycharmProjects/ml/samples/movies_reviews_sentiment_analysis/300features_40minwords_10context, ignoring all but first\n"
     ]
    },
    {
     "name": "stderr",
     "output_type": "stream",
     "text": [
      "2018-03-04 11:00:55,996 : WARNING : duplicate word '' in /Users/orprager/PycharmProjects/ml/samples/movies_reviews_sentiment_analysis/300features_40minwords_10context, ignoring all but first\n"
     ]
    },
    {
     "name": "stderr",
     "output_type": "stream",
     "text": [
      "2018-03-04 11:00:55,999 : WARNING : duplicate word '62' in /Users/orprager/PycharmProjects/ml/samples/movies_reviews_sentiment_analysis/300features_40minwords_10context, ignoring all but first\n"
     ]
    },
    {
     "name": "stderr",
     "output_type": "stream",
     "text": [
      "2018-03-04 11:00:56,002 : WARNING : duplicate word '' in /Users/orprager/PycharmProjects/ml/samples/movies_reviews_sentiment_analysis/300features_40minwords_10context, ignoring all but first\n"
     ]
    },
    {
     "name": "stderr",
     "output_type": "stream",
     "text": [
      "2018-03-04 11:00:56,004 : WARNING : duplicate word '6' in /Users/orprager/PycharmProjects/ml/samples/movies_reviews_sentiment_analysis/300features_40minwords_10context, ignoring all but first\n"
     ]
    },
    {
     "name": "stderr",
     "output_type": "stream",
     "text": [
      "2018-03-04 11:00:56,006 : WARNING : duplicate word '9' in /Users/orprager/PycharmProjects/ml/samples/movies_reviews_sentiment_analysis/300features_40minwords_10context, ignoring all but first\n"
     ]
    },
    {
     "name": "stderr",
     "output_type": "stream",
     "text": [
      "2018-03-04 11:00:56,008 : WARNING : duplicate word '4' in /Users/orprager/PycharmProjects/ml/samples/movies_reviews_sentiment_analysis/300features_40minwords_10context, ignoring all but first\n"
     ]
    },
    {
     "name": "stderr",
     "output_type": "stream",
     "text": [
      "2018-03-04 11:00:56,009 : WARNING : duplicate word '118' in /Users/orprager/PycharmProjects/ml/samples/movies_reviews_sentiment_analysis/300features_40minwords_10context, ignoring all but first\n"
     ]
    },
    {
     "name": "stderr",
     "output_type": "stream",
     "text": [
      "2018-03-04 11:00:56,011 : WARNING : duplicate word '3' in /Users/orprager/PycharmProjects/ml/samples/movies_reviews_sentiment_analysis/300features_40minwords_10context, ignoring all but first\n"
     ]
    },
    {
     "name": "stderr",
     "output_type": "stream",
     "text": [
      "2018-03-04 11:00:56,013 : WARNING : duplicate word '' in /Users/orprager/PycharmProjects/ml/samples/movies_reviews_sentiment_analysis/300features_40minwords_10context, ignoring all but first\n"
     ]
    },
    {
     "name": "stderr",
     "output_type": "stream",
     "text": [
      "2018-03-04 11:00:56,015 : WARNING : duplicate word '7' in /Users/orprager/PycharmProjects/ml/samples/movies_reviews_sentiment_analysis/300features_40minwords_10context, ignoring all but first\n"
     ]
    },
    {
     "name": "stderr",
     "output_type": "stream",
     "text": [
      "2018-03-04 11:00:56,016 : WARNING : duplicate word '921' in /Users/orprager/PycharmProjects/ml/samples/movies_reviews_sentiment_analysis/300features_40minwords_10context, ignoring all but first\n"
     ]
    },
    {
     "name": "stderr",
     "output_type": "stream",
     "text": [
      "2018-03-04 11:00:56,018 : WARNING : duplicate word '' in /Users/orprager/PycharmProjects/ml/samples/movies_reviews_sentiment_analysis/300features_40minwords_10context, ignoring all but first\n"
     ]
    },
    {
     "name": "stderr",
     "output_type": "stream",
     "text": [
      "2018-03-04 11:00:56,020 : WARNING : duplicate word '77' in /Users/orprager/PycharmProjects/ml/samples/movies_reviews_sentiment_analysis/300features_40minwords_10context, ignoring all but first\n"
     ]
    },
    {
     "name": "stderr",
     "output_type": "stream",
     "text": [
      "2018-03-04 11:00:56,022 : WARNING : duplicate word '' in /Users/orprager/PycharmProjects/ml/samples/movies_reviews_sentiment_analysis/300features_40minwords_10context, ignoring all but first\n"
     ]
    },
    {
     "name": "stderr",
     "output_type": "stream",
     "text": [
      "2018-03-04 11:00:56,023 : WARNING : duplicate word '' in /Users/orprager/PycharmProjects/ml/samples/movies_reviews_sentiment_analysis/300features_40minwords_10context, ignoring all but first\n"
     ]
    },
    {
     "name": "stderr",
     "output_type": "stream",
     "text": [
      "2018-03-04 11:00:56,025 : WARNING : duplicate word '33' in /Users/orprager/PycharmProjects/ml/samples/movies_reviews_sentiment_analysis/300features_40minwords_10context, ignoring all but first\n"
     ]
    },
    {
     "name": "stderr",
     "output_type": "stream",
     "text": [
      "2018-03-04 11:00:56,026 : WARNING : duplicate word '6' in /Users/orprager/PycharmProjects/ml/samples/movies_reviews_sentiment_analysis/300features_40minwords_10context, ignoring all but first\n"
     ]
    },
    {
     "name": "stderr",
     "output_type": "stream",
     "text": [
      "2018-03-04 11:00:56,028 : WARNING : duplicate word '6' in /Users/orprager/PycharmProjects/ml/samples/movies_reviews_sentiment_analysis/300features_40minwords_10context, ignoring all but first\n"
     ]
    },
    {
     "name": "stderr",
     "output_type": "stream",
     "text": [
      "2018-03-04 11:00:56,030 : WARNING : duplicate word '96' in /Users/orprager/PycharmProjects/ml/samples/movies_reviews_sentiment_analysis/300features_40minwords_10context, ignoring all but first\n"
     ]
    },
    {
     "name": "stderr",
     "output_type": "stream",
     "text": [
      "2018-03-04 11:00:56,031 : WARNING : duplicate word '06' in /Users/orprager/PycharmProjects/ml/samples/movies_reviews_sentiment_analysis/300features_40minwords_10context, ignoring all but first\n"
     ]
    },
    {
     "name": "stderr",
     "output_type": "stream",
     "text": [
      "2018-03-04 11:00:56,038 : WARNING : duplicate word '2' in /Users/orprager/PycharmProjects/ml/samples/movies_reviews_sentiment_analysis/300features_40minwords_10context, ignoring all but first\n"
     ]
    },
    {
     "name": "stderr",
     "output_type": "stream",
     "text": [
      "2018-03-04 11:00:56,039 : WARNING : duplicate word '5' in /Users/orprager/PycharmProjects/ml/samples/movies_reviews_sentiment_analysis/300features_40minwords_10context, ignoring all but first\n"
     ]
    },
    {
     "name": "stderr",
     "output_type": "stream",
     "text": [
      "2018-03-04 11:00:56,041 : WARNING : duplicate word '35' in /Users/orprager/PycharmProjects/ml/samples/movies_reviews_sentiment_analysis/300features_40minwords_10context, ignoring all but first\n"
     ]
    },
    {
     "name": "stderr",
     "output_type": "stream",
     "text": [
      "2018-03-04 11:00:56,043 : WARNING : duplicate word '41' in /Users/orprager/PycharmProjects/ml/samples/movies_reviews_sentiment_analysis/300features_40minwords_10context, ignoring all but first\n"
     ]
    },
    {
     "name": "stderr",
     "output_type": "stream",
     "text": [
      "2018-03-04 11:00:56,044 : WARNING : duplicate word '65' in /Users/orprager/PycharmProjects/ml/samples/movies_reviews_sentiment_analysis/300features_40minwords_10context, ignoring all but first\n"
     ]
    },
    {
     "name": "stderr",
     "output_type": "stream",
     "text": [
      "2018-03-04 11:00:56,046 : WARNING : duplicate word '' in /Users/orprager/PycharmProjects/ml/samples/movies_reviews_sentiment_analysis/300features_40minwords_10context, ignoring all but first\n"
     ]
    },
    {
     "name": "stderr",
     "output_type": "stream",
     "text": [
      "2018-03-04 11:00:56,048 : WARNING : duplicate word '764' in /Users/orprager/PycharmProjects/ml/samples/movies_reviews_sentiment_analysis/300features_40minwords_10context, ignoring all but first\n"
     ]
    },
    {
     "name": "stderr",
     "output_type": "stream",
     "text": [
      "2018-03-04 11:00:56,049 : WARNING : duplicate word '' in /Users/orprager/PycharmProjects/ml/samples/movies_reviews_sentiment_analysis/300features_40minwords_10context, ignoring all but first\n"
     ]
    },
    {
     "name": "stderr",
     "output_type": "stream",
     "text": [
      "2018-03-04 11:00:56,051 : WARNING : duplicate word '424' in /Users/orprager/PycharmProjects/ml/samples/movies_reviews_sentiment_analysis/300features_40minwords_10context, ignoring all but first\n"
     ]
    },
    {
     "name": "stderr",
     "output_type": "stream",
     "text": [
      "2018-03-04 11:00:56,052 : WARNING : duplicate word '' in /Users/orprager/PycharmProjects/ml/samples/movies_reviews_sentiment_analysis/300features_40minwords_10context, ignoring all but first\n"
     ]
    },
    {
     "name": "stderr",
     "output_type": "stream",
     "text": [
      "2018-03-04 11:00:56,054 : WARNING : duplicate word '42' in /Users/orprager/PycharmProjects/ml/samples/movies_reviews_sentiment_analysis/300features_40minwords_10context, ignoring all but first\n"
     ]
    },
    {
     "name": "stderr",
     "output_type": "stream",
     "text": [
      "2018-03-04 11:00:56,056 : WARNING : duplicate word '33' in /Users/orprager/PycharmProjects/ml/samples/movies_reviews_sentiment_analysis/300features_40minwords_10context, ignoring all but first\n"
     ]
    },
    {
     "name": "stderr",
     "output_type": "stream",
     "text": [
      "2018-03-04 11:00:56,058 : WARNING : duplicate word '7' in /Users/orprager/PycharmProjects/ml/samples/movies_reviews_sentiment_analysis/300features_40minwords_10context, ignoring all but first\n"
     ]
    },
    {
     "name": "stderr",
     "output_type": "stream",
     "text": [
      "2018-03-04 11:00:56,059 : WARNING : duplicate word '47' in /Users/orprager/PycharmProjects/ml/samples/movies_reviews_sentiment_analysis/300features_40minwords_10context, ignoring all but first\n"
     ]
    },
    {
     "name": "stderr",
     "output_type": "stream",
     "text": [
      "2018-03-04 11:00:56,061 : WARNING : duplicate word '' in /Users/orprager/PycharmProjects/ml/samples/movies_reviews_sentiment_analysis/300features_40minwords_10context, ignoring all but first\n"
     ]
    },
    {
     "name": "stderr",
     "output_type": "stream",
     "text": [
      "2018-03-04 11:00:56,062 : WARNING : duplicate word '6' in /Users/orprager/PycharmProjects/ml/samples/movies_reviews_sentiment_analysis/300features_40minwords_10context, ignoring all but first\n"
     ]
    },
    {
     "name": "stderr",
     "output_type": "stream",
     "text": [
      "2018-03-04 11:00:56,066 : WARNING : duplicate word '506' in /Users/orprager/PycharmProjects/ml/samples/movies_reviews_sentiment_analysis/300features_40minwords_10context, ignoring all but first\n"
     ]
    },
    {
     "name": "stderr",
     "output_type": "stream",
     "text": [
      "2018-03-04 11:00:56,068 : WARNING : duplicate word '458' in /Users/orprager/PycharmProjects/ml/samples/movies_reviews_sentiment_analysis/300features_40minwords_10context, ignoring all but first\n"
     ]
    },
    {
     "name": "stderr",
     "output_type": "stream",
     "text": [
      "2018-03-04 11:00:56,070 : WARNING : duplicate word '5' in /Users/orprager/PycharmProjects/ml/samples/movies_reviews_sentiment_analysis/300features_40minwords_10context, ignoring all but first\n"
     ]
    },
    {
     "name": "stderr",
     "output_type": "stream",
     "text": [
      "2018-03-04 11:00:56,073 : WARNING : duplicate word '76' in /Users/orprager/PycharmProjects/ml/samples/movies_reviews_sentiment_analysis/300features_40minwords_10context, ignoring all but first\n"
     ]
    },
    {
     "name": "stderr",
     "output_type": "stream",
     "text": [
      "2018-03-04 11:00:56,074 : WARNING : duplicate word '4' in /Users/orprager/PycharmProjects/ml/samples/movies_reviews_sentiment_analysis/300features_40minwords_10context, ignoring all but first\n"
     ]
    },
    {
     "name": "stderr",
     "output_type": "stream",
     "text": [
      "2018-03-04 11:00:56,076 : WARNING : duplicate word '' in /Users/orprager/PycharmProjects/ml/samples/movies_reviews_sentiment_analysis/300features_40minwords_10context, ignoring all but first\n"
     ]
    },
    {
     "name": "stderr",
     "output_type": "stream",
     "text": [
      "2018-03-04 11:00:56,078 : WARNING : duplicate word '' in /Users/orprager/PycharmProjects/ml/samples/movies_reviews_sentiment_analysis/300features_40minwords_10context, ignoring all but first\n"
     ]
    },
    {
     "name": "stderr",
     "output_type": "stream",
     "text": [
      "2018-03-04 11:00:56,079 : WARNING : duplicate word '' in /Users/orprager/PycharmProjects/ml/samples/movies_reviews_sentiment_analysis/300features_40minwords_10context, ignoring all but first\n"
     ]
    },
    {
     "name": "stderr",
     "output_type": "stream",
     "text": [
      "2018-03-04 11:00:56,080 : WARNING : duplicate word '147' in /Users/orprager/PycharmProjects/ml/samples/movies_reviews_sentiment_analysis/300features_40minwords_10context, ignoring all but first\n"
     ]
    },
    {
     "name": "stderr",
     "output_type": "stream",
     "text": [
      "2018-03-04 11:00:56,083 : WARNING : duplicate word '07' in /Users/orprager/PycharmProjects/ml/samples/movies_reviews_sentiment_analysis/300features_40minwords_10context, ignoring all but first\n"
     ]
    },
    {
     "name": "stderr",
     "output_type": "stream",
     "text": [
      "2018-03-04 11:00:56,087 : WARNING : duplicate word '' in /Users/orprager/PycharmProjects/ml/samples/movies_reviews_sentiment_analysis/300features_40minwords_10context, ignoring all but first\n"
     ]
    },
    {
     "name": "stderr",
     "output_type": "stream",
     "text": [
      "2018-03-04 11:00:56,089 : WARNING : duplicate word '' in /Users/orprager/PycharmProjects/ml/samples/movies_reviews_sentiment_analysis/300features_40minwords_10context, ignoring all but first\n"
     ]
    },
    {
     "name": "stderr",
     "output_type": "stream",
     "text": [
      "2018-03-04 11:00:56,091 : WARNING : duplicate word '' in /Users/orprager/PycharmProjects/ml/samples/movies_reviews_sentiment_analysis/300features_40minwords_10context, ignoring all but first\n"
     ]
    },
    {
     "name": "stderr",
     "output_type": "stream",
     "text": [
      "2018-03-04 11:00:56,094 : WARNING : duplicate word '95' in /Users/orprager/PycharmProjects/ml/samples/movies_reviews_sentiment_analysis/300features_40minwords_10context, ignoring all but first\n"
     ]
    },
    {
     "name": "stderr",
     "output_type": "stream",
     "text": [
      "2018-03-04 11:00:56,096 : WARNING : duplicate word '' in /Users/orprager/PycharmProjects/ml/samples/movies_reviews_sentiment_analysis/300features_40minwords_10context, ignoring all but first\n"
     ]
    },
    {
     "name": "stderr",
     "output_type": "stream",
     "text": [
      "2018-03-04 11:00:56,099 : WARNING : duplicate word '26' in /Users/orprager/PycharmProjects/ml/samples/movies_reviews_sentiment_analysis/300features_40minwords_10context, ignoring all but first\n"
     ]
    },
    {
     "name": "stderr",
     "output_type": "stream",
     "text": [
      "2018-03-04 11:00:56,102 : WARNING : duplicate word '' in /Users/orprager/PycharmProjects/ml/samples/movies_reviews_sentiment_analysis/300features_40minwords_10context, ignoring all but first\n"
     ]
    },
    {
     "name": "stderr",
     "output_type": "stream",
     "text": [
      "2018-03-04 11:00:56,103 : WARNING : duplicate word '' in /Users/orprager/PycharmProjects/ml/samples/movies_reviews_sentiment_analysis/300features_40minwords_10context, ignoring all but first\n"
     ]
    },
    {
     "name": "stderr",
     "output_type": "stream",
     "text": [
      "2018-03-04 11:00:56,105 : WARNING : duplicate word '188' in /Users/orprager/PycharmProjects/ml/samples/movies_reviews_sentiment_analysis/300features_40minwords_10context, ignoring all but first\n"
     ]
    },
    {
     "name": "stderr",
     "output_type": "stream",
     "text": [
      "2018-03-04 11:00:56,106 : WARNING : duplicate word '' in /Users/orprager/PycharmProjects/ml/samples/movies_reviews_sentiment_analysis/300features_40minwords_10context, ignoring all but first\n"
     ]
    },
    {
     "name": "stderr",
     "output_type": "stream",
     "text": [
      "2018-03-04 11:00:56,108 : WARNING : duplicate word '91' in /Users/orprager/PycharmProjects/ml/samples/movies_reviews_sentiment_analysis/300features_40minwords_10context, ignoring all but first\n"
     ]
    },
    {
     "name": "stderr",
     "output_type": "stream",
     "text": [
      "2018-03-04 11:00:56,110 : WARNING : duplicate word '61' in /Users/orprager/PycharmProjects/ml/samples/movies_reviews_sentiment_analysis/300features_40minwords_10context, ignoring all but first\n"
     ]
    },
    {
     "name": "stderr",
     "output_type": "stream",
     "text": [
      "2018-03-04 11:00:56,112 : WARNING : duplicate word '' in /Users/orprager/PycharmProjects/ml/samples/movies_reviews_sentiment_analysis/300features_40minwords_10context, ignoring all but first\n"
     ]
    },
    {
     "name": "stderr",
     "output_type": "stream",
     "text": [
      "2018-03-04 11:00:56,113 : WARNING : duplicate word '04' in /Users/orprager/PycharmProjects/ml/samples/movies_reviews_sentiment_analysis/300features_40minwords_10context, ignoring all but first\n"
     ]
    },
    {
     "name": "stderr",
     "output_type": "stream",
     "text": [
      "2018-03-04 11:00:56,116 : WARNING : duplicate word '6' in /Users/orprager/PycharmProjects/ml/samples/movies_reviews_sentiment_analysis/300features_40minwords_10context, ignoring all but first\n"
     ]
    },
    {
     "name": "stderr",
     "output_type": "stream",
     "text": [
      "2018-03-04 11:00:56,119 : WARNING : duplicate word '' in /Users/orprager/PycharmProjects/ml/samples/movies_reviews_sentiment_analysis/300features_40minwords_10context, ignoring all but first\n"
     ]
    },
    {
     "name": "stderr",
     "output_type": "stream",
     "text": [
      "2018-03-04 11:00:56,120 : WARNING : duplicate word '' in /Users/orprager/PycharmProjects/ml/samples/movies_reviews_sentiment_analysis/300features_40minwords_10context, ignoring all but first\n"
     ]
    },
    {
     "name": "stderr",
     "output_type": "stream",
     "text": [
      "2018-03-04 11:00:56,122 : WARNING : duplicate word '215' in /Users/orprager/PycharmProjects/ml/samples/movies_reviews_sentiment_analysis/300features_40minwords_10context, ignoring all but first\n"
     ]
    },
    {
     "name": "stderr",
     "output_type": "stream",
     "text": [
      "2018-03-04 11:00:56,124 : WARNING : duplicate word '' in /Users/orprager/PycharmProjects/ml/samples/movies_reviews_sentiment_analysis/300features_40minwords_10context, ignoring all but first\n"
     ]
    },
    {
     "name": "stderr",
     "output_type": "stream",
     "text": [
      "2018-03-04 11:00:56,125 : WARNING : duplicate word '5' in /Users/orprager/PycharmProjects/ml/samples/movies_reviews_sentiment_analysis/300features_40minwords_10context, ignoring all but first\n"
     ]
    },
    {
     "name": "stderr",
     "output_type": "stream",
     "text": [
      "2018-03-04 11:00:56,128 : WARNING : duplicate word '' in /Users/orprager/PycharmProjects/ml/samples/movies_reviews_sentiment_analysis/300features_40minwords_10context, ignoring all but first\n"
     ]
    },
    {
     "name": "stderr",
     "output_type": "stream",
     "text": [
      "2018-03-04 11:00:56,129 : WARNING : duplicate word '67' in /Users/orprager/PycharmProjects/ml/samples/movies_reviews_sentiment_analysis/300features_40minwords_10context, ignoring all but first\n"
     ]
    },
    {
     "name": "stderr",
     "output_type": "stream",
     "text": [
      "2018-03-04 11:00:56,131 : WARNING : duplicate word '' in /Users/orprager/PycharmProjects/ml/samples/movies_reviews_sentiment_analysis/300features_40minwords_10context, ignoring all but first\n"
     ]
    },
    {
     "name": "stderr",
     "output_type": "stream",
     "text": [
      "2018-03-04 11:00:56,134 : WARNING : duplicate word '22' in /Users/orprager/PycharmProjects/ml/samples/movies_reviews_sentiment_analysis/300features_40minwords_10context, ignoring all but first\n"
     ]
    },
    {
     "name": "stderr",
     "output_type": "stream",
     "text": [
      "2018-03-04 11:00:56,137 : WARNING : duplicate word '55' in /Users/orprager/PycharmProjects/ml/samples/movies_reviews_sentiment_analysis/300features_40minwords_10context, ignoring all but first\n"
     ]
    },
    {
     "name": "stderr",
     "output_type": "stream",
     "text": [
      "2018-03-04 11:00:56,139 : WARNING : duplicate word '' in /Users/orprager/PycharmProjects/ml/samples/movies_reviews_sentiment_analysis/300features_40minwords_10context, ignoring all but first\n"
     ]
    },
    {
     "name": "stderr",
     "output_type": "stream",
     "text": [
      "2018-03-04 11:00:56,141 : WARNING : duplicate word '2' in /Users/orprager/PycharmProjects/ml/samples/movies_reviews_sentiment_analysis/300features_40minwords_10context, ignoring all but first\n"
     ]
    },
    {
     "name": "stderr",
     "output_type": "stream",
     "text": [
      "2018-03-04 11:00:56,143 : WARNING : duplicate word '94' in /Users/orprager/PycharmProjects/ml/samples/movies_reviews_sentiment_analysis/300features_40minwords_10context, ignoring all but first\n"
     ]
    },
    {
     "name": "stderr",
     "output_type": "stream",
     "text": [
      "2018-03-04 11:00:56,144 : WARNING : duplicate word '' in /Users/orprager/PycharmProjects/ml/samples/movies_reviews_sentiment_analysis/300features_40minwords_10context, ignoring all but first\n"
     ]
    },
    {
     "name": "stderr",
     "output_type": "stream",
     "text": [
      "2018-03-04 11:00:56,146 : WARNING : duplicate word '13' in /Users/orprager/PycharmProjects/ml/samples/movies_reviews_sentiment_analysis/300features_40minwords_10context, ignoring all but first\n"
     ]
    },
    {
     "name": "stderr",
     "output_type": "stream",
     "text": [
      "2018-03-04 11:00:56,148 : WARNING : duplicate word '' in /Users/orprager/PycharmProjects/ml/samples/movies_reviews_sentiment_analysis/300features_40minwords_10context, ignoring all but first\n"
     ]
    },
    {
     "name": "stderr",
     "output_type": "stream",
     "text": [
      "2018-03-04 11:00:56,150 : WARNING : duplicate word '96' in /Users/orprager/PycharmProjects/ml/samples/movies_reviews_sentiment_analysis/300features_40minwords_10context, ignoring all but first\n"
     ]
    },
    {
     "name": "stderr",
     "output_type": "stream",
     "text": [
      "2018-03-04 11:00:56,151 : WARNING : duplicate word '06' in /Users/orprager/PycharmProjects/ml/samples/movies_reviews_sentiment_analysis/300features_40minwords_10context, ignoring all but first\n"
     ]
    },
    {
     "name": "stderr",
     "output_type": "stream",
     "text": [
      "2018-03-04 11:00:56,154 : WARNING : duplicate word '04' in /Users/orprager/PycharmProjects/ml/samples/movies_reviews_sentiment_analysis/300features_40minwords_10context, ignoring all but first\n"
     ]
    },
    {
     "name": "stderr",
     "output_type": "stream",
     "text": [
      "2018-03-04 11:00:56,157 : WARNING : duplicate word '67' in /Users/orprager/PycharmProjects/ml/samples/movies_reviews_sentiment_analysis/300features_40minwords_10context, ignoring all but first\n"
     ]
    },
    {
     "name": "stderr",
     "output_type": "stream",
     "text": [
      "2018-03-04 11:00:56,159 : WARNING : duplicate word '8' in /Users/orprager/PycharmProjects/ml/samples/movies_reviews_sentiment_analysis/300features_40minwords_10context, ignoring all but first\n"
     ]
    },
    {
     "name": "stderr",
     "output_type": "stream",
     "text": [
      "2018-03-04 11:00:56,162 : WARNING : duplicate word '99' in /Users/orprager/PycharmProjects/ml/samples/movies_reviews_sentiment_analysis/300features_40minwords_10context, ignoring all but first\n"
     ]
    },
    {
     "name": "stderr",
     "output_type": "stream",
     "text": [
      "2018-03-04 11:00:56,163 : WARNING : duplicate word '71' in /Users/orprager/PycharmProjects/ml/samples/movies_reviews_sentiment_analysis/300features_40minwords_10context, ignoring all but first\n"
     ]
    },
    {
     "name": "stderr",
     "output_type": "stream",
     "text": [
      "2018-03-04 11:00:56,165 : WARNING : duplicate word '95' in /Users/orprager/PycharmProjects/ml/samples/movies_reviews_sentiment_analysis/300features_40minwords_10context, ignoring all but first\n"
     ]
    },
    {
     "name": "stderr",
     "output_type": "stream",
     "text": [
      "2018-03-04 11:00:56,166 : WARNING : duplicate word '' in /Users/orprager/PycharmProjects/ml/samples/movies_reviews_sentiment_analysis/300features_40minwords_10context, ignoring all but first\n"
     ]
    },
    {
     "name": "stderr",
     "output_type": "stream",
     "text": [
      "2018-03-04 11:00:56,169 : WARNING : duplicate word '195' in /Users/orprager/PycharmProjects/ml/samples/movies_reviews_sentiment_analysis/300features_40minwords_10context, ignoring all but first\n"
     ]
    },
    {
     "name": "stderr",
     "output_type": "stream",
     "text": [
      "2018-03-04 11:00:56,171 : WARNING : duplicate word '4' in /Users/orprager/PycharmProjects/ml/samples/movies_reviews_sentiment_analysis/300features_40minwords_10context, ignoring all but first\n"
     ]
    },
    {
     "name": "stderr",
     "output_type": "stream",
     "text": [
      "2018-03-04 11:00:56,173 : WARNING : duplicate word '' in /Users/orprager/PycharmProjects/ml/samples/movies_reviews_sentiment_analysis/300features_40minwords_10context, ignoring all but first\n"
     ]
    },
    {
     "name": "stderr",
     "output_type": "stream",
     "text": [
      "2018-03-04 11:00:56,174 : WARNING : duplicate word '8' in /Users/orprager/PycharmProjects/ml/samples/movies_reviews_sentiment_analysis/300features_40minwords_10context, ignoring all but first\n"
     ]
    },
    {
     "name": "stderr",
     "output_type": "stream",
     "text": [
      "2018-03-04 11:00:56,176 : WARNING : duplicate word '25' in /Users/orprager/PycharmProjects/ml/samples/movies_reviews_sentiment_analysis/300features_40minwords_10context, ignoring all but first\n"
     ]
    },
    {
     "name": "stderr",
     "output_type": "stream",
     "text": [
      "2018-03-04 11:00:56,179 : WARNING : duplicate word '615' in /Users/orprager/PycharmProjects/ml/samples/movies_reviews_sentiment_analysis/300features_40minwords_10context, ignoring all but first\n"
     ]
    },
    {
     "name": "stderr",
     "output_type": "stream",
     "text": [
      "2018-03-04 11:00:56,183 : WARNING : duplicate word '7' in /Users/orprager/PycharmProjects/ml/samples/movies_reviews_sentiment_analysis/300features_40minwords_10context, ignoring all but first\n"
     ]
    },
    {
     "name": "stderr",
     "output_type": "stream",
     "text": [
      "2018-03-04 11:00:56,185 : WARNING : duplicate word '503' in /Users/orprager/PycharmProjects/ml/samples/movies_reviews_sentiment_analysis/300features_40minwords_10context, ignoring all but first\n"
     ]
    },
    {
     "name": "stderr",
     "output_type": "stream",
     "text": [
      "2018-03-04 11:00:56,187 : WARNING : duplicate word '09' in /Users/orprager/PycharmProjects/ml/samples/movies_reviews_sentiment_analysis/300features_40minwords_10context, ignoring all but first\n"
     ]
    },
    {
     "name": "stderr",
     "output_type": "stream",
     "text": [
      "2018-03-04 11:00:56,189 : WARNING : duplicate word '4' in /Users/orprager/PycharmProjects/ml/samples/movies_reviews_sentiment_analysis/300features_40minwords_10context, ignoring all but first\n"
     ]
    },
    {
     "name": "stderr",
     "output_type": "stream",
     "text": [
      "2018-03-04 11:00:56,190 : WARNING : duplicate word '83' in /Users/orprager/PycharmProjects/ml/samples/movies_reviews_sentiment_analysis/300features_40minwords_10context, ignoring all but first\n"
     ]
    },
    {
     "name": "stderr",
     "output_type": "stream",
     "text": [
      "2018-03-04 11:00:56,192 : WARNING : duplicate word '8' in /Users/orprager/PycharmProjects/ml/samples/movies_reviews_sentiment_analysis/300features_40minwords_10context, ignoring all but first\n"
     ]
    },
    {
     "name": "stderr",
     "output_type": "stream",
     "text": [
      "2018-03-04 11:00:56,195 : WARNING : duplicate word '4' in /Users/orprager/PycharmProjects/ml/samples/movies_reviews_sentiment_analysis/300features_40minwords_10context, ignoring all but first\n"
     ]
    },
    {
     "name": "stderr",
     "output_type": "stream",
     "text": [
      "2018-03-04 11:00:56,199 : WARNING : duplicate word '28' in /Users/orprager/PycharmProjects/ml/samples/movies_reviews_sentiment_analysis/300features_40minwords_10context, ignoring all but first\n"
     ]
    },
    {
     "name": "stderr",
     "output_type": "stream",
     "text": [
      "2018-03-04 11:00:56,202 : WARNING : duplicate word '436' in /Users/orprager/PycharmProjects/ml/samples/movies_reviews_sentiment_analysis/300features_40minwords_10context, ignoring all but first\n"
     ]
    },
    {
     "name": "stderr",
     "output_type": "stream",
     "text": [
      "2018-03-04 11:00:56,204 : WARNING : duplicate word '87' in /Users/orprager/PycharmProjects/ml/samples/movies_reviews_sentiment_analysis/300features_40minwords_10context, ignoring all but first\n"
     ]
    },
    {
     "name": "stderr",
     "output_type": "stream",
     "text": [
      "2018-03-04 11:00:56,207 : WARNING : duplicate word '4' in /Users/orprager/PycharmProjects/ml/samples/movies_reviews_sentiment_analysis/300features_40minwords_10context, ignoring all but first\n"
     ]
    },
    {
     "name": "stderr",
     "output_type": "stream",
     "text": [
      "2018-03-04 11:00:56,208 : WARNING : duplicate word '' in /Users/orprager/PycharmProjects/ml/samples/movies_reviews_sentiment_analysis/300features_40minwords_10context, ignoring all but first\n"
     ]
    },
    {
     "name": "stderr",
     "output_type": "stream",
     "text": [
      "2018-03-04 11:00:56,210 : WARNING : duplicate word '804' in /Users/orprager/PycharmProjects/ml/samples/movies_reviews_sentiment_analysis/300features_40minwords_10context, ignoring all but first\n"
     ]
    },
    {
     "name": "stderr",
     "output_type": "stream",
     "text": [
      "2018-03-04 11:00:56,212 : WARNING : duplicate word '98' in /Users/orprager/PycharmProjects/ml/samples/movies_reviews_sentiment_analysis/300features_40minwords_10context, ignoring all but first\n"
     ]
    },
    {
     "name": "stderr",
     "output_type": "stream",
     "text": [
      "2018-03-04 11:00:56,213 : WARNING : duplicate word '8' in /Users/orprager/PycharmProjects/ml/samples/movies_reviews_sentiment_analysis/300features_40minwords_10context, ignoring all but first\n"
     ]
    },
    {
     "name": "stderr",
     "output_type": "stream",
     "text": [
      "2018-03-04 11:00:56,215 : WARNING : duplicate word '166' in /Users/orprager/PycharmProjects/ml/samples/movies_reviews_sentiment_analysis/300features_40minwords_10context, ignoring all but first\n"
     ]
    },
    {
     "name": "stderr",
     "output_type": "stream",
     "text": [
      "2018-03-04 11:00:56,218 : WARNING : duplicate word '' in /Users/orprager/PycharmProjects/ml/samples/movies_reviews_sentiment_analysis/300features_40minwords_10context, ignoring all but first\n"
     ]
    },
    {
     "name": "stderr",
     "output_type": "stream",
     "text": [
      "2018-03-04 11:00:56,221 : WARNING : duplicate word '' in /Users/orprager/PycharmProjects/ml/samples/movies_reviews_sentiment_analysis/300features_40minwords_10context, ignoring all but first\n"
     ]
    },
    {
     "name": "stderr",
     "output_type": "stream",
     "text": [
      "2018-03-04 11:00:56,223 : WARNING : duplicate word '38' in /Users/orprager/PycharmProjects/ml/samples/movies_reviews_sentiment_analysis/300features_40minwords_10context, ignoring all but first\n"
     ]
    },
    {
     "name": "stderr",
     "output_type": "stream",
     "text": [
      "2018-03-04 11:00:56,225 : WARNING : duplicate word '' in /Users/orprager/PycharmProjects/ml/samples/movies_reviews_sentiment_analysis/300features_40minwords_10context, ignoring all but first\n"
     ]
    },
    {
     "name": "stderr",
     "output_type": "stream",
     "text": [
      "2018-03-04 11:00:56,226 : WARNING : duplicate word '544' in /Users/orprager/PycharmProjects/ml/samples/movies_reviews_sentiment_analysis/300features_40minwords_10context, ignoring all but first\n"
     ]
    },
    {
     "name": "stderr",
     "output_type": "stream",
     "text": [
      "2018-03-04 11:00:56,228 : WARNING : duplicate word '49' in /Users/orprager/PycharmProjects/ml/samples/movies_reviews_sentiment_analysis/300features_40minwords_10context, ignoring all but first\n"
     ]
    },
    {
     "name": "stderr",
     "output_type": "stream",
     "text": [
      "2018-03-04 11:00:56,229 : WARNING : duplicate word '4' in /Users/orprager/PycharmProjects/ml/samples/movies_reviews_sentiment_analysis/300features_40minwords_10context, ignoring all but first\n"
     ]
    },
    {
     "name": "stderr",
     "output_type": "stream",
     "text": [
      "2018-03-04 11:00:56,231 : WARNING : duplicate word '32' in /Users/orprager/PycharmProjects/ml/samples/movies_reviews_sentiment_analysis/300features_40minwords_10context, ignoring all but first\n"
     ]
    },
    {
     "name": "stderr",
     "output_type": "stream",
     "text": [
      "2018-03-04 11:00:56,233 : WARNING : duplicate word '8' in /Users/orprager/PycharmProjects/ml/samples/movies_reviews_sentiment_analysis/300features_40minwords_10context, ignoring all but first\n"
     ]
    },
    {
     "name": "stderr",
     "output_type": "stream",
     "text": [
      "2018-03-04 11:00:56,234 : WARNING : duplicate word '96' in /Users/orprager/PycharmProjects/ml/samples/movies_reviews_sentiment_analysis/300features_40minwords_10context, ignoring all but first\n"
     ]
    },
    {
     "name": "stderr",
     "output_type": "stream",
     "text": [
      "2018-03-04 11:00:56,236 : WARNING : duplicate word '9923' in /Users/orprager/PycharmProjects/ml/samples/movies_reviews_sentiment_analysis/300features_40minwords_10context, ignoring all but first\n"
     ]
    },
    {
     "name": "stderr",
     "output_type": "stream",
     "text": [
      "2018-03-04 11:00:56,238 : WARNING : duplicate word '7' in /Users/orprager/PycharmProjects/ml/samples/movies_reviews_sentiment_analysis/300features_40minwords_10context, ignoring all but first\n"
     ]
    },
    {
     "name": "stderr",
     "output_type": "stream",
     "text": [
      "2018-03-04 11:00:56,240 : WARNING : duplicate word '' in /Users/orprager/PycharmProjects/ml/samples/movies_reviews_sentiment_analysis/300features_40minwords_10context, ignoring all but first\n"
     ]
    },
    {
     "name": "stderr",
     "output_type": "stream",
     "text": [
      "2018-03-04 11:00:56,242 : WARNING : duplicate word '' in /Users/orprager/PycharmProjects/ml/samples/movies_reviews_sentiment_analysis/300features_40minwords_10context, ignoring all but first\n"
     ]
    },
    {
     "name": "stderr",
     "output_type": "stream",
     "text": [
      "2018-03-04 11:00:56,243 : WARNING : duplicate word '93' in /Users/orprager/PycharmProjects/ml/samples/movies_reviews_sentiment_analysis/300features_40minwords_10context, ignoring all but first\n"
     ]
    },
    {
     "name": "stderr",
     "output_type": "stream",
     "text": [
      "2018-03-04 11:00:56,246 : WARNING : duplicate word '2' in /Users/orprager/PycharmProjects/ml/samples/movies_reviews_sentiment_analysis/300features_40minwords_10context, ignoring all but first\n"
     ]
    },
    {
     "name": "stderr",
     "output_type": "stream",
     "text": [
      "2018-03-04 11:00:56,249 : WARNING : duplicate word '3' in /Users/orprager/PycharmProjects/ml/samples/movies_reviews_sentiment_analysis/300features_40minwords_10context, ignoring all but first\n"
     ]
    },
    {
     "name": "stderr",
     "output_type": "stream",
     "text": [
      "2018-03-04 11:00:56,251 : WARNING : duplicate word '09' in /Users/orprager/PycharmProjects/ml/samples/movies_reviews_sentiment_analysis/300features_40minwords_10context, ignoring all but first\n"
     ]
    },
    {
     "name": "stderr",
     "output_type": "stream",
     "text": [
      "2018-03-04 11:00:56,253 : WARNING : duplicate word '37' in /Users/orprager/PycharmProjects/ml/samples/movies_reviews_sentiment_analysis/300features_40minwords_10context, ignoring all but first\n"
     ]
    },
    {
     "name": "stderr",
     "output_type": "stream",
     "text": [
      "2018-03-04 11:00:56,255 : WARNING : duplicate word '' in /Users/orprager/PycharmProjects/ml/samples/movies_reviews_sentiment_analysis/300features_40minwords_10context, ignoring all but first\n"
     ]
    },
    {
     "name": "stderr",
     "output_type": "stream",
     "text": [
      "2018-03-04 11:00:56,256 : WARNING : duplicate word '' in /Users/orprager/PycharmProjects/ml/samples/movies_reviews_sentiment_analysis/300features_40minwords_10context, ignoring all but first\n"
     ]
    },
    {
     "name": "stderr",
     "output_type": "stream",
     "text": [
      "2018-03-04 11:00:56,258 : WARNING : duplicate word '' in /Users/orprager/PycharmProjects/ml/samples/movies_reviews_sentiment_analysis/300features_40minwords_10context, ignoring all but first\n"
     ]
    },
    {
     "name": "stderr",
     "output_type": "stream",
     "text": [
      "2018-03-04 11:00:56,260 : WARNING : duplicate word '9' in /Users/orprager/PycharmProjects/ml/samples/movies_reviews_sentiment_analysis/300features_40minwords_10context, ignoring all but first\n"
     ]
    },
    {
     "name": "stderr",
     "output_type": "stream",
     "text": [
      "2018-03-04 11:00:56,261 : WARNING : duplicate word '' in /Users/orprager/PycharmProjects/ml/samples/movies_reviews_sentiment_analysis/300features_40minwords_10context, ignoring all but first\n"
     ]
    },
    {
     "name": "stderr",
     "output_type": "stream",
     "text": [
      "2018-03-04 11:00:56,266 : WARNING : duplicate word '224' in /Users/orprager/PycharmProjects/ml/samples/movies_reviews_sentiment_analysis/300features_40minwords_10context, ignoring all but first\n"
     ]
    },
    {
     "name": "stderr",
     "output_type": "stream",
     "text": [
      "2018-03-04 11:00:56,268 : WARNING : duplicate word '' in /Users/orprager/PycharmProjects/ml/samples/movies_reviews_sentiment_analysis/300features_40minwords_10context, ignoring all but first\n"
     ]
    },
    {
     "name": "stderr",
     "output_type": "stream",
     "text": [
      "2018-03-04 11:00:56,270 : WARNING : duplicate word '25' in /Users/orprager/PycharmProjects/ml/samples/movies_reviews_sentiment_analysis/300features_40minwords_10context, ignoring all but first\n"
     ]
    },
    {
     "name": "stderr",
     "output_type": "stream",
     "text": [
      "2018-03-04 11:00:56,272 : WARNING : duplicate word '5' in /Users/orprager/PycharmProjects/ml/samples/movies_reviews_sentiment_analysis/300features_40minwords_10context, ignoring all but first\n"
     ]
    },
    {
     "name": "stderr",
     "output_type": "stream",
     "text": [
      "2018-03-04 11:00:56,273 : WARNING : duplicate word '' in /Users/orprager/PycharmProjects/ml/samples/movies_reviews_sentiment_analysis/300features_40minwords_10context, ignoring all but first\n"
     ]
    },
    {
     "name": "stderr",
     "output_type": "stream",
     "text": [
      "2018-03-04 11:00:56,275 : WARNING : duplicate word '05' in /Users/orprager/PycharmProjects/ml/samples/movies_reviews_sentiment_analysis/300features_40minwords_10context, ignoring all but first\n"
     ]
    },
    {
     "name": "stderr",
     "output_type": "stream",
     "text": [
      "2018-03-04 11:00:56,277 : WARNING : duplicate word '614' in /Users/orprager/PycharmProjects/ml/samples/movies_reviews_sentiment_analysis/300features_40minwords_10context, ignoring all but first\n"
     ]
    },
    {
     "name": "stderr",
     "output_type": "stream",
     "text": [
      "2018-03-04 11:00:56,278 : WARNING : duplicate word '' in /Users/orprager/PycharmProjects/ml/samples/movies_reviews_sentiment_analysis/300features_40minwords_10context, ignoring all but first\n"
     ]
    },
    {
     "name": "stderr",
     "output_type": "stream",
     "text": [
      "2018-03-04 11:00:56,280 : WARNING : duplicate word '87' in /Users/orprager/PycharmProjects/ml/samples/movies_reviews_sentiment_analysis/300features_40minwords_10context, ignoring all but first\n"
     ]
    },
    {
     "name": "stderr",
     "output_type": "stream",
     "text": [
      "2018-03-04 11:00:56,292 : WARNING : duplicate word '9349' in /Users/orprager/PycharmProjects/ml/samples/movies_reviews_sentiment_analysis/300features_40minwords_10context, ignoring all but first\n"
     ]
    },
    {
     "name": "stderr",
     "output_type": "stream",
     "text": [
      "2018-03-04 11:00:56,294 : WARNING : duplicate word '528' in /Users/orprager/PycharmProjects/ml/samples/movies_reviews_sentiment_analysis/300features_40minwords_10context, ignoring all but first\n"
     ]
    },
    {
     "name": "stderr",
     "output_type": "stream",
     "text": [
      "2018-03-04 11:00:56,296 : WARNING : duplicate word '7' in /Users/orprager/PycharmProjects/ml/samples/movies_reviews_sentiment_analysis/300features_40minwords_10context, ignoring all but first\n"
     ]
    },
    {
     "name": "stderr",
     "output_type": "stream",
     "text": [
      "2018-03-04 11:00:56,297 : WARNING : duplicate word '54' in /Users/orprager/PycharmProjects/ml/samples/movies_reviews_sentiment_analysis/300features_40minwords_10context, ignoring all but first\n"
     ]
    },
    {
     "name": "stderr",
     "output_type": "stream",
     "text": [
      "2018-03-04 11:00:56,298 : WARNING : duplicate word '' in /Users/orprager/PycharmProjects/ml/samples/movies_reviews_sentiment_analysis/300features_40minwords_10context, ignoring all but first\n"
     ]
    },
    {
     "name": "stderr",
     "output_type": "stream",
     "text": [
      "2018-03-04 11:00:56,300 : WARNING : duplicate word '6' in /Users/orprager/PycharmProjects/ml/samples/movies_reviews_sentiment_analysis/300features_40minwords_10context, ignoring all but first\n"
     ]
    },
    {
     "name": "stderr",
     "output_type": "stream",
     "text": [
      "2018-03-04 11:00:56,301 : WARNING : duplicate word '27' in /Users/orprager/PycharmProjects/ml/samples/movies_reviews_sentiment_analysis/300features_40minwords_10context, ignoring all but first\n"
     ]
    },
    {
     "name": "stderr",
     "output_type": "stream",
     "text": [
      "2018-03-04 11:00:56,303 : WARNING : duplicate word '6' in /Users/orprager/PycharmProjects/ml/samples/movies_reviews_sentiment_analysis/300features_40minwords_10context, ignoring all but first\n"
     ]
    },
    {
     "name": "stderr",
     "output_type": "stream",
     "text": [
      "2018-03-04 11:00:56,304 : WARNING : duplicate word '6' in /Users/orprager/PycharmProjects/ml/samples/movies_reviews_sentiment_analysis/300features_40minwords_10context, ignoring all but first\n"
     ]
    },
    {
     "name": "stderr",
     "output_type": "stream",
     "text": [
      "2018-03-04 11:00:56,306 : WARNING : duplicate word '6793' in /Users/orprager/PycharmProjects/ml/samples/movies_reviews_sentiment_analysis/300features_40minwords_10context, ignoring all but first\n"
     ]
    },
    {
     "name": "stderr",
     "output_type": "stream",
     "text": [
      "2018-03-04 11:00:56,307 : WARNING : duplicate word '' in /Users/orprager/PycharmProjects/ml/samples/movies_reviews_sentiment_analysis/300features_40minwords_10context, ignoring all but first\n"
     ]
    },
    {
     "name": "stderr",
     "output_type": "stream",
     "text": [
      "2018-03-04 11:00:56,309 : WARNING : duplicate word '6' in /Users/orprager/PycharmProjects/ml/samples/movies_reviews_sentiment_analysis/300features_40minwords_10context, ignoring all but first\n"
     ]
    },
    {
     "name": "stderr",
     "output_type": "stream",
     "text": [
      "2018-03-04 11:00:56,310 : WARNING : duplicate word '23' in /Users/orprager/PycharmProjects/ml/samples/movies_reviews_sentiment_analysis/300features_40minwords_10context, ignoring all but first\n"
     ]
    },
    {
     "name": "stderr",
     "output_type": "stream",
     "text": [
      "2018-03-04 11:00:56,312 : WARNING : duplicate word '' in /Users/orprager/PycharmProjects/ml/samples/movies_reviews_sentiment_analysis/300features_40minwords_10context, ignoring all but first\n"
     ]
    },
    {
     "name": "stderr",
     "output_type": "stream",
     "text": [
      "2018-03-04 11:00:56,313 : WARNING : duplicate word '' in /Users/orprager/PycharmProjects/ml/samples/movies_reviews_sentiment_analysis/300features_40minwords_10context, ignoring all but first\n"
     ]
    },
    {
     "name": "stderr",
     "output_type": "stream",
     "text": [
      "2018-03-04 11:00:56,317 : WARNING : duplicate word '76' in /Users/orprager/PycharmProjects/ml/samples/movies_reviews_sentiment_analysis/300features_40minwords_10context, ignoring all but first\n"
     ]
    },
    {
     "name": "stderr",
     "output_type": "stream",
     "text": [
      "2018-03-04 11:00:56,319 : WARNING : duplicate word '1' in /Users/orprager/PycharmProjects/ml/samples/movies_reviews_sentiment_analysis/300features_40minwords_10context, ignoring all but first\n"
     ]
    },
    {
     "name": "stderr",
     "output_type": "stream",
     "text": [
      "2018-03-04 11:00:56,321 : WARNING : duplicate word '01' in /Users/orprager/PycharmProjects/ml/samples/movies_reviews_sentiment_analysis/300features_40minwords_10context, ignoring all but first\n"
     ]
    },
    {
     "name": "stderr",
     "output_type": "stream",
     "text": [
      "2018-03-04 11:00:56,322 : WARNING : duplicate word '' in /Users/orprager/PycharmProjects/ml/samples/movies_reviews_sentiment_analysis/300features_40minwords_10context, ignoring all but first\n"
     ]
    },
    {
     "name": "stderr",
     "output_type": "stream",
     "text": [
      "2018-03-04 11:00:56,324 : WARNING : duplicate word '' in /Users/orprager/PycharmProjects/ml/samples/movies_reviews_sentiment_analysis/300features_40minwords_10context, ignoring all but first\n"
     ]
    },
    {
     "name": "stderr",
     "output_type": "stream",
     "text": [
      "2018-03-04 11:00:56,326 : WARNING : duplicate word '3' in /Users/orprager/PycharmProjects/ml/samples/movies_reviews_sentiment_analysis/300features_40minwords_10context, ignoring all but first\n"
     ]
    },
    {
     "name": "stderr",
     "output_type": "stream",
     "text": [
      "2018-03-04 11:00:56,327 : WARNING : duplicate word '8' in /Users/orprager/PycharmProjects/ml/samples/movies_reviews_sentiment_analysis/300features_40minwords_10context, ignoring all but first\n"
     ]
    },
    {
     "name": "stderr",
     "output_type": "stream",
     "text": [
      "2018-03-04 11:00:56,329 : WARNING : duplicate word '08' in /Users/orprager/PycharmProjects/ml/samples/movies_reviews_sentiment_analysis/300features_40minwords_10context, ignoring all but first\n"
     ]
    },
    {
     "name": "stderr",
     "output_type": "stream",
     "text": [
      "2018-03-04 11:00:56,333 : WARNING : duplicate word '' in /Users/orprager/PycharmProjects/ml/samples/movies_reviews_sentiment_analysis/300features_40minwords_10context, ignoring all but first\n"
     ]
    },
    {
     "name": "stderr",
     "output_type": "stream",
     "text": [
      "2018-03-04 11:00:56,335 : WARNING : duplicate word '446' in /Users/orprager/PycharmProjects/ml/samples/movies_reviews_sentiment_analysis/300features_40minwords_10context, ignoring all but first\n"
     ]
    },
    {
     "name": "stderr",
     "output_type": "stream",
     "text": [
      "2018-03-04 11:00:56,337 : WARNING : duplicate word '' in /Users/orprager/PycharmProjects/ml/samples/movies_reviews_sentiment_analysis/300features_40minwords_10context, ignoring all but first\n"
     ]
    },
    {
     "name": "stderr",
     "output_type": "stream",
     "text": [
      "2018-03-04 11:00:56,339 : WARNING : duplicate word '25' in /Users/orprager/PycharmProjects/ml/samples/movies_reviews_sentiment_analysis/300features_40minwords_10context, ignoring all but first\n"
     ]
    },
    {
     "name": "stderr",
     "output_type": "stream",
     "text": [
      "2018-03-04 11:00:56,340 : WARNING : duplicate word '77' in /Users/orprager/PycharmProjects/ml/samples/movies_reviews_sentiment_analysis/300features_40minwords_10context, ignoring all but first\n"
     ]
    },
    {
     "name": "stderr",
     "output_type": "stream",
     "text": [
      "2018-03-04 11:00:56,342 : WARNING : duplicate word '45' in /Users/orprager/PycharmProjects/ml/samples/movies_reviews_sentiment_analysis/300features_40minwords_10context, ignoring all but first\n"
     ]
    },
    {
     "name": "stderr",
     "output_type": "stream",
     "text": [
      "2018-03-04 11:00:56,344 : WARNING : duplicate word '3' in /Users/orprager/PycharmProjects/ml/samples/movies_reviews_sentiment_analysis/300features_40minwords_10context, ignoring all but first\n"
     ]
    },
    {
     "name": "stderr",
     "output_type": "stream",
     "text": [
      "2018-03-04 11:00:56,346 : WARNING : duplicate word '7' in /Users/orprager/PycharmProjects/ml/samples/movies_reviews_sentiment_analysis/300features_40minwords_10context, ignoring all but first\n"
     ]
    },
    {
     "name": "stderr",
     "output_type": "stream",
     "text": [
      "2018-03-04 11:00:56,348 : WARNING : duplicate word '871' in /Users/orprager/PycharmProjects/ml/samples/movies_reviews_sentiment_analysis/300features_40minwords_10context, ignoring all but first\n"
     ]
    },
    {
     "name": "stderr",
     "output_type": "stream",
     "text": [
      "2018-03-04 11:00:56,350 : WARNING : duplicate word '' in /Users/orprager/PycharmProjects/ml/samples/movies_reviews_sentiment_analysis/300features_40minwords_10context, ignoring all but first\n"
     ]
    },
    {
     "name": "stderr",
     "output_type": "stream",
     "text": [
      "2018-03-04 11:00:56,352 : WARNING : duplicate word '1554' in /Users/orprager/PycharmProjects/ml/samples/movies_reviews_sentiment_analysis/300features_40minwords_10context, ignoring all but first\n"
     ]
    },
    {
     "name": "stderr",
     "output_type": "stream",
     "text": [
      "2018-03-04 11:00:56,354 : WARNING : duplicate word '685' in /Users/orprager/PycharmProjects/ml/samples/movies_reviews_sentiment_analysis/300features_40minwords_10context, ignoring all but first\n"
     ]
    },
    {
     "name": "stderr",
     "output_type": "stream",
     "text": [
      "2018-03-04 11:00:56,355 : WARNING : duplicate word '68' in /Users/orprager/PycharmProjects/ml/samples/movies_reviews_sentiment_analysis/300features_40minwords_10context, ignoring all but first\n"
     ]
    },
    {
     "name": "stderr",
     "output_type": "stream",
     "text": [
      "2018-03-04 11:00:56,357 : WARNING : duplicate word '4046' in /Users/orprager/PycharmProjects/ml/samples/movies_reviews_sentiment_analysis/300features_40minwords_10context, ignoring all but first\n"
     ]
    },
    {
     "name": "stderr",
     "output_type": "stream",
     "text": [
      "2018-03-04 11:00:56,359 : WARNING : duplicate word '' in /Users/orprager/PycharmProjects/ml/samples/movies_reviews_sentiment_analysis/300features_40minwords_10context, ignoring all but first\n"
     ]
    },
    {
     "name": "stderr",
     "output_type": "stream",
     "text": [
      "2018-03-04 11:00:56,360 : WARNING : duplicate word '7' in /Users/orprager/PycharmProjects/ml/samples/movies_reviews_sentiment_analysis/300features_40minwords_10context, ignoring all but first\n"
     ]
    },
    {
     "name": "stderr",
     "output_type": "stream",
     "text": [
      "2018-03-04 11:00:56,361 : WARNING : duplicate word '3' in /Users/orprager/PycharmProjects/ml/samples/movies_reviews_sentiment_analysis/300features_40minwords_10context, ignoring all but first\n"
     ]
    },
    {
     "name": "stderr",
     "output_type": "stream",
     "text": [
      "2018-03-04 11:00:56,363 : WARNING : duplicate word '' in /Users/orprager/PycharmProjects/ml/samples/movies_reviews_sentiment_analysis/300features_40minwords_10context, ignoring all but first\n"
     ]
    },
    {
     "name": "stderr",
     "output_type": "stream",
     "text": [
      "2018-03-04 11:00:56,365 : WARNING : duplicate word '04' in /Users/orprager/PycharmProjects/ml/samples/movies_reviews_sentiment_analysis/300features_40minwords_10context, ignoring all but first\n"
     ]
    },
    {
     "name": "stderr",
     "output_type": "stream",
     "text": [
      "2018-03-04 11:00:56,369 : WARNING : duplicate word '1' in /Users/orprager/PycharmProjects/ml/samples/movies_reviews_sentiment_analysis/300features_40minwords_10context, ignoring all but first\n"
     ]
    },
    {
     "name": "stderr",
     "output_type": "stream",
     "text": [
      "2018-03-04 11:00:56,371 : WARNING : duplicate word '3' in /Users/orprager/PycharmProjects/ml/samples/movies_reviews_sentiment_analysis/300features_40minwords_10context, ignoring all but first\n"
     ]
    },
    {
     "name": "stderr",
     "output_type": "stream",
     "text": [
      "2018-03-04 11:00:56,373 : WARNING : duplicate word '8' in /Users/orprager/PycharmProjects/ml/samples/movies_reviews_sentiment_analysis/300features_40minwords_10context, ignoring all but first\n"
     ]
    },
    {
     "name": "stderr",
     "output_type": "stream",
     "text": [
      "2018-03-04 11:00:56,375 : WARNING : duplicate word '364' in /Users/orprager/PycharmProjects/ml/samples/movies_reviews_sentiment_analysis/300features_40minwords_10context, ignoring all but first\n"
     ]
    },
    {
     "name": "stderr",
     "output_type": "stream",
     "text": [
      "2018-03-04 11:00:56,377 : WARNING : duplicate word '' in /Users/orprager/PycharmProjects/ml/samples/movies_reviews_sentiment_analysis/300features_40minwords_10context, ignoring all but first\n"
     ]
    },
    {
     "name": "stderr",
     "output_type": "stream",
     "text": [
      "2018-03-04 11:00:56,379 : WARNING : duplicate word 'ng' in /Users/orprager/PycharmProjects/ml/samples/movies_reviews_sentiment_analysis/300features_40minwords_10context, ignoring all but first\n"
     ]
    },
    {
     "name": "stderr",
     "output_type": "stream",
     "text": [
      "2018-03-04 11:00:56,381 : WARNING : duplicate word '5' in /Users/orprager/PycharmProjects/ml/samples/movies_reviews_sentiment_analysis/300features_40minwords_10context, ignoring all but first\n"
     ]
    },
    {
     "name": "stderr",
     "output_type": "stream",
     "text": [
      "2018-03-04 11:00:56,384 : WARNING : duplicate word '202' in /Users/orprager/PycharmProjects/ml/samples/movies_reviews_sentiment_analysis/300features_40minwords_10context, ignoring all but first\n"
     ]
    },
    {
     "name": "stderr",
     "output_type": "stream",
     "text": [
      "2018-03-04 11:00:56,387 : WARNING : duplicate word '7' in /Users/orprager/PycharmProjects/ml/samples/movies_reviews_sentiment_analysis/300features_40minwords_10context, ignoring all but first\n"
     ]
    },
    {
     "name": "stderr",
     "output_type": "stream",
     "text": [
      "2018-03-04 11:00:56,388 : WARNING : duplicate word '44' in /Users/orprager/PycharmProjects/ml/samples/movies_reviews_sentiment_analysis/300features_40minwords_10context, ignoring all but first\n"
     ]
    },
    {
     "name": "stderr",
     "output_type": "stream",
     "text": [
      "2018-03-04 11:00:56,390 : WARNING : duplicate word '496' in /Users/orprager/PycharmProjects/ml/samples/movies_reviews_sentiment_analysis/300features_40minwords_10context, ignoring all but first\n"
     ]
    },
    {
     "name": "stderr",
     "output_type": "stream",
     "text": [
      "2018-03-04 11:00:56,392 : WARNING : duplicate word '01' in /Users/orprager/PycharmProjects/ml/samples/movies_reviews_sentiment_analysis/300features_40minwords_10context, ignoring all but first\n"
     ]
    },
    {
     "name": "stderr",
     "output_type": "stream",
     "text": [
      "2018-03-04 11:00:56,393 : WARNING : duplicate word '3' in /Users/orprager/PycharmProjects/ml/samples/movies_reviews_sentiment_analysis/300features_40minwords_10context, ignoring all but first\n"
     ]
    },
    {
     "name": "stderr",
     "output_type": "stream",
     "text": [
      "2018-03-04 11:00:56,395 : WARNING : duplicate word '48' in /Users/orprager/PycharmProjects/ml/samples/movies_reviews_sentiment_analysis/300features_40minwords_10context, ignoring all but first\n"
     ]
    },
    {
     "name": "stderr",
     "output_type": "stream",
     "text": [
      "2018-03-04 11:00:56,396 : WARNING : duplicate word '14' in /Users/orprager/PycharmProjects/ml/samples/movies_reviews_sentiment_analysis/300features_40minwords_10context, ignoring all but first\n"
     ]
    },
    {
     "name": "stderr",
     "output_type": "stream",
     "text": [
      "2018-03-04 11:00:56,398 : WARNING : duplicate word '04' in /Users/orprager/PycharmProjects/ml/samples/movies_reviews_sentiment_analysis/300features_40minwords_10context, ignoring all but first\n"
     ]
    },
    {
     "name": "stderr",
     "output_type": "stream",
     "text": [
      "2018-03-04 11:00:56,401 : WARNING : duplicate word '' in /Users/orprager/PycharmProjects/ml/samples/movies_reviews_sentiment_analysis/300features_40minwords_10context, ignoring all but first\n"
     ]
    },
    {
     "name": "stderr",
     "output_type": "stream",
     "text": [
      "2018-03-04 11:00:56,403 : WARNING : duplicate word '' in /Users/orprager/PycharmProjects/ml/samples/movies_reviews_sentiment_analysis/300features_40minwords_10context, ignoring all but first\n"
     ]
    },
    {
     "name": "stderr",
     "output_type": "stream",
     "text": [
      "2018-03-04 11:00:56,405 : WARNING : duplicate word '6' in /Users/orprager/PycharmProjects/ml/samples/movies_reviews_sentiment_analysis/300features_40minwords_10context, ignoring all but first\n"
     ]
    },
    {
     "name": "stderr",
     "output_type": "stream",
     "text": [
      "2018-03-04 11:00:56,407 : WARNING : duplicate word '99' in /Users/orprager/PycharmProjects/ml/samples/movies_reviews_sentiment_analysis/300features_40minwords_10context, ignoring all but first\n"
     ]
    },
    {
     "name": "stderr",
     "output_type": "stream",
     "text": [
      "2018-03-04 11:00:56,408 : WARNING : duplicate word '6' in /Users/orprager/PycharmProjects/ml/samples/movies_reviews_sentiment_analysis/300features_40minwords_10context, ignoring all but first\n"
     ]
    },
    {
     "name": "stderr",
     "output_type": "stream",
     "text": [
      "2018-03-04 11:00:56,410 : WARNING : duplicate word '33' in /Users/orprager/PycharmProjects/ml/samples/movies_reviews_sentiment_analysis/300features_40minwords_10context, ignoring all but first\n"
     ]
    },
    {
     "name": "stderr",
     "output_type": "stream",
     "text": [
      "2018-03-04 11:00:56,411 : WARNING : duplicate word '88' in /Users/orprager/PycharmProjects/ml/samples/movies_reviews_sentiment_analysis/300features_40minwords_10context, ignoring all but first\n"
     ]
    },
    {
     "name": "stderr",
     "output_type": "stream",
     "text": [
      "2018-03-04 11:00:56,413 : WARNING : duplicate word '' in /Users/orprager/PycharmProjects/ml/samples/movies_reviews_sentiment_analysis/300features_40minwords_10context, ignoring all but first\n"
     ]
    },
    {
     "name": "stderr",
     "output_type": "stream",
     "text": [
      "2018-03-04 11:00:56,414 : WARNING : duplicate word '' in /Users/orprager/PycharmProjects/ml/samples/movies_reviews_sentiment_analysis/300features_40minwords_10context, ignoring all but first\n"
     ]
    },
    {
     "name": "stderr",
     "output_type": "stream",
     "text": [
      "2018-03-04 11:00:56,416 : WARNING : duplicate word '857' in /Users/orprager/PycharmProjects/ml/samples/movies_reviews_sentiment_analysis/300features_40minwords_10context, ignoring all but first\n"
     ]
    },
    {
     "name": "stderr",
     "output_type": "stream",
     "text": [
      "2018-03-04 11:00:56,419 : WARNING : duplicate word '64737' in /Users/orprager/PycharmProjects/ml/samples/movies_reviews_sentiment_analysis/300features_40minwords_10context, ignoring all but first\n"
     ]
    },
    {
     "name": "stderr",
     "output_type": "stream",
     "text": [
      "2018-03-04 11:00:56,422 : WARNING : duplicate word '23' in /Users/orprager/PycharmProjects/ml/samples/movies_reviews_sentiment_analysis/300features_40minwords_10context, ignoring all but first\n"
     ]
    },
    {
     "name": "stderr",
     "output_type": "stream",
     "text": [
      "2018-03-04 11:00:56,424 : WARNING : duplicate word '5' in /Users/orprager/PycharmProjects/ml/samples/movies_reviews_sentiment_analysis/300features_40minwords_10context, ignoring all but first\n"
     ]
    },
    {
     "name": "stderr",
     "output_type": "stream",
     "text": [
      "2018-03-04 11:00:56,425 : WARNING : duplicate word '95' in /Users/orprager/PycharmProjects/ml/samples/movies_reviews_sentiment_analysis/300features_40minwords_10context, ignoring all but first\n"
     ]
    },
    {
     "name": "stderr",
     "output_type": "stream",
     "text": [
      "2018-03-04 11:00:56,427 : WARNING : duplicate word '216' in /Users/orprager/PycharmProjects/ml/samples/movies_reviews_sentiment_analysis/300features_40minwords_10context, ignoring all but first\n"
     ]
    },
    {
     "name": "stderr",
     "output_type": "stream",
     "text": [
      "2018-03-04 11:00:56,428 : WARNING : duplicate word '' in /Users/orprager/PycharmProjects/ml/samples/movies_reviews_sentiment_analysis/300features_40minwords_10context, ignoring all but first\n"
     ]
    },
    {
     "name": "stderr",
     "output_type": "stream",
     "text": [
      "2018-03-04 11:00:56,430 : WARNING : duplicate word '' in /Users/orprager/PycharmProjects/ml/samples/movies_reviews_sentiment_analysis/300features_40minwords_10context, ignoring all but first\n"
     ]
    },
    {
     "name": "stderr",
     "output_type": "stream",
     "text": [
      "2018-03-04 11:00:56,432 : WARNING : duplicate word '993' in /Users/orprager/PycharmProjects/ml/samples/movies_reviews_sentiment_analysis/300features_40minwords_10context, ignoring all but first\n"
     ]
    },
    {
     "name": "stderr",
     "output_type": "stream",
     "text": [
      "2018-03-04 11:00:56,434 : WARNING : duplicate word '' in /Users/orprager/PycharmProjects/ml/samples/movies_reviews_sentiment_analysis/300features_40minwords_10context, ignoring all but first\n"
     ]
    },
    {
     "name": "stderr",
     "output_type": "stream",
     "text": [
      "2018-03-04 11:00:56,438 : WARNING : duplicate word '93' in /Users/orprager/PycharmProjects/ml/samples/movies_reviews_sentiment_analysis/300features_40minwords_10context, ignoring all but first\n"
     ]
    },
    {
     "name": "stderr",
     "output_type": "stream",
     "text": [
      "2018-03-04 11:00:56,440 : WARNING : duplicate word '529' in /Users/orprager/PycharmProjects/ml/samples/movies_reviews_sentiment_analysis/300features_40minwords_10context, ignoring all but first\n"
     ]
    },
    {
     "name": "stderr",
     "output_type": "stream",
     "text": [
      "2018-03-04 11:00:56,442 : WARNING : duplicate word '26' in /Users/orprager/PycharmProjects/ml/samples/movies_reviews_sentiment_analysis/300features_40minwords_10context, ignoring all but first\n"
     ]
    },
    {
     "name": "stderr",
     "output_type": "stream",
     "text": [
      "2018-03-04 11:00:56,443 : WARNING : duplicate word '869' in /Users/orprager/PycharmProjects/ml/samples/movies_reviews_sentiment_analysis/300features_40minwords_10context, ignoring all but first\n"
     ]
    },
    {
     "name": "stderr",
     "output_type": "stream",
     "text": [
      "2018-03-04 11:00:56,445 : WARNING : duplicate word '7' in /Users/orprager/PycharmProjects/ml/samples/movies_reviews_sentiment_analysis/300features_40minwords_10context, ignoring all but first\n"
     ]
    },
    {
     "name": "stderr",
     "output_type": "stream",
     "text": [
      "2018-03-04 11:00:56,447 : WARNING : duplicate word '' in /Users/orprager/PycharmProjects/ml/samples/movies_reviews_sentiment_analysis/300features_40minwords_10context, ignoring all but first\n"
     ]
    },
    {
     "name": "stderr",
     "output_type": "stream",
     "text": [
      "2018-03-04 11:00:56,448 : WARNING : duplicate word '5' in /Users/orprager/PycharmProjects/ml/samples/movies_reviews_sentiment_analysis/300features_40minwords_10context, ignoring all but first\n"
     ]
    },
    {
     "name": "stderr",
     "output_type": "stream",
     "text": [
      "2018-03-04 11:00:56,450 : WARNING : duplicate word '77' in /Users/orprager/PycharmProjects/ml/samples/movies_reviews_sentiment_analysis/300features_40minwords_10context, ignoring all but first\n"
     ]
    },
    {
     "name": "stderr",
     "output_type": "stream",
     "text": [
      "2018-03-04 11:00:56,455 : WARNING : duplicate word '6' in /Users/orprager/PycharmProjects/ml/samples/movies_reviews_sentiment_analysis/300features_40minwords_10context, ignoring all but first\n"
     ]
    },
    {
     "name": "stderr",
     "output_type": "stream",
     "text": [
      "2018-03-04 11:00:56,457 : WARNING : duplicate word '8' in /Users/orprager/PycharmProjects/ml/samples/movies_reviews_sentiment_analysis/300features_40minwords_10context, ignoring all but first\n"
     ]
    },
    {
     "name": "stderr",
     "output_type": "stream",
     "text": [
      "2018-03-04 11:00:56,458 : WARNING : duplicate word '' in /Users/orprager/PycharmProjects/ml/samples/movies_reviews_sentiment_analysis/300features_40minwords_10context, ignoring all but first\n"
     ]
    },
    {
     "name": "stderr",
     "output_type": "stream",
     "text": [
      "2018-03-04 11:00:56,460 : WARNING : duplicate word '' in /Users/orprager/PycharmProjects/ml/samples/movies_reviews_sentiment_analysis/300features_40minwords_10context, ignoring all but first\n"
     ]
    },
    {
     "name": "stderr",
     "output_type": "stream",
     "text": [
      "2018-03-04 11:00:56,461 : WARNING : duplicate word '27' in /Users/orprager/PycharmProjects/ml/samples/movies_reviews_sentiment_analysis/300features_40minwords_10context, ignoring all but first\n"
     ]
    },
    {
     "name": "stderr",
     "output_type": "stream",
     "text": [
      "2018-03-04 11:00:56,463 : WARNING : duplicate word '528' in /Users/orprager/PycharmProjects/ml/samples/movies_reviews_sentiment_analysis/300features_40minwords_10context, ignoring all but first\n"
     ]
    },
    {
     "name": "stderr",
     "output_type": "stream",
     "text": [
      "2018-03-04 11:00:56,465 : WARNING : duplicate word '' in /Users/orprager/PycharmProjects/ml/samples/movies_reviews_sentiment_analysis/300features_40minwords_10context, ignoring all but first\n"
     ]
    },
    {
     "name": "stderr",
     "output_type": "stream",
     "text": [
      "2018-03-04 11:00:56,466 : WARNING : duplicate word '' in /Users/orprager/PycharmProjects/ml/samples/movies_reviews_sentiment_analysis/300features_40minwords_10context, ignoring all but first\n"
     ]
    },
    {
     "name": "stderr",
     "output_type": "stream",
     "text": [
      "2018-03-04 11:00:56,469 : WARNING : duplicate word '5' in /Users/orprager/PycharmProjects/ml/samples/movies_reviews_sentiment_analysis/300features_40minwords_10context, ignoring all but first\n"
     ]
    },
    {
     "name": "stderr",
     "output_type": "stream",
     "text": [
      "2018-03-04 11:00:56,472 : WARNING : duplicate word '' in /Users/orprager/PycharmProjects/ml/samples/movies_reviews_sentiment_analysis/300features_40minwords_10context, ignoring all but first\n"
     ]
    },
    {
     "name": "stderr",
     "output_type": "stream",
     "text": [
      "2018-03-04 11:00:56,473 : WARNING : duplicate word '' in /Users/orprager/PycharmProjects/ml/samples/movies_reviews_sentiment_analysis/300features_40minwords_10context, ignoring all but first\n"
     ]
    },
    {
     "name": "stderr",
     "output_type": "stream",
     "text": [
      "2018-03-04 11:00:56,475 : WARNING : duplicate word '8' in /Users/orprager/PycharmProjects/ml/samples/movies_reviews_sentiment_analysis/300features_40minwords_10context, ignoring all but first\n"
     ]
    },
    {
     "name": "stderr",
     "output_type": "stream",
     "text": [
      "2018-03-04 11:00:56,476 : WARNING : duplicate word '38' in /Users/orprager/PycharmProjects/ml/samples/movies_reviews_sentiment_analysis/300features_40minwords_10context, ignoring all but first\n"
     ]
    },
    {
     "name": "stderr",
     "output_type": "stream",
     "text": [
      "2018-03-04 11:00:56,478 : WARNING : duplicate word '77' in /Users/orprager/PycharmProjects/ml/samples/movies_reviews_sentiment_analysis/300features_40minwords_10context, ignoring all but first\n"
     ]
    },
    {
     "name": "stderr",
     "output_type": "stream",
     "text": [
      "2018-03-04 11:00:56,479 : WARNING : duplicate word '3' in /Users/orprager/PycharmProjects/ml/samples/movies_reviews_sentiment_analysis/300features_40minwords_10context, ignoring all but first\n"
     ]
    },
    {
     "name": "stderr",
     "output_type": "stream",
     "text": [
      "2018-03-04 11:00:56,481 : WARNING : duplicate word '3' in /Users/orprager/PycharmProjects/ml/samples/movies_reviews_sentiment_analysis/300features_40minwords_10context, ignoring all but first\n"
     ]
    },
    {
     "name": "stderr",
     "output_type": "stream",
     "text": [
      "2018-03-04 11:00:56,482 : WARNING : duplicate word '328' in /Users/orprager/PycharmProjects/ml/samples/movies_reviews_sentiment_analysis/300features_40minwords_10context, ignoring all but first\n"
     ]
    },
    {
     "name": "stderr",
     "output_type": "stream",
     "text": [
      "2018-03-04 11:00:56,485 : WARNING : duplicate word '3' in /Users/orprager/PycharmProjects/ml/samples/movies_reviews_sentiment_analysis/300features_40minwords_10context, ignoring all but first\n"
     ]
    },
    {
     "name": "stderr",
     "output_type": "stream",
     "text": [
      "2018-03-04 11:00:56,489 : WARNING : duplicate word '55' in /Users/orprager/PycharmProjects/ml/samples/movies_reviews_sentiment_analysis/300features_40minwords_10context, ignoring all but first\n"
     ]
    },
    {
     "name": "stderr",
     "output_type": "stream",
     "text": [
      "2018-03-04 11:00:56,490 : WARNING : duplicate word '652' in /Users/orprager/PycharmProjects/ml/samples/movies_reviews_sentiment_analysis/300features_40minwords_10context, ignoring all but first\n"
     ]
    },
    {
     "name": "stderr",
     "output_type": "stream",
     "text": [
      "2018-03-04 11:00:56,492 : WARNING : duplicate word '9' in /Users/orprager/PycharmProjects/ml/samples/movies_reviews_sentiment_analysis/300features_40minwords_10context, ignoring all but first\n"
     ]
    },
    {
     "name": "stderr",
     "output_type": "stream",
     "text": [
      "2018-03-04 11:00:56,494 : WARNING : duplicate word '' in /Users/orprager/PycharmProjects/ml/samples/movies_reviews_sentiment_analysis/300features_40minwords_10context, ignoring all but first\n"
     ]
    },
    {
     "name": "stderr",
     "output_type": "stream",
     "text": [
      "2018-03-04 11:00:56,495 : WARNING : duplicate word '55' in /Users/orprager/PycharmProjects/ml/samples/movies_reviews_sentiment_analysis/300features_40minwords_10context, ignoring all but first\n"
     ]
    },
    {
     "name": "stderr",
     "output_type": "stream",
     "text": [
      "2018-03-04 11:00:56,497 : WARNING : duplicate word '44' in /Users/orprager/PycharmProjects/ml/samples/movies_reviews_sentiment_analysis/300features_40minwords_10context, ignoring all but first\n"
     ]
    },
    {
     "name": "stderr",
     "output_type": "stream",
     "text": [
      "2018-03-04 11:00:56,498 : WARNING : duplicate word '86' in /Users/orprager/PycharmProjects/ml/samples/movies_reviews_sentiment_analysis/300features_40minwords_10context, ignoring all but first\n"
     ]
    },
    {
     "name": "stderr",
     "output_type": "stream",
     "text": [
      "2018-03-04 11:00:56,500 : WARNING : duplicate word '' in /Users/orprager/PycharmProjects/ml/samples/movies_reviews_sentiment_analysis/300features_40minwords_10context, ignoring all but first\n"
     ]
    },
    {
     "name": "stderr",
     "output_type": "stream",
     "text": [
      "2018-03-04 11:00:56,502 : WARNING : duplicate word '' in /Users/orprager/PycharmProjects/ml/samples/movies_reviews_sentiment_analysis/300features_40minwords_10context, ignoring all but first\n"
     ]
    },
    {
     "name": "stderr",
     "output_type": "stream",
     "text": [
      "2018-03-04 11:00:56,504 : WARNING : duplicate word '' in /Users/orprager/PycharmProjects/ml/samples/movies_reviews_sentiment_analysis/300features_40minwords_10context, ignoring all but first\n"
     ]
    },
    {
     "name": "stderr",
     "output_type": "stream",
     "text": [
      "2018-03-04 11:00:56,506 : WARNING : duplicate word '78' in /Users/orprager/PycharmProjects/ml/samples/movies_reviews_sentiment_analysis/300features_40minwords_10context, ignoring all but first\n"
     ]
    },
    {
     "name": "stderr",
     "output_type": "stream",
     "text": [
      "2018-03-04 11:00:56,508 : WARNING : duplicate word '7' in /Users/orprager/PycharmProjects/ml/samples/movies_reviews_sentiment_analysis/300features_40minwords_10context, ignoring all but first\n"
     ]
    },
    {
     "name": "stderr",
     "output_type": "stream",
     "text": [
      "2018-03-04 11:00:56,509 : WARNING : duplicate word '13' in /Users/orprager/PycharmProjects/ml/samples/movies_reviews_sentiment_analysis/300features_40minwords_10context, ignoring all but first\n"
     ]
    },
    {
     "name": "stderr",
     "output_type": "stream",
     "text": [
      "2018-03-04 11:00:56,510 : WARNING : duplicate word '24' in /Users/orprager/PycharmProjects/ml/samples/movies_reviews_sentiment_analysis/300features_40minwords_10context, ignoring all but first\n"
     ]
    },
    {
     "name": "stderr",
     "output_type": "stream",
     "text": [
      "2018-03-04 11:00:56,512 : WARNING : duplicate word '9' in /Users/orprager/PycharmProjects/ml/samples/movies_reviews_sentiment_analysis/300features_40minwords_10context, ignoring all but first\n"
     ]
    },
    {
     "name": "stderr",
     "output_type": "stream",
     "text": [
      "2018-03-04 11:00:56,514 : WARNING : duplicate word '6' in /Users/orprager/PycharmProjects/ml/samples/movies_reviews_sentiment_analysis/300features_40minwords_10context, ignoring all but first\n"
     ]
    },
    {
     "name": "stderr",
     "output_type": "stream",
     "text": [
      "2018-03-04 11:00:56,516 : WARNING : duplicate word '5' in /Users/orprager/PycharmProjects/ml/samples/movies_reviews_sentiment_analysis/300features_40minwords_10context, ignoring all but first\n"
     ]
    },
    {
     "name": "stderr",
     "output_type": "stream",
     "text": [
      "2018-03-04 11:00:56,520 : WARNING : duplicate word '49' in /Users/orprager/PycharmProjects/ml/samples/movies_reviews_sentiment_analysis/300features_40minwords_10context, ignoring all but first\n"
     ]
    },
    {
     "name": "stderr",
     "output_type": "stream",
     "text": [
      "2018-03-04 11:00:56,522 : WARNING : duplicate word '46' in /Users/orprager/PycharmProjects/ml/samples/movies_reviews_sentiment_analysis/300features_40minwords_10context, ignoring all but first\n"
     ]
    },
    {
     "name": "stderr",
     "output_type": "stream",
     "text": [
      "2018-03-04 11:00:56,523 : WARNING : duplicate word '55' in /Users/orprager/PycharmProjects/ml/samples/movies_reviews_sentiment_analysis/300features_40minwords_10context, ignoring all but first\n"
     ]
    },
    {
     "name": "stderr",
     "output_type": "stream",
     "text": [
      "2018-03-04 11:00:56,525 : WARNING : duplicate word '3' in /Users/orprager/PycharmProjects/ml/samples/movies_reviews_sentiment_analysis/300features_40minwords_10context, ignoring all but first\n"
     ]
    },
    {
     "name": "stderr",
     "output_type": "stream",
     "text": [
      "2018-03-04 11:00:56,527 : WARNING : duplicate word '' in /Users/orprager/PycharmProjects/ml/samples/movies_reviews_sentiment_analysis/300features_40minwords_10context, ignoring all but first\n"
     ]
    },
    {
     "name": "stderr",
     "output_type": "stream",
     "text": [
      "2018-03-04 11:00:56,528 : WARNING : duplicate word '' in /Users/orprager/PycharmProjects/ml/samples/movies_reviews_sentiment_analysis/300features_40minwords_10context, ignoring all but first\n"
     ]
    },
    {
     "name": "stderr",
     "output_type": "stream",
     "text": [
      "2018-03-04 11:00:56,530 : WARNING : duplicate word '46' in /Users/orprager/PycharmProjects/ml/samples/movies_reviews_sentiment_analysis/300features_40minwords_10context, ignoring all but first\n"
     ]
    },
    {
     "name": "stderr",
     "output_type": "stream",
     "text": [
      "2018-03-04 11:00:56,531 : WARNING : duplicate word '5' in /Users/orprager/PycharmProjects/ml/samples/movies_reviews_sentiment_analysis/300features_40minwords_10context, ignoring all but first\n"
     ]
    },
    {
     "name": "stderr",
     "output_type": "stream",
     "text": [
      "2018-03-04 11:00:56,533 : WARNING : duplicate word '07' in /Users/orprager/PycharmProjects/ml/samples/movies_reviews_sentiment_analysis/300features_40minwords_10context, ignoring all but first\n"
     ]
    },
    {
     "name": "stderr",
     "output_type": "stream",
     "text": [
      "2018-03-04 11:00:56,537 : WARNING : duplicate word '3' in /Users/orprager/PycharmProjects/ml/samples/movies_reviews_sentiment_analysis/300features_40minwords_10context, ignoring all but first\n"
     ]
    },
    {
     "name": "stderr",
     "output_type": "stream",
     "text": [
      "2018-03-04 11:00:56,539 : WARNING : duplicate word '' in /Users/orprager/PycharmProjects/ml/samples/movies_reviews_sentiment_analysis/300features_40minwords_10context, ignoring all but first\n"
     ]
    },
    {
     "name": "stderr",
     "output_type": "stream",
     "text": [
      "2018-03-04 11:00:56,540 : WARNING : duplicate word '' in /Users/orprager/PycharmProjects/ml/samples/movies_reviews_sentiment_analysis/300features_40minwords_10context, ignoring all but first\n"
     ]
    },
    {
     "name": "stderr",
     "output_type": "stream",
     "text": [
      "2018-03-04 11:00:56,541 : WARNING : duplicate word '' in /Users/orprager/PycharmProjects/ml/samples/movies_reviews_sentiment_analysis/300features_40minwords_10context, ignoring all but first\n"
     ]
    },
    {
     "name": "stderr",
     "output_type": "stream",
     "text": [
      "2018-03-04 11:00:56,543 : WARNING : duplicate word '' in /Users/orprager/PycharmProjects/ml/samples/movies_reviews_sentiment_analysis/300features_40minwords_10context, ignoring all but first\n"
     ]
    },
    {
     "name": "stderr",
     "output_type": "stream",
     "text": [
      "2018-03-04 11:00:56,545 : WARNING : duplicate word '' in /Users/orprager/PycharmProjects/ml/samples/movies_reviews_sentiment_analysis/300features_40minwords_10context, ignoring all but first\n"
     ]
    },
    {
     "name": "stderr",
     "output_type": "stream",
     "text": [
      "2018-03-04 11:00:56,547 : WARNING : duplicate word '96' in /Users/orprager/PycharmProjects/ml/samples/movies_reviews_sentiment_analysis/300features_40minwords_10context, ignoring all but first\n"
     ]
    },
    {
     "name": "stderr",
     "output_type": "stream",
     "text": [
      "2018-03-04 11:00:56,548 : WARNING : duplicate word '544' in /Users/orprager/PycharmProjects/ml/samples/movies_reviews_sentiment_analysis/300features_40minwords_10context, ignoring all but first\n"
     ]
    },
    {
     "name": "stderr",
     "output_type": "stream",
     "text": [
      "2018-03-04 11:00:56,551 : WARNING : duplicate word '16' in /Users/orprager/PycharmProjects/ml/samples/movies_reviews_sentiment_analysis/300features_40minwords_10context, ignoring all but first\n"
     ]
    },
    {
     "name": "stderr",
     "output_type": "stream",
     "text": [
      "2018-03-04 11:00:56,553 : WARNING : duplicate word '294' in /Users/orprager/PycharmProjects/ml/samples/movies_reviews_sentiment_analysis/300features_40minwords_10context, ignoring all but first\n"
     ]
    },
    {
     "name": "stderr",
     "output_type": "stream",
     "text": [
      "2018-03-04 11:00:56,556 : WARNING : duplicate word '3' in /Users/orprager/PycharmProjects/ml/samples/movies_reviews_sentiment_analysis/300features_40minwords_10context, ignoring all but first\n"
     ]
    },
    {
     "name": "stderr",
     "output_type": "stream",
     "text": [
      "2018-03-04 11:00:56,557 : WARNING : duplicate word '84' in /Users/orprager/PycharmProjects/ml/samples/movies_reviews_sentiment_analysis/300features_40minwords_10context, ignoring all but first\n"
     ]
    },
    {
     "name": "stderr",
     "output_type": "stream",
     "text": [
      "2018-03-04 11:00:56,559 : WARNING : duplicate word '' in /Users/orprager/PycharmProjects/ml/samples/movies_reviews_sentiment_analysis/300features_40minwords_10context, ignoring all but first\n"
     ]
    },
    {
     "name": "stderr",
     "output_type": "stream",
     "text": [
      "2018-03-04 11:00:56,560 : WARNING : duplicate word '9' in /Users/orprager/PycharmProjects/ml/samples/movies_reviews_sentiment_analysis/300features_40minwords_10context, ignoring all but first\n"
     ]
    },
    {
     "name": "stderr",
     "output_type": "stream",
     "text": [
      "2018-03-04 11:00:56,561 : WARNING : duplicate word '59' in /Users/orprager/PycharmProjects/ml/samples/movies_reviews_sentiment_analysis/300features_40minwords_10context, ignoring all but first\n"
     ]
    },
    {
     "name": "stderr",
     "output_type": "stream",
     "text": [
      "2018-03-04 11:00:56,563 : WARNING : duplicate word '3' in /Users/orprager/PycharmProjects/ml/samples/movies_reviews_sentiment_analysis/300features_40minwords_10context, ignoring all but first\n"
     ]
    },
    {
     "name": "stderr",
     "output_type": "stream",
     "text": [
      "2018-03-04 11:00:56,564 : WARNING : duplicate word '' in /Users/orprager/PycharmProjects/ml/samples/movies_reviews_sentiment_analysis/300features_40minwords_10context, ignoring all but first\n"
     ]
    },
    {
     "name": "stderr",
     "output_type": "stream",
     "text": [
      "2018-03-04 11:00:56,567 : WARNING : duplicate word '' in /Users/orprager/PycharmProjects/ml/samples/movies_reviews_sentiment_analysis/300features_40minwords_10context, ignoring all but first\n"
     ]
    },
    {
     "name": "stderr",
     "output_type": "stream",
     "text": [
      "2018-03-04 11:00:56,569 : WARNING : duplicate word '' in /Users/orprager/PycharmProjects/ml/samples/movies_reviews_sentiment_analysis/300features_40minwords_10context, ignoring all but first\n"
     ]
    },
    {
     "name": "stderr",
     "output_type": "stream",
     "text": [
      "2018-03-04 11:00:56,571 : WARNING : duplicate word '' in /Users/orprager/PycharmProjects/ml/samples/movies_reviews_sentiment_analysis/300features_40minwords_10context, ignoring all but first\n"
     ]
    },
    {
     "name": "stderr",
     "output_type": "stream",
     "text": [
      "2018-03-04 11:00:56,574 : WARNING : duplicate word '25' in /Users/orprager/PycharmProjects/ml/samples/movies_reviews_sentiment_analysis/300features_40minwords_10context, ignoring all but first\n"
     ]
    },
    {
     "name": "stderr",
     "output_type": "stream",
     "text": [
      "2018-03-04 11:00:56,575 : WARNING : duplicate word '' in /Users/orprager/PycharmProjects/ml/samples/movies_reviews_sentiment_analysis/300features_40minwords_10context, ignoring all but first\n"
     ]
    },
    {
     "name": "stderr",
     "output_type": "stream",
     "text": [
      "2018-03-04 11:00:56,577 : WARNING : duplicate word '' in /Users/orprager/PycharmProjects/ml/samples/movies_reviews_sentiment_analysis/300features_40minwords_10context, ignoring all but first\n"
     ]
    },
    {
     "name": "stderr",
     "output_type": "stream",
     "text": [
      "2018-03-04 11:00:56,579 : WARNING : duplicate word '' in /Users/orprager/PycharmProjects/ml/samples/movies_reviews_sentiment_analysis/300features_40minwords_10context, ignoring all but first\n"
     ]
    },
    {
     "name": "stderr",
     "output_type": "stream",
     "text": [
      "2018-03-04 11:00:56,581 : WARNING : duplicate word '' in /Users/orprager/PycharmProjects/ml/samples/movies_reviews_sentiment_analysis/300features_40minwords_10context, ignoring all but first\n"
     ]
    },
    {
     "name": "stderr",
     "output_type": "stream",
     "text": [
      "2018-03-04 11:00:56,582 : WARNING : duplicate word '0672' in /Users/orprager/PycharmProjects/ml/samples/movies_reviews_sentiment_analysis/300features_40minwords_10context, ignoring all but first\n"
     ]
    },
    {
     "name": "stderr",
     "output_type": "stream",
     "text": [
      "2018-03-04 11:00:56,586 : WARNING : duplicate word '64' in /Users/orprager/PycharmProjects/ml/samples/movies_reviews_sentiment_analysis/300features_40minwords_10context, ignoring all but first\n"
     ]
    },
    {
     "name": "stderr",
     "output_type": "stream",
     "text": [
      "2018-03-04 11:00:56,588 : WARNING : duplicate word '37' in /Users/orprager/PycharmProjects/ml/samples/movies_reviews_sentiment_analysis/300features_40minwords_10context, ignoring all but first\n"
     ]
    },
    {
     "name": "stderr",
     "output_type": "stream",
     "text": [
      "2018-03-04 11:00:56,590 : WARNING : duplicate word '' in /Users/orprager/PycharmProjects/ml/samples/movies_reviews_sentiment_analysis/300features_40minwords_10context, ignoring all but first\n"
     ]
    },
    {
     "name": "stderr",
     "output_type": "stream",
     "text": [
      "2018-03-04 11:00:56,591 : WARNING : duplicate word '' in /Users/orprager/PycharmProjects/ml/samples/movies_reviews_sentiment_analysis/300features_40minwords_10context, ignoring all but first\n"
     ]
    },
    {
     "name": "stderr",
     "output_type": "stream",
     "text": [
      "2018-03-04 11:00:56,593 : WARNING : duplicate word '7' in /Users/orprager/PycharmProjects/ml/samples/movies_reviews_sentiment_analysis/300features_40minwords_10context, ignoring all but first\n"
     ]
    },
    {
     "name": "stderr",
     "output_type": "stream",
     "text": [
      "2018-03-04 11:00:56,594 : WARNING : duplicate word '4' in /Users/orprager/PycharmProjects/ml/samples/movies_reviews_sentiment_analysis/300features_40minwords_10context, ignoring all but first\n"
     ]
    },
    {
     "name": "stderr",
     "output_type": "stream",
     "text": [
      "2018-03-04 11:00:56,596 : WARNING : duplicate word '9' in /Users/orprager/PycharmProjects/ml/samples/movies_reviews_sentiment_analysis/300features_40minwords_10context, ignoring all but first\n"
     ]
    },
    {
     "name": "stderr",
     "output_type": "stream",
     "text": [
      "2018-03-04 11:00:56,597 : WARNING : duplicate word '' in /Users/orprager/PycharmProjects/ml/samples/movies_reviews_sentiment_analysis/300features_40minwords_10context, ignoring all but first\n"
     ]
    },
    {
     "name": "stderr",
     "output_type": "stream",
     "text": [
      "2018-03-04 11:00:56,598 : WARNING : duplicate word '' in /Users/orprager/PycharmProjects/ml/samples/movies_reviews_sentiment_analysis/300features_40minwords_10context, ignoring all but first\n"
     ]
    },
    {
     "name": "stderr",
     "output_type": "stream",
     "text": [
      "2018-03-04 11:00:56,600 : WARNING : duplicate word '9' in /Users/orprager/PycharmProjects/ml/samples/movies_reviews_sentiment_analysis/300features_40minwords_10context, ignoring all but first\n"
     ]
    },
    {
     "name": "stderr",
     "output_type": "stream",
     "text": [
      "2018-03-04 11:00:56,605 : WARNING : duplicate word '26' in /Users/orprager/PycharmProjects/ml/samples/movies_reviews_sentiment_analysis/300features_40minwords_10context, ignoring all but first\n"
     ]
    },
    {
     "name": "stderr",
     "output_type": "stream",
     "text": [
      "2018-03-04 11:00:56,607 : WARNING : duplicate word '2' in /Users/orprager/PycharmProjects/ml/samples/movies_reviews_sentiment_analysis/300features_40minwords_10context, ignoring all but first\n"
     ]
    },
    {
     "name": "stderr",
     "output_type": "stream",
     "text": [
      "2018-03-04 11:00:56,609 : WARNING : duplicate word '47' in /Users/orprager/PycharmProjects/ml/samples/movies_reviews_sentiment_analysis/300features_40minwords_10context, ignoring all but first\n"
     ]
    },
    {
     "name": "stderr",
     "output_type": "stream",
     "text": [
      "2018-03-04 11:00:56,611 : WARNING : duplicate word '' in /Users/orprager/PycharmProjects/ml/samples/movies_reviews_sentiment_analysis/300features_40minwords_10context, ignoring all but first\n"
     ]
    },
    {
     "name": "stderr",
     "output_type": "stream",
     "text": [
      "2018-03-04 11:00:56,612 : WARNING : duplicate word '' in /Users/orprager/PycharmProjects/ml/samples/movies_reviews_sentiment_analysis/300features_40minwords_10context, ignoring all but first\n"
     ]
    },
    {
     "name": "stderr",
     "output_type": "stream",
     "text": [
      "2018-03-04 11:00:56,616 : WARNING : duplicate word '5' in /Users/orprager/PycharmProjects/ml/samples/movies_reviews_sentiment_analysis/300features_40minwords_10context, ignoring all but first\n"
     ]
    },
    {
     "name": "stderr",
     "output_type": "stream",
     "text": [
      "2018-03-04 11:00:56,618 : WARNING : duplicate word '3' in /Users/orprager/PycharmProjects/ml/samples/movies_reviews_sentiment_analysis/300features_40minwords_10context, ignoring all but first\n"
     ]
    },
    {
     "name": "stderr",
     "output_type": "stream",
     "text": [
      "2018-03-04 11:00:56,619 : WARNING : duplicate word '28' in /Users/orprager/PycharmProjects/ml/samples/movies_reviews_sentiment_analysis/300features_40minwords_10context, ignoring all but first\n"
     ]
    },
    {
     "name": "stderr",
     "output_type": "stream",
     "text": [
      "2018-03-04 11:00:56,621 : WARNING : duplicate word '' in /Users/orprager/PycharmProjects/ml/samples/movies_reviews_sentiment_analysis/300features_40minwords_10context, ignoring all but first\n"
     ]
    },
    {
     "name": "stderr",
     "output_type": "stream",
     "text": [
      "2018-03-04 11:00:56,623 : WARNING : duplicate word '' in /Users/orprager/PycharmProjects/ml/samples/movies_reviews_sentiment_analysis/300features_40minwords_10context, ignoring all but first\n"
     ]
    },
    {
     "name": "stderr",
     "output_type": "stream",
     "text": [
      "2018-03-04 11:00:56,624 : WARNING : duplicate word '' in /Users/orprager/PycharmProjects/ml/samples/movies_reviews_sentiment_analysis/300features_40minwords_10context, ignoring all but first\n"
     ]
    },
    {
     "name": "stderr",
     "output_type": "stream",
     "text": [
      "2018-03-04 11:00:56,626 : WARNING : duplicate word '2' in /Users/orprager/PycharmProjects/ml/samples/movies_reviews_sentiment_analysis/300features_40minwords_10context, ignoring all but first\n"
     ]
    },
    {
     "name": "stderr",
     "output_type": "stream",
     "text": [
      "2018-03-04 11:00:56,627 : WARNING : duplicate word '65' in /Users/orprager/PycharmProjects/ml/samples/movies_reviews_sentiment_analysis/300features_40minwords_10context, ignoring all but first\n"
     ]
    },
    {
     "name": "stderr",
     "output_type": "stream",
     "text": [
      "2018-03-04 11:00:56,629 : WARNING : duplicate word '6' in /Users/orprager/PycharmProjects/ml/samples/movies_reviews_sentiment_analysis/300features_40minwords_10context, ignoring all but first\n"
     ]
    },
    {
     "name": "stderr",
     "output_type": "stream",
     "text": [
      "2018-03-04 11:00:56,634 : WARNING : duplicate word '' in /Users/orprager/PycharmProjects/ml/samples/movies_reviews_sentiment_analysis/300features_40minwords_10context, ignoring all but first\n"
     ]
    },
    {
     "name": "stderr",
     "output_type": "stream",
     "text": [
      "2018-03-04 11:00:56,636 : WARNING : duplicate word '3' in /Users/orprager/PycharmProjects/ml/samples/movies_reviews_sentiment_analysis/300features_40minwords_10context, ignoring all but first\n"
     ]
    },
    {
     "name": "stderr",
     "output_type": "stream",
     "text": [
      "2018-03-04 11:00:56,638 : WARNING : duplicate word '3' in /Users/orprager/PycharmProjects/ml/samples/movies_reviews_sentiment_analysis/300features_40minwords_10context, ignoring all but first\n"
     ]
    },
    {
     "name": "stderr",
     "output_type": "stream",
     "text": [
      "2018-03-04 11:00:56,639 : WARNING : duplicate word '81' in /Users/orprager/PycharmProjects/ml/samples/movies_reviews_sentiment_analysis/300features_40minwords_10context, ignoring all but first\n"
     ]
    },
    {
     "name": "stderr",
     "output_type": "stream",
     "text": [
      "2018-03-04 11:00:56,641 : WARNING : duplicate word '' in /Users/orprager/PycharmProjects/ml/samples/movies_reviews_sentiment_analysis/300features_40minwords_10context, ignoring all but first\n"
     ]
    },
    {
     "name": "stderr",
     "output_type": "stream",
     "text": [
      "2018-03-04 11:00:56,642 : WARNING : duplicate word '' in /Users/orprager/PycharmProjects/ml/samples/movies_reviews_sentiment_analysis/300features_40minwords_10context, ignoring all but first\n"
     ]
    },
    {
     "name": "stderr",
     "output_type": "stream",
     "text": [
      "2018-03-04 11:00:56,644 : WARNING : duplicate word '56' in /Users/orprager/PycharmProjects/ml/samples/movies_reviews_sentiment_analysis/300features_40minwords_10context, ignoring all but first\n"
     ]
    },
    {
     "name": "stderr",
     "output_type": "stream",
     "text": [
      "2018-03-04 11:00:56,646 : WARNING : duplicate word '3' in /Users/orprager/PycharmProjects/ml/samples/movies_reviews_sentiment_analysis/300features_40minwords_10context, ignoring all but first\n"
     ]
    },
    {
     "name": "stderr",
     "output_type": "stream",
     "text": [
      "2018-03-04 11:00:56,649 : WARNING : duplicate word '4' in /Users/orprager/PycharmProjects/ml/samples/movies_reviews_sentiment_analysis/300features_40minwords_10context, ignoring all but first\n"
     ]
    },
    {
     "name": "stderr",
     "output_type": "stream",
     "text": [
      "2018-03-04 11:00:56,651 : WARNING : duplicate word '5' in /Users/orprager/PycharmProjects/ml/samples/movies_reviews_sentiment_analysis/300features_40minwords_10context, ignoring all but first\n"
     ]
    },
    {
     "name": "stderr",
     "output_type": "stream",
     "text": [
      "2018-03-04 11:00:56,653 : WARNING : duplicate word '' in /Users/orprager/PycharmProjects/ml/samples/movies_reviews_sentiment_analysis/300features_40minwords_10context, ignoring all but first\n"
     ]
    },
    {
     "name": "stderr",
     "output_type": "stream",
     "text": [
      "2018-03-04 11:00:56,654 : WARNING : duplicate word '044' in /Users/orprager/PycharmProjects/ml/samples/movies_reviews_sentiment_analysis/300features_40minwords_10context, ignoring all but first\n"
     ]
    },
    {
     "name": "stderr",
     "output_type": "stream",
     "text": [
      "2018-03-04 11:00:56,656 : WARNING : duplicate word '04' in /Users/orprager/PycharmProjects/ml/samples/movies_reviews_sentiment_analysis/300features_40minwords_10context, ignoring all but first\n"
     ]
    },
    {
     "name": "stderr",
     "output_type": "stream",
     "text": [
      "2018-03-04 11:00:56,658 : WARNING : duplicate word '9' in /Users/orprager/PycharmProjects/ml/samples/movies_reviews_sentiment_analysis/300features_40minwords_10context, ignoring all but first\n"
     ]
    },
    {
     "name": "stderr",
     "output_type": "stream",
     "text": [
      "2018-03-04 11:00:56,659 : WARNING : duplicate word '' in /Users/orprager/PycharmProjects/ml/samples/movies_reviews_sentiment_analysis/300features_40minwords_10context, ignoring all but first\n"
     ]
    },
    {
     "name": "stderr",
     "output_type": "stream",
     "text": [
      "2018-03-04 11:00:56,661 : WARNING : duplicate word '47' in /Users/orprager/PycharmProjects/ml/samples/movies_reviews_sentiment_analysis/300features_40minwords_10context, ignoring all but first\n"
     ]
    },
    {
     "name": "stderr",
     "output_type": "stream",
     "text": [
      "2018-03-04 11:00:56,663 : WARNING : duplicate word '6' in /Users/orprager/PycharmProjects/ml/samples/movies_reviews_sentiment_analysis/300features_40minwords_10context, ignoring all but first\n"
     ]
    },
    {
     "name": "stderr",
     "output_type": "stream",
     "text": [
      "2018-03-04 11:00:56,666 : WARNING : duplicate word '' in /Users/orprager/PycharmProjects/ml/samples/movies_reviews_sentiment_analysis/300features_40minwords_10context, ignoring all but first\n"
     ]
    },
    {
     "name": "stderr",
     "output_type": "stream",
     "text": [
      "2018-03-04 11:00:56,670 : WARNING : duplicate word '6' in /Users/orprager/PycharmProjects/ml/samples/movies_reviews_sentiment_analysis/300features_40minwords_10context, ignoring all but first\n"
     ]
    },
    {
     "name": "stderr",
     "output_type": "stream",
     "text": [
      "2018-03-04 11:00:56,672 : WARNING : duplicate word '' in /Users/orprager/PycharmProjects/ml/samples/movies_reviews_sentiment_analysis/300features_40minwords_10context, ignoring all but first\n"
     ]
    },
    {
     "name": "stderr",
     "output_type": "stream",
     "text": [
      "2018-03-04 11:00:56,673 : WARNING : duplicate word '' in /Users/orprager/PycharmProjects/ml/samples/movies_reviews_sentiment_analysis/300features_40minwords_10context, ignoring all but first\n"
     ]
    },
    {
     "name": "stderr",
     "output_type": "stream",
     "text": [
      "2018-03-04 11:00:56,675 : WARNING : duplicate word '5' in /Users/orprager/PycharmProjects/ml/samples/movies_reviews_sentiment_analysis/300features_40minwords_10context, ignoring all but first\n"
     ]
    },
    {
     "name": "stderr",
     "output_type": "stream",
     "text": [
      "2018-03-04 11:00:56,677 : WARNING : duplicate word '4' in /Users/orprager/PycharmProjects/ml/samples/movies_reviews_sentiment_analysis/300features_40minwords_10context, ignoring all but first\n"
     ]
    },
    {
     "name": "stderr",
     "output_type": "stream",
     "text": [
      "2018-03-04 11:00:56,678 : WARNING : duplicate word '3' in /Users/orprager/PycharmProjects/ml/samples/movies_reviews_sentiment_analysis/300features_40minwords_10context, ignoring all but first\n"
     ]
    },
    {
     "name": "stderr",
     "output_type": "stream",
     "text": [
      "2018-03-04 11:00:56,679 : WARNING : duplicate word '68' in /Users/orprager/PycharmProjects/ml/samples/movies_reviews_sentiment_analysis/300features_40minwords_10context, ignoring all but first\n"
     ]
    },
    {
     "name": "stderr",
     "output_type": "stream",
     "text": [
      "2018-03-04 11:00:56,681 : WARNING : duplicate word '8' in /Users/orprager/PycharmProjects/ml/samples/movies_reviews_sentiment_analysis/300features_40minwords_10context, ignoring all but first\n"
     ]
    },
    {
     "name": "stderr",
     "output_type": "stream",
     "text": [
      "2018-03-04 11:00:56,684 : WARNING : duplicate word '' in /Users/orprager/PycharmProjects/ml/samples/movies_reviews_sentiment_analysis/300features_40minwords_10context, ignoring all but first\n"
     ]
    },
    {
     "name": "stderr",
     "output_type": "stream",
     "text": [
      "2018-03-04 11:00:56,687 : WARNING : duplicate word '7' in /Users/orprager/PycharmProjects/ml/samples/movies_reviews_sentiment_analysis/300features_40minwords_10context, ignoring all but first\n"
     ]
    },
    {
     "name": "stderr",
     "output_type": "stream",
     "text": [
      "2018-03-04 11:00:56,688 : WARNING : duplicate word '3' in /Users/orprager/PycharmProjects/ml/samples/movies_reviews_sentiment_analysis/300features_40minwords_10context, ignoring all but first\n"
     ]
    },
    {
     "name": "stderr",
     "output_type": "stream",
     "text": [
      "2018-03-04 11:00:56,690 : WARNING : duplicate word '' in /Users/orprager/PycharmProjects/ml/samples/movies_reviews_sentiment_analysis/300features_40minwords_10context, ignoring all but first\n"
     ]
    },
    {
     "name": "stderr",
     "output_type": "stream",
     "text": [
      "2018-03-04 11:00:56,691 : WARNING : duplicate word '7' in /Users/orprager/PycharmProjects/ml/samples/movies_reviews_sentiment_analysis/300features_40minwords_10context, ignoring all but first\n"
     ]
    },
    {
     "name": "stderr",
     "output_type": "stream",
     "text": [
      "2018-03-04 11:00:56,692 : WARNING : duplicate word '' in /Users/orprager/PycharmProjects/ml/samples/movies_reviews_sentiment_analysis/300features_40minwords_10context, ignoring all but first\n"
     ]
    },
    {
     "name": "stderr",
     "output_type": "stream",
     "text": [
      "2018-03-04 11:00:56,694 : WARNING : duplicate word '37' in /Users/orprager/PycharmProjects/ml/samples/movies_reviews_sentiment_analysis/300features_40minwords_10context, ignoring all but first\n"
     ]
    },
    {
     "name": "stderr",
     "output_type": "stream",
     "text": [
      "2018-03-04 11:00:56,696 : WARNING : duplicate word '7' in /Users/orprager/PycharmProjects/ml/samples/movies_reviews_sentiment_analysis/300features_40minwords_10context, ignoring all but first\n"
     ]
    },
    {
     "name": "stderr",
     "output_type": "stream",
     "text": [
      "2018-03-04 11:00:56,698 : WARNING : duplicate word '' in /Users/orprager/PycharmProjects/ml/samples/movies_reviews_sentiment_analysis/300features_40minwords_10context, ignoring all but first\n"
     ]
    },
    {
     "name": "stderr",
     "output_type": "stream",
     "text": [
      "2018-03-04 11:00:56,701 : WARNING : duplicate word '5' in /Users/orprager/PycharmProjects/ml/samples/movies_reviews_sentiment_analysis/300features_40minwords_10context, ignoring all but first\n"
     ]
    },
    {
     "name": "stderr",
     "output_type": "stream",
     "text": [
      "2018-03-04 11:00:56,703 : WARNING : duplicate word '32' in /Users/orprager/PycharmProjects/ml/samples/movies_reviews_sentiment_analysis/300features_40minwords_10context, ignoring all but first\n"
     ]
    },
    {
     "name": "stderr",
     "output_type": "stream",
     "text": [
      "2018-03-04 11:00:56,705 : WARNING : duplicate word '' in /Users/orprager/PycharmProjects/ml/samples/movies_reviews_sentiment_analysis/300features_40minwords_10context, ignoring all but first\n"
     ]
    },
    {
     "name": "stderr",
     "output_type": "stream",
     "text": [
      "2018-03-04 11:00:56,707 : WARNING : duplicate word '32' in /Users/orprager/PycharmProjects/ml/samples/movies_reviews_sentiment_analysis/300features_40minwords_10context, ignoring all but first\n"
     ]
    },
    {
     "name": "stderr",
     "output_type": "stream",
     "text": [
      "2018-03-04 11:00:56,708 : WARNING : duplicate word '' in /Users/orprager/PycharmProjects/ml/samples/movies_reviews_sentiment_analysis/300features_40minwords_10context, ignoring all but first\n"
     ]
    },
    {
     "name": "stderr",
     "output_type": "stream",
     "text": [
      "2018-03-04 11:00:56,710 : WARNING : duplicate word '88' in /Users/orprager/PycharmProjects/ml/samples/movies_reviews_sentiment_analysis/300features_40minwords_10context, ignoring all but first\n"
     ]
    },
    {
     "name": "stderr",
     "output_type": "stream",
     "text": [
      "2018-03-04 11:00:56,711 : WARNING : duplicate word '34' in /Users/orprager/PycharmProjects/ml/samples/movies_reviews_sentiment_analysis/300features_40minwords_10context, ignoring all but first\n"
     ]
    },
    {
     "name": "stderr",
     "output_type": "stream",
     "text": [
      "2018-03-04 11:00:56,713 : WARNING : duplicate word '6' in /Users/orprager/PycharmProjects/ml/samples/movies_reviews_sentiment_analysis/300features_40minwords_10context, ignoring all but first\n"
     ]
    },
    {
     "name": "stderr",
     "output_type": "stream",
     "text": [
      "2018-03-04 11:00:56,714 : WARNING : duplicate word '' in /Users/orprager/PycharmProjects/ml/samples/movies_reviews_sentiment_analysis/300features_40minwords_10context, ignoring all but first\n"
     ]
    },
    {
     "name": "stderr",
     "output_type": "stream",
     "text": [
      "2018-03-04 11:00:56,716 : WARNING : duplicate word '' in /Users/orprager/PycharmProjects/ml/samples/movies_reviews_sentiment_analysis/300features_40minwords_10context, ignoring all but first\n"
     ]
    },
    {
     "name": "stderr",
     "output_type": "stream",
     "text": [
      "2018-03-04 11:00:56,718 : WARNING : duplicate word '07' in /Users/orprager/PycharmProjects/ml/samples/movies_reviews_sentiment_analysis/300features_40minwords_10context, ignoring all but first\n"
     ]
    },
    {
     "name": "stderr",
     "output_type": "stream",
     "text": [
      "2018-03-04 11:00:56,720 : WARNING : duplicate word '975' in /Users/orprager/PycharmProjects/ml/samples/movies_reviews_sentiment_analysis/300features_40minwords_10context, ignoring all but first\n"
     ]
    },
    {
     "name": "stderr",
     "output_type": "stream",
     "text": [
      "2018-03-04 11:00:56,722 : WARNING : duplicate word '56' in /Users/orprager/PycharmProjects/ml/samples/movies_reviews_sentiment_analysis/300features_40minwords_10context, ignoring all but first\n"
     ]
    },
    {
     "name": "stderr",
     "output_type": "stream",
     "text": [
      "2018-03-04 11:00:56,723 : WARNING : duplicate word '' in /Users/orprager/PycharmProjects/ml/samples/movies_reviews_sentiment_analysis/300features_40minwords_10context, ignoring all but first\n"
     ]
    },
    {
     "name": "stderr",
     "output_type": "stream",
     "text": [
      "2018-03-04 11:00:56,725 : WARNING : duplicate word '18' in /Users/orprager/PycharmProjects/ml/samples/movies_reviews_sentiment_analysis/300features_40minwords_10context, ignoring all but first\n"
     ]
    },
    {
     "name": "stderr",
     "output_type": "stream",
     "text": [
      "2018-03-04 11:00:56,727 : WARNING : duplicate word '42' in /Users/orprager/PycharmProjects/ml/samples/movies_reviews_sentiment_analysis/300features_40minwords_10context, ignoring all but first\n"
     ]
    },
    {
     "name": "stderr",
     "output_type": "stream",
     "text": [
      "2018-03-04 11:00:56,728 : WARNING : duplicate word '' in /Users/orprager/PycharmProjects/ml/samples/movies_reviews_sentiment_analysis/300features_40minwords_10context, ignoring all but first\n"
     ]
    },
    {
     "name": "stderr",
     "output_type": "stream",
     "text": [
      "2018-03-04 11:00:56,730 : WARNING : duplicate word '4' in /Users/orprager/PycharmProjects/ml/samples/movies_reviews_sentiment_analysis/300features_40minwords_10context, ignoring all but first\n"
     ]
    },
    {
     "name": "stderr",
     "output_type": "stream",
     "text": [
      "2018-03-04 11:00:56,731 : WARNING : duplicate word '314' in /Users/orprager/PycharmProjects/ml/samples/movies_reviews_sentiment_analysis/300features_40minwords_10context, ignoring all but first\n"
     ]
    },
    {
     "name": "stderr",
     "output_type": "stream",
     "text": [
      "2018-03-04 11:00:56,733 : WARNING : duplicate word '23' in /Users/orprager/PycharmProjects/ml/samples/movies_reviews_sentiment_analysis/300features_40minwords_10context, ignoring all but first\n"
     ]
    },
    {
     "name": "stderr",
     "output_type": "stream",
     "text": [
      "2018-03-04 11:00:56,735 : WARNING : duplicate word '9' in /Users/orprager/PycharmProjects/ml/samples/movies_reviews_sentiment_analysis/300features_40minwords_10context, ignoring all but first\n"
     ]
    },
    {
     "name": "stderr",
     "output_type": "stream",
     "text": [
      "2018-03-04 11:00:56,738 : WARNING : duplicate word '' in /Users/orprager/PycharmProjects/ml/samples/movies_reviews_sentiment_analysis/300features_40minwords_10context, ignoring all but first\n"
     ]
    },
    {
     "name": "stderr",
     "output_type": "stream",
     "text": [
      "2018-03-04 11:00:56,740 : WARNING : duplicate word '' in /Users/orprager/PycharmProjects/ml/samples/movies_reviews_sentiment_analysis/300features_40minwords_10context, ignoring all but first\n"
     ]
    },
    {
     "name": "stderr",
     "output_type": "stream",
     "text": [
      "2018-03-04 11:00:56,742 : WARNING : duplicate word '48' in /Users/orprager/PycharmProjects/ml/samples/movies_reviews_sentiment_analysis/300features_40minwords_10context, ignoring all but first\n"
     ]
    },
    {
     "name": "stderr",
     "output_type": "stream",
     "text": [
      "2018-03-04 11:00:56,743 : WARNING : duplicate word '' in /Users/orprager/PycharmProjects/ml/samples/movies_reviews_sentiment_analysis/300features_40minwords_10context, ignoring all but first\n"
     ]
    },
    {
     "name": "stderr",
     "output_type": "stream",
     "text": [
      "2018-03-04 11:00:56,745 : WARNING : duplicate word '32' in /Users/orprager/PycharmProjects/ml/samples/movies_reviews_sentiment_analysis/300features_40minwords_10context, ignoring all but first\n"
     ]
    },
    {
     "name": "stderr",
     "output_type": "stream",
     "text": [
      "2018-03-04 11:00:56,746 : WARNING : duplicate word '' in /Users/orprager/PycharmProjects/ml/samples/movies_reviews_sentiment_analysis/300features_40minwords_10context, ignoring all but first\n"
     ]
    },
    {
     "name": "stderr",
     "output_type": "stream",
     "text": [
      "2018-03-04 11:00:56,748 : WARNING : duplicate word '5' in /Users/orprager/PycharmProjects/ml/samples/movies_reviews_sentiment_analysis/300features_40minwords_10context, ignoring all but first\n"
     ]
    },
    {
     "name": "stderr",
     "output_type": "stream",
     "text": [
      "2018-03-04 11:00:56,749 : WARNING : duplicate word '74' in /Users/orprager/PycharmProjects/ml/samples/movies_reviews_sentiment_analysis/300features_40minwords_10context, ignoring all but first\n"
     ]
    },
    {
     "name": "stderr",
     "output_type": "stream",
     "text": [
      "2018-03-04 11:00:56,751 : WARNING : duplicate word '121' in /Users/orprager/PycharmProjects/ml/samples/movies_reviews_sentiment_analysis/300features_40minwords_10context, ignoring all but first\n"
     ]
    },
    {
     "name": "stderr",
     "output_type": "stream",
     "text": [
      "2018-03-04 11:00:56,752 : WARNING : duplicate word '11' in /Users/orprager/PycharmProjects/ml/samples/movies_reviews_sentiment_analysis/300features_40minwords_10context, ignoring all but first\n"
     ]
    },
    {
     "name": "stderr",
     "output_type": "stream",
     "text": [
      "2018-03-04 11:00:56,754 : WARNING : duplicate word '8858' in /Users/orprager/PycharmProjects/ml/samples/movies_reviews_sentiment_analysis/300features_40minwords_10context, ignoring all but first\n"
     ]
    },
    {
     "name": "stderr",
     "output_type": "stream",
     "text": [
      "2018-03-04 11:00:56,756 : WARNING : duplicate word '785' in /Users/orprager/PycharmProjects/ml/samples/movies_reviews_sentiment_analysis/300features_40minwords_10context, ignoring all but first\n"
     ]
    },
    {
     "name": "stderr",
     "output_type": "stream",
     "text": [
      "2018-03-04 11:00:56,757 : WARNING : duplicate word '' in /Users/orprager/PycharmProjects/ml/samples/movies_reviews_sentiment_analysis/300features_40minwords_10context, ignoring all but first\n"
     ]
    },
    {
     "name": "stderr",
     "output_type": "stream",
     "text": [
      "2018-03-04 11:00:56,759 : WARNING : duplicate word '88' in /Users/orprager/PycharmProjects/ml/samples/movies_reviews_sentiment_analysis/300features_40minwords_10context, ignoring all but first\n"
     ]
    },
    {
     "name": "stderr",
     "output_type": "stream",
     "text": [
      "2018-03-04 11:00:56,760 : WARNING : duplicate word '96' in /Users/orprager/PycharmProjects/ml/samples/movies_reviews_sentiment_analysis/300features_40minwords_10context, ignoring all but first\n"
     ]
    },
    {
     "name": "stderr",
     "output_type": "stream",
     "text": [
      "2018-03-04 11:00:56,762 : WARNING : duplicate word '' in /Users/orprager/PycharmProjects/ml/samples/movies_reviews_sentiment_analysis/300features_40minwords_10context, ignoring all but first\n"
     ]
    },
    {
     "name": "stderr",
     "output_type": "stream",
     "text": [
      "2018-03-04 11:00:56,763 : WARNING : duplicate word '529' in /Users/orprager/PycharmProjects/ml/samples/movies_reviews_sentiment_analysis/300features_40minwords_10context, ignoring all but first\n"
     ]
    },
    {
     "name": "stderr",
     "output_type": "stream",
     "text": [
      "2018-03-04 11:00:56,765 : WARNING : duplicate word '45' in /Users/orprager/PycharmProjects/ml/samples/movies_reviews_sentiment_analysis/300features_40minwords_10context, ignoring all but first\n"
     ]
    },
    {
     "name": "stderr",
     "output_type": "stream",
     "text": [
      "2018-03-04 11:00:56,766 : WARNING : duplicate word '66' in /Users/orprager/PycharmProjects/ml/samples/movies_reviews_sentiment_analysis/300features_40minwords_10context, ignoring all but first\n"
     ]
    },
    {
     "name": "stderr",
     "output_type": "stream",
     "text": [
      "2018-03-04 11:00:56,770 : WARNING : duplicate word '9' in /Users/orprager/PycharmProjects/ml/samples/movies_reviews_sentiment_analysis/300features_40minwords_10context, ignoring all but first\n"
     ]
    },
    {
     "name": "stderr",
     "output_type": "stream",
     "text": [
      "2018-03-04 11:00:56,774 : WARNING : duplicate word '' in /Users/orprager/PycharmProjects/ml/samples/movies_reviews_sentiment_analysis/300features_40minwords_10context, ignoring all but first\n"
     ]
    },
    {
     "name": "stderr",
     "output_type": "stream",
     "text": [
      "2018-03-04 11:00:56,776 : WARNING : duplicate word '3' in /Users/orprager/PycharmProjects/ml/samples/movies_reviews_sentiment_analysis/300features_40minwords_10context, ignoring all but first\n"
     ]
    },
    {
     "name": "stderr",
     "output_type": "stream",
     "text": [
      "2018-03-04 11:00:56,778 : WARNING : duplicate word '' in /Users/orprager/PycharmProjects/ml/samples/movies_reviews_sentiment_analysis/300features_40minwords_10context, ignoring all but first\n"
     ]
    },
    {
     "name": "stderr",
     "output_type": "stream",
     "text": [
      "2018-03-04 11:00:56,779 : WARNING : duplicate word '902' in /Users/orprager/PycharmProjects/ml/samples/movies_reviews_sentiment_analysis/300features_40minwords_10context, ignoring all but first\n"
     ]
    },
    {
     "name": "stderr",
     "output_type": "stream",
     "text": [
      "2018-03-04 11:00:56,783 : WARNING : duplicate word '' in /Users/orprager/PycharmProjects/ml/samples/movies_reviews_sentiment_analysis/300features_40minwords_10context, ignoring all but first\n"
     ]
    },
    {
     "name": "stderr",
     "output_type": "stream",
     "text": [
      "2018-03-04 11:00:56,785 : WARNING : duplicate word '735' in /Users/orprager/PycharmProjects/ml/samples/movies_reviews_sentiment_analysis/300features_40minwords_10context, ignoring all but first\n"
     ]
    },
    {
     "name": "stderr",
     "output_type": "stream",
     "text": [
      "2018-03-04 11:00:56,787 : WARNING : duplicate word '5' in /Users/orprager/PycharmProjects/ml/samples/movies_reviews_sentiment_analysis/300features_40minwords_10context, ignoring all but first\n"
     ]
    },
    {
     "name": "stderr",
     "output_type": "stream",
     "text": [
      "2018-03-04 11:00:56,788 : WARNING : duplicate word '' in /Users/orprager/PycharmProjects/ml/samples/movies_reviews_sentiment_analysis/300features_40minwords_10context, ignoring all but first\n"
     ]
    },
    {
     "name": "stderr",
     "output_type": "stream",
     "text": [
      "2018-03-04 11:00:56,790 : WARNING : duplicate word '0324' in /Users/orprager/PycharmProjects/ml/samples/movies_reviews_sentiment_analysis/300features_40minwords_10context, ignoring all but first\n"
     ]
    },
    {
     "name": "stderr",
     "output_type": "stream",
     "text": [
      "2018-03-04 11:00:56,791 : WARNING : duplicate word '' in /Users/orprager/PycharmProjects/ml/samples/movies_reviews_sentiment_analysis/300features_40minwords_10context, ignoring all but first\n"
     ]
    },
    {
     "name": "stderr",
     "output_type": "stream",
     "text": [
      "2018-03-04 11:00:56,793 : WARNING : duplicate word '' in /Users/orprager/PycharmProjects/ml/samples/movies_reviews_sentiment_analysis/300features_40minwords_10context, ignoring all but first\n"
     ]
    },
    {
     "name": "stderr",
     "output_type": "stream",
     "text": [
      "2018-03-04 11:00:56,797 : WARNING : duplicate word '8' in /Users/orprager/PycharmProjects/ml/samples/movies_reviews_sentiment_analysis/300features_40minwords_10context, ignoring all but first\n"
     ]
    },
    {
     "name": "stderr",
     "output_type": "stream",
     "text": [
      "2018-03-04 11:00:56,800 : WARNING : duplicate word '' in /Users/orprager/PycharmProjects/ml/samples/movies_reviews_sentiment_analysis/300features_40minwords_10context, ignoring all but first\n"
     ]
    },
    {
     "name": "stderr",
     "output_type": "stream",
     "text": [
      "2018-03-04 11:00:56,802 : WARNING : duplicate word '' in /Users/orprager/PycharmProjects/ml/samples/movies_reviews_sentiment_analysis/300features_40minwords_10context, ignoring all but first\n"
     ]
    },
    {
     "name": "stderr",
     "output_type": "stream",
     "text": [
      "2018-03-04 11:00:56,803 : WARNING : duplicate word '' in /Users/orprager/PycharmProjects/ml/samples/movies_reviews_sentiment_analysis/300features_40minwords_10context, ignoring all but first\n"
     ]
    },
    {
     "name": "stderr",
     "output_type": "stream",
     "text": [
      "2018-03-04 11:00:56,811 : WARNING : duplicate word '4' in /Users/orprager/PycharmProjects/ml/samples/movies_reviews_sentiment_analysis/300features_40minwords_10context, ignoring all but first\n"
     ]
    },
    {
     "name": "stderr",
     "output_type": "stream",
     "text": [
      "2018-03-04 11:00:56,814 : WARNING : duplicate word '7' in /Users/orprager/PycharmProjects/ml/samples/movies_reviews_sentiment_analysis/300features_40minwords_10context, ignoring all but first\n"
     ]
    },
    {
     "name": "stderr",
     "output_type": "stream",
     "text": [
      "2018-03-04 11:00:56,816 : WARNING : duplicate word '324' in /Users/orprager/PycharmProjects/ml/samples/movies_reviews_sentiment_analysis/300features_40minwords_10context, ignoring all but first\n"
     ]
    },
    {
     "name": "stderr",
     "output_type": "stream",
     "text": [
      "2018-03-04 11:00:56,818 : WARNING : duplicate word '' in /Users/orprager/PycharmProjects/ml/samples/movies_reviews_sentiment_analysis/300features_40minwords_10context, ignoring all but first\n"
     ]
    },
    {
     "name": "stderr",
     "output_type": "stream",
     "text": [
      "2018-03-04 11:00:56,819 : WARNING : duplicate word '7' in /Users/orprager/PycharmProjects/ml/samples/movies_reviews_sentiment_analysis/300features_40minwords_10context, ignoring all but first\n"
     ]
    },
    {
     "name": "stderr",
     "output_type": "stream",
     "text": [
      "2018-03-04 11:00:56,820 : WARNING : duplicate word '51' in /Users/orprager/PycharmProjects/ml/samples/movies_reviews_sentiment_analysis/300features_40minwords_10context, ignoring all but first\n"
     ]
    },
    {
     "name": "stderr",
     "output_type": "stream",
     "text": [
      "2018-03-04 11:00:56,822 : WARNING : duplicate word '896' in /Users/orprager/PycharmProjects/ml/samples/movies_reviews_sentiment_analysis/300features_40minwords_10context, ignoring all but first\n"
     ]
    },
    {
     "name": "stderr",
     "output_type": "stream",
     "text": [
      "2018-03-04 11:00:56,823 : WARNING : duplicate word '' in /Users/orprager/PycharmProjects/ml/samples/movies_reviews_sentiment_analysis/300features_40minwords_10context, ignoring all but first\n"
     ]
    },
    {
     "name": "stderr",
     "output_type": "stream",
     "text": [
      "2018-03-04 11:00:56,825 : WARNING : duplicate word '37' in /Users/orprager/PycharmProjects/ml/samples/movies_reviews_sentiment_analysis/300features_40minwords_10context, ignoring all but first\n"
     ]
    },
    {
     "name": "stderr",
     "output_type": "stream",
     "text": [
      "2018-03-04 11:00:56,827 : WARNING : duplicate word '64' in /Users/orprager/PycharmProjects/ml/samples/movies_reviews_sentiment_analysis/300features_40minwords_10context, ignoring all but first\n"
     ]
    },
    {
     "name": "stderr",
     "output_type": "stream",
     "text": [
      "2018-03-04 11:00:56,832 : WARNING : duplicate word '' in /Users/orprager/PycharmProjects/ml/samples/movies_reviews_sentiment_analysis/300features_40minwords_10context, ignoring all but first\n"
     ]
    },
    {
     "name": "stderr",
     "output_type": "stream",
     "text": [
      "2018-03-04 11:00:56,833 : WARNING : duplicate word '67' in /Users/orprager/PycharmProjects/ml/samples/movies_reviews_sentiment_analysis/300features_40minwords_10context, ignoring all but first\n"
     ]
    },
    {
     "name": "stderr",
     "output_type": "stream",
     "text": [
      "2018-03-04 11:00:56,836 : WARNING : duplicate word '24' in /Users/orprager/PycharmProjects/ml/samples/movies_reviews_sentiment_analysis/300features_40minwords_10context, ignoring all but first\n"
     ]
    },
    {
     "name": "stderr",
     "output_type": "stream",
     "text": [
      "2018-03-04 11:00:56,839 : WARNING : duplicate word '6168' in /Users/orprager/PycharmProjects/ml/samples/movies_reviews_sentiment_analysis/300features_40minwords_10context, ignoring all but first\n"
     ]
    },
    {
     "name": "stderr",
     "output_type": "stream",
     "text": [
      "2018-03-04 11:00:56,840 : WARNING : duplicate word '' in /Users/orprager/PycharmProjects/ml/samples/movies_reviews_sentiment_analysis/300features_40minwords_10context, ignoring all but first\n"
     ]
    },
    {
     "name": "stderr",
     "output_type": "stream",
     "text": [
      "2018-03-04 11:00:56,842 : WARNING : duplicate word '7' in /Users/orprager/PycharmProjects/ml/samples/movies_reviews_sentiment_analysis/300features_40minwords_10context, ignoring all but first\n"
     ]
    },
    {
     "name": "stderr",
     "output_type": "stream",
     "text": [
      "2018-03-04 11:00:56,844 : WARNING : duplicate word '' in /Users/orprager/PycharmProjects/ml/samples/movies_reviews_sentiment_analysis/300features_40minwords_10context, ignoring all but first\n"
     ]
    },
    {
     "name": "stderr",
     "output_type": "stream",
     "text": [
      "2018-03-04 11:00:56,845 : WARNING : duplicate word '976' in /Users/orprager/PycharmProjects/ml/samples/movies_reviews_sentiment_analysis/300features_40minwords_10context, ignoring all but first\n"
     ]
    },
    {
     "name": "stderr",
     "output_type": "stream",
     "text": [
      "2018-03-04 11:00:56,846 : WARNING : duplicate word '37' in /Users/orprager/PycharmProjects/ml/samples/movies_reviews_sentiment_analysis/300features_40minwords_10context, ignoring all but first\n"
     ]
    },
    {
     "name": "stderr",
     "output_type": "stream",
     "text": [
      "2018-03-04 11:00:56,848 : WARNING : duplicate word '19' in /Users/orprager/PycharmProjects/ml/samples/movies_reviews_sentiment_analysis/300features_40minwords_10context, ignoring all but first\n"
     ]
    },
    {
     "name": "stderr",
     "output_type": "stream",
     "text": [
      "2018-03-04 11:00:56,849 : WARNING : duplicate word '82' in /Users/orprager/PycharmProjects/ml/samples/movies_reviews_sentiment_analysis/300features_40minwords_10context, ignoring all but first\n"
     ]
    },
    {
     "name": "stderr",
     "output_type": "stream",
     "text": [
      "2018-03-04 11:00:56,851 : WARNING : duplicate word '816' in /Users/orprager/PycharmProjects/ml/samples/movies_reviews_sentiment_analysis/300features_40minwords_10context, ignoring all but first\n"
     ]
    },
    {
     "name": "stderr",
     "output_type": "stream",
     "text": [
      "2018-03-04 11:00:56,852 : WARNING : duplicate word '9' in /Users/orprager/PycharmProjects/ml/samples/movies_reviews_sentiment_analysis/300features_40minwords_10context, ignoring all but first\n"
     ]
    },
    {
     "name": "stderr",
     "output_type": "stream",
     "text": [
      "2018-03-04 11:00:56,855 : WARNING : duplicate word '' in /Users/orprager/PycharmProjects/ml/samples/movies_reviews_sentiment_analysis/300features_40minwords_10context, ignoring all but first\n"
     ]
    },
    {
     "name": "stderr",
     "output_type": "stream",
     "text": [
      "2018-03-04 11:00:56,856 : WARNING : duplicate word '256' in /Users/orprager/PycharmProjects/ml/samples/movies_reviews_sentiment_analysis/300features_40minwords_10context, ignoring all but first\n"
     ]
    },
    {
     "name": "stderr",
     "output_type": "stream",
     "text": [
      "2018-03-04 11:00:56,858 : WARNING : duplicate word '97' in /Users/orprager/PycharmProjects/ml/samples/movies_reviews_sentiment_analysis/300features_40minwords_10context, ignoring all but first\n"
     ]
    },
    {
     "name": "stderr",
     "output_type": "stream",
     "text": [
      "2018-03-04 11:00:56,860 : WARNING : duplicate word '07' in /Users/orprager/PycharmProjects/ml/samples/movies_reviews_sentiment_analysis/300features_40minwords_10context, ignoring all but first\n"
     ]
    },
    {
     "name": "stderr",
     "output_type": "stream",
     "text": [
      "2018-03-04 11:00:56,861 : WARNING : duplicate word '74' in /Users/orprager/PycharmProjects/ml/samples/movies_reviews_sentiment_analysis/300features_40minwords_10context, ignoring all but first\n"
     ]
    },
    {
     "name": "stderr",
     "output_type": "stream",
     "text": [
      "2018-03-04 11:00:56,863 : WARNING : duplicate word '46' in /Users/orprager/PycharmProjects/ml/samples/movies_reviews_sentiment_analysis/300features_40minwords_10context, ignoring all but first\n"
     ]
    },
    {
     "name": "stderr",
     "output_type": "stream",
     "text": [
      "2018-03-04 11:00:56,865 : WARNING : duplicate word '' in /Users/orprager/PycharmProjects/ml/samples/movies_reviews_sentiment_analysis/300features_40minwords_10context, ignoring all but first\n"
     ]
    },
    {
     "name": "stderr",
     "output_type": "stream",
     "text": [
      "2018-03-04 11:00:56,866 : WARNING : duplicate word '94' in /Users/orprager/PycharmProjects/ml/samples/movies_reviews_sentiment_analysis/300features_40minwords_10context, ignoring all but first\n"
     ]
    },
    {
     "name": "stderr",
     "output_type": "stream",
     "text": [
      "2018-03-04 11:00:56,869 : WARNING : duplicate word '5' in /Users/orprager/PycharmProjects/ml/samples/movies_reviews_sentiment_analysis/300features_40minwords_10context, ignoring all but first\n"
     ]
    },
    {
     "name": "stderr",
     "output_type": "stream",
     "text": [
      "2018-03-04 11:00:56,871 : WARNING : duplicate word '' in /Users/orprager/PycharmProjects/ml/samples/movies_reviews_sentiment_analysis/300features_40minwords_10context, ignoring all but first\n"
     ]
    },
    {
     "name": "stderr",
     "output_type": "stream",
     "text": [
      "2018-03-04 11:00:56,874 : WARNING : duplicate word '054' in /Users/orprager/PycharmProjects/ml/samples/movies_reviews_sentiment_analysis/300features_40minwords_10context, ignoring all but first\n"
     ]
    },
    {
     "name": "stderr",
     "output_type": "stream",
     "text": [
      "2018-03-04 11:00:56,876 : WARNING : duplicate word '5' in /Users/orprager/PycharmProjects/ml/samples/movies_reviews_sentiment_analysis/300features_40minwords_10context, ignoring all but first\n"
     ]
    },
    {
     "name": "stderr",
     "output_type": "stream",
     "text": [
      "2018-03-04 11:00:56,877 : WARNING : duplicate word '6' in /Users/orprager/PycharmProjects/ml/samples/movies_reviews_sentiment_analysis/300features_40minwords_10context, ignoring all but first\n"
     ]
    },
    {
     "name": "stderr",
     "output_type": "stream",
     "text": [
      "2018-03-04 11:00:56,879 : WARNING : duplicate word '2' in /Users/orprager/PycharmProjects/ml/samples/movies_reviews_sentiment_analysis/300features_40minwords_10context, ignoring all but first\n"
     ]
    },
    {
     "name": "stderr",
     "output_type": "stream",
     "text": [
      "2018-03-04 11:00:56,881 : WARNING : duplicate word '4' in /Users/orprager/PycharmProjects/ml/samples/movies_reviews_sentiment_analysis/300features_40minwords_10context, ignoring all but first\n"
     ]
    },
    {
     "name": "stderr",
     "output_type": "stream",
     "text": [
      "2018-03-04 11:00:56,882 : WARNING : duplicate word '52' in /Users/orprager/PycharmProjects/ml/samples/movies_reviews_sentiment_analysis/300features_40minwords_10context, ignoring all but first\n"
     ]
    },
    {
     "name": "stderr",
     "output_type": "stream",
     "text": [
      "2018-03-04 11:00:56,884 : WARNING : duplicate word '' in /Users/orprager/PycharmProjects/ml/samples/movies_reviews_sentiment_analysis/300features_40minwords_10context, ignoring all but first\n"
     ]
    },
    {
     "name": "stderr",
     "output_type": "stream",
     "text": [
      "2018-03-04 11:00:56,885 : WARNING : duplicate word '' in /Users/orprager/PycharmProjects/ml/samples/movies_reviews_sentiment_analysis/300features_40minwords_10context, ignoring all but first\n"
     ]
    },
    {
     "name": "stderr",
     "output_type": "stream",
     "text": [
      "2018-03-04 11:00:56,887 : WARNING : duplicate word '' in /Users/orprager/PycharmProjects/ml/samples/movies_reviews_sentiment_analysis/300features_40minwords_10context, ignoring all but first\n"
     ]
    },
    {
     "name": "stderr",
     "output_type": "stream",
     "text": [
      "2018-03-04 11:00:56,889 : WARNING : duplicate word '945' in /Users/orprager/PycharmProjects/ml/samples/movies_reviews_sentiment_analysis/300features_40minwords_10context, ignoring all but first\n"
     ]
    },
    {
     "name": "stderr",
     "output_type": "stream",
     "text": [
      "2018-03-04 11:00:56,891 : WARNING : duplicate word '' in /Users/orprager/PycharmProjects/ml/samples/movies_reviews_sentiment_analysis/300features_40minwords_10context, ignoring all but first\n"
     ]
    },
    {
     "name": "stderr",
     "output_type": "stream",
     "text": [
      "2018-03-04 11:00:56,892 : WARNING : duplicate word '' in /Users/orprager/PycharmProjects/ml/samples/movies_reviews_sentiment_analysis/300features_40minwords_10context, ignoring all but first\n"
     ]
    },
    {
     "name": "stderr",
     "output_type": "stream",
     "text": [
      "2018-03-04 11:00:56,894 : WARNING : duplicate word '57' in /Users/orprager/PycharmProjects/ml/samples/movies_reviews_sentiment_analysis/300features_40minwords_10context, ignoring all but first\n"
     ]
    },
    {
     "name": "stderr",
     "output_type": "stream",
     "text": [
      "2018-03-04 11:00:56,898 : WARNING : duplicate word '' in /Users/orprager/PycharmProjects/ml/samples/movies_reviews_sentiment_analysis/300features_40minwords_10context, ignoring all but first\n"
     ]
    },
    {
     "name": "stderr",
     "output_type": "stream",
     "text": [
      "2018-03-04 11:00:56,901 : WARNING : duplicate word '3' in /Users/orprager/PycharmProjects/ml/samples/movies_reviews_sentiment_analysis/300features_40minwords_10context, ignoring all but first\n"
     ]
    },
    {
     "name": "stderr",
     "output_type": "stream",
     "text": [
      "2018-03-04 11:00:56,903 : WARNING : duplicate word '53' in /Users/orprager/PycharmProjects/ml/samples/movies_reviews_sentiment_analysis/300features_40minwords_10context, ignoring all but first\n"
     ]
    },
    {
     "name": "stderr",
     "output_type": "stream",
     "text": [
      "2018-03-04 11:00:56,905 : WARNING : duplicate word '48' in /Users/orprager/PycharmProjects/ml/samples/movies_reviews_sentiment_analysis/300features_40minwords_10context, ignoring all but first\n"
     ]
    },
    {
     "name": "stderr",
     "output_type": "stream",
     "text": [
      "2018-03-04 11:00:56,907 : WARNING : duplicate word '3' in /Users/orprager/PycharmProjects/ml/samples/movies_reviews_sentiment_analysis/300features_40minwords_10context, ignoring all but first\n"
     ]
    },
    {
     "name": "stderr",
     "output_type": "stream",
     "text": [
      "2018-03-04 11:00:56,910 : WARNING : duplicate word '5' in /Users/orprager/PycharmProjects/ml/samples/movies_reviews_sentiment_analysis/300features_40minwords_10context, ignoring all but first\n"
     ]
    },
    {
     "name": "stderr",
     "output_type": "stream",
     "text": [
      "2018-03-04 11:00:56,911 : WARNING : duplicate word '969' in /Users/orprager/PycharmProjects/ml/samples/movies_reviews_sentiment_analysis/300features_40minwords_10context, ignoring all but first\n"
     ]
    },
    {
     "name": "stderr",
     "output_type": "stream",
     "text": [
      "2018-03-04 11:00:56,913 : WARNING : duplicate word '254' in /Users/orprager/PycharmProjects/ml/samples/movies_reviews_sentiment_analysis/300features_40minwords_10context, ignoring all but first\n"
     ]
    },
    {
     "name": "stderr",
     "output_type": "stream",
     "text": [
      "2018-03-04 11:00:56,914 : WARNING : duplicate word '5' in /Users/orprager/PycharmProjects/ml/samples/movies_reviews_sentiment_analysis/300features_40minwords_10context, ignoring all but first\n"
     ]
    },
    {
     "name": "stderr",
     "output_type": "stream",
     "text": [
      "2018-03-04 11:00:56,916 : WARNING : duplicate word '8' in /Users/orprager/PycharmProjects/ml/samples/movies_reviews_sentiment_analysis/300features_40minwords_10context, ignoring all but first\n"
     ]
    },
    {
     "name": "stderr",
     "output_type": "stream",
     "text": [
      "2018-03-04 11:00:56,919 : WARNING : duplicate word '25' in /Users/orprager/PycharmProjects/ml/samples/movies_reviews_sentiment_analysis/300features_40minwords_10context, ignoring all but first\n"
     ]
    },
    {
     "name": "stderr",
     "output_type": "stream",
     "text": [
      "2018-03-04 11:00:56,921 : WARNING : duplicate word '5' in /Users/orprager/PycharmProjects/ml/samples/movies_reviews_sentiment_analysis/300features_40minwords_10context, ignoring all but first\n"
     ]
    },
    {
     "name": "stderr",
     "output_type": "stream",
     "text": [
      "2018-03-04 11:00:56,923 : WARNING : duplicate word '' in /Users/orprager/PycharmProjects/ml/samples/movies_reviews_sentiment_analysis/300features_40minwords_10context, ignoring all but first\n"
     ]
    },
    {
     "name": "stderr",
     "output_type": "stream",
     "text": [
      "2018-03-04 11:00:56,924 : WARNING : duplicate word '872' in /Users/orprager/PycharmProjects/ml/samples/movies_reviews_sentiment_analysis/300features_40minwords_10context, ignoring all but first\n"
     ]
    },
    {
     "name": "stderr",
     "output_type": "stream",
     "text": [
      "2018-03-04 11:00:56,926 : WARNING : duplicate word '' in /Users/orprager/PycharmProjects/ml/samples/movies_reviews_sentiment_analysis/300features_40minwords_10context, ignoring all but first\n"
     ]
    },
    {
     "name": "stderr",
     "output_type": "stream",
     "text": [
      "2018-03-04 11:00:56,928 : WARNING : duplicate word '' in /Users/orprager/PycharmProjects/ml/samples/movies_reviews_sentiment_analysis/300features_40minwords_10context, ignoring all but first\n"
     ]
    },
    {
     "name": "stderr",
     "output_type": "stream",
     "text": [
      "2018-03-04 11:00:56,932 : WARNING : duplicate word '67' in /Users/orprager/PycharmProjects/ml/samples/movies_reviews_sentiment_analysis/300features_40minwords_10context, ignoring all but first\n"
     ]
    },
    {
     "name": "stderr",
     "output_type": "stream",
     "text": [
      "2018-03-04 11:00:56,934 : WARNING : duplicate word '' in /Users/orprager/PycharmProjects/ml/samples/movies_reviews_sentiment_analysis/300features_40minwords_10context, ignoring all but first\n"
     ]
    },
    {
     "name": "stderr",
     "output_type": "stream",
     "text": [
      "2018-03-04 11:00:56,936 : WARNING : duplicate word '6' in /Users/orprager/PycharmProjects/ml/samples/movies_reviews_sentiment_analysis/300features_40minwords_10context, ignoring all but first\n"
     ]
    },
    {
     "name": "stderr",
     "output_type": "stream",
     "text": [
      "2018-03-04 11:00:56,938 : WARNING : duplicate word '9' in /Users/orprager/PycharmProjects/ml/samples/movies_reviews_sentiment_analysis/300features_40minwords_10context, ignoring all but first\n"
     ]
    },
    {
     "name": "stderr",
     "output_type": "stream",
     "text": [
      "2018-03-04 11:00:56,939 : WARNING : duplicate word '4' in /Users/orprager/PycharmProjects/ml/samples/movies_reviews_sentiment_analysis/300features_40minwords_10context, ignoring all but first\n"
     ]
    },
    {
     "name": "stderr",
     "output_type": "stream",
     "text": [
      "2018-03-04 11:00:56,941 : WARNING : duplicate word '15' in /Users/orprager/PycharmProjects/ml/samples/movies_reviews_sentiment_analysis/300features_40minwords_10context, ignoring all but first\n"
     ]
    },
    {
     "name": "stderr",
     "output_type": "stream",
     "text": [
      "2018-03-04 11:00:56,942 : WARNING : duplicate word '' in /Users/orprager/PycharmProjects/ml/samples/movies_reviews_sentiment_analysis/300features_40minwords_10context, ignoring all but first\n"
     ]
    },
    {
     "name": "stderr",
     "output_type": "stream",
     "text": [
      "2018-03-04 11:00:56,944 : WARNING : duplicate word '33' in /Users/orprager/PycharmProjects/ml/samples/movies_reviews_sentiment_analysis/300features_40minwords_10context, ignoring all but first\n"
     ]
    },
    {
     "name": "stderr",
     "output_type": "stream",
     "text": [
      "2018-03-04 11:00:56,946 : WARNING : duplicate word '6' in /Users/orprager/PycharmProjects/ml/samples/movies_reviews_sentiment_analysis/300features_40minwords_10context, ignoring all but first\n"
     ]
    },
    {
     "name": "stderr",
     "output_type": "stream",
     "text": [
      "2018-03-04 11:00:56,950 : WARNING : duplicate word '8' in /Users/orprager/PycharmProjects/ml/samples/movies_reviews_sentiment_analysis/300features_40minwords_10context, ignoring all but first\n"
     ]
    },
    {
     "name": "stderr",
     "output_type": "stream",
     "text": [
      "2018-03-04 11:00:56,952 : WARNING : duplicate word '925' in /Users/orprager/PycharmProjects/ml/samples/movies_reviews_sentiment_analysis/300features_40minwords_10context, ignoring all but first\n"
     ]
    },
    {
     "name": "stderr",
     "output_type": "stream",
     "text": [
      "2018-03-04 11:00:56,954 : WARNING : duplicate word '4' in /Users/orprager/PycharmProjects/ml/samples/movies_reviews_sentiment_analysis/300features_40minwords_10context, ignoring all but first\n"
     ]
    },
    {
     "name": "stderr",
     "output_type": "stream",
     "text": [
      "2018-03-04 11:00:56,955 : WARNING : duplicate word '3' in /Users/orprager/PycharmProjects/ml/samples/movies_reviews_sentiment_analysis/300features_40minwords_10context, ignoring all but first\n"
     ]
    },
    {
     "name": "stderr",
     "output_type": "stream",
     "text": [
      "2018-03-04 11:00:56,957 : WARNING : duplicate word '35' in /Users/orprager/PycharmProjects/ml/samples/movies_reviews_sentiment_analysis/300features_40minwords_10context, ignoring all but first\n"
     ]
    },
    {
     "name": "stderr",
     "output_type": "stream",
     "text": [
      "2018-03-04 11:00:56,958 : WARNING : duplicate word '202' in /Users/orprager/PycharmProjects/ml/samples/movies_reviews_sentiment_analysis/300features_40minwords_10context, ignoring all but first\n"
     ]
    },
    {
     "name": "stderr",
     "output_type": "stream",
     "text": [
      "2018-03-04 11:00:56,960 : WARNING : duplicate word '576' in /Users/orprager/PycharmProjects/ml/samples/movies_reviews_sentiment_analysis/300features_40minwords_10context, ignoring all but first\n"
     ]
    },
    {
     "name": "stderr",
     "output_type": "stream",
     "text": [
      "2018-03-04 11:00:56,963 : WARNING : duplicate word '' in /Users/orprager/PycharmProjects/ml/samples/movies_reviews_sentiment_analysis/300features_40minwords_10context, ignoring all but first\n"
     ]
    },
    {
     "name": "stderr",
     "output_type": "stream",
     "text": [
      "2018-03-04 11:00:56,967 : WARNING : duplicate word '104' in /Users/orprager/PycharmProjects/ml/samples/movies_reviews_sentiment_analysis/300features_40minwords_10context, ignoring all but first\n"
     ]
    },
    {
     "name": "stderr",
     "output_type": "stream",
     "text": [
      "2018-03-04 11:00:56,969 : WARNING : duplicate word '' in /Users/orprager/PycharmProjects/ml/samples/movies_reviews_sentiment_analysis/300features_40minwords_10context, ignoring all but first\n"
     ]
    },
    {
     "name": "stderr",
     "output_type": "stream",
     "text": [
      "2018-03-04 11:00:56,970 : WARNING : duplicate word '93' in /Users/orprager/PycharmProjects/ml/samples/movies_reviews_sentiment_analysis/300features_40minwords_10context, ignoring all but first\n"
     ]
    },
    {
     "name": "stderr",
     "output_type": "stream",
     "text": [
      "2018-03-04 11:00:56,971 : WARNING : duplicate word '' in /Users/orprager/PycharmProjects/ml/samples/movies_reviews_sentiment_analysis/300features_40minwords_10context, ignoring all but first\n"
     ]
    },
    {
     "name": "stderr",
     "output_type": "stream",
     "text": [
      "2018-03-04 11:00:56,973 : WARNING : duplicate word '' in /Users/orprager/PycharmProjects/ml/samples/movies_reviews_sentiment_analysis/300features_40minwords_10context, ignoring all but first\n"
     ]
    },
    {
     "name": "stderr",
     "output_type": "stream",
     "text": [
      "2018-03-04 11:00:56,975 : WARNING : duplicate word '8' in /Users/orprager/PycharmProjects/ml/samples/movies_reviews_sentiment_analysis/300features_40minwords_10context, ignoring all but first\n"
     ]
    },
    {
     "name": "stderr",
     "output_type": "stream",
     "text": [
      "2018-03-04 11:00:56,977 : WARNING : duplicate word '22' in /Users/orprager/PycharmProjects/ml/samples/movies_reviews_sentiment_analysis/300features_40minwords_10context, ignoring all but first\n"
     ]
    },
    {
     "name": "stderr",
     "output_type": "stream",
     "text": [
      "2018-03-04 11:00:56,978 : WARNING : duplicate word '7' in /Users/orprager/PycharmProjects/ml/samples/movies_reviews_sentiment_analysis/300features_40minwords_10context, ignoring all but first\n"
     ]
    },
    {
     "name": "stderr",
     "output_type": "stream",
     "text": [
      "2018-03-04 11:00:56,982 : WARNING : duplicate word '56' in /Users/orprager/PycharmProjects/ml/samples/movies_reviews_sentiment_analysis/300features_40minwords_10context, ignoring all but first\n"
     ]
    },
    {
     "name": "stderr",
     "output_type": "stream",
     "text": [
      "2018-03-04 11:00:56,984 : WARNING : duplicate word '4' in /Users/orprager/PycharmProjects/ml/samples/movies_reviews_sentiment_analysis/300features_40minwords_10context, ignoring all but first\n"
     ]
    },
    {
     "name": "stderr",
     "output_type": "stream",
     "text": [
      "2018-03-04 11:00:56,986 : WARNING : duplicate word '4' in /Users/orprager/PycharmProjects/ml/samples/movies_reviews_sentiment_analysis/300features_40minwords_10context, ignoring all but first\n"
     ]
    },
    {
     "name": "stderr",
     "output_type": "stream",
     "text": [
      "2018-03-04 11:00:56,987 : WARNING : duplicate word '6' in /Users/orprager/PycharmProjects/ml/samples/movies_reviews_sentiment_analysis/300features_40minwords_10context, ignoring all but first\n"
     ]
    },
    {
     "name": "stderr",
     "output_type": "stream",
     "text": [
      "2018-03-04 11:00:56,989 : WARNING : duplicate word '73' in /Users/orprager/PycharmProjects/ml/samples/movies_reviews_sentiment_analysis/300features_40minwords_10context, ignoring all but first\n"
     ]
    },
    {
     "name": "stderr",
     "output_type": "stream",
     "text": [
      "2018-03-04 11:00:56,991 : WARNING : duplicate word '42' in /Users/orprager/PycharmProjects/ml/samples/movies_reviews_sentiment_analysis/300features_40minwords_10context, ignoring all but first\n"
     ]
    },
    {
     "name": "stderr",
     "output_type": "stream",
     "text": [
      "2018-03-04 11:00:56,992 : WARNING : duplicate word '9' in /Users/orprager/PycharmProjects/ml/samples/movies_reviews_sentiment_analysis/300features_40minwords_10context, ignoring all but first\n"
     ]
    },
    {
     "name": "stderr",
     "output_type": "stream",
     "text": [
      "2018-03-04 11:00:56,994 : WARNING : duplicate word '7' in /Users/orprager/PycharmProjects/ml/samples/movies_reviews_sentiment_analysis/300features_40minwords_10context, ignoring all but first\n"
     ]
    },
    {
     "name": "stderr",
     "output_type": "stream",
     "text": [
      "2018-03-04 11:00:56,996 : WARNING : duplicate word '' in /Users/orprager/PycharmProjects/ml/samples/movies_reviews_sentiment_analysis/300features_40minwords_10context, ignoring all but first\n"
     ]
    },
    {
     "name": "stderr",
     "output_type": "stream",
     "text": [
      "2018-03-04 11:00:56,997 : WARNING : duplicate word '21' in /Users/orprager/PycharmProjects/ml/samples/movies_reviews_sentiment_analysis/300features_40minwords_10context, ignoring all but first\n"
     ]
    },
    {
     "name": "stderr",
     "output_type": "stream",
     "text": [
      "2018-03-04 11:00:57,000 : WARNING : duplicate word '35' in /Users/orprager/PycharmProjects/ml/samples/movies_reviews_sentiment_analysis/300features_40minwords_10context, ignoring all but first\n"
     ]
    },
    {
     "name": "stderr",
     "output_type": "stream",
     "text": [
      "2018-03-04 11:00:57,002 : WARNING : duplicate word '' in /Users/orprager/PycharmProjects/ml/samples/movies_reviews_sentiment_analysis/300features_40minwords_10context, ignoring all but first\n"
     ]
    },
    {
     "name": "stderr",
     "output_type": "stream",
     "text": [
      "2018-03-04 11:00:57,005 : WARNING : duplicate word '' in /Users/orprager/PycharmProjects/ml/samples/movies_reviews_sentiment_analysis/300features_40minwords_10context, ignoring all but first\n"
     ]
    },
    {
     "name": "stderr",
     "output_type": "stream",
     "text": [
      "2018-03-04 11:00:57,006 : WARNING : duplicate word '2' in /Users/orprager/PycharmProjects/ml/samples/movies_reviews_sentiment_analysis/300features_40minwords_10context, ignoring all but first\n"
     ]
    },
    {
     "name": "stderr",
     "output_type": "stream",
     "text": [
      "2018-03-04 11:00:57,008 : WARNING : duplicate word '25' in /Users/orprager/PycharmProjects/ml/samples/movies_reviews_sentiment_analysis/300features_40minwords_10context, ignoring all but first\n"
     ]
    },
    {
     "name": "stderr",
     "output_type": "stream",
     "text": [
      "2018-03-04 11:00:57,010 : WARNING : duplicate word '' in /Users/orprager/PycharmProjects/ml/samples/movies_reviews_sentiment_analysis/300features_40minwords_10context, ignoring all but first\n"
     ]
    },
    {
     "name": "stderr",
     "output_type": "stream",
     "text": [
      "2018-03-04 11:00:57,011 : WARNING : duplicate word '' in /Users/orprager/PycharmProjects/ml/samples/movies_reviews_sentiment_analysis/300features_40minwords_10context, ignoring all but first\n"
     ]
    },
    {
     "name": "stderr",
     "output_type": "stream",
     "text": [
      "2018-03-04 11:00:57,013 : WARNING : duplicate word '' in /Users/orprager/PycharmProjects/ml/samples/movies_reviews_sentiment_analysis/300features_40minwords_10context, ignoring all but first\n"
     ]
    },
    {
     "name": "stderr",
     "output_type": "stream",
     "text": [
      "2018-03-04 11:00:57,014 : WARNING : duplicate word '374' in /Users/orprager/PycharmProjects/ml/samples/movies_reviews_sentiment_analysis/300features_40minwords_10context, ignoring all but first\n"
     ]
    },
    {
     "name": "stderr",
     "output_type": "stream",
     "text": [
      "2018-03-04 11:00:57,018 : WARNING : duplicate word '22' in /Users/orprager/PycharmProjects/ml/samples/movies_reviews_sentiment_analysis/300features_40minwords_10context, ignoring all but first\n"
     ]
    },
    {
     "name": "stderr",
     "output_type": "stream",
     "text": [
      "2018-03-04 11:00:57,021 : WARNING : duplicate word '' in /Users/orprager/PycharmProjects/ml/samples/movies_reviews_sentiment_analysis/300features_40minwords_10context, ignoring all but first\n"
     ]
    },
    {
     "name": "stderr",
     "output_type": "stream",
     "text": [
      "2018-03-04 11:00:57,023 : WARNING : duplicate word '' in /Users/orprager/PycharmProjects/ml/samples/movies_reviews_sentiment_analysis/300features_40minwords_10context, ignoring all but first\n"
     ]
    },
    {
     "name": "stderr",
     "output_type": "stream",
     "text": [
      "2018-03-04 11:00:57,024 : WARNING : duplicate word '' in /Users/orprager/PycharmProjects/ml/samples/movies_reviews_sentiment_analysis/300features_40minwords_10context, ignoring all but first\n"
     ]
    },
    {
     "name": "stderr",
     "output_type": "stream",
     "text": [
      "2018-03-04 11:00:57,026 : WARNING : duplicate word '24' in /Users/orprager/PycharmProjects/ml/samples/movies_reviews_sentiment_analysis/300features_40minwords_10context, ignoring all but first\n"
     ]
    },
    {
     "name": "stderr",
     "output_type": "stream",
     "text": [
      "2018-03-04 11:00:57,028 : WARNING : duplicate word '45' in /Users/orprager/PycharmProjects/ml/samples/movies_reviews_sentiment_analysis/300features_40minwords_10context, ignoring all but first\n"
     ]
    },
    {
     "name": "stderr",
     "output_type": "stream",
     "text": [
      "2018-03-04 11:00:57,030 : WARNING : duplicate word '6' in /Users/orprager/PycharmProjects/ml/samples/movies_reviews_sentiment_analysis/300features_40minwords_10context, ignoring all but first\n"
     ]
    },
    {
     "name": "stderr",
     "output_type": "stream",
     "text": [
      "2018-03-04 11:00:57,031 : WARNING : duplicate word '4' in /Users/orprager/PycharmProjects/ml/samples/movies_reviews_sentiment_analysis/300features_40minwords_10context, ignoring all but first\n"
     ]
    },
    {
     "name": "stderr",
     "output_type": "stream",
     "text": [
      "2018-03-04 11:00:57,033 : WARNING : duplicate word '' in /Users/orprager/PycharmProjects/ml/samples/movies_reviews_sentiment_analysis/300features_40minwords_10context, ignoring all but first\n"
     ]
    },
    {
     "name": "stderr",
     "output_type": "stream",
     "text": [
      "2018-03-04 11:00:57,035 : WARNING : duplicate word '458' in /Users/orprager/PycharmProjects/ml/samples/movies_reviews_sentiment_analysis/300features_40minwords_10context, ignoring all but first\n"
     ]
    },
    {
     "name": "stderr",
     "output_type": "stream",
     "text": [
      "2018-03-04 11:00:57,039 : WARNING : duplicate word '' in /Users/orprager/PycharmProjects/ml/samples/movies_reviews_sentiment_analysis/300features_40minwords_10context, ignoring all but first\n"
     ]
    },
    {
     "name": "stderr",
     "output_type": "stream",
     "text": [
      "2018-03-04 11:00:57,041 : WARNING : duplicate word '09' in /Users/orprager/PycharmProjects/ml/samples/movies_reviews_sentiment_analysis/300features_40minwords_10context, ignoring all but first\n"
     ]
    },
    {
     "name": "stderr",
     "output_type": "stream",
     "text": [
      "2018-03-04 11:00:57,042 : WARNING : duplicate word '68' in /Users/orprager/PycharmProjects/ml/samples/movies_reviews_sentiment_analysis/300features_40minwords_10context, ignoring all but first\n"
     ]
    },
    {
     "name": "stderr",
     "output_type": "stream",
     "text": [
      "2018-03-04 11:00:57,044 : WARNING : duplicate word '4' in /Users/orprager/PycharmProjects/ml/samples/movies_reviews_sentiment_analysis/300features_40minwords_10context, ignoring all but first\n"
     ]
    },
    {
     "name": "stderr",
     "output_type": "stream",
     "text": [
      "2018-03-04 11:00:57,046 : WARNING : duplicate word '117' in /Users/orprager/PycharmProjects/ml/samples/movies_reviews_sentiment_analysis/300features_40minwords_10context, ignoring all but first\n"
     ]
    },
    {
     "name": "stderr",
     "output_type": "stream",
     "text": [
      "2018-03-04 11:00:57,048 : WARNING : duplicate word '118' in /Users/orprager/PycharmProjects/ml/samples/movies_reviews_sentiment_analysis/300features_40minwords_10context, ignoring all but first\n"
     ]
    },
    {
     "name": "stderr",
     "output_type": "stream",
     "text": [
      "2018-03-04 11:00:57,052 : WARNING : duplicate word '' in /Users/orprager/PycharmProjects/ml/samples/movies_reviews_sentiment_analysis/300features_40minwords_10context, ignoring all but first\n"
     ]
    },
    {
     "name": "stderr",
     "output_type": "stream",
     "text": [
      "2018-03-04 11:00:57,054 : WARNING : duplicate word '996' in /Users/orprager/PycharmProjects/ml/samples/movies_reviews_sentiment_analysis/300features_40minwords_10context, ignoring all but first\n"
     ]
    },
    {
     "name": "stderr",
     "output_type": "stream",
     "text": [
      "2018-03-04 11:00:57,056 : WARNING : duplicate word '' in /Users/orprager/PycharmProjects/ml/samples/movies_reviews_sentiment_analysis/300features_40minwords_10context, ignoring all but first\n"
     ]
    },
    {
     "name": "stderr",
     "output_type": "stream",
     "text": [
      "2018-03-04 11:00:57,057 : WARNING : duplicate word '6' in /Users/orprager/PycharmProjects/ml/samples/movies_reviews_sentiment_analysis/300features_40minwords_10context, ignoring all but first\n"
     ]
    },
    {
     "name": "stderr",
     "output_type": "stream",
     "text": [
      "2018-03-04 11:00:57,059 : WARNING : duplicate word '2' in /Users/orprager/PycharmProjects/ml/samples/movies_reviews_sentiment_analysis/300features_40minwords_10context, ignoring all but first\n"
     ]
    },
    {
     "name": "stderr",
     "output_type": "stream",
     "text": [
      "2018-03-04 11:00:57,060 : WARNING : duplicate word '5' in /Users/orprager/PycharmProjects/ml/samples/movies_reviews_sentiment_analysis/300features_40minwords_10context, ignoring all but first\n"
     ]
    },
    {
     "name": "stderr",
     "output_type": "stream",
     "text": [
      "2018-03-04 11:00:57,061 : WARNING : duplicate word '7' in /Users/orprager/PycharmProjects/ml/samples/movies_reviews_sentiment_analysis/300features_40minwords_10context, ignoring all but first\n"
     ]
    },
    {
     "name": "stderr",
     "output_type": "stream",
     "text": [
      "2018-03-04 11:00:57,063 : WARNING : duplicate word '72' in /Users/orprager/PycharmProjects/ml/samples/movies_reviews_sentiment_analysis/300features_40minwords_10context, ignoring all but first\n"
     ]
    },
    {
     "name": "stderr",
     "output_type": "stream",
     "text": [
      "2018-03-04 11:00:57,064 : WARNING : duplicate word '4' in /Users/orprager/PycharmProjects/ml/samples/movies_reviews_sentiment_analysis/300features_40minwords_10context, ignoring all but first\n"
     ]
    },
    {
     "name": "stderr",
     "output_type": "stream",
     "text": [
      "2018-03-04 11:00:57,066 : WARNING : duplicate word '' in /Users/orprager/PycharmProjects/ml/samples/movies_reviews_sentiment_analysis/300features_40minwords_10context, ignoring all but first\n"
     ]
    },
    {
     "name": "stderr",
     "output_type": "stream",
     "text": [
      "2018-03-04 11:00:57,068 : WARNING : duplicate word '' in /Users/orprager/PycharmProjects/ml/samples/movies_reviews_sentiment_analysis/300features_40minwords_10context, ignoring all but first\n"
     ]
    },
    {
     "name": "stderr",
     "output_type": "stream",
     "text": [
      "2018-03-04 11:00:57,073 : WARNING : duplicate word '' in /Users/orprager/PycharmProjects/ml/samples/movies_reviews_sentiment_analysis/300features_40minwords_10context, ignoring all but first\n"
     ]
    },
    {
     "name": "stderr",
     "output_type": "stream",
     "text": [
      "2018-03-04 11:00:57,075 : WARNING : duplicate word '2412' in /Users/orprager/PycharmProjects/ml/samples/movies_reviews_sentiment_analysis/300features_40minwords_10context, ignoring all but first\n"
     ]
    },
    {
     "name": "stderr",
     "output_type": "stream",
     "text": [
      "2018-03-04 11:00:57,076 : WARNING : duplicate word '67' in /Users/orprager/PycharmProjects/ml/samples/movies_reviews_sentiment_analysis/300features_40minwords_10context, ignoring all but first\n"
     ]
    },
    {
     "name": "stderr",
     "output_type": "stream",
     "text": [
      "2018-03-04 11:00:57,078 : WARNING : duplicate word '' in /Users/orprager/PycharmProjects/ml/samples/movies_reviews_sentiment_analysis/300features_40minwords_10context, ignoring all but first\n"
     ]
    },
    {
     "name": "stderr",
     "output_type": "stream",
     "text": [
      "2018-03-04 11:00:57,079 : WARNING : duplicate word '5' in /Users/orprager/PycharmProjects/ml/samples/movies_reviews_sentiment_analysis/300features_40minwords_10context, ignoring all but first\n"
     ]
    },
    {
     "name": "stderr",
     "output_type": "stream",
     "text": [
      "2018-03-04 11:00:57,080 : WARNING : duplicate word '34' in /Users/orprager/PycharmProjects/ml/samples/movies_reviews_sentiment_analysis/300features_40minwords_10context, ignoring all but first\n"
     ]
    },
    {
     "name": "stderr",
     "output_type": "stream",
     "text": [
      "2018-03-04 11:00:57,082 : WARNING : duplicate word '8' in /Users/orprager/PycharmProjects/ml/samples/movies_reviews_sentiment_analysis/300features_40minwords_10context, ignoring all but first\n"
     ]
    },
    {
     "name": "stderr",
     "output_type": "stream",
     "text": [
      "2018-03-04 11:00:57,083 : WARNING : duplicate word '' in /Users/orprager/PycharmProjects/ml/samples/movies_reviews_sentiment_analysis/300features_40minwords_10context, ignoring all but first\n"
     ]
    },
    {
     "name": "stderr",
     "output_type": "stream",
     "text": [
      "2018-03-04 11:00:57,085 : WARNING : duplicate word '' in /Users/orprager/PycharmProjects/ml/samples/movies_reviews_sentiment_analysis/300features_40minwords_10context, ignoring all but first\n"
     ]
    },
    {
     "name": "stderr",
     "output_type": "stream",
     "text": [
      "2018-03-04 11:00:57,087 : WARNING : duplicate word '42' in /Users/orprager/PycharmProjects/ml/samples/movies_reviews_sentiment_analysis/300features_40minwords_10context, ignoring all but first\n"
     ]
    },
    {
     "name": "stderr",
     "output_type": "stream",
     "text": [
      "2018-03-04 11:00:57,089 : WARNING : duplicate word '2' in /Users/orprager/PycharmProjects/ml/samples/movies_reviews_sentiment_analysis/300features_40minwords_10context, ignoring all but first\n"
     ]
    },
    {
     "name": "stderr",
     "output_type": "stream",
     "text": [
      "2018-03-04 11:00:57,091 : WARNING : duplicate word '3' in /Users/orprager/PycharmProjects/ml/samples/movies_reviews_sentiment_analysis/300features_40minwords_10context, ignoring all but first\n"
     ]
    },
    {
     "name": "stderr",
     "output_type": "stream",
     "text": [
      "2018-03-04 11:00:57,092 : WARNING : duplicate word '48' in /Users/orprager/PycharmProjects/ml/samples/movies_reviews_sentiment_analysis/300features_40minwords_10context, ignoring all but first\n"
     ]
    },
    {
     "name": "stderr",
     "output_type": "stream",
     "text": [
      "2018-03-04 11:00:57,093 : WARNING : duplicate word '896' in /Users/orprager/PycharmProjects/ml/samples/movies_reviews_sentiment_analysis/300features_40minwords_10context, ignoring all but first\n"
     ]
    },
    {
     "name": "stderr",
     "output_type": "stream",
     "text": [
      "2018-03-04 11:00:57,095 : WARNING : duplicate word '5' in /Users/orprager/PycharmProjects/ml/samples/movies_reviews_sentiment_analysis/300features_40minwords_10context, ignoring all but first\n"
     ]
    },
    {
     "name": "stderr",
     "output_type": "stream",
     "text": [
      "2018-03-04 11:00:57,098 : WARNING : duplicate word '56' in /Users/orprager/PycharmProjects/ml/samples/movies_reviews_sentiment_analysis/300features_40minwords_10context, ignoring all but first\n"
     ]
    },
    {
     "name": "stderr",
     "output_type": "stream",
     "text": [
      "2018-03-04 11:00:57,100 : WARNING : duplicate word '4' in /Users/orprager/PycharmProjects/ml/samples/movies_reviews_sentiment_analysis/300features_40minwords_10context, ignoring all but first\n"
     ]
    },
    {
     "name": "stderr",
     "output_type": "stream",
     "text": [
      "2018-03-04 11:00:57,102 : WARNING : duplicate word '' in /Users/orprager/PycharmProjects/ml/samples/movies_reviews_sentiment_analysis/300features_40minwords_10context, ignoring all but first\n"
     ]
    },
    {
     "name": "stderr",
     "output_type": "stream",
     "text": [
      "2018-03-04 11:00:57,104 : WARNING : duplicate word '72' in /Users/orprager/PycharmProjects/ml/samples/movies_reviews_sentiment_analysis/300features_40minwords_10context, ignoring all but first\n"
     ]
    },
    {
     "name": "stderr",
     "output_type": "stream",
     "text": [
      "2018-03-04 11:00:57,105 : WARNING : duplicate word '48' in /Users/orprager/PycharmProjects/ml/samples/movies_reviews_sentiment_analysis/300features_40minwords_10context, ignoring all but first\n"
     ]
    },
    {
     "name": "stderr",
     "output_type": "stream",
     "text": [
      "2018-03-04 11:00:57,107 : WARNING : duplicate word '3' in /Users/orprager/PycharmProjects/ml/samples/movies_reviews_sentiment_analysis/300features_40minwords_10context, ignoring all but first\n"
     ]
    },
    {
     "name": "stderr",
     "output_type": "stream",
     "text": [
      "2018-03-04 11:00:57,108 : WARNING : duplicate word '' in /Users/orprager/PycharmProjects/ml/samples/movies_reviews_sentiment_analysis/300features_40minwords_10context, ignoring all but first\n"
     ]
    },
    {
     "name": "stderr",
     "output_type": "stream",
     "text": [
      "2018-03-04 11:00:57,110 : WARNING : duplicate word '4' in /Users/orprager/PycharmProjects/ml/samples/movies_reviews_sentiment_analysis/300features_40minwords_10context, ignoring all but first\n"
     ]
    },
    {
     "name": "stderr",
     "output_type": "stream",
     "text": [
      "2018-03-04 11:00:57,112 : WARNING : duplicate word '' in /Users/orprager/PycharmProjects/ml/samples/movies_reviews_sentiment_analysis/300features_40minwords_10context, ignoring all but first\n"
     ]
    },
    {
     "name": "stderr",
     "output_type": "stream",
     "text": [
      "2018-03-04 11:00:57,114 : WARNING : duplicate word '6' in /Users/orprager/PycharmProjects/ml/samples/movies_reviews_sentiment_analysis/300features_40minwords_10context, ignoring all but first\n"
     ]
    },
    {
     "name": "stderr",
     "output_type": "stream",
     "text": [
      "2018-03-04 11:00:57,117 : WARNING : duplicate word '2' in /Users/orprager/PycharmProjects/ml/samples/movies_reviews_sentiment_analysis/300features_40minwords_10context, ignoring all but first\n"
     ]
    },
    {
     "name": "stderr",
     "output_type": "stream",
     "text": [
      "2018-03-04 11:00:57,119 : WARNING : duplicate word '' in /Users/orprager/PycharmProjects/ml/samples/movies_reviews_sentiment_analysis/300features_40minwords_10context, ignoring all but first\n"
     ]
    },
    {
     "name": "stderr",
     "output_type": "stream",
     "text": [
      "2018-03-04 11:00:57,121 : WARNING : duplicate word '7' in /Users/orprager/PycharmProjects/ml/samples/movies_reviews_sentiment_analysis/300features_40minwords_10context, ignoring all but first\n"
     ]
    },
    {
     "name": "stderr",
     "output_type": "stream",
     "text": [
      "2018-03-04 11:00:57,122 : WARNING : duplicate word '544' in /Users/orprager/PycharmProjects/ml/samples/movies_reviews_sentiment_analysis/300features_40minwords_10context, ignoring all but first\n"
     ]
    },
    {
     "name": "stderr",
     "output_type": "stream",
     "text": [
      "2018-03-04 11:00:57,124 : WARNING : duplicate word '235' in /Users/orprager/PycharmProjects/ml/samples/movies_reviews_sentiment_analysis/300features_40minwords_10context, ignoring all but first\n"
     ]
    },
    {
     "name": "stderr",
     "output_type": "stream",
     "text": [
      "2018-03-04 11:00:57,125 : WARNING : duplicate word '' in /Users/orprager/PycharmProjects/ml/samples/movies_reviews_sentiment_analysis/300features_40minwords_10context, ignoring all but first\n"
     ]
    },
    {
     "name": "stderr",
     "output_type": "stream",
     "text": [
      "2018-03-04 11:00:57,127 : WARNING : duplicate word '' in /Users/orprager/PycharmProjects/ml/samples/movies_reviews_sentiment_analysis/300features_40minwords_10context, ignoring all but first\n"
     ]
    },
    {
     "name": "stderr",
     "output_type": "stream",
     "text": [
      "2018-03-04 11:00:57,129 : WARNING : duplicate word '' in /Users/orprager/PycharmProjects/ml/samples/movies_reviews_sentiment_analysis/300features_40minwords_10context, ignoring all but first\n"
     ]
    },
    {
     "name": "stderr",
     "output_type": "stream",
     "text": [
      "2018-03-04 11:00:57,130 : WARNING : duplicate word '921' in /Users/orprager/PycharmProjects/ml/samples/movies_reviews_sentiment_analysis/300features_40minwords_10context, ignoring all but first\n"
     ]
    },
    {
     "name": "stderr",
     "output_type": "stream",
     "text": [
      "2018-03-04 11:00:57,134 : WARNING : duplicate word '' in /Users/orprager/PycharmProjects/ml/samples/movies_reviews_sentiment_analysis/300features_40minwords_10context, ignoring all but first\n"
     ]
    },
    {
     "name": "stderr",
     "output_type": "stream",
     "text": [
      "2018-03-04 11:00:57,137 : WARNING : duplicate word '29' in /Users/orprager/PycharmProjects/ml/samples/movies_reviews_sentiment_analysis/300features_40minwords_10context, ignoring all but first\n"
     ]
    },
    {
     "name": "stderr",
     "output_type": "stream",
     "text": [
      "2018-03-04 11:00:57,139 : WARNING : duplicate word '06' in /Users/orprager/PycharmProjects/ml/samples/movies_reviews_sentiment_analysis/300features_40minwords_10context, ignoring all but first\n"
     ]
    },
    {
     "name": "stderr",
     "output_type": "stream",
     "text": [
      "2018-03-04 11:00:57,140 : WARNING : duplicate word '7' in /Users/orprager/PycharmProjects/ml/samples/movies_reviews_sentiment_analysis/300features_40minwords_10context, ignoring all but first\n"
     ]
    },
    {
     "name": "stderr",
     "output_type": "stream",
     "text": [
      "2018-03-04 11:00:57,142 : WARNING : duplicate word '' in /Users/orprager/PycharmProjects/ml/samples/movies_reviews_sentiment_analysis/300features_40minwords_10context, ignoring all but first\n"
     ]
    },
    {
     "name": "stderr",
     "output_type": "stream",
     "text": [
      "2018-03-04 11:00:57,143 : WARNING : duplicate word '327' in /Users/orprager/PycharmProjects/ml/samples/movies_reviews_sentiment_analysis/300features_40minwords_10context, ignoring all but first\n"
     ]
    },
    {
     "name": "stderr",
     "output_type": "stream",
     "text": [
      "2018-03-04 11:00:57,145 : WARNING : duplicate word '49' in /Users/orprager/PycharmProjects/ml/samples/movies_reviews_sentiment_analysis/300features_40minwords_10context, ignoring all but first\n"
     ]
    },
    {
     "name": "stderr",
     "output_type": "stream",
     "text": [
      "2018-03-04 11:00:57,146 : WARNING : duplicate word '' in /Users/orprager/PycharmProjects/ml/samples/movies_reviews_sentiment_analysis/300features_40minwords_10context, ignoring all but first\n"
     ]
    },
    {
     "name": "stderr",
     "output_type": "stream",
     "text": [
      "2018-03-04 11:00:57,148 : WARNING : duplicate word '1' in /Users/orprager/PycharmProjects/ml/samples/movies_reviews_sentiment_analysis/300features_40minwords_10context, ignoring all but first\n"
     ]
    },
    {
     "name": "stderr",
     "output_type": "stream",
     "text": [
      "2018-03-04 11:00:57,150 : WARNING : duplicate word '4' in /Users/orprager/PycharmProjects/ml/samples/movies_reviews_sentiment_analysis/300features_40minwords_10context, ignoring all but first\n"
     ]
    },
    {
     "name": "stderr",
     "output_type": "stream",
     "text": [
      "2018-03-04 11:00:57,151 : WARNING : duplicate word '46' in /Users/orprager/PycharmProjects/ml/samples/movies_reviews_sentiment_analysis/300features_40minwords_10context, ignoring all but first\n"
     ]
    },
    {
     "name": "stderr",
     "output_type": "stream",
     "text": [
      "2018-03-04 11:00:57,153 : WARNING : duplicate word '' in /Users/orprager/PycharmProjects/ml/samples/movies_reviews_sentiment_analysis/300features_40minwords_10context, ignoring all but first\n"
     ]
    },
    {
     "name": "stderr",
     "output_type": "stream",
     "text": [
      "2018-03-04 11:00:57,155 : WARNING : duplicate word '4' in /Users/orprager/PycharmProjects/ml/samples/movies_reviews_sentiment_analysis/300features_40minwords_10context, ignoring all but first\n"
     ]
    },
    {
     "name": "stderr",
     "output_type": "stream",
     "text": [
      "2018-03-04 11:00:57,157 : WARNING : duplicate word '3' in /Users/orprager/PycharmProjects/ml/samples/movies_reviews_sentiment_analysis/300features_40minwords_10context, ignoring all but first\n"
     ]
    },
    {
     "name": "stderr",
     "output_type": "stream",
     "text": [
      "2018-03-04 11:00:57,158 : WARNING : duplicate word '5' in /Users/orprager/PycharmProjects/ml/samples/movies_reviews_sentiment_analysis/300features_40minwords_10context, ignoring all but first\n"
     ]
    },
    {
     "name": "stderr",
     "output_type": "stream",
     "text": [
      "2018-03-04 11:00:57,160 : WARNING : duplicate word '4' in /Users/orprager/PycharmProjects/ml/samples/movies_reviews_sentiment_analysis/300features_40minwords_10context, ignoring all but first\n"
     ]
    },
    {
     "name": "stderr",
     "output_type": "stream",
     "text": [
      "2018-03-04 11:00:57,161 : WARNING : duplicate word '' in /Users/orprager/PycharmProjects/ml/samples/movies_reviews_sentiment_analysis/300features_40minwords_10context, ignoring all but first\n"
     ]
    },
    {
     "name": "stderr",
     "output_type": "stream",
     "text": [
      "2018-03-04 11:00:57,163 : WARNING : duplicate word '03' in /Users/orprager/PycharmProjects/ml/samples/movies_reviews_sentiment_analysis/300features_40minwords_10context, ignoring all but first\n"
     ]
    },
    {
     "name": "stderr",
     "output_type": "stream",
     "text": [
      "2018-03-04 11:00:57,165 : WARNING : duplicate word '147' in /Users/orprager/PycharmProjects/ml/samples/movies_reviews_sentiment_analysis/300features_40minwords_10context, ignoring all but first\n"
     ]
    },
    {
     "name": "stderr",
     "output_type": "stream",
     "text": [
      "2018-03-04 11:00:57,166 : WARNING : duplicate word '1' in /Users/orprager/PycharmProjects/ml/samples/movies_reviews_sentiment_analysis/300features_40minwords_10context, ignoring all but first\n"
     ]
    },
    {
     "name": "stderr",
     "output_type": "stream",
     "text": [
      "2018-03-04 11:00:57,168 : WARNING : duplicate word '73' in /Users/orprager/PycharmProjects/ml/samples/movies_reviews_sentiment_analysis/300features_40minwords_10context, ignoring all but first\n"
     ]
    },
    {
     "name": "stderr",
     "output_type": "stream",
     "text": [
      "2018-03-04 11:00:57,172 : WARNING : duplicate word '95' in /Users/orprager/PycharmProjects/ml/samples/movies_reviews_sentiment_analysis/300features_40minwords_10context, ignoring all but first\n"
     ]
    },
    {
     "name": "stderr",
     "output_type": "stream",
     "text": [
      "2018-03-04 11:00:57,173 : WARNING : duplicate word '6' in /Users/orprager/PycharmProjects/ml/samples/movies_reviews_sentiment_analysis/300features_40minwords_10context, ignoring all but first\n"
     ]
    },
    {
     "name": "stderr",
     "output_type": "stream",
     "text": [
      "2018-03-04 11:00:57,175 : WARNING : duplicate word '22' in /Users/orprager/PycharmProjects/ml/samples/movies_reviews_sentiment_analysis/300features_40minwords_10context, ignoring all but first\n"
     ]
    },
    {
     "name": "stderr",
     "output_type": "stream",
     "text": [
      "2018-03-04 11:00:57,177 : WARNING : duplicate word '55' in /Users/orprager/PycharmProjects/ml/samples/movies_reviews_sentiment_analysis/300features_40minwords_10context, ignoring all but first\n"
     ]
    },
    {
     "name": "stderr",
     "output_type": "stream",
     "text": [
      "2018-03-04 11:00:57,178 : WARNING : duplicate word '05' in /Users/orprager/PycharmProjects/ml/samples/movies_reviews_sentiment_analysis/300features_40minwords_10context, ignoring all but first\n"
     ]
    },
    {
     "name": "stderr",
     "output_type": "stream",
     "text": [
      "2018-03-04 11:00:57,180 : WARNING : duplicate word '96' in /Users/orprager/PycharmProjects/ml/samples/movies_reviews_sentiment_analysis/300features_40minwords_10context, ignoring all but first\n"
     ]
    },
    {
     "name": "stderr",
     "output_type": "stream",
     "text": [
      "2018-03-04 11:00:57,181 : WARNING : duplicate word '08' in /Users/orprager/PycharmProjects/ml/samples/movies_reviews_sentiment_analysis/300features_40minwords_10context, ignoring all but first\n"
     ]
    },
    {
     "name": "stderr",
     "output_type": "stream",
     "text": [
      "2018-03-04 11:00:57,183 : WARNING : duplicate word '5' in /Users/orprager/PycharmProjects/ml/samples/movies_reviews_sentiment_analysis/300features_40minwords_10context, ignoring all but first\n"
     ]
    },
    {
     "name": "stderr",
     "output_type": "stream",
     "text": [
      "2018-03-04 11:00:57,184 : WARNING : duplicate word '624' in /Users/orprager/PycharmProjects/ml/samples/movies_reviews_sentiment_analysis/300features_40minwords_10context, ignoring all but first\n"
     ]
    },
    {
     "name": "stderr",
     "output_type": "stream",
     "text": [
      "2018-03-04 11:00:57,186 : WARNING : duplicate word '' in /Users/orprager/PycharmProjects/ml/samples/movies_reviews_sentiment_analysis/300features_40minwords_10context, ignoring all but first\n"
     ]
    },
    {
     "name": "stderr",
     "output_type": "stream",
     "text": [
      "2018-03-04 11:00:57,188 : WARNING : duplicate word '75' in /Users/orprager/PycharmProjects/ml/samples/movies_reviews_sentiment_analysis/300features_40minwords_10context, ignoring all but first\n"
     ]
    },
    {
     "name": "stderr",
     "output_type": "stream",
     "text": [
      "2018-03-04 11:00:57,190 : WARNING : duplicate word '' in /Users/orprager/PycharmProjects/ml/samples/movies_reviews_sentiment_analysis/300features_40minwords_10context, ignoring all but first\n"
     ]
    },
    {
     "name": "stderr",
     "output_type": "stream",
     "text": [
      "2018-03-04 11:00:57,191 : WARNING : duplicate word '7' in /Users/orprager/PycharmProjects/ml/samples/movies_reviews_sentiment_analysis/300features_40minwords_10context, ignoring all but first\n"
     ]
    },
    {
     "name": "stderr",
     "output_type": "stream",
     "text": [
      "2018-03-04 11:00:57,193 : WARNING : duplicate word '7' in /Users/orprager/PycharmProjects/ml/samples/movies_reviews_sentiment_analysis/300features_40minwords_10context, ignoring all but first\n"
     ]
    },
    {
     "name": "stderr",
     "output_type": "stream",
     "text": [
      "2018-03-04 11:00:57,195 : WARNING : duplicate word '816' in /Users/orprager/PycharmProjects/ml/samples/movies_reviews_sentiment_analysis/300features_40minwords_10context, ignoring all but first\n"
     ]
    },
    {
     "name": "stderr",
     "output_type": "stream",
     "text": [
      "2018-03-04 11:00:57,199 : WARNING : duplicate word '' in /Users/orprager/PycharmProjects/ml/samples/movies_reviews_sentiment_analysis/300features_40minwords_10context, ignoring all but first\n"
     ]
    },
    {
     "name": "stderr",
     "output_type": "stream",
     "text": [
      "2018-03-04 11:00:57,201 : WARNING : duplicate word '975' in /Users/orprager/PycharmProjects/ml/samples/movies_reviews_sentiment_analysis/300features_40minwords_10context, ignoring all but first\n"
     ]
    },
    {
     "name": "stderr",
     "output_type": "stream",
     "text": [
      "2018-03-04 11:00:57,203 : WARNING : duplicate word '27' in /Users/orprager/PycharmProjects/ml/samples/movies_reviews_sentiment_analysis/300features_40minwords_10context, ignoring all but first\n"
     ]
    },
    {
     "name": "stderr",
     "output_type": "stream",
     "text": [
      "2018-03-04 11:00:57,205 : WARNING : duplicate word '06' in /Users/orprager/PycharmProjects/ml/samples/movies_reviews_sentiment_analysis/300features_40minwords_10context, ignoring all but first\n"
     ]
    },
    {
     "name": "stderr",
     "output_type": "stream",
     "text": [
      "2018-03-04 11:00:57,208 : WARNING : duplicate word '' in /Users/orprager/PycharmProjects/ml/samples/movies_reviews_sentiment_analysis/300features_40minwords_10context, ignoring all but first\n"
     ]
    },
    {
     "name": "stderr",
     "output_type": "stream",
     "text": [
      "2018-03-04 11:00:57,209 : WARNING : duplicate word '84' in /Users/orprager/PycharmProjects/ml/samples/movies_reviews_sentiment_analysis/300features_40minwords_10context, ignoring all but first\n"
     ]
    },
    {
     "name": "stderr",
     "output_type": "stream",
     "text": [
      "2018-03-04 11:00:57,213 : WARNING : duplicate word '649' in /Users/orprager/PycharmProjects/ml/samples/movies_reviews_sentiment_analysis/300features_40minwords_10context, ignoring all but first\n"
     ]
    },
    {
     "name": "stderr",
     "output_type": "stream",
     "text": [
      "2018-03-04 11:00:57,216 : WARNING : duplicate word '5' in /Users/orprager/PycharmProjects/ml/samples/movies_reviews_sentiment_analysis/300features_40minwords_10context, ignoring all but first\n"
     ]
    },
    {
     "name": "stderr",
     "output_type": "stream",
     "text": [
      "2018-03-04 11:00:57,218 : WARNING : duplicate word '' in /Users/orprager/PycharmProjects/ml/samples/movies_reviews_sentiment_analysis/300features_40minwords_10context, ignoring all but first\n"
     ]
    },
    {
     "name": "stderr",
     "output_type": "stream",
     "text": [
      "2018-03-04 11:00:57,221 : WARNING : duplicate word '' in /Users/orprager/PycharmProjects/ml/samples/movies_reviews_sentiment_analysis/300features_40minwords_10context, ignoring all but first\n"
     ]
    },
    {
     "name": "stderr",
     "output_type": "stream",
     "text": [
      "2018-03-04 11:00:57,224 : WARNING : duplicate word '12' in /Users/orprager/PycharmProjects/ml/samples/movies_reviews_sentiment_analysis/300features_40minwords_10context, ignoring all but first\n"
     ]
    },
    {
     "name": "stderr",
     "output_type": "stream",
     "text": [
      "2018-03-04 11:00:57,226 : WARNING : duplicate word '28' in /Users/orprager/PycharmProjects/ml/samples/movies_reviews_sentiment_analysis/300features_40minwords_10context, ignoring all but first\n"
     ]
    },
    {
     "name": "stderr",
     "output_type": "stream",
     "text": [
      "2018-03-04 11:00:57,228 : WARNING : duplicate word '' in /Users/orprager/PycharmProjects/ml/samples/movies_reviews_sentiment_analysis/300features_40minwords_10context, ignoring all but first\n"
     ]
    },
    {
     "name": "stderr",
     "output_type": "stream",
     "text": [
      "2018-03-04 11:00:57,230 : WARNING : duplicate word '54' in /Users/orprager/PycharmProjects/ml/samples/movies_reviews_sentiment_analysis/300features_40minwords_10context, ignoring all but first\n"
     ]
    },
    {
     "name": "stderr",
     "output_type": "stream",
     "text": [
      "2018-03-04 11:00:57,231 : WARNING : duplicate word '68' in /Users/orprager/PycharmProjects/ml/samples/movies_reviews_sentiment_analysis/300features_40minwords_10context, ignoring all but first\n"
     ]
    },
    {
     "name": "stderr",
     "output_type": "stream",
     "text": [
      "2018-03-04 11:00:57,233 : WARNING : duplicate word '5' in /Users/orprager/PycharmProjects/ml/samples/movies_reviews_sentiment_analysis/300features_40minwords_10context, ignoring all but first\n"
     ]
    },
    {
     "name": "stderr",
     "output_type": "stream",
     "text": [
      "2018-03-04 11:00:57,236 : WARNING : duplicate word '6' in /Users/orprager/PycharmProjects/ml/samples/movies_reviews_sentiment_analysis/300features_40minwords_10context, ignoring all but first\n"
     ]
    },
    {
     "name": "stderr",
     "output_type": "stream",
     "text": [
      "2018-03-04 11:00:57,239 : WARNING : duplicate word '' in /Users/orprager/PycharmProjects/ml/samples/movies_reviews_sentiment_analysis/300features_40minwords_10context, ignoring all but first\n"
     ]
    },
    {
     "name": "stderr",
     "output_type": "stream",
     "text": [
      "2018-03-04 11:00:57,240 : WARNING : duplicate word '526' in /Users/orprager/PycharmProjects/ml/samples/movies_reviews_sentiment_analysis/300features_40minwords_10context, ignoring all but first\n"
     ]
    },
    {
     "name": "stderr",
     "output_type": "stream",
     "text": [
      "2018-03-04 11:00:57,242 : WARNING : duplicate word '81' in /Users/orprager/PycharmProjects/ml/samples/movies_reviews_sentiment_analysis/300features_40minwords_10context, ignoring all but first\n"
     ]
    },
    {
     "name": "stderr",
     "output_type": "stream",
     "text": [
      "2018-03-04 11:00:57,244 : WARNING : duplicate word '2' in /Users/orprager/PycharmProjects/ml/samples/movies_reviews_sentiment_analysis/300features_40minwords_10context, ignoring all but first\n"
     ]
    },
    {
     "name": "stderr",
     "output_type": "stream",
     "text": [
      "2018-03-04 11:00:57,246 : WARNING : duplicate word '' in /Users/orprager/PycharmProjects/ml/samples/movies_reviews_sentiment_analysis/300features_40minwords_10context, ignoring all but first\n"
     ]
    },
    {
     "name": "stderr",
     "output_type": "stream",
     "text": [
      "2018-03-04 11:00:57,248 : WARNING : duplicate word '7' in /Users/orprager/PycharmProjects/ml/samples/movies_reviews_sentiment_analysis/300features_40minwords_10context, ignoring all but first\n"
     ]
    },
    {
     "name": "stderr",
     "output_type": "stream",
     "text": [
      "2018-03-04 11:00:57,250 : WARNING : duplicate word '47' in /Users/orprager/PycharmProjects/ml/samples/movies_reviews_sentiment_analysis/300features_40minwords_10context, ignoring all but first\n"
     ]
    },
    {
     "name": "stderr",
     "output_type": "stream",
     "text": [
      "2018-03-04 11:00:57,252 : WARNING : duplicate word '' in /Users/orprager/PycharmProjects/ml/samples/movies_reviews_sentiment_analysis/300features_40minwords_10context, ignoring all but first\n"
     ]
    },
    {
     "name": "stderr",
     "output_type": "stream",
     "text": [
      "2018-03-04 11:00:57,258 : WARNING : duplicate word '1' in /Users/orprager/PycharmProjects/ml/samples/movies_reviews_sentiment_analysis/300features_40minwords_10context, ignoring all but first\n"
     ]
    },
    {
     "name": "stderr",
     "output_type": "stream",
     "text": [
      "2018-03-04 11:00:57,259 : WARNING : duplicate word '967' in /Users/orprager/PycharmProjects/ml/samples/movies_reviews_sentiment_analysis/300features_40minwords_10context, ignoring all but first\n"
     ]
    },
    {
     "name": "stderr",
     "output_type": "stream",
     "text": [
      "2018-03-04 11:00:57,261 : WARNING : duplicate word '46' in /Users/orprager/PycharmProjects/ml/samples/movies_reviews_sentiment_analysis/300features_40minwords_10context, ignoring all but first\n"
     ]
    },
    {
     "name": "stderr",
     "output_type": "stream",
     "text": [
      "2018-03-04 11:00:57,266 : WARNING : duplicate word '3' in /Users/orprager/PycharmProjects/ml/samples/movies_reviews_sentiment_analysis/300features_40minwords_10context, ignoring all but first\n"
     ]
    },
    {
     "name": "stderr",
     "output_type": "stream",
     "text": [
      "2018-03-04 11:00:57,267 : WARNING : duplicate word '4' in /Users/orprager/PycharmProjects/ml/samples/movies_reviews_sentiment_analysis/300features_40minwords_10context, ignoring all but first\n"
     ]
    },
    {
     "name": "stderr",
     "output_type": "stream",
     "text": [
      "2018-03-04 11:00:57,269 : WARNING : duplicate word '' in /Users/orprager/PycharmProjects/ml/samples/movies_reviews_sentiment_analysis/300features_40minwords_10context, ignoring all but first\n"
     ]
    },
    {
     "name": "stderr",
     "output_type": "stream",
     "text": [
      "2018-03-04 11:00:57,270 : WARNING : duplicate word '08' in /Users/orprager/PycharmProjects/ml/samples/movies_reviews_sentiment_analysis/300features_40minwords_10context, ignoring all but first\n"
     ]
    },
    {
     "name": "stderr",
     "output_type": "stream",
     "text": [
      "2018-03-04 11:00:57,272 : WARNING : duplicate word '74' in /Users/orprager/PycharmProjects/ml/samples/movies_reviews_sentiment_analysis/300features_40minwords_10context, ignoring all but first\n"
     ]
    },
    {
     "name": "stderr",
     "output_type": "stream",
     "text": [
      "2018-03-04 11:00:57,276 : WARNING : duplicate word '184' in /Users/orprager/PycharmProjects/ml/samples/movies_reviews_sentiment_analysis/300features_40minwords_10context, ignoring all but first\n"
     ]
    },
    {
     "name": "stderr",
     "output_type": "stream",
     "text": [
      "2018-03-04 11:00:57,279 : WARNING : duplicate word '08' in /Users/orprager/PycharmProjects/ml/samples/movies_reviews_sentiment_analysis/300features_40minwords_10context, ignoring all but first\n"
     ]
    },
    {
     "name": "stderr",
     "output_type": "stream",
     "text": [
      "2018-03-04 11:00:57,283 : WARNING : duplicate word '' in /Users/orprager/PycharmProjects/ml/samples/movies_reviews_sentiment_analysis/300features_40minwords_10context, ignoring all but first\n"
     ]
    },
    {
     "name": "stderr",
     "output_type": "stream",
     "text": [
      "2018-03-04 11:00:57,285 : WARNING : duplicate word '81' in /Users/orprager/PycharmProjects/ml/samples/movies_reviews_sentiment_analysis/300features_40minwords_10context, ignoring all but first\n"
     ]
    },
    {
     "name": "stderr",
     "output_type": "stream",
     "text": [
      "2018-03-04 11:00:57,287 : WARNING : duplicate word '' in /Users/orprager/PycharmProjects/ml/samples/movies_reviews_sentiment_analysis/300features_40minwords_10context, ignoring all but first\n"
     ]
    },
    {
     "name": "stderr",
     "output_type": "stream",
     "text": [
      "2018-03-04 11:00:57,288 : WARNING : duplicate word '04' in /Users/orprager/PycharmProjects/ml/samples/movies_reviews_sentiment_analysis/300features_40minwords_10context, ignoring all but first\n"
     ]
    },
    {
     "name": "stderr",
     "output_type": "stream",
     "text": [
      "2018-03-04 11:00:57,290 : WARNING : duplicate word '4' in /Users/orprager/PycharmProjects/ml/samples/movies_reviews_sentiment_analysis/300features_40minwords_10context, ignoring all but first\n"
     ]
    },
    {
     "name": "stderr",
     "output_type": "stream",
     "text": [
      "2018-03-04 11:00:57,291 : WARNING : duplicate word '05' in /Users/orprager/PycharmProjects/ml/samples/movies_reviews_sentiment_analysis/300features_40minwords_10context, ignoring all but first\n"
     ]
    },
    {
     "name": "stderr",
     "output_type": "stream",
     "text": [
      "2018-03-04 11:00:57,302 : WARNING : duplicate word '31' in /Users/orprager/PycharmProjects/ml/samples/movies_reviews_sentiment_analysis/300features_40minwords_10context, ignoring all but first\n"
     ]
    },
    {
     "name": "stderr",
     "output_type": "stream",
     "text": [
      "2018-03-04 11:00:57,304 : WARNING : duplicate word '' in /Users/orprager/PycharmProjects/ml/samples/movies_reviews_sentiment_analysis/300features_40minwords_10context, ignoring all but first\n"
     ]
    },
    {
     "name": "stderr",
     "output_type": "stream",
     "text": [
      "2018-03-04 11:00:57,306 : WARNING : duplicate word '137' in /Users/orprager/PycharmProjects/ml/samples/movies_reviews_sentiment_analysis/300features_40minwords_10context, ignoring all but first\n"
     ]
    },
    {
     "name": "stderr",
     "output_type": "stream",
     "text": [
      "2018-03-04 11:00:57,307 : WARNING : duplicate word '084' in /Users/orprager/PycharmProjects/ml/samples/movies_reviews_sentiment_analysis/300features_40minwords_10context, ignoring all but first\n"
     ]
    },
    {
     "name": "stderr",
     "output_type": "stream",
     "text": [
      "2018-03-04 11:00:57,309 : WARNING : duplicate word '' in /Users/orprager/PycharmProjects/ml/samples/movies_reviews_sentiment_analysis/300features_40minwords_10context, ignoring all but first\n"
     ]
    },
    {
     "name": "stderr",
     "output_type": "stream",
     "text": [
      "2018-03-04 11:00:57,311 : WARNING : duplicate word '4' in /Users/orprager/PycharmProjects/ml/samples/movies_reviews_sentiment_analysis/300features_40minwords_10context, ignoring all but first\n"
     ]
    },
    {
     "name": "stderr",
     "output_type": "stream",
     "text": [
      "2018-03-04 11:00:57,313 : WARNING : duplicate word '5' in /Users/orprager/PycharmProjects/ml/samples/movies_reviews_sentiment_analysis/300features_40minwords_10context, ignoring all but first\n"
     ]
    },
    {
     "name": "stderr",
     "output_type": "stream",
     "text": [
      "2018-03-04 11:00:57,314 : WARNING : duplicate word '83' in /Users/orprager/PycharmProjects/ml/samples/movies_reviews_sentiment_analysis/300features_40minwords_10context, ignoring all but first\n"
     ]
    },
    {
     "name": "stderr",
     "output_type": "stream",
     "text": [
      "2018-03-04 11:00:57,318 : WARNING : duplicate word '08' in /Users/orprager/PycharmProjects/ml/samples/movies_reviews_sentiment_analysis/300features_40minwords_10context, ignoring all but first\n"
     ]
    },
    {
     "name": "stderr",
     "output_type": "stream",
     "text": [
      "2018-03-04 11:00:57,320 : WARNING : duplicate word '41' in /Users/orprager/PycharmProjects/ml/samples/movies_reviews_sentiment_analysis/300features_40minwords_10context, ignoring all but first\n"
     ]
    },
    {
     "name": "stderr",
     "output_type": "stream",
     "text": [
      "2018-03-04 11:00:57,328 : WARNING : duplicate word '253' in /Users/orprager/PycharmProjects/ml/samples/movies_reviews_sentiment_analysis/300features_40minwords_10context, ignoring all but first\n"
     ]
    },
    {
     "name": "stderr",
     "output_type": "stream",
     "text": [
      "2018-03-04 11:00:57,331 : WARNING : duplicate word '03' in /Users/orprager/PycharmProjects/ml/samples/movies_reviews_sentiment_analysis/300features_40minwords_10context, ignoring all but first\n"
     ]
    },
    {
     "name": "stderr",
     "output_type": "stream",
     "text": [
      "2018-03-04 11:00:57,333 : WARNING : duplicate word '' in /Users/orprager/PycharmProjects/ml/samples/movies_reviews_sentiment_analysis/300features_40minwords_10context, ignoring all but first\n"
     ]
    },
    {
     "name": "stderr",
     "output_type": "stream",
     "text": [
      "2018-03-04 11:00:57,334 : WARNING : duplicate word '' in /Users/orprager/PycharmProjects/ml/samples/movies_reviews_sentiment_analysis/300features_40minwords_10context, ignoring all but first\n"
     ]
    },
    {
     "name": "stderr",
     "output_type": "stream",
     "text": [
      "2018-03-04 11:00:57,336 : WARNING : duplicate word '2' in /Users/orprager/PycharmProjects/ml/samples/movies_reviews_sentiment_analysis/300features_40minwords_10context, ignoring all but first\n"
     ]
    },
    {
     "name": "stderr",
     "output_type": "stream",
     "text": [
      "2018-03-04 11:00:57,337 : WARNING : duplicate word '3' in /Users/orprager/PycharmProjects/ml/samples/movies_reviews_sentiment_analysis/300features_40minwords_10context, ignoring all but first\n"
     ]
    },
    {
     "name": "stderr",
     "output_type": "stream",
     "text": [
      "2018-03-04 11:00:57,339 : WARNING : duplicate word '' in /Users/orprager/PycharmProjects/ml/samples/movies_reviews_sentiment_analysis/300features_40minwords_10context, ignoring all but first\n"
     ]
    },
    {
     "name": "stderr",
     "output_type": "stream",
     "text": [
      "2018-03-04 11:00:57,341 : WARNING : duplicate word '' in /Users/orprager/PycharmProjects/ml/samples/movies_reviews_sentiment_analysis/300features_40minwords_10context, ignoring all but first\n"
     ]
    },
    {
     "name": "stderr",
     "output_type": "stream",
     "text": [
      "2018-03-04 11:00:57,343 : WARNING : duplicate word '4' in /Users/orprager/PycharmProjects/ml/samples/movies_reviews_sentiment_analysis/300features_40minwords_10context, ignoring all but first\n"
     ]
    },
    {
     "name": "stderr",
     "output_type": "stream",
     "text": [
      "2018-03-04 11:00:57,344 : WARNING : duplicate word '' in /Users/orprager/PycharmProjects/ml/samples/movies_reviews_sentiment_analysis/300features_40minwords_10context, ignoring all but first\n"
     ]
    },
    {
     "name": "stderr",
     "output_type": "stream",
     "text": [
      "2018-03-04 11:00:57,347 : WARNING : duplicate word '' in /Users/orprager/PycharmProjects/ml/samples/movies_reviews_sentiment_analysis/300features_40minwords_10context, ignoring all but first\n"
     ]
    },
    {
     "name": "stderr",
     "output_type": "stream",
     "text": [
      "2018-03-04 11:00:57,350 : WARNING : duplicate word '305' in /Users/orprager/PycharmProjects/ml/samples/movies_reviews_sentiment_analysis/300features_40minwords_10context, ignoring all but first\n"
     ]
    },
    {
     "name": "stderr",
     "output_type": "stream",
     "text": [
      "2018-03-04 11:00:57,352 : WARNING : duplicate word '7' in /Users/orprager/PycharmProjects/ml/samples/movies_reviews_sentiment_analysis/300features_40minwords_10context, ignoring all but first\n"
     ]
    },
    {
     "name": "stderr",
     "output_type": "stream",
     "text": [
      "2018-03-04 11:00:57,354 : WARNING : duplicate word '8' in /Users/orprager/PycharmProjects/ml/samples/movies_reviews_sentiment_analysis/300features_40minwords_10context, ignoring all but first\n"
     ]
    },
    {
     "name": "stderr",
     "output_type": "stream",
     "text": [
      "2018-03-04 11:00:57,355 : WARNING : duplicate word '6' in /Users/orprager/PycharmProjects/ml/samples/movies_reviews_sentiment_analysis/300features_40minwords_10context, ignoring all but first\n"
     ]
    },
    {
     "name": "stderr",
     "output_type": "stream",
     "text": [
      "2018-03-04 11:00:57,357 : WARNING : duplicate word '' in /Users/orprager/PycharmProjects/ml/samples/movies_reviews_sentiment_analysis/300features_40minwords_10context, ignoring all but first\n"
     ]
    },
    {
     "name": "stderr",
     "output_type": "stream",
     "text": [
      "2018-03-04 11:00:57,358 : WARNING : duplicate word '92' in /Users/orprager/PycharmProjects/ml/samples/movies_reviews_sentiment_analysis/300features_40minwords_10context, ignoring all but first\n"
     ]
    },
    {
     "name": "stderr",
     "output_type": "stream",
     "text": [
      "2018-03-04 11:00:57,360 : WARNING : duplicate word '' in /Users/orprager/PycharmProjects/ml/samples/movies_reviews_sentiment_analysis/300features_40minwords_10context, ignoring all but first\n"
     ]
    },
    {
     "name": "stderr",
     "output_type": "stream",
     "text": [
      "2018-03-04 11:00:57,363 : WARNING : duplicate word '584' in /Users/orprager/PycharmProjects/ml/samples/movies_reviews_sentiment_analysis/300features_40minwords_10context, ignoring all but first\n"
     ]
    },
    {
     "name": "stderr",
     "output_type": "stream",
     "text": [
      "2018-03-04 11:00:57,367 : WARNING : duplicate word '547' in /Users/orprager/PycharmProjects/ml/samples/movies_reviews_sentiment_analysis/300features_40minwords_10context, ignoring all but first\n"
     ]
    },
    {
     "name": "stderr",
     "output_type": "stream",
     "text": [
      "2018-03-04 11:00:57,369 : WARNING : duplicate word '' in /Users/orprager/PycharmProjects/ml/samples/movies_reviews_sentiment_analysis/300features_40minwords_10context, ignoring all but first\n"
     ]
    },
    {
     "name": "stderr",
     "output_type": "stream",
     "text": [
      "2018-03-04 11:00:57,371 : WARNING : duplicate word '23' in /Users/orprager/PycharmProjects/ml/samples/movies_reviews_sentiment_analysis/300features_40minwords_10context, ignoring all but first\n"
     ]
    },
    {
     "name": "stderr",
     "output_type": "stream",
     "text": [
      "2018-03-04 11:00:57,372 : WARNING : duplicate word '46' in /Users/orprager/PycharmProjects/ml/samples/movies_reviews_sentiment_analysis/300features_40minwords_10context, ignoring all but first\n"
     ]
    },
    {
     "name": "stderr",
     "output_type": "stream",
     "text": [
      "2018-03-04 11:00:57,374 : WARNING : duplicate word '65' in /Users/orprager/PycharmProjects/ml/samples/movies_reviews_sentiment_analysis/300features_40minwords_10context, ignoring all but first\n"
     ]
    },
    {
     "name": "stderr",
     "output_type": "stream",
     "text": [
      "2018-03-04 11:00:57,376 : WARNING : duplicate word '7' in /Users/orprager/PycharmProjects/ml/samples/movies_reviews_sentiment_analysis/300features_40minwords_10context, ignoring all but first\n"
     ]
    },
    {
     "name": "stderr",
     "output_type": "stream",
     "text": [
      "2018-03-04 11:00:57,377 : WARNING : duplicate word '41346' in /Users/orprager/PycharmProjects/ml/samples/movies_reviews_sentiment_analysis/300features_40minwords_10context, ignoring all but first\n"
     ]
    },
    {
     "name": "stderr",
     "output_type": "stream",
     "text": [
      "2018-03-04 11:00:57,379 : WARNING : duplicate word '' in /Users/orprager/PycharmProjects/ml/samples/movies_reviews_sentiment_analysis/300features_40minwords_10context, ignoring all but first\n"
     ]
    },
    {
     "name": "stderr",
     "output_type": "stream",
     "text": [
      "2018-03-04 11:00:57,380 : WARNING : duplicate word '' in /Users/orprager/PycharmProjects/ml/samples/movies_reviews_sentiment_analysis/300features_40minwords_10context, ignoring all but first\n"
     ]
    },
    {
     "name": "stderr",
     "output_type": "stream",
     "text": [
      "2018-03-04 11:00:57,383 : WARNING : duplicate word '' in /Users/orprager/PycharmProjects/ml/samples/movies_reviews_sentiment_analysis/300features_40minwords_10context, ignoring all but first\n"
     ]
    },
    {
     "name": "stderr",
     "output_type": "stream",
     "text": [
      "2018-03-04 11:00:57,384 : WARNING : duplicate word '4' in /Users/orprager/PycharmProjects/ml/samples/movies_reviews_sentiment_analysis/300features_40minwords_10context, ignoring all but first\n"
     ]
    },
    {
     "name": "stderr",
     "output_type": "stream",
     "text": [
      "2018-03-04 11:00:57,386 : WARNING : duplicate word '73' in /Users/orprager/PycharmProjects/ml/samples/movies_reviews_sentiment_analysis/300features_40minwords_10context, ignoring all but first\n"
     ]
    },
    {
     "name": "stderr",
     "output_type": "stream",
     "text": [
      "2018-03-04 11:00:57,388 : WARNING : duplicate word '' in /Users/orprager/PycharmProjects/ml/samples/movies_reviews_sentiment_analysis/300features_40minwords_10context, ignoring all but first\n"
     ]
    },
    {
     "name": "stderr",
     "output_type": "stream",
     "text": [
      "2018-03-04 11:00:57,390 : WARNING : duplicate word '46' in /Users/orprager/PycharmProjects/ml/samples/movies_reviews_sentiment_analysis/300features_40minwords_10context, ignoring all but first\n"
     ]
    },
    {
     "name": "stderr",
     "output_type": "stream",
     "text": [
      "2018-03-04 11:00:57,390 : WARNING : duplicate word '41' in /Users/orprager/PycharmProjects/ml/samples/movies_reviews_sentiment_analysis/300features_40minwords_10context, ignoring all but first\n"
     ]
    },
    {
     "name": "stderr",
     "output_type": "stream",
     "text": [
      "2018-03-04 11:00:57,393 : WARNING : duplicate word '77' in /Users/orprager/PycharmProjects/ml/samples/movies_reviews_sentiment_analysis/300features_40minwords_10context, ignoring all but first\n"
     ]
    },
    {
     "name": "stderr",
     "output_type": "stream",
     "text": [
      "2018-03-04 11:00:57,395 : WARNING : duplicate word '7' in /Users/orprager/PycharmProjects/ml/samples/movies_reviews_sentiment_analysis/300features_40minwords_10context, ignoring all but first\n"
     ]
    },
    {
     "name": "stderr",
     "output_type": "stream",
     "text": [
      "2018-03-04 11:00:57,398 : WARNING : duplicate word '5' in /Users/orprager/PycharmProjects/ml/samples/movies_reviews_sentiment_analysis/300features_40minwords_10context, ignoring all but first\n"
     ]
    },
    {
     "name": "stderr",
     "output_type": "stream",
     "text": [
      "2018-03-04 11:00:57,400 : WARNING : duplicate word '5' in /Users/orprager/PycharmProjects/ml/samples/movies_reviews_sentiment_analysis/300features_40minwords_10context, ignoring all but first\n"
     ]
    },
    {
     "name": "stderr",
     "output_type": "stream",
     "text": [
      "2018-03-04 11:00:57,402 : WARNING : duplicate word '54' in /Users/orprager/PycharmProjects/ml/samples/movies_reviews_sentiment_analysis/300features_40minwords_10context, ignoring all but first\n"
     ]
    },
    {
     "name": "stderr",
     "output_type": "stream",
     "text": [
      "2018-03-04 11:00:57,404 : WARNING : duplicate word '6' in /Users/orprager/PycharmProjects/ml/samples/movies_reviews_sentiment_analysis/300features_40minwords_10context, ignoring all but first\n"
     ]
    },
    {
     "name": "stderr",
     "output_type": "stream",
     "text": [
      "2018-03-04 11:00:57,406 : WARNING : duplicate word '46' in /Users/orprager/PycharmProjects/ml/samples/movies_reviews_sentiment_analysis/300features_40minwords_10context, ignoring all but first\n"
     ]
    },
    {
     "name": "stderr",
     "output_type": "stream",
     "text": [
      "2018-03-04 11:00:57,408 : WARNING : duplicate word '7' in /Users/orprager/PycharmProjects/ml/samples/movies_reviews_sentiment_analysis/300features_40minwords_10context, ignoring all but first\n"
     ]
    },
    {
     "name": "stderr",
     "output_type": "stream",
     "text": [
      "2018-03-04 11:00:57,412 : WARNING : duplicate word '' in /Users/orprager/PycharmProjects/ml/samples/movies_reviews_sentiment_analysis/300features_40minwords_10context, ignoring all but first\n"
     ]
    },
    {
     "name": "stderr",
     "output_type": "stream",
     "text": [
      "2018-03-04 11:00:57,415 : WARNING : duplicate word '2' in /Users/orprager/PycharmProjects/ml/samples/movies_reviews_sentiment_analysis/300features_40minwords_10context, ignoring all but first\n"
     ]
    },
    {
     "name": "stderr",
     "output_type": "stream",
     "text": [
      "2018-03-04 11:00:57,417 : WARNING : duplicate word '4' in /Users/orprager/PycharmProjects/ml/samples/movies_reviews_sentiment_analysis/300features_40minwords_10context, ignoring all but first\n"
     ]
    },
    {
     "name": "stderr",
     "output_type": "stream",
     "text": [
      "2018-03-04 11:00:57,419 : WARNING : duplicate word '044' in /Users/orprager/PycharmProjects/ml/samples/movies_reviews_sentiment_analysis/300features_40minwords_10context, ignoring all but first\n"
     ]
    },
    {
     "name": "stderr",
     "output_type": "stream",
     "text": [
      "2018-03-04 11:00:57,420 : WARNING : duplicate word '987' in /Users/orprager/PycharmProjects/ml/samples/movies_reviews_sentiment_analysis/300features_40minwords_10context, ignoring all but first\n"
     ]
    },
    {
     "name": "stderr",
     "output_type": "stream",
     "text": [
      "2018-03-04 11:00:57,422 : WARNING : duplicate word '64' in /Users/orprager/PycharmProjects/ml/samples/movies_reviews_sentiment_analysis/300features_40minwords_10context, ignoring all but first\n"
     ]
    },
    {
     "name": "stderr",
     "output_type": "stream",
     "text": [
      "2018-03-04 11:00:57,424 : WARNING : duplicate word '06' in /Users/orprager/PycharmProjects/ml/samples/movies_reviews_sentiment_analysis/300features_40minwords_10context, ignoring all but first\n"
     ]
    },
    {
     "name": "stderr",
     "output_type": "stream",
     "text": [
      "2018-03-04 11:00:57,426 : WARNING : duplicate word '28' in /Users/orprager/PycharmProjects/ml/samples/movies_reviews_sentiment_analysis/300features_40minwords_10context, ignoring all but first\n"
     ]
    },
    {
     "name": "stderr",
     "output_type": "stream",
     "text": [
      "2018-03-04 11:00:57,427 : WARNING : duplicate word '446' in /Users/orprager/PycharmProjects/ml/samples/movies_reviews_sentiment_analysis/300features_40minwords_10context, ignoring all but first\n"
     ]
    },
    {
     "name": "stderr",
     "output_type": "stream",
     "text": [
      "2018-03-04 11:00:57,432 : WARNING : duplicate word '17' in /Users/orprager/PycharmProjects/ml/samples/movies_reviews_sentiment_analysis/300features_40minwords_10context, ignoring all but first\n"
     ]
    },
    {
     "name": "stderr",
     "output_type": "stream",
     "text": [
      "2018-03-04 11:00:57,434 : WARNING : duplicate word '17' in /Users/orprager/PycharmProjects/ml/samples/movies_reviews_sentiment_analysis/300features_40minwords_10context, ignoring all but first\n"
     ]
    },
    {
     "name": "stderr",
     "output_type": "stream",
     "text": [
      "2018-03-04 11:00:57,436 : WARNING : duplicate word '5' in /Users/orprager/PycharmProjects/ml/samples/movies_reviews_sentiment_analysis/300features_40minwords_10context, ignoring all but first\n"
     ]
    },
    {
     "name": "stderr",
     "output_type": "stream",
     "text": [
      "2018-03-04 11:00:57,439 : WARNING : duplicate word '' in /Users/orprager/PycharmProjects/ml/samples/movies_reviews_sentiment_analysis/300features_40minwords_10context, ignoring all but first\n"
     ]
    },
    {
     "name": "stderr",
     "output_type": "stream",
     "text": [
      "2018-03-04 11:00:57,441 : WARNING : duplicate word '' in /Users/orprager/PycharmProjects/ml/samples/movies_reviews_sentiment_analysis/300features_40minwords_10context, ignoring all but first\n"
     ]
    },
    {
     "name": "stderr",
     "output_type": "stream",
     "text": [
      "2018-03-04 11:00:57,442 : WARNING : duplicate word '8' in /Users/orprager/PycharmProjects/ml/samples/movies_reviews_sentiment_analysis/300features_40minwords_10context, ignoring all but first\n"
     ]
    },
    {
     "name": "stderr",
     "output_type": "stream",
     "text": [
      "2018-03-04 11:00:57,444 : WARNING : duplicate word '' in /Users/orprager/PycharmProjects/ml/samples/movies_reviews_sentiment_analysis/300features_40minwords_10context, ignoring all but first\n"
     ]
    },
    {
     "name": "stderr",
     "output_type": "stream",
     "text": [
      "2018-03-04 11:00:57,445 : WARNING : duplicate word '' in /Users/orprager/PycharmProjects/ml/samples/movies_reviews_sentiment_analysis/300features_40minwords_10context, ignoring all but first\n"
     ]
    },
    {
     "name": "stderr",
     "output_type": "stream",
     "text": [
      "2018-03-04 11:00:57,447 : WARNING : duplicate word '9' in /Users/orprager/PycharmProjects/ml/samples/movies_reviews_sentiment_analysis/300features_40minwords_10context, ignoring all but first\n"
     ]
    },
    {
     "name": "stderr",
     "output_type": "stream",
     "text": [
      "2018-03-04 11:00:57,450 : WARNING : duplicate word '27' in /Users/orprager/PycharmProjects/ml/samples/movies_reviews_sentiment_analysis/300features_40minwords_10context, ignoring all but first\n"
     ]
    },
    {
     "name": "stderr",
     "output_type": "stream",
     "text": [
      "2018-03-04 11:00:57,453 : WARNING : duplicate word '' in /Users/orprager/PycharmProjects/ml/samples/movies_reviews_sentiment_analysis/300features_40minwords_10context, ignoring all but first\n"
     ]
    },
    {
     "name": "stderr",
     "output_type": "stream",
     "text": [
      "2018-03-04 11:00:57,454 : WARNING : duplicate word '2916' in /Users/orprager/PycharmProjects/ml/samples/movies_reviews_sentiment_analysis/300features_40minwords_10context, ignoring all but first\n"
     ]
    },
    {
     "name": "stderr",
     "output_type": "stream",
     "text": [
      "2018-03-04 11:00:57,456 : WARNING : duplicate word '774' in /Users/orprager/PycharmProjects/ml/samples/movies_reviews_sentiment_analysis/300features_40minwords_10context, ignoring all but first\n"
     ]
    },
    {
     "name": "stderr",
     "output_type": "stream",
     "text": [
      "2018-03-04 11:00:57,458 : WARNING : duplicate word '' in /Users/orprager/PycharmProjects/ml/samples/movies_reviews_sentiment_analysis/300features_40minwords_10context, ignoring all but first\n"
     ]
    },
    {
     "name": "stderr",
     "output_type": "stream",
     "text": [
      "2018-03-04 11:00:57,460 : WARNING : duplicate word '5' in /Users/orprager/PycharmProjects/ml/samples/movies_reviews_sentiment_analysis/300features_40minwords_10context, ignoring all but first\n"
     ]
    },
    {
     "name": "stderr",
     "output_type": "stream",
     "text": [
      "2018-03-04 11:00:57,461 : WARNING : duplicate word '314' in /Users/orprager/PycharmProjects/ml/samples/movies_reviews_sentiment_analysis/300features_40minwords_10context, ignoring all but first\n"
     ]
    },
    {
     "name": "stderr",
     "output_type": "stream",
     "text": [
      "2018-03-04 11:00:57,463 : WARNING : duplicate word '4' in /Users/orprager/PycharmProjects/ml/samples/movies_reviews_sentiment_analysis/300features_40minwords_10context, ignoring all but first\n"
     ]
    },
    {
     "name": "stderr",
     "output_type": "stream",
     "text": [
      "2018-03-04 11:00:57,467 : WARNING : duplicate word '' in /Users/orprager/PycharmProjects/ml/samples/movies_reviews_sentiment_analysis/300features_40minwords_10context, ignoring all but first\n"
     ]
    },
    {
     "name": "stderr",
     "output_type": "stream",
     "text": [
      "2018-03-04 11:00:57,469 : WARNING : duplicate word '085' in /Users/orprager/PycharmProjects/ml/samples/movies_reviews_sentiment_analysis/300features_40minwords_10context, ignoring all but first\n"
     ]
    },
    {
     "name": "stderr",
     "output_type": "stream",
     "text": [
      "2018-03-04 11:00:57,473 : WARNING : duplicate word '' in /Users/orprager/PycharmProjects/ml/samples/movies_reviews_sentiment_analysis/300features_40minwords_10context, ignoring all but first\n"
     ]
    },
    {
     "name": "stderr",
     "output_type": "stream",
     "text": [
      "2018-03-04 11:00:57,476 : WARNING : duplicate word '' in /Users/orprager/PycharmProjects/ml/samples/movies_reviews_sentiment_analysis/300features_40minwords_10context, ignoring all but first\n"
     ]
    },
    {
     "name": "stderr",
     "output_type": "stream",
     "text": [
      "2018-03-04 11:00:57,480 : WARNING : duplicate word '75' in /Users/orprager/PycharmProjects/ml/samples/movies_reviews_sentiment_analysis/300features_40minwords_10context, ignoring all but first\n"
     ]
    },
    {
     "name": "stderr",
     "output_type": "stream",
     "text": [
      "2018-03-04 11:00:57,482 : WARNING : duplicate word '92' in /Users/orprager/PycharmProjects/ml/samples/movies_reviews_sentiment_analysis/300features_40minwords_10context, ignoring all but first\n"
     ]
    },
    {
     "name": "stderr",
     "output_type": "stream",
     "text": [
      "2018-03-04 11:00:57,483 : WARNING : duplicate word '' in /Users/orprager/PycharmProjects/ml/samples/movies_reviews_sentiment_analysis/300features_40minwords_10context, ignoring all but first\n"
     ]
    },
    {
     "name": "stderr",
     "output_type": "stream",
     "text": [
      "2018-03-04 11:00:57,484 : WARNING : duplicate word '' in /Users/orprager/PycharmProjects/ml/samples/movies_reviews_sentiment_analysis/300features_40minwords_10context, ignoring all but first\n"
     ]
    },
    {
     "name": "stderr",
     "output_type": "stream",
     "text": [
      "2018-03-04 11:00:57,487 : WARNING : duplicate word '' in /Users/orprager/PycharmProjects/ml/samples/movies_reviews_sentiment_analysis/300features_40minwords_10context, ignoring all but first\n"
     ]
    },
    {
     "name": "stderr",
     "output_type": "stream",
     "text": [
      "2018-03-04 11:00:57,488 : WARNING : duplicate word '06' in /Users/orprager/PycharmProjects/ml/samples/movies_reviews_sentiment_analysis/300features_40minwords_10context, ignoring all but first\n"
     ]
    },
    {
     "name": "stderr",
     "output_type": "stream",
     "text": [
      "2018-03-04 11:00:57,490 : WARNING : duplicate word '685' in /Users/orprager/PycharmProjects/ml/samples/movies_reviews_sentiment_analysis/300features_40minwords_10context, ignoring all but first\n"
     ]
    },
    {
     "name": "stderr",
     "output_type": "stream",
     "text": [
      "2018-03-04 11:00:57,492 : WARNING : duplicate word '05' in /Users/orprager/PycharmProjects/ml/samples/movies_reviews_sentiment_analysis/300features_40minwords_10context, ignoring all but first\n"
     ]
    },
    {
     "name": "stderr",
     "output_type": "stream",
     "text": [
      "2018-03-04 11:00:57,495 : WARNING : duplicate word '852' in /Users/orprager/PycharmProjects/ml/samples/movies_reviews_sentiment_analysis/300features_40minwords_10context, ignoring all but first\n"
     ]
    },
    {
     "name": "stderr",
     "output_type": "stream",
     "text": [
      "2018-03-04 11:00:57,497 : WARNING : duplicate word '96' in /Users/orprager/PycharmProjects/ml/samples/movies_reviews_sentiment_analysis/300features_40minwords_10context, ignoring all but first\n"
     ]
    },
    {
     "name": "stderr",
     "output_type": "stream",
     "text": [
      "2018-03-04 11:00:57,501 : WARNING : duplicate word '4' in /Users/orprager/PycharmProjects/ml/samples/movies_reviews_sentiment_analysis/300features_40minwords_10context, ignoring all but first\n"
     ]
    },
    {
     "name": "stderr",
     "output_type": "stream",
     "text": [
      "2018-03-04 11:00:57,503 : WARNING : duplicate word '61' in /Users/orprager/PycharmProjects/ml/samples/movies_reviews_sentiment_analysis/300features_40minwords_10context, ignoring all but first\n"
     ]
    },
    {
     "name": "stderr",
     "output_type": "stream",
     "text": [
      "2018-03-04 11:00:57,504 : WARNING : duplicate word '' in /Users/orprager/PycharmProjects/ml/samples/movies_reviews_sentiment_analysis/300features_40minwords_10context, ignoring all but first\n"
     ]
    },
    {
     "name": "stderr",
     "output_type": "stream",
     "text": [
      "2018-03-04 11:00:57,506 : WARNING : duplicate word '28' in /Users/orprager/PycharmProjects/ml/samples/movies_reviews_sentiment_analysis/300features_40minwords_10context, ignoring all but first\n"
     ]
    },
    {
     "name": "stderr",
     "output_type": "stream",
     "text": [
      "2018-03-04 11:00:57,508 : WARNING : duplicate word '34' in /Users/orprager/PycharmProjects/ml/samples/movies_reviews_sentiment_analysis/300features_40minwords_10context, ignoring all but first\n"
     ]
    },
    {
     "name": "stderr",
     "output_type": "stream",
     "text": [
      "2018-03-04 11:00:57,509 : WARNING : duplicate word '25' in /Users/orprager/PycharmProjects/ml/samples/movies_reviews_sentiment_analysis/300features_40minwords_10context, ignoring all but first\n"
     ]
    },
    {
     "name": "stderr",
     "output_type": "stream",
     "text": [
      "2018-03-04 11:00:57,512 : WARNING : duplicate word '' in /Users/orprager/PycharmProjects/ml/samples/movies_reviews_sentiment_analysis/300features_40minwords_10context, ignoring all but first\n"
     ]
    },
    {
     "name": "stderr",
     "output_type": "stream",
     "text": [
      "2018-03-04 11:00:57,515 : WARNING : duplicate word '412' in /Users/orprager/PycharmProjects/ml/samples/movies_reviews_sentiment_analysis/300features_40minwords_10context, ignoring all but first\n"
     ]
    },
    {
     "name": "stderr",
     "output_type": "stream",
     "text": [
      "2018-03-04 11:00:57,518 : WARNING : duplicate word '' in /Users/orprager/PycharmProjects/ml/samples/movies_reviews_sentiment_analysis/300features_40minwords_10context, ignoring all but first\n"
     ]
    },
    {
     "name": "stderr",
     "output_type": "stream",
     "text": [
      "2018-03-04 11:00:57,521 : WARNING : duplicate word '75' in /Users/orprager/PycharmProjects/ml/samples/movies_reviews_sentiment_analysis/300features_40minwords_10context, ignoring all but first\n"
     ]
    },
    {
     "name": "stderr",
     "output_type": "stream",
     "text": [
      "2018-03-04 11:00:57,522 : WARNING : duplicate word '02' in /Users/orprager/PycharmProjects/ml/samples/movies_reviews_sentiment_analysis/300features_40minwords_10context, ignoring all but first\n"
     ]
    },
    {
     "name": "stderr",
     "output_type": "stream",
     "text": [
      "2018-03-04 11:00:57,524 : WARNING : duplicate word '43' in /Users/orprager/PycharmProjects/ml/samples/movies_reviews_sentiment_analysis/300features_40minwords_10context, ignoring all but first\n"
     ]
    },
    {
     "name": "stderr",
     "output_type": "stream",
     "text": [
      "2018-03-04 11:00:57,526 : WARNING : duplicate word '' in /Users/orprager/PycharmProjects/ml/samples/movies_reviews_sentiment_analysis/300features_40minwords_10context, ignoring all but first\n"
     ]
    },
    {
     "name": "stderr",
     "output_type": "stream",
     "text": [
      "2018-03-04 11:00:57,528 : WARNING : duplicate word '13' in /Users/orprager/PycharmProjects/ml/samples/movies_reviews_sentiment_analysis/300features_40minwords_10context, ignoring all but first\n"
     ]
    },
    {
     "name": "stderr",
     "output_type": "stream",
     "text": [
      "2018-03-04 11:00:57,530 : WARNING : duplicate word '154' in /Users/orprager/PycharmProjects/ml/samples/movies_reviews_sentiment_analysis/300features_40minwords_10context, ignoring all but first\n"
     ]
    },
    {
     "name": "stderr",
     "output_type": "stream",
     "text": [
      "2018-03-04 11:00:57,533 : WARNING : duplicate word '308' in /Users/orprager/PycharmProjects/ml/samples/movies_reviews_sentiment_analysis/300features_40minwords_10context, ignoring all but first\n"
     ]
    },
    {
     "name": "stderr",
     "output_type": "stream",
     "text": [
      "2018-03-04 11:00:57,536 : WARNING : duplicate word '7' in /Users/orprager/PycharmProjects/ml/samples/movies_reviews_sentiment_analysis/300features_40minwords_10context, ignoring all but first\n"
     ]
    },
    {
     "name": "stderr",
     "output_type": "stream",
     "text": [
      "2018-03-04 11:00:57,537 : WARNING : duplicate word '7' in /Users/orprager/PycharmProjects/ml/samples/movies_reviews_sentiment_analysis/300features_40minwords_10context, ignoring all but first\n"
     ]
    },
    {
     "name": "stderr",
     "output_type": "stream",
     "text": [
      "2018-03-04 11:00:57,541 : WARNING : duplicate word '5' in /Users/orprager/PycharmProjects/ml/samples/movies_reviews_sentiment_analysis/300features_40minwords_10context, ignoring all but first\n"
     ]
    },
    {
     "name": "stderr",
     "output_type": "stream",
     "text": [
      "2018-03-04 11:00:57,542 : WARNING : duplicate word '' in /Users/orprager/PycharmProjects/ml/samples/movies_reviews_sentiment_analysis/300features_40minwords_10context, ignoring all but first\n"
     ]
    },
    {
     "name": "stderr",
     "output_type": "stream",
     "text": [
      "2018-03-04 11:00:57,544 : WARNING : duplicate word '2' in /Users/orprager/PycharmProjects/ml/samples/movies_reviews_sentiment_analysis/300features_40minwords_10context, ignoring all but first\n"
     ]
    },
    {
     "name": "stderr",
     "output_type": "stream",
     "text": [
      "2018-03-04 11:00:57,545 : WARNING : duplicate word '02' in /Users/orprager/PycharmProjects/ml/samples/movies_reviews_sentiment_analysis/300features_40minwords_10context, ignoring all but first\n"
     ]
    },
    {
     "name": "stderr",
     "output_type": "stream",
     "text": [
      "2018-03-04 11:00:57,547 : WARNING : duplicate word '382' in /Users/orprager/PycharmProjects/ml/samples/movies_reviews_sentiment_analysis/300features_40minwords_10context, ignoring all but first\n"
     ]
    },
    {
     "name": "stderr",
     "output_type": "stream",
     "text": [
      "2018-03-04 11:00:57,548 : WARNING : duplicate word '4' in /Users/orprager/PycharmProjects/ml/samples/movies_reviews_sentiment_analysis/300features_40minwords_10context, ignoring all but first\n"
     ]
    },
    {
     "name": "stderr",
     "output_type": "stream",
     "text": [
      "2018-03-04 11:00:57,551 : WARNING : duplicate word '' in /Users/orprager/PycharmProjects/ml/samples/movies_reviews_sentiment_analysis/300features_40minwords_10context, ignoring all but first\n"
     ]
    },
    {
     "name": "stderr",
     "output_type": "stream",
     "text": [
      "2018-03-04 11:00:57,552 : WARNING : duplicate word '775' in /Users/orprager/PycharmProjects/ml/samples/movies_reviews_sentiment_analysis/300features_40minwords_10context, ignoring all but first\n"
     ]
    },
    {
     "name": "stderr",
     "output_type": "stream",
     "text": [
      "2018-03-04 11:00:57,554 : WARNING : duplicate word '' in /Users/orprager/PycharmProjects/ml/samples/movies_reviews_sentiment_analysis/300features_40minwords_10context, ignoring all but first\n"
     ]
    },
    {
     "name": "stderr",
     "output_type": "stream",
     "text": [
      "2018-03-04 11:00:57,555 : WARNING : duplicate word '' in /Users/orprager/PycharmProjects/ml/samples/movies_reviews_sentiment_analysis/300features_40minwords_10context, ignoring all but first\n"
     ]
    },
    {
     "name": "stderr",
     "output_type": "stream",
     "text": [
      "2018-03-04 11:00:57,557 : WARNING : duplicate word '34' in /Users/orprager/PycharmProjects/ml/samples/movies_reviews_sentiment_analysis/300features_40minwords_10context, ignoring all but first\n"
     ]
    },
    {
     "name": "stderr",
     "output_type": "stream",
     "text": [
      "2018-03-04 11:00:57,559 : WARNING : duplicate word '2' in /Users/orprager/PycharmProjects/ml/samples/movies_reviews_sentiment_analysis/300features_40minwords_10context, ignoring all but first\n"
     ]
    },
    {
     "name": "stderr",
     "output_type": "stream",
     "text": [
      "2018-03-04 11:00:57,560 : WARNING : duplicate word '4' in /Users/orprager/PycharmProjects/ml/samples/movies_reviews_sentiment_analysis/300features_40minwords_10context, ignoring all but first\n"
     ]
    },
    {
     "name": "stderr",
     "output_type": "stream",
     "text": [
      "2018-03-04 11:00:57,562 : WARNING : duplicate word '7' in /Users/orprager/PycharmProjects/ml/samples/movies_reviews_sentiment_analysis/300features_40minwords_10context, ignoring all but first\n"
     ]
    },
    {
     "name": "stderr",
     "output_type": "stream",
     "text": [
      "2018-03-04 11:00:57,566 : WARNING : duplicate word '994' in /Users/orprager/PycharmProjects/ml/samples/movies_reviews_sentiment_analysis/300features_40minwords_10context, ignoring all but first\n"
     ]
    },
    {
     "name": "stderr",
     "output_type": "stream",
     "text": [
      "2018-03-04 11:00:57,568 : WARNING : duplicate word '1' in /Users/orprager/PycharmProjects/ml/samples/movies_reviews_sentiment_analysis/300features_40minwords_10context, ignoring all but first\n"
     ]
    },
    {
     "name": "stderr",
     "output_type": "stream",
     "text": [
      "2018-03-04 11:00:57,570 : WARNING : duplicate word '' in /Users/orprager/PycharmProjects/ml/samples/movies_reviews_sentiment_analysis/300features_40minwords_10context, ignoring all but first\n"
     ]
    },
    {
     "name": "stderr",
     "output_type": "stream",
     "text": [
      "2018-03-04 11:00:57,571 : WARNING : duplicate word '6' in /Users/orprager/PycharmProjects/ml/samples/movies_reviews_sentiment_analysis/300features_40minwords_10context, ignoring all but first\n"
     ]
    },
    {
     "name": "stderr",
     "output_type": "stream",
     "text": [
      "2018-03-04 11:00:57,573 : WARNING : duplicate word '2' in /Users/orprager/PycharmProjects/ml/samples/movies_reviews_sentiment_analysis/300features_40minwords_10context, ignoring all but first\n"
     ]
    },
    {
     "name": "stderr",
     "output_type": "stream",
     "text": [
      "2018-03-04 11:00:57,578 : WARNING : duplicate word '32' in /Users/orprager/PycharmProjects/ml/samples/movies_reviews_sentiment_analysis/300features_40minwords_10context, ignoring all but first\n"
     ]
    },
    {
     "name": "stderr",
     "output_type": "stream",
     "text": [
      "2018-03-04 11:00:57,580 : WARNING : duplicate word '4' in /Users/orprager/PycharmProjects/ml/samples/movies_reviews_sentiment_analysis/300features_40minwords_10context, ignoring all but first\n"
     ]
    },
    {
     "name": "stderr",
     "output_type": "stream",
     "text": [
      "2018-03-04 11:00:57,582 : WARNING : duplicate word '' in /Users/orprager/PycharmProjects/ml/samples/movies_reviews_sentiment_analysis/300features_40minwords_10context, ignoring all but first\n"
     ]
    },
    {
     "name": "stderr",
     "output_type": "stream",
     "text": [
      "2018-03-04 11:00:57,583 : WARNING : duplicate word '5' in /Users/orprager/PycharmProjects/ml/samples/movies_reviews_sentiment_analysis/300features_40minwords_10context, ignoring all but first\n"
     ]
    },
    {
     "name": "stderr",
     "output_type": "stream",
     "text": [
      "2018-03-04 11:00:57,585 : WARNING : duplicate word '3' in /Users/orprager/PycharmProjects/ml/samples/movies_reviews_sentiment_analysis/300features_40minwords_10context, ignoring all but first\n"
     ]
    },
    {
     "name": "stderr",
     "output_type": "stream",
     "text": [
      "2018-03-04 11:00:57,586 : WARNING : duplicate word '6' in /Users/orprager/PycharmProjects/ml/samples/movies_reviews_sentiment_analysis/300features_40minwords_10context, ignoring all but first\n"
     ]
    },
    {
     "name": "stderr",
     "output_type": "stream",
     "text": [
      "2018-03-04 11:00:57,588 : WARNING : duplicate word '' in /Users/orprager/PycharmProjects/ml/samples/movies_reviews_sentiment_analysis/300features_40minwords_10context, ignoring all but first\n"
     ]
    },
    {
     "name": "stderr",
     "output_type": "stream",
     "text": [
      "2018-03-04 11:00:57,589 : WARNING : duplicate word '46' in /Users/orprager/PycharmProjects/ml/samples/movies_reviews_sentiment_analysis/300features_40minwords_10context, ignoring all but first\n"
     ]
    },
    {
     "name": "stderr",
     "output_type": "stream",
     "text": [
      "2018-03-04 11:00:57,591 : WARNING : duplicate word '' in /Users/orprager/PycharmProjects/ml/samples/movies_reviews_sentiment_analysis/300features_40minwords_10context, ignoring all but first\n"
     ]
    },
    {
     "name": "stderr",
     "output_type": "stream",
     "text": [
      "2018-03-04 11:00:57,595 : WARNING : duplicate word '527' in /Users/orprager/PycharmProjects/ml/samples/movies_reviews_sentiment_analysis/300features_40minwords_10context, ignoring all but first\n"
     ]
    },
    {
     "name": "stderr",
     "output_type": "stream",
     "text": [
      "2018-03-04 11:00:57,597 : WARNING : duplicate word '' in /Users/orprager/PycharmProjects/ml/samples/movies_reviews_sentiment_analysis/300features_40minwords_10context, ignoring all but first\n"
     ]
    },
    {
     "name": "stderr",
     "output_type": "stream",
     "text": [
      "2018-03-04 11:00:57,599 : WARNING : duplicate word '' in /Users/orprager/PycharmProjects/ml/samples/movies_reviews_sentiment_analysis/300features_40minwords_10context, ignoring all but first\n"
     ]
    },
    {
     "name": "stderr",
     "output_type": "stream",
     "text": [
      "2018-03-04 11:00:57,600 : WARNING : duplicate word '' in /Users/orprager/PycharmProjects/ml/samples/movies_reviews_sentiment_analysis/300features_40minwords_10context, ignoring all but first\n"
     ]
    },
    {
     "name": "stderr",
     "output_type": "stream",
     "text": [
      "2018-03-04 11:00:57,602 : WARNING : duplicate word '2' in /Users/orprager/PycharmProjects/ml/samples/movies_reviews_sentiment_analysis/300features_40minwords_10context, ignoring all but first\n"
     ]
    },
    {
     "name": "stderr",
     "output_type": "stream",
     "text": [
      "2018-03-04 11:00:57,603 : WARNING : duplicate word '' in /Users/orprager/PycharmProjects/ml/samples/movies_reviews_sentiment_analysis/300features_40minwords_10context, ignoring all but first\n"
     ]
    },
    {
     "name": "stderr",
     "output_type": "stream",
     "text": [
      "2018-03-04 11:00:57,605 : WARNING : duplicate word '4' in /Users/orprager/PycharmProjects/ml/samples/movies_reviews_sentiment_analysis/300features_40minwords_10context, ignoring all but first\n"
     ]
    },
    {
     "name": "stderr",
     "output_type": "stream",
     "text": [
      "2018-03-04 11:00:57,606 : WARNING : duplicate word '73' in /Users/orprager/PycharmProjects/ml/samples/movies_reviews_sentiment_analysis/300features_40minwords_10context, ignoring all but first\n"
     ]
    },
    {
     "name": "stderr",
     "output_type": "stream",
     "text": [
      "2018-03-04 11:00:57,608 : WARNING : duplicate word '54' in /Users/orprager/PycharmProjects/ml/samples/movies_reviews_sentiment_analysis/300features_40minwords_10context, ignoring all but first\n"
     ]
    },
    {
     "name": "stderr",
     "output_type": "stream",
     "text": [
      "2018-03-04 11:00:57,609 : WARNING : duplicate word '15' in /Users/orprager/PycharmProjects/ml/samples/movies_reviews_sentiment_analysis/300features_40minwords_10context, ignoring all but first\n"
     ]
    },
    {
     "name": "stderr",
     "output_type": "stream",
     "text": [
      "2018-03-04 11:00:57,611 : WARNING : duplicate word '4' in /Users/orprager/PycharmProjects/ml/samples/movies_reviews_sentiment_analysis/300features_40minwords_10context, ignoring all but first\n"
     ]
    },
    {
     "name": "stderr",
     "output_type": "stream",
     "text": [
      "2018-03-04 11:00:57,613 : WARNING : duplicate word '' in /Users/orprager/PycharmProjects/ml/samples/movies_reviews_sentiment_analysis/300features_40minwords_10context, ignoring all but first\n"
     ]
    },
    {
     "name": "stderr",
     "output_type": "stream",
     "text": [
      "2018-03-04 11:00:57,615 : WARNING : duplicate word '' in /Users/orprager/PycharmProjects/ml/samples/movies_reviews_sentiment_analysis/300features_40minwords_10context, ignoring all but first\n"
     ]
    },
    {
     "name": "stderr",
     "output_type": "stream",
     "text": [
      "2018-03-04 11:00:57,618 : WARNING : duplicate word '4' in /Users/orprager/PycharmProjects/ml/samples/movies_reviews_sentiment_analysis/300features_40minwords_10context, ignoring all but first\n"
     ]
    },
    {
     "name": "stderr",
     "output_type": "stream",
     "text": [
      "2018-03-04 11:00:57,621 : WARNING : duplicate word '' in /Users/orprager/PycharmProjects/ml/samples/movies_reviews_sentiment_analysis/300features_40minwords_10context, ignoring all but first\n"
     ]
    },
    {
     "name": "stderr",
     "output_type": "stream",
     "text": [
      "2018-03-04 11:00:57,622 : WARNING : duplicate word '1' in /Users/orprager/PycharmProjects/ml/samples/movies_reviews_sentiment_analysis/300features_40minwords_10context, ignoring all but first\n"
     ]
    },
    {
     "name": "stderr",
     "output_type": "stream",
     "text": [
      "2018-03-04 11:00:57,624 : WARNING : duplicate word '3' in /Users/orprager/PycharmProjects/ml/samples/movies_reviews_sentiment_analysis/300features_40minwords_10context, ignoring all but first\n"
     ]
    },
    {
     "name": "stderr",
     "output_type": "stream",
     "text": [
      "2018-03-04 11:00:57,625 : WARNING : duplicate word '195' in /Users/orprager/PycharmProjects/ml/samples/movies_reviews_sentiment_analysis/300features_40minwords_10context, ignoring all but first\n"
     ]
    },
    {
     "name": "stderr",
     "output_type": "stream",
     "text": [
      "2018-03-04 11:00:57,627 : WARNING : duplicate word '62' in /Users/orprager/PycharmProjects/ml/samples/movies_reviews_sentiment_analysis/300features_40minwords_10context, ignoring all but first\n"
     ]
    },
    {
     "name": "stderr",
     "output_type": "stream",
     "text": [
      "2018-03-04 11:00:57,628 : WARNING : duplicate word '' in /Users/orprager/PycharmProjects/ml/samples/movies_reviews_sentiment_analysis/300features_40minwords_10context, ignoring all but first\n"
     ]
    },
    {
     "name": "stderr",
     "output_type": "stream",
     "text": [
      "2018-03-04 11:00:57,630 : WARNING : duplicate word '4' in /Users/orprager/PycharmProjects/ml/samples/movies_reviews_sentiment_analysis/300features_40minwords_10context, ignoring all but first\n"
     ]
    },
    {
     "name": "stderr",
     "output_type": "stream",
     "text": [
      "2018-03-04 11:00:57,631 : WARNING : duplicate word '71' in /Users/orprager/PycharmProjects/ml/samples/movies_reviews_sentiment_analysis/300features_40minwords_10context, ignoring all but first\n"
     ]
    },
    {
     "name": "stderr",
     "output_type": "stream",
     "text": [
      "2018-03-04 11:00:57,632 : WARNING : duplicate word '' in /Users/orprager/PycharmProjects/ml/samples/movies_reviews_sentiment_analysis/300features_40minwords_10context, ignoring all but first\n"
     ]
    },
    {
     "name": "stderr",
     "output_type": "stream",
     "text": [
      "2018-03-04 11:00:57,635 : WARNING : duplicate word '7' in /Users/orprager/PycharmProjects/ml/samples/movies_reviews_sentiment_analysis/300features_40minwords_10context, ignoring all but first\n"
     ]
    },
    {
     "name": "stderr",
     "output_type": "stream",
     "text": [
      "2018-03-04 11:00:57,636 : WARNING : duplicate word '3' in /Users/orprager/PycharmProjects/ml/samples/movies_reviews_sentiment_analysis/300features_40minwords_10context, ignoring all but first\n"
     ]
    },
    {
     "name": "stderr",
     "output_type": "stream",
     "text": [
      "2018-03-04 11:00:57,638 : WARNING : duplicate word '' in /Users/orprager/PycharmProjects/ml/samples/movies_reviews_sentiment_analysis/300features_40minwords_10context, ignoring all but first\n"
     ]
    },
    {
     "name": "stderr",
     "output_type": "stream",
     "text": [
      "2018-03-04 11:00:57,640 : WARNING : duplicate word '12' in /Users/orprager/PycharmProjects/ml/samples/movies_reviews_sentiment_analysis/300features_40minwords_10context, ignoring all but first\n"
     ]
    },
    {
     "name": "stderr",
     "output_type": "stream",
     "text": [
      "2018-03-04 11:00:57,641 : WARNING : duplicate word '64' in /Users/orprager/PycharmProjects/ml/samples/movies_reviews_sentiment_analysis/300features_40minwords_10context, ignoring all but first\n"
     ]
    },
    {
     "name": "stderr",
     "output_type": "stream",
     "text": [
      "2018-03-04 11:00:57,646 : WARNING : duplicate word '92' in /Users/orprager/PycharmProjects/ml/samples/movies_reviews_sentiment_analysis/300features_40minwords_10context, ignoring all but first\n"
     ]
    },
    {
     "name": "stderr",
     "output_type": "stream",
     "text": [
      "2018-03-04 11:00:57,650 : WARNING : duplicate word '36' in /Users/orprager/PycharmProjects/ml/samples/movies_reviews_sentiment_analysis/300features_40minwords_10context, ignoring all but first\n"
     ]
    },
    {
     "name": "stderr",
     "output_type": "stream",
     "text": [
      "2018-03-04 11:00:57,652 : WARNING : duplicate word '2' in /Users/orprager/PycharmProjects/ml/samples/movies_reviews_sentiment_analysis/300features_40minwords_10context, ignoring all but first\n"
     ]
    },
    {
     "name": "stderr",
     "output_type": "stream",
     "text": [
      "2018-03-04 11:00:57,654 : WARNING : duplicate word '4' in /Users/orprager/PycharmProjects/ml/samples/movies_reviews_sentiment_analysis/300features_40minwords_10context, ignoring all but first\n"
     ]
    },
    {
     "name": "stderr",
     "output_type": "stream",
     "text": [
      "2018-03-04 11:00:57,655 : WARNING : duplicate word '6' in /Users/orprager/PycharmProjects/ml/samples/movies_reviews_sentiment_analysis/300features_40minwords_10context, ignoring all but first\n"
     ]
    },
    {
     "name": "stderr",
     "output_type": "stream",
     "text": [
      "2018-03-04 11:00:57,657 : WARNING : duplicate word '43' in /Users/orprager/PycharmProjects/ml/samples/movies_reviews_sentiment_analysis/300features_40minwords_10context, ignoring all but first\n"
     ]
    },
    {
     "name": "stderr",
     "output_type": "stream",
     "text": [
      "2018-03-04 11:00:57,659 : WARNING : duplicate word '752' in /Users/orprager/PycharmProjects/ml/samples/movies_reviews_sentiment_analysis/300features_40minwords_10context, ignoring all but first\n"
     ]
    },
    {
     "name": "stderr",
     "output_type": "stream",
     "text": [
      "2018-03-04 11:00:57,664 : WARNING : duplicate word '06' in /Users/orprager/PycharmProjects/ml/samples/movies_reviews_sentiment_analysis/300features_40minwords_10context, ignoring all but first\n"
     ]
    },
    {
     "name": "stderr",
     "output_type": "stream",
     "text": [
      "2018-03-04 11:00:57,666 : WARNING : duplicate word '7' in /Users/orprager/PycharmProjects/ml/samples/movies_reviews_sentiment_analysis/300features_40minwords_10context, ignoring all but first\n"
     ]
    },
    {
     "name": "stderr",
     "output_type": "stream",
     "text": [
      "2018-03-04 11:00:57,667 : WARNING : duplicate word '8' in /Users/orprager/PycharmProjects/ml/samples/movies_reviews_sentiment_analysis/300features_40minwords_10context, ignoring all but first\n"
     ]
    },
    {
     "name": "stderr",
     "output_type": "stream",
     "text": [
      "2018-03-04 11:00:57,669 : WARNING : duplicate word '7' in /Users/orprager/PycharmProjects/ml/samples/movies_reviews_sentiment_analysis/300features_40minwords_10context, ignoring all but first\n"
     ]
    },
    {
     "name": "stderr",
     "output_type": "stream",
     "text": [
      "2018-03-04 11:00:57,670 : WARNING : duplicate word '5' in /Users/orprager/PycharmProjects/ml/samples/movies_reviews_sentiment_analysis/300features_40minwords_10context, ignoring all but first\n"
     ]
    },
    {
     "name": "stderr",
     "output_type": "stream",
     "text": [
      "2018-03-04 11:00:57,672 : WARNING : duplicate word '458' in /Users/orprager/PycharmProjects/ml/samples/movies_reviews_sentiment_analysis/300features_40minwords_10context, ignoring all but first\n"
     ]
    },
    {
     "name": "stderr",
     "output_type": "stream",
     "text": [
      "2018-03-04 11:00:57,673 : WARNING : duplicate word '21' in /Users/orprager/PycharmProjects/ml/samples/movies_reviews_sentiment_analysis/300features_40minwords_10context, ignoring all but first\n"
     ]
    },
    {
     "name": "stderr",
     "output_type": "stream",
     "text": [
      "2018-03-04 11:00:57,675 : WARNING : duplicate word '25' in /Users/orprager/PycharmProjects/ml/samples/movies_reviews_sentiment_analysis/300features_40minwords_10context, ignoring all but first\n"
     ]
    },
    {
     "name": "stderr",
     "output_type": "stream",
     "text": [
      "2018-03-04 11:00:57,676 : WARNING : duplicate word '2' in /Users/orprager/PycharmProjects/ml/samples/movies_reviews_sentiment_analysis/300features_40minwords_10context, ignoring all but first\n"
     ]
    },
    {
     "name": "stderr",
     "output_type": "stream",
     "text": [
      "2018-03-04 11:00:57,678 : WARNING : duplicate word '2' in /Users/orprager/PycharmProjects/ml/samples/movies_reviews_sentiment_analysis/300features_40minwords_10context, ignoring all but first\n"
     ]
    },
    {
     "name": "stderr",
     "output_type": "stream",
     "text": [
      "2018-03-04 11:00:57,680 : WARNING : duplicate word '4' in /Users/orprager/PycharmProjects/ml/samples/movies_reviews_sentiment_analysis/300features_40minwords_10context, ignoring all but first\n"
     ]
    },
    {
     "name": "stderr",
     "output_type": "stream",
     "text": [
      "2018-03-04 11:00:57,681 : WARNING : duplicate word '1' in /Users/orprager/PycharmProjects/ml/samples/movies_reviews_sentiment_analysis/300features_40minwords_10context, ignoring all but first\n"
     ]
    },
    {
     "name": "stderr",
     "output_type": "stream",
     "text": [
      "2018-03-04 11:00:57,683 : WARNING : duplicate word '25' in /Users/orprager/PycharmProjects/ml/samples/movies_reviews_sentiment_analysis/300features_40minwords_10context, ignoring all but first\n"
     ]
    },
    {
     "name": "stderr",
     "output_type": "stream",
     "text": [
      "2018-03-04 11:00:57,685 : WARNING : duplicate word '' in /Users/orprager/PycharmProjects/ml/samples/movies_reviews_sentiment_analysis/300features_40minwords_10context, ignoring all but first\n"
     ]
    },
    {
     "name": "stderr",
     "output_type": "stream",
     "text": [
      "2018-03-04 11:00:57,689 : WARNING : duplicate word '4' in /Users/orprager/PycharmProjects/ml/samples/movies_reviews_sentiment_analysis/300features_40minwords_10context, ignoring all but first\n"
     ]
    },
    {
     "name": "stderr",
     "output_type": "stream",
     "text": [
      "2018-03-04 11:00:57,691 : WARNING : duplicate word '65' in /Users/orprager/PycharmProjects/ml/samples/movies_reviews_sentiment_analysis/300features_40minwords_10context, ignoring all but first\n"
     ]
    },
    {
     "name": "stderr",
     "output_type": "stream",
     "text": [
      "2018-03-04 11:00:57,693 : WARNING : duplicate word '82' in /Users/orprager/PycharmProjects/ml/samples/movies_reviews_sentiment_analysis/300features_40minwords_10context, ignoring all but first\n"
     ]
    },
    {
     "name": "stderr",
     "output_type": "stream",
     "text": [
      "2018-03-04 11:00:57,697 : WARNING : duplicate word '458' in /Users/orprager/PycharmProjects/ml/samples/movies_reviews_sentiment_analysis/300features_40minwords_10context, ignoring all but first\n"
     ]
    },
    {
     "name": "stderr",
     "output_type": "stream",
     "text": [
      "2018-03-04 11:00:57,701 : WARNING : duplicate word '7' in /Users/orprager/PycharmProjects/ml/samples/movies_reviews_sentiment_analysis/300features_40minwords_10context, ignoring all but first\n"
     ]
    },
    {
     "name": "stderr",
     "output_type": "stream",
     "text": [
      "2018-03-04 11:00:57,703 : WARNING : duplicate word '6' in /Users/orprager/PycharmProjects/ml/samples/movies_reviews_sentiment_analysis/300features_40minwords_10context, ignoring all but first\n"
     ]
    },
    {
     "name": "stderr",
     "output_type": "stream",
     "text": [
      "2018-03-04 11:00:57,705 : WARNING : duplicate word '45' in /Users/orprager/PycharmProjects/ml/samples/movies_reviews_sentiment_analysis/300features_40minwords_10context, ignoring all but first\n"
     ]
    },
    {
     "name": "stderr",
     "output_type": "stream",
     "text": [
      "2018-03-04 11:00:57,707 : WARNING : duplicate word '607' in /Users/orprager/PycharmProjects/ml/samples/movies_reviews_sentiment_analysis/300features_40minwords_10context, ignoring all but first\n"
     ]
    },
    {
     "name": "stderr",
     "output_type": "stream",
     "text": [
      "2018-03-04 11:00:57,709 : WARNING : duplicate word '' in /Users/orprager/PycharmProjects/ml/samples/movies_reviews_sentiment_analysis/300features_40minwords_10context, ignoring all but first\n"
     ]
    },
    {
     "name": "stderr",
     "output_type": "stream",
     "text": [
      "2018-03-04 11:00:57,712 : WARNING : duplicate word '53' in /Users/orprager/PycharmProjects/ml/samples/movies_reviews_sentiment_analysis/300features_40minwords_10context, ignoring all but first\n"
     ]
    },
    {
     "name": "stderr",
     "output_type": "stream",
     "text": [
      "2018-03-04 11:00:57,715 : WARNING : duplicate word '1' in /Users/orprager/PycharmProjects/ml/samples/movies_reviews_sentiment_analysis/300features_40minwords_10context, ignoring all but first\n"
     ]
    },
    {
     "name": "stderr",
     "output_type": "stream",
     "text": [
      "2018-03-04 11:00:57,718 : WARNING : duplicate word '' in /Users/orprager/PycharmProjects/ml/samples/movies_reviews_sentiment_analysis/300features_40minwords_10context, ignoring all but first\n"
     ]
    },
    {
     "name": "stderr",
     "output_type": "stream",
     "text": [
      "2018-03-04 11:00:57,719 : WARNING : duplicate word '36' in /Users/orprager/PycharmProjects/ml/samples/movies_reviews_sentiment_analysis/300features_40minwords_10context, ignoring all but first\n"
     ]
    },
    {
     "name": "stderr",
     "output_type": "stream",
     "text": [
      "2018-03-04 11:00:57,722 : WARNING : duplicate word '' in /Users/orprager/PycharmProjects/ml/samples/movies_reviews_sentiment_analysis/300features_40minwords_10context, ignoring all but first\n"
     ]
    },
    {
     "name": "stderr",
     "output_type": "stream",
     "text": [
      "2018-03-04 11:00:57,724 : WARNING : duplicate word '' in /Users/orprager/PycharmProjects/ml/samples/movies_reviews_sentiment_analysis/300features_40minwords_10context, ignoring all but first\n"
     ]
    },
    {
     "name": "stderr",
     "output_type": "stream",
     "text": [
      "2018-03-04 11:00:57,726 : WARNING : duplicate word '' in /Users/orprager/PycharmProjects/ml/samples/movies_reviews_sentiment_analysis/300features_40minwords_10context, ignoring all but first\n"
     ]
    },
    {
     "name": "stderr",
     "output_type": "stream",
     "text": [
      "2018-03-04 11:00:57,729 : WARNING : duplicate word '' in /Users/orprager/PycharmProjects/ml/samples/movies_reviews_sentiment_analysis/300features_40minwords_10context, ignoring all but first\n"
     ]
    },
    {
     "name": "stderr",
     "output_type": "stream",
     "text": [
      "2018-03-04 11:00:57,731 : WARNING : duplicate word '' in /Users/orprager/PycharmProjects/ml/samples/movies_reviews_sentiment_analysis/300features_40minwords_10context, ignoring all but first\n"
     ]
    },
    {
     "name": "stderr",
     "output_type": "stream",
     "text": [
      "2018-03-04 11:00:57,733 : WARNING : duplicate word '' in /Users/orprager/PycharmProjects/ml/samples/movies_reviews_sentiment_analysis/300features_40minwords_10context, ignoring all but first\n"
     ]
    },
    {
     "name": "stderr",
     "output_type": "stream",
     "text": [
      "2018-03-04 11:00:57,734 : WARNING : duplicate word '' in /Users/orprager/PycharmProjects/ml/samples/movies_reviews_sentiment_analysis/300features_40minwords_10context, ignoring all but first\n"
     ]
    },
    {
     "name": "stderr",
     "output_type": "stream",
     "text": [
      "2018-03-04 11:00:57,736 : WARNING : duplicate word '032' in /Users/orprager/PycharmProjects/ml/samples/movies_reviews_sentiment_analysis/300features_40minwords_10context, ignoring all but first\n"
     ]
    },
    {
     "name": "stderr",
     "output_type": "stream",
     "text": [
      "2018-03-04 11:00:57,738 : WARNING : duplicate word '9' in /Users/orprager/PycharmProjects/ml/samples/movies_reviews_sentiment_analysis/300features_40minwords_10context, ignoring all but first\n"
     ]
    },
    {
     "name": "stderr",
     "output_type": "stream",
     "text": [
      "2018-03-04 11:00:57,739 : WARNING : duplicate word '' in /Users/orprager/PycharmProjects/ml/samples/movies_reviews_sentiment_analysis/300features_40minwords_10context, ignoring all but first\n"
     ]
    },
    {
     "name": "stderr",
     "output_type": "stream",
     "text": [
      "2018-03-04 11:00:57,742 : WARNING : duplicate word '8' in /Users/orprager/PycharmProjects/ml/samples/movies_reviews_sentiment_analysis/300features_40minwords_10context, ignoring all but first\n"
     ]
    },
    {
     "name": "stderr",
     "output_type": "stream",
     "text": [
      "2018-03-04 11:00:57,743 : WARNING : duplicate word '7' in /Users/orprager/PycharmProjects/ml/samples/movies_reviews_sentiment_analysis/300features_40minwords_10context, ignoring all but first\n"
     ]
    },
    {
     "name": "stderr",
     "output_type": "stream",
     "text": [
      "2018-03-04 11:00:57,747 : WARNING : duplicate word '36' in /Users/orprager/PycharmProjects/ml/samples/movies_reviews_sentiment_analysis/300features_40minwords_10context, ignoring all but first\n"
     ]
    },
    {
     "name": "stderr",
     "output_type": "stream",
     "text": [
      "2018-03-04 11:00:57,749 : WARNING : duplicate word '' in /Users/orprager/PycharmProjects/ml/samples/movies_reviews_sentiment_analysis/300features_40minwords_10context, ignoring all but first\n"
     ]
    },
    {
     "name": "stderr",
     "output_type": "stream",
     "text": [
      "2018-03-04 11:00:57,753 : WARNING : duplicate word '25' in /Users/orprager/PycharmProjects/ml/samples/movies_reviews_sentiment_analysis/300features_40minwords_10context, ignoring all but first\n"
     ]
    },
    {
     "name": "stderr",
     "output_type": "stream",
     "text": [
      "2018-03-04 11:00:57,757 : WARNING : duplicate word '3' in /Users/orprager/PycharmProjects/ml/samples/movies_reviews_sentiment_analysis/300features_40minwords_10context, ignoring all but first\n"
     ]
    },
    {
     "name": "stderr",
     "output_type": "stream",
     "text": [
      "2018-03-04 11:00:57,759 : WARNING : duplicate word '545' in /Users/orprager/PycharmProjects/ml/samples/movies_reviews_sentiment_analysis/300features_40minwords_10context, ignoring all but first\n"
     ]
    },
    {
     "name": "stderr",
     "output_type": "stream",
     "text": [
      "2018-03-04 11:00:57,761 : WARNING : duplicate word '16' in /Users/orprager/PycharmProjects/ml/samples/movies_reviews_sentiment_analysis/300features_40minwords_10context, ignoring all but first\n"
     ]
    },
    {
     "name": "stderr",
     "output_type": "stream",
     "text": [
      "2018-03-04 11:00:57,763 : WARNING : duplicate word '5' in /Users/orprager/PycharmProjects/ml/samples/movies_reviews_sentiment_analysis/300features_40minwords_10context, ignoring all but first\n"
     ]
    },
    {
     "name": "stderr",
     "output_type": "stream",
     "text": [
      "2018-03-04 11:00:57,764 : WARNING : duplicate word '06' in /Users/orprager/PycharmProjects/ml/samples/movies_reviews_sentiment_analysis/300features_40minwords_10context, ignoring all but first\n"
     ]
    },
    {
     "name": "stderr",
     "output_type": "stream",
     "text": [
      "2018-03-04 11:00:57,766 : WARNING : duplicate word '15' in /Users/orprager/PycharmProjects/ml/samples/movies_reviews_sentiment_analysis/300features_40minwords_10context, ignoring all but first\n"
     ]
    },
    {
     "name": "stderr",
     "output_type": "stream",
     "text": [
      "2018-03-04 11:00:57,767 : WARNING : duplicate word '09' in /Users/orprager/PycharmProjects/ml/samples/movies_reviews_sentiment_analysis/300features_40minwords_10context, ignoring all but first\n"
     ]
    },
    {
     "name": "stderr",
     "output_type": "stream",
     "text": [
      "2018-03-04 11:00:57,770 : WARNING : duplicate word '28' in /Users/orprager/PycharmProjects/ml/samples/movies_reviews_sentiment_analysis/300features_40minwords_10context, ignoring all but first\n"
     ]
    },
    {
     "name": "stderr",
     "output_type": "stream",
     "text": [
      "2018-03-04 11:00:57,771 : WARNING : duplicate word '46' in /Users/orprager/PycharmProjects/ml/samples/movies_reviews_sentiment_analysis/300features_40minwords_10context, ignoring all but first\n"
     ]
    },
    {
     "name": "stderr",
     "output_type": "stream",
     "text": [
      "2018-03-04 11:00:57,773 : WARNING : duplicate word '9' in /Users/orprager/PycharmProjects/ml/samples/movies_reviews_sentiment_analysis/300features_40minwords_10context, ignoring all but first\n"
     ]
    },
    {
     "name": "stderr",
     "output_type": "stream",
     "text": [
      "2018-03-04 11:00:57,775 : WARNING : duplicate word '12' in /Users/orprager/PycharmProjects/ml/samples/movies_reviews_sentiment_analysis/300features_40minwords_10context, ignoring all but first\n"
     ]
    },
    {
     "name": "stderr",
     "output_type": "stream",
     "text": [
      "2018-03-04 11:00:57,776 : WARNING : duplicate word '' in /Users/orprager/PycharmProjects/ml/samples/movies_reviews_sentiment_analysis/300features_40minwords_10context, ignoring all but first\n"
     ]
    },
    {
     "name": "stderr",
     "output_type": "stream",
     "text": [
      "2018-03-04 11:00:57,780 : WARNING : duplicate word '7' in /Users/orprager/PycharmProjects/ml/samples/movies_reviews_sentiment_analysis/300features_40minwords_10context, ignoring all but first\n"
     ]
    },
    {
     "name": "stderr",
     "output_type": "stream",
     "text": [
      "2018-03-04 11:00:57,782 : WARNING : duplicate word '26' in /Users/orprager/PycharmProjects/ml/samples/movies_reviews_sentiment_analysis/300features_40minwords_10context, ignoring all but first\n"
     ]
    },
    {
     "name": "stderr",
     "output_type": "stream",
     "text": [
      "2018-03-04 11:00:57,783 : WARNING : duplicate word '7' in /Users/orprager/PycharmProjects/ml/samples/movies_reviews_sentiment_analysis/300features_40minwords_10context, ignoring all but first\n"
     ]
    },
    {
     "name": "stderr",
     "output_type": "stream",
     "text": [
      "2018-03-04 11:00:57,785 : WARNING : duplicate word '' in /Users/orprager/PycharmProjects/ml/samples/movies_reviews_sentiment_analysis/300features_40minwords_10context, ignoring all but first\n"
     ]
    },
    {
     "name": "stderr",
     "output_type": "stream",
     "text": [
      "2018-03-04 11:00:57,786 : WARNING : duplicate word '45' in /Users/orprager/PycharmProjects/ml/samples/movies_reviews_sentiment_analysis/300features_40minwords_10context, ignoring all but first\n"
     ]
    },
    {
     "name": "stderr",
     "output_type": "stream",
     "text": [
      "2018-03-04 11:00:57,788 : WARNING : duplicate word '1' in /Users/orprager/PycharmProjects/ml/samples/movies_reviews_sentiment_analysis/300features_40minwords_10context, ignoring all but first\n"
     ]
    },
    {
     "name": "stderr",
     "output_type": "stream",
     "text": [
      "2018-03-04 11:00:57,789 : WARNING : duplicate word '2' in /Users/orprager/PycharmProjects/ml/samples/movies_reviews_sentiment_analysis/300features_40minwords_10context, ignoring all but first\n"
     ]
    },
    {
     "name": "stderr",
     "output_type": "stream",
     "text": [
      "2018-03-04 11:00:57,791 : WARNING : duplicate word '' in /Users/orprager/PycharmProjects/ml/samples/movies_reviews_sentiment_analysis/300features_40minwords_10context, ignoring all but first\n"
     ]
    },
    {
     "name": "stderr",
     "output_type": "stream",
     "text": [
      "2018-03-04 11:00:57,793 : WARNING : duplicate word '1' in /Users/orprager/PycharmProjects/ml/samples/movies_reviews_sentiment_analysis/300features_40minwords_10context, ignoring all but first\n"
     ]
    },
    {
     "name": "stderr",
     "output_type": "stream",
     "text": [
      "2018-03-04 11:00:57,795 : WARNING : duplicate word '9' in /Users/orprager/PycharmProjects/ml/samples/movies_reviews_sentiment_analysis/300features_40minwords_10context, ignoring all but first\n"
     ]
    },
    {
     "name": "stderr",
     "output_type": "stream",
     "text": [
      "2018-03-04 11:00:57,796 : WARNING : duplicate word '37' in /Users/orprager/PycharmProjects/ml/samples/movies_reviews_sentiment_analysis/300features_40minwords_10context, ignoring all but first\n"
     ]
    },
    {
     "name": "stderr",
     "output_type": "stream",
     "text": [
      "2018-03-04 11:00:57,797 : WARNING : duplicate word '5' in /Users/orprager/PycharmProjects/ml/samples/movies_reviews_sentiment_analysis/300features_40minwords_10context, ignoring all but first\n"
     ]
    },
    {
     "name": "stderr",
     "output_type": "stream",
     "text": [
      "2018-03-04 11:00:57,800 : WARNING : duplicate word '46' in /Users/orprager/PycharmProjects/ml/samples/movies_reviews_sentiment_analysis/300features_40minwords_10context, ignoring all but first\n"
     ]
    },
    {
     "name": "stderr",
     "output_type": "stream",
     "text": [
      "2018-03-04 11:00:57,803 : WARNING : duplicate word '6' in /Users/orprager/PycharmProjects/ml/samples/movies_reviews_sentiment_analysis/300features_40minwords_10context, ignoring all but first\n"
     ]
    },
    {
     "name": "stderr",
     "output_type": "stream",
     "text": [
      "2018-03-04 11:00:57,804 : WARNING : duplicate word '6' in /Users/orprager/PycharmProjects/ml/samples/movies_reviews_sentiment_analysis/300features_40minwords_10context, ignoring all but first\n"
     ]
    },
    {
     "name": "stderr",
     "output_type": "stream",
     "text": [
      "2018-03-04 11:00:57,806 : WARNING : duplicate word '64' in /Users/orprager/PycharmProjects/ml/samples/movies_reviews_sentiment_analysis/300features_40minwords_10context, ignoring all but first\n"
     ]
    },
    {
     "name": "stderr",
     "output_type": "stream",
     "text": [
      "2018-03-04 11:00:57,808 : WARNING : duplicate word '' in /Users/orprager/PycharmProjects/ml/samples/movies_reviews_sentiment_analysis/300features_40minwords_10context, ignoring all but first\n"
     ]
    },
    {
     "name": "stderr",
     "output_type": "stream",
     "text": [
      "2018-03-04 11:00:57,809 : WARNING : duplicate word '' in /Users/orprager/PycharmProjects/ml/samples/movies_reviews_sentiment_analysis/300features_40minwords_10context, ignoring all but first\n"
     ]
    },
    {
     "name": "stderr",
     "output_type": "stream",
     "text": [
      "2018-03-04 11:00:57,813 : WARNING : duplicate word '' in /Users/orprager/PycharmProjects/ml/samples/movies_reviews_sentiment_analysis/300features_40minwords_10context, ignoring all but first\n"
     ]
    },
    {
     "name": "stderr",
     "output_type": "stream",
     "text": [
      "2018-03-04 11:00:57,816 : WARNING : duplicate word '8' in /Users/orprager/PycharmProjects/ml/samples/movies_reviews_sentiment_analysis/300features_40minwords_10context, ignoring all but first\n"
     ]
    },
    {
     "name": "stderr",
     "output_type": "stream",
     "text": [
      "2018-03-04 11:00:57,817 : WARNING : duplicate word '33' in /Users/orprager/PycharmProjects/ml/samples/movies_reviews_sentiment_analysis/300features_40minwords_10context, ignoring all but first\n"
     ]
    },
    {
     "name": "stderr",
     "output_type": "stream",
     "text": [
      "2018-03-04 11:00:57,819 : WARNING : duplicate word '5' in /Users/orprager/PycharmProjects/ml/samples/movies_reviews_sentiment_analysis/300features_40minwords_10context, ignoring all but first\n"
     ]
    },
    {
     "name": "stderr",
     "output_type": "stream",
     "text": [
      "2018-03-04 11:00:57,820 : WARNING : duplicate word '' in /Users/orprager/PycharmProjects/ml/samples/movies_reviews_sentiment_analysis/300features_40minwords_10context, ignoring all but first\n"
     ]
    },
    {
     "name": "stderr",
     "output_type": "stream",
     "text": [
      "2018-03-04 11:00:57,828 : WARNING : duplicate word '71' in /Users/orprager/PycharmProjects/ml/samples/movies_reviews_sentiment_analysis/300features_40minwords_10context, ignoring all but first\n"
     ]
    },
    {
     "name": "stderr",
     "output_type": "stream",
     "text": [
      "2018-03-04 11:00:57,830 : WARNING : duplicate word '9' in /Users/orprager/PycharmProjects/ml/samples/movies_reviews_sentiment_analysis/300features_40minwords_10context, ignoring all but first\n"
     ]
    },
    {
     "name": "stderr",
     "output_type": "stream",
     "text": [
      "2018-03-04 11:00:57,832 : WARNING : duplicate word '294' in /Users/orprager/PycharmProjects/ml/samples/movies_reviews_sentiment_analysis/300features_40minwords_10context, ignoring all but first\n"
     ]
    },
    {
     "name": "stderr",
     "output_type": "stream",
     "text": [
      "2018-03-04 11:00:57,834 : WARNING : duplicate word '6' in /Users/orprager/PycharmProjects/ml/samples/movies_reviews_sentiment_analysis/300features_40minwords_10context, ignoring all but first\n"
     ]
    },
    {
     "name": "stderr",
     "output_type": "stream",
     "text": [
      "2018-03-04 11:00:57,835 : WARNING : duplicate word '7' in /Users/orprager/PycharmProjects/ml/samples/movies_reviews_sentiment_analysis/300features_40minwords_10context, ignoring all but first\n"
     ]
    },
    {
     "name": "stderr",
     "output_type": "stream",
     "text": [
      "2018-03-04 11:00:57,837 : WARNING : duplicate word '56' in /Users/orprager/PycharmProjects/ml/samples/movies_reviews_sentiment_analysis/300features_40minwords_10context, ignoring all but first\n"
     ]
    },
    {
     "name": "stderr",
     "output_type": "stream",
     "text": [
      "2018-03-04 11:00:57,839 : WARNING : duplicate word '7146' in /Users/orprager/PycharmProjects/ml/samples/movies_reviews_sentiment_analysis/300features_40minwords_10context, ignoring all but first\n"
     ]
    },
    {
     "name": "stderr",
     "output_type": "stream",
     "text": [
      "2018-03-04 11:00:57,842 : WARNING : duplicate word '' in /Users/orprager/PycharmProjects/ml/samples/movies_reviews_sentiment_analysis/300features_40minwords_10context, ignoring all but first\n"
     ]
    },
    {
     "name": "stderr",
     "output_type": "stream",
     "text": [
      "2018-03-04 11:00:57,845 : WARNING : duplicate word '5' in /Users/orprager/PycharmProjects/ml/samples/movies_reviews_sentiment_analysis/300features_40minwords_10context, ignoring all but first\n"
     ]
    },
    {
     "name": "stderr",
     "output_type": "stream",
     "text": [
      "2018-03-04 11:00:57,847 : WARNING : duplicate word '724' in /Users/orprager/PycharmProjects/ml/samples/movies_reviews_sentiment_analysis/300features_40minwords_10context, ignoring all but first\n"
     ]
    },
    {
     "name": "stderr",
     "output_type": "stream",
     "text": [
      "2018-03-04 11:00:57,849 : WARNING : duplicate word '42' in /Users/orprager/PycharmProjects/ml/samples/movies_reviews_sentiment_analysis/300features_40minwords_10context, ignoring all but first\n"
     ]
    },
    {
     "name": "stderr",
     "output_type": "stream",
     "text": [
      "2018-03-04 11:00:57,853 : WARNING : duplicate word '994' in /Users/orprager/PycharmProjects/ml/samples/movies_reviews_sentiment_analysis/300features_40minwords_10context, ignoring all but first\n"
     ]
    },
    {
     "name": "stderr",
     "output_type": "stream",
     "text": [
      "2018-03-04 11:00:57,855 : WARNING : duplicate word '59' in /Users/orprager/PycharmProjects/ml/samples/movies_reviews_sentiment_analysis/300features_40minwords_10context, ignoring all but first\n"
     ]
    },
    {
     "name": "stderr",
     "output_type": "stream",
     "text": [
      "2018-03-04 11:00:57,857 : WARNING : duplicate word '33' in /Users/orprager/PycharmProjects/ml/samples/movies_reviews_sentiment_analysis/300features_40minwords_10context, ignoring all but first\n"
     ]
    },
    {
     "name": "stderr",
     "output_type": "stream",
     "text": [
      "2018-03-04 11:00:57,860 : WARNING : duplicate word '54' in /Users/orprager/PycharmProjects/ml/samples/movies_reviews_sentiment_analysis/300features_40minwords_10context, ignoring all but first\n"
     ]
    },
    {
     "name": "stderr",
     "output_type": "stream",
     "text": [
      "2018-03-04 11:00:57,861 : WARNING : duplicate word '' in /Users/orprager/PycharmProjects/ml/samples/movies_reviews_sentiment_analysis/300features_40minwords_10context, ignoring all but first\n"
     ]
    },
    {
     "name": "stderr",
     "output_type": "stream",
     "text": [
      "2018-03-04 11:00:57,863 : WARNING : duplicate word '4' in /Users/orprager/PycharmProjects/ml/samples/movies_reviews_sentiment_analysis/300features_40minwords_10context, ignoring all but first\n"
     ]
    },
    {
     "name": "stderr",
     "output_type": "stream",
     "text": [
      "2018-03-04 11:00:57,864 : WARNING : duplicate word '822' in /Users/orprager/PycharmProjects/ml/samples/movies_reviews_sentiment_analysis/300features_40minwords_10context, ignoring all but first\n"
     ]
    },
    {
     "name": "stderr",
     "output_type": "stream",
     "text": [
      "2018-03-04 11:00:57,866 : WARNING : duplicate word '75' in /Users/orprager/PycharmProjects/ml/samples/movies_reviews_sentiment_analysis/300features_40minwords_10context, ignoring all but first\n"
     ]
    },
    {
     "name": "stderr",
     "output_type": "stream",
     "text": [
      "2018-03-04 11:00:57,868 : WARNING : duplicate word '1' in /Users/orprager/PycharmProjects/ml/samples/movies_reviews_sentiment_analysis/300features_40minwords_10context, ignoring all but first\n"
     ]
    },
    {
     "name": "stderr",
     "output_type": "stream",
     "text": [
      "2018-03-04 11:00:57,869 : WARNING : duplicate word '' in /Users/orprager/PycharmProjects/ml/samples/movies_reviews_sentiment_analysis/300features_40minwords_10context, ignoring all but first\n"
     ]
    },
    {
     "name": "stderr",
     "output_type": "stream",
     "text": [
      "2018-03-04 11:00:57,874 : WARNING : duplicate word '63' in /Users/orprager/PycharmProjects/ml/samples/movies_reviews_sentiment_analysis/300features_40minwords_10context, ignoring all but first\n"
     ]
    },
    {
     "name": "stderr",
     "output_type": "stream",
     "text": [
      "2018-03-04 11:00:57,876 : WARNING : duplicate word '34' in /Users/orprager/PycharmProjects/ml/samples/movies_reviews_sentiment_analysis/300features_40minwords_10context, ignoring all but first\n"
     ]
    },
    {
     "name": "stderr",
     "output_type": "stream",
     "text": [
      "2018-03-04 11:00:57,880 : WARNING : duplicate word '5' in /Users/orprager/PycharmProjects/ml/samples/movies_reviews_sentiment_analysis/300features_40minwords_10context, ignoring all but first\n"
     ]
    },
    {
     "name": "stderr",
     "output_type": "stream",
     "text": [
      "2018-03-04 11:00:57,882 : WARNING : duplicate word '' in /Users/orprager/PycharmProjects/ml/samples/movies_reviews_sentiment_analysis/300features_40minwords_10context, ignoring all but first\n"
     ]
    },
    {
     "name": "stderr",
     "output_type": "stream",
     "text": [
      "2018-03-04 11:00:57,884 : WARNING : duplicate word '32' in /Users/orprager/PycharmProjects/ml/samples/movies_reviews_sentiment_analysis/300features_40minwords_10context, ignoring all but first\n"
     ]
    },
    {
     "name": "stderr",
     "output_type": "stream",
     "text": [
      "2018-03-04 11:00:57,886 : WARNING : duplicate word '3' in /Users/orprager/PycharmProjects/ml/samples/movies_reviews_sentiment_analysis/300features_40minwords_10context, ignoring all but first\n"
     ]
    },
    {
     "name": "stderr",
     "output_type": "stream",
     "text": [
      "2018-03-04 11:00:57,889 : WARNING : duplicate word '7' in /Users/orprager/PycharmProjects/ml/samples/movies_reviews_sentiment_analysis/300features_40minwords_10context, ignoring all but first\n"
     ]
    },
    {
     "name": "stderr",
     "output_type": "stream",
     "text": [
      "2018-03-04 11:00:57,891 : WARNING : duplicate word '4' in /Users/orprager/PycharmProjects/ml/samples/movies_reviews_sentiment_analysis/300features_40minwords_10context, ignoring all but first\n"
     ]
    },
    {
     "name": "stderr",
     "output_type": "stream",
     "text": [
      "2018-03-04 11:00:57,894 : WARNING : duplicate word '6' in /Users/orprager/PycharmProjects/ml/samples/movies_reviews_sentiment_analysis/300features_40minwords_10context, ignoring all but first\n"
     ]
    },
    {
     "name": "stderr",
     "output_type": "stream",
     "text": [
      "2018-03-04 11:00:57,896 : WARNING : duplicate word '188' in /Users/orprager/PycharmProjects/ml/samples/movies_reviews_sentiment_analysis/300features_40minwords_10context, ignoring all but first\n"
     ]
    },
    {
     "name": "stderr",
     "output_type": "stream",
     "text": [
      "2018-03-04 11:00:57,898 : WARNING : duplicate word '69' in /Users/orprager/PycharmProjects/ml/samples/movies_reviews_sentiment_analysis/300features_40minwords_10context, ignoring all but first\n"
     ]
    },
    {
     "name": "stderr",
     "output_type": "stream",
     "text": [
      "2018-03-04 11:00:57,901 : WARNING : duplicate word '163' in /Users/orprager/PycharmProjects/ml/samples/movies_reviews_sentiment_analysis/300features_40minwords_10context, ignoring all but first\n"
     ]
    },
    {
     "name": "stderr",
     "output_type": "stream",
     "text": [
      "2018-03-04 11:00:57,903 : WARNING : duplicate word '' in /Users/orprager/PycharmProjects/ml/samples/movies_reviews_sentiment_analysis/300features_40minwords_10context, ignoring all but first\n"
     ]
    },
    {
     "name": "stderr",
     "output_type": "stream",
     "text": [
      "2018-03-04 11:00:57,904 : WARNING : duplicate word '3' in /Users/orprager/PycharmProjects/ml/samples/movies_reviews_sentiment_analysis/300features_40minwords_10context, ignoring all but first\n"
     ]
    },
    {
     "name": "stderr",
     "output_type": "stream",
     "text": [
      "2018-03-04 11:00:57,906 : WARNING : duplicate word '' in /Users/orprager/PycharmProjects/ml/samples/movies_reviews_sentiment_analysis/300features_40minwords_10context, ignoring all but first\n"
     ]
    },
    {
     "name": "stderr",
     "output_type": "stream",
     "text": [
      "2018-03-04 11:00:57,908 : WARNING : duplicate word '78' in /Users/orprager/PycharmProjects/ml/samples/movies_reviews_sentiment_analysis/300features_40minwords_10context, ignoring all but first\n"
     ]
    },
    {
     "name": "stderr",
     "output_type": "stream",
     "text": [
      "2018-03-04 11:00:57,910 : WARNING : duplicate word '' in /Users/orprager/PycharmProjects/ml/samples/movies_reviews_sentiment_analysis/300features_40minwords_10context, ignoring all but first\n"
     ]
    },
    {
     "name": "stderr",
     "output_type": "stream",
     "text": [
      "2018-03-04 11:00:57,913 : WARNING : duplicate word '86' in /Users/orprager/PycharmProjects/ml/samples/movies_reviews_sentiment_analysis/300features_40minwords_10context, ignoring all but first\n"
     ]
    },
    {
     "name": "stderr",
     "output_type": "stream",
     "text": [
      "2018-03-04 11:00:57,915 : WARNING : duplicate word '' in /Users/orprager/PycharmProjects/ml/samples/movies_reviews_sentiment_analysis/300features_40minwords_10context, ignoring all but first\n"
     ]
    },
    {
     "name": "stderr",
     "output_type": "stream",
     "text": [
      "2018-03-04 11:00:57,918 : WARNING : duplicate word '208' in /Users/orprager/PycharmProjects/ml/samples/movies_reviews_sentiment_analysis/300features_40minwords_10context, ignoring all but first\n"
     ]
    },
    {
     "name": "stderr",
     "output_type": "stream",
     "text": [
      "2018-03-04 11:00:57,920 : WARNING : duplicate word '86' in /Users/orprager/PycharmProjects/ml/samples/movies_reviews_sentiment_analysis/300features_40minwords_10context, ignoring all but first\n"
     ]
    },
    {
     "name": "stderr",
     "output_type": "stream",
     "text": [
      "2018-03-04 11:00:57,921 : WARNING : duplicate word '' in /Users/orprager/PycharmProjects/ml/samples/movies_reviews_sentiment_analysis/300features_40minwords_10context, ignoring all but first\n"
     ]
    },
    {
     "name": "stderr",
     "output_type": "stream",
     "text": [
      "2018-03-04 11:00:57,923 : WARNING : duplicate word '12' in /Users/orprager/PycharmProjects/ml/samples/movies_reviews_sentiment_analysis/300features_40minwords_10context, ignoring all but first\n"
     ]
    },
    {
     "name": "stderr",
     "output_type": "stream",
     "text": [
      "2018-03-04 11:00:57,924 : WARNING : duplicate word '' in /Users/orprager/PycharmProjects/ml/samples/movies_reviews_sentiment_analysis/300features_40minwords_10context, ignoring all but first\n"
     ]
    },
    {
     "name": "stderr",
     "output_type": "stream",
     "text": [
      "2018-03-04 11:00:57,926 : WARNING : duplicate word '6' in /Users/orprager/PycharmProjects/ml/samples/movies_reviews_sentiment_analysis/300features_40minwords_10context, ignoring all but first\n"
     ]
    },
    {
     "name": "stderr",
     "output_type": "stream",
     "text": [
      "2018-03-04 11:00:57,928 : WARNING : duplicate word '18' in /Users/orprager/PycharmProjects/ml/samples/movies_reviews_sentiment_analysis/300features_40minwords_10context, ignoring all but first\n"
     ]
    },
    {
     "name": "stderr",
     "output_type": "stream",
     "text": [
      "2018-03-04 11:00:57,929 : WARNING : duplicate word '6' in /Users/orprager/PycharmProjects/ml/samples/movies_reviews_sentiment_analysis/300features_40minwords_10context, ignoring all but first\n"
     ]
    },
    {
     "name": "stderr",
     "output_type": "stream",
     "text": [
      "2018-03-04 11:00:57,931 : WARNING : duplicate word '' in /Users/orprager/PycharmProjects/ml/samples/movies_reviews_sentiment_analysis/300features_40minwords_10context, ignoring all but first\n"
     ]
    },
    {
     "name": "stderr",
     "output_type": "stream",
     "text": [
      "2018-03-04 11:00:57,935 : WARNING : duplicate word '6' in /Users/orprager/PycharmProjects/ml/samples/movies_reviews_sentiment_analysis/300features_40minwords_10context, ignoring all but first\n"
     ]
    },
    {
     "name": "stderr",
     "output_type": "stream",
     "text": [
      "2018-03-04 11:00:57,938 : WARNING : duplicate word '465' in /Users/orprager/PycharmProjects/ml/samples/movies_reviews_sentiment_analysis/300features_40minwords_10context, ignoring all but first\n"
     ]
    },
    {
     "name": "stderr",
     "output_type": "stream",
     "text": [
      "2018-03-04 11:00:57,940 : WARNING : duplicate word '8' in /Users/orprager/PycharmProjects/ml/samples/movies_reviews_sentiment_analysis/300features_40minwords_10context, ignoring all but first\n"
     ]
    },
    {
     "name": "stderr",
     "output_type": "stream",
     "text": [
      "2018-03-04 11:00:57,942 : WARNING : duplicate word '97' in /Users/orprager/PycharmProjects/ml/samples/movies_reviews_sentiment_analysis/300features_40minwords_10context, ignoring all but first\n"
     ]
    },
    {
     "name": "stderr",
     "output_type": "stream",
     "text": [
      "2018-03-04 11:00:57,943 : WARNING : duplicate word '0552' in /Users/orprager/PycharmProjects/ml/samples/movies_reviews_sentiment_analysis/300features_40minwords_10context, ignoring all but first\n"
     ]
    },
    {
     "name": "stderr",
     "output_type": "stream",
     "text": [
      "2018-03-04 11:00:57,945 : WARNING : duplicate word '826' in /Users/orprager/PycharmProjects/ml/samples/movies_reviews_sentiment_analysis/300features_40minwords_10context, ignoring all but first\n"
     ]
    },
    {
     "name": "stderr",
     "output_type": "stream",
     "text": [
      "2018-03-04 11:00:57,946 : WARNING : duplicate word '195' in /Users/orprager/PycharmProjects/ml/samples/movies_reviews_sentiment_analysis/300features_40minwords_10context, ignoring all but first\n"
     ]
    },
    {
     "name": "stderr",
     "output_type": "stream",
     "text": [
      "2018-03-04 11:00:57,948 : WARNING : duplicate word '17' in /Users/orprager/PycharmProjects/ml/samples/movies_reviews_sentiment_analysis/300features_40minwords_10context, ignoring all but first\n"
     ]
    },
    {
     "name": "stderr",
     "output_type": "stream",
     "text": [
      "2018-03-04 11:00:57,949 : WARNING : duplicate word '77' in /Users/orprager/PycharmProjects/ml/samples/movies_reviews_sentiment_analysis/300features_40minwords_10context, ignoring all but first\n"
     ]
    },
    {
     "name": "stderr",
     "output_type": "stream",
     "text": [
      "2018-03-04 11:00:57,952 : WARNING : duplicate word '4' in /Users/orprager/PycharmProjects/ml/samples/movies_reviews_sentiment_analysis/300features_40minwords_10context, ignoring all but first\n"
     ]
    },
    {
     "name": "stderr",
     "output_type": "stream",
     "text": [
      "2018-03-04 11:00:57,954 : WARNING : duplicate word '374' in /Users/orprager/PycharmProjects/ml/samples/movies_reviews_sentiment_analysis/300features_40minwords_10context, ignoring all but first\n"
     ]
    },
    {
     "name": "stderr",
     "output_type": "stream",
     "text": [
      "2018-03-04 11:00:57,957 : WARNING : duplicate word '' in /Users/orprager/PycharmProjects/ml/samples/movies_reviews_sentiment_analysis/300features_40minwords_10context, ignoring all but first\n"
     ]
    },
    {
     "name": "stderr",
     "output_type": "stream",
     "text": [
      "2018-03-04 11:00:57,959 : WARNING : duplicate word '' in /Users/orprager/PycharmProjects/ml/samples/movies_reviews_sentiment_analysis/300features_40minwords_10context, ignoring all but first\n"
     ]
    },
    {
     "name": "stderr",
     "output_type": "stream",
     "text": [
      "2018-03-04 11:00:57,962 : WARNING : duplicate word '44' in /Users/orprager/PycharmProjects/ml/samples/movies_reviews_sentiment_analysis/300features_40minwords_10context, ignoring all but first\n"
     ]
    },
    {
     "name": "stderr",
     "output_type": "stream",
     "text": [
      "2018-03-04 11:00:57,964 : WARNING : duplicate word '01' in /Users/orprager/PycharmProjects/ml/samples/movies_reviews_sentiment_analysis/300features_40minwords_10context, ignoring all but first\n"
     ]
    },
    {
     "name": "stderr",
     "output_type": "stream",
     "text": [
      "2018-03-04 11:00:57,966 : WARNING : duplicate word '' in /Users/orprager/PycharmProjects/ml/samples/movies_reviews_sentiment_analysis/300features_40minwords_10context, ignoring all but first\n"
     ]
    },
    {
     "name": "stderr",
     "output_type": "stream",
     "text": [
      "2018-03-04 11:00:57,967 : WARNING : duplicate word '' in /Users/orprager/PycharmProjects/ml/samples/movies_reviews_sentiment_analysis/300features_40minwords_10context, ignoring all but first\n"
     ]
    },
    {
     "name": "stderr",
     "output_type": "stream",
     "text": [
      "2018-03-04 11:00:57,969 : WARNING : duplicate word '3' in /Users/orprager/PycharmProjects/ml/samples/movies_reviews_sentiment_analysis/300features_40minwords_10context, ignoring all but first\n"
     ]
    },
    {
     "name": "stderr",
     "output_type": "stream",
     "text": [
      "2018-03-04 11:00:57,971 : WARNING : duplicate word '6' in /Users/orprager/PycharmProjects/ml/samples/movies_reviews_sentiment_analysis/300features_40minwords_10context, ignoring all but first\n"
     ]
    },
    {
     "name": "stderr",
     "output_type": "stream",
     "text": [
      "2018-03-04 11:00:57,972 : WARNING : duplicate word '15' in /Users/orprager/PycharmProjects/ml/samples/movies_reviews_sentiment_analysis/300features_40minwords_10context, ignoring all but first\n"
     ]
    },
    {
     "name": "stderr",
     "output_type": "stream",
     "text": [
      "2018-03-04 11:00:57,974 : WARNING : duplicate word '43' in /Users/orprager/PycharmProjects/ml/samples/movies_reviews_sentiment_analysis/300features_40minwords_10context, ignoring all but first\n"
     ]
    },
    {
     "name": "stderr",
     "output_type": "stream",
     "text": [
      "2018-03-04 11:00:57,975 : WARNING : duplicate word '' in /Users/orprager/PycharmProjects/ml/samples/movies_reviews_sentiment_analysis/300features_40minwords_10context, ignoring all but first\n"
     ]
    },
    {
     "name": "stderr",
     "output_type": "stream",
     "text": [
      "2018-03-04 11:00:57,977 : WARNING : duplicate word '1' in /Users/orprager/PycharmProjects/ml/samples/movies_reviews_sentiment_analysis/300features_40minwords_10context, ignoring all but first\n"
     ]
    },
    {
     "name": "stderr",
     "output_type": "stream",
     "text": [
      "2018-03-04 11:00:57,981 : WARNING : duplicate word '' in /Users/orprager/PycharmProjects/ml/samples/movies_reviews_sentiment_analysis/300features_40minwords_10context, ignoring all but first\n"
     ]
    },
    {
     "name": "stderr",
     "output_type": "stream",
     "text": [
      "2018-03-04 11:00:57,983 : WARNING : duplicate word '6' in /Users/orprager/PycharmProjects/ml/samples/movies_reviews_sentiment_analysis/300features_40minwords_10context, ignoring all but first\n"
     ]
    },
    {
     "name": "stderr",
     "output_type": "stream",
     "text": [
      "2018-03-04 11:00:57,986 : WARNING : duplicate word '48' in /Users/orprager/PycharmProjects/ml/samples/movies_reviews_sentiment_analysis/300features_40minwords_10context, ignoring all but first\n"
     ]
    },
    {
     "name": "stderr",
     "output_type": "stream",
     "text": [
      "2018-03-04 11:00:57,987 : WARNING : duplicate word '' in /Users/orprager/PycharmProjects/ml/samples/movies_reviews_sentiment_analysis/300features_40minwords_10context, ignoring all but first\n"
     ]
    },
    {
     "name": "stderr",
     "output_type": "stream",
     "text": [
      "2018-03-04 11:00:57,991 : WARNING : duplicate word '' in /Users/orprager/PycharmProjects/ml/samples/movies_reviews_sentiment_analysis/300features_40minwords_10context, ignoring all but first\n"
     ]
    },
    {
     "name": "stderr",
     "output_type": "stream",
     "text": [
      "2018-03-04 11:00:57,992 : WARNING : duplicate word '68' in /Users/orprager/PycharmProjects/ml/samples/movies_reviews_sentiment_analysis/300features_40minwords_10context, ignoring all but first\n"
     ]
    },
    {
     "name": "stderr",
     "output_type": "stream",
     "text": [
      "2018-03-04 11:00:57,994 : WARNING : duplicate word '242' in /Users/orprager/PycharmProjects/ml/samples/movies_reviews_sentiment_analysis/300features_40minwords_10context, ignoring all but first\n"
     ]
    },
    {
     "name": "stderr",
     "output_type": "stream",
     "text": [
      "2018-03-04 11:00:57,995 : WARNING : duplicate word '' in /Users/orprager/PycharmProjects/ml/samples/movies_reviews_sentiment_analysis/300features_40minwords_10context, ignoring all but first\n"
     ]
    },
    {
     "name": "stderr",
     "output_type": "stream",
     "text": [
      "2018-03-04 11:00:57,997 : WARNING : duplicate word '15' in /Users/orprager/PycharmProjects/ml/samples/movies_reviews_sentiment_analysis/300features_40minwords_10context, ignoring all but first\n"
     ]
    },
    {
     "name": "stderr",
     "output_type": "stream",
     "text": [
      "2018-03-04 11:00:57,999 : WARNING : duplicate word '023' in /Users/orprager/PycharmProjects/ml/samples/movies_reviews_sentiment_analysis/300features_40minwords_10context, ignoring all but first\n"
     ]
    },
    {
     "name": "stderr",
     "output_type": "stream",
     "text": [
      "2018-03-04 11:00:58,001 : WARNING : duplicate word '2' in /Users/orprager/PycharmProjects/ml/samples/movies_reviews_sentiment_analysis/300features_40minwords_10context, ignoring all but first\n"
     ]
    },
    {
     "name": "stderr",
     "output_type": "stream",
     "text": [
      "2018-03-04 11:00:58,003 : WARNING : duplicate word '4' in /Users/orprager/PycharmProjects/ml/samples/movies_reviews_sentiment_analysis/300features_40minwords_10context, ignoring all but first\n"
     ]
    },
    {
     "name": "stderr",
     "output_type": "stream",
     "text": [
      "2018-03-04 11:00:58,004 : WARNING : duplicate word '93' in /Users/orprager/PycharmProjects/ml/samples/movies_reviews_sentiment_analysis/300features_40minwords_10context, ignoring all but first\n"
     ]
    },
    {
     "name": "stderr",
     "output_type": "stream",
     "text": [
      "2018-03-04 11:00:58,007 : WARNING : duplicate word '53' in /Users/orprager/PycharmProjects/ml/samples/movies_reviews_sentiment_analysis/300features_40minwords_10context, ignoring all but first\n"
     ]
    },
    {
     "name": "stderr",
     "output_type": "stream",
     "text": [
      "2018-03-04 11:00:58,009 : WARNING : duplicate word '' in /Users/orprager/PycharmProjects/ml/samples/movies_reviews_sentiment_analysis/300features_40minwords_10context, ignoring all but first\n"
     ]
    },
    {
     "name": "stderr",
     "output_type": "stream",
     "text": [
      "2018-03-04 11:00:58,013 : WARNING : duplicate word '04' in /Users/orprager/PycharmProjects/ml/samples/movies_reviews_sentiment_analysis/300features_40minwords_10context, ignoring all but first\n"
     ]
    },
    {
     "name": "stderr",
     "output_type": "stream",
     "text": [
      "2018-03-04 11:00:58,015 : WARNING : duplicate word '621' in /Users/orprager/PycharmProjects/ml/samples/movies_reviews_sentiment_analysis/300features_40minwords_10context, ignoring all but first\n"
     ]
    },
    {
     "name": "stderr",
     "output_type": "stream",
     "text": [
      "2018-03-04 11:00:58,016 : WARNING : duplicate word '6' in /Users/orprager/PycharmProjects/ml/samples/movies_reviews_sentiment_analysis/300features_40minwords_10context, ignoring all but first\n"
     ]
    },
    {
     "name": "stderr",
     "output_type": "stream",
     "text": [
      "2018-03-04 11:00:58,018 : WARNING : duplicate word '9' in /Users/orprager/PycharmProjects/ml/samples/movies_reviews_sentiment_analysis/300features_40minwords_10context, ignoring all but first\n"
     ]
    },
    {
     "name": "stderr",
     "output_type": "stream",
     "text": [
      "2018-03-04 11:00:58,020 : WARNING : duplicate word '854' in /Users/orprager/PycharmProjects/ml/samples/movies_reviews_sentiment_analysis/300features_40minwords_10context, ignoring all but first\n"
     ]
    },
    {
     "name": "stderr",
     "output_type": "stream",
     "text": [
      "2018-03-04 11:00:58,021 : WARNING : duplicate word '57' in /Users/orprager/PycharmProjects/ml/samples/movies_reviews_sentiment_analysis/300features_40minwords_10context, ignoring all but first\n"
     ]
    },
    {
     "name": "stderr",
     "output_type": "stream",
     "text": [
      "2018-03-04 11:00:58,023 : WARNING : duplicate word '02' in /Users/orprager/PycharmProjects/ml/samples/movies_reviews_sentiment_analysis/300features_40minwords_10context, ignoring all but first\n"
     ]
    },
    {
     "name": "stderr",
     "output_type": "stream",
     "text": [
      "2018-03-04 11:00:58,024 : WARNING : duplicate word '' in /Users/orprager/PycharmProjects/ml/samples/movies_reviews_sentiment_analysis/300features_40minwords_10context, ignoring all but first\n"
     ]
    },
    {
     "name": "stderr",
     "output_type": "stream",
     "text": [
      "2018-03-04 11:00:58,029 : WARNING : duplicate word '84' in /Users/orprager/PycharmProjects/ml/samples/movies_reviews_sentiment_analysis/300features_40minwords_10context, ignoring all but first\n"
     ]
    },
    {
     "name": "stderr",
     "output_type": "stream",
     "text": [
      "2018-03-04 11:00:58,031 : WARNING : duplicate word '' in /Users/orprager/PycharmProjects/ml/samples/movies_reviews_sentiment_analysis/300features_40minwords_10context, ignoring all but first\n"
     ]
    },
    {
     "name": "stderr",
     "output_type": "stream",
     "text": [
      "2018-03-04 11:00:58,032 : WARNING : duplicate word '' in /Users/orprager/PycharmProjects/ml/samples/movies_reviews_sentiment_analysis/300features_40minwords_10context, ignoring all but first\n"
     ]
    },
    {
     "name": "stderr",
     "output_type": "stream",
     "text": [
      "2018-03-04 11:00:58,034 : WARNING : duplicate word '' in /Users/orprager/PycharmProjects/ml/samples/movies_reviews_sentiment_analysis/300features_40minwords_10context, ignoring all but first\n"
     ]
    },
    {
     "name": "stderr",
     "output_type": "stream",
     "text": [
      "2018-03-04 11:00:58,036 : WARNING : duplicate word '365' in /Users/orprager/PycharmProjects/ml/samples/movies_reviews_sentiment_analysis/300features_40minwords_10context, ignoring all but first\n"
     ]
    },
    {
     "name": "stderr",
     "output_type": "stream",
     "text": [
      "2018-03-04 11:00:58,037 : WARNING : duplicate word '1' in /Users/orprager/PycharmProjects/ml/samples/movies_reviews_sentiment_analysis/300features_40minwords_10context, ignoring all but first\n"
     ]
    },
    {
     "name": "stderr",
     "output_type": "stream",
     "text": [
      "2018-03-04 11:00:58,039 : WARNING : duplicate word '7' in /Users/orprager/PycharmProjects/ml/samples/movies_reviews_sentiment_analysis/300features_40minwords_10context, ignoring all but first\n"
     ]
    },
    {
     "name": "stderr",
     "output_type": "stream",
     "text": [
      "2018-03-04 11:00:58,040 : WARNING : duplicate word '23' in /Users/orprager/PycharmProjects/ml/samples/movies_reviews_sentiment_analysis/300features_40minwords_10context, ignoring all but first\n"
     ]
    },
    {
     "name": "stderr",
     "output_type": "stream",
     "text": [
      "2018-03-04 11:00:58,042 : WARNING : duplicate word '' in /Users/orprager/PycharmProjects/ml/samples/movies_reviews_sentiment_analysis/300features_40minwords_10context, ignoring all but first\n"
     ]
    },
    {
     "name": "stderr",
     "output_type": "stream",
     "text": [
      "2018-03-04 11:00:58,044 : WARNING : duplicate word '' in /Users/orprager/PycharmProjects/ml/samples/movies_reviews_sentiment_analysis/300features_40minwords_10context, ignoring all but first\n"
     ]
    },
    {
     "name": "stderr",
     "output_type": "stream",
     "text": [
      "2018-03-04 11:00:58,045 : WARNING : duplicate word '67' in /Users/orprager/PycharmProjects/ml/samples/movies_reviews_sentiment_analysis/300features_40minwords_10context, ignoring all but first\n"
     ]
    },
    {
     "name": "stderr",
     "output_type": "stream",
     "text": [
      "2018-03-04 11:00:58,047 : WARNING : duplicate word '4' in /Users/orprager/PycharmProjects/ml/samples/movies_reviews_sentiment_analysis/300features_40minwords_10context, ignoring all but first\n"
     ]
    },
    {
     "name": "stderr",
     "output_type": "stream",
     "text": [
      "2018-03-04 11:00:58,050 : WARNING : duplicate word '1' in /Users/orprager/PycharmProjects/ml/samples/movies_reviews_sentiment_analysis/300features_40minwords_10context, ignoring all but first\n"
     ]
    },
    {
     "name": "stderr",
     "output_type": "stream",
     "text": [
      "2018-03-04 11:00:58,052 : WARNING : duplicate word '' in /Users/orprager/PycharmProjects/ml/samples/movies_reviews_sentiment_analysis/300features_40minwords_10context, ignoring all but first\n"
     ]
    },
    {
     "name": "stderr",
     "output_type": "stream",
     "text": [
      "2018-03-04 11:00:58,054 : WARNING : duplicate word '33' in /Users/orprager/PycharmProjects/ml/samples/movies_reviews_sentiment_analysis/300features_40minwords_10context, ignoring all but first\n"
     ]
    },
    {
     "name": "stderr",
     "output_type": "stream",
     "text": [
      "2018-03-04 11:00:58,057 : WARNING : duplicate word '' in /Users/orprager/PycharmProjects/ml/samples/movies_reviews_sentiment_analysis/300features_40minwords_10context, ignoring all but first\n"
     ]
    },
    {
     "name": "stderr",
     "output_type": "stream",
     "text": [
      "2018-03-04 11:00:58,059 : WARNING : duplicate word '25' in /Users/orprager/PycharmProjects/ml/samples/movies_reviews_sentiment_analysis/300features_40minwords_10context, ignoring all but first\n"
     ]
    },
    {
     "name": "stderr",
     "output_type": "stream",
     "text": [
      "2018-03-04 11:00:58,061 : WARNING : duplicate word '36' in /Users/orprager/PycharmProjects/ml/samples/movies_reviews_sentiment_analysis/300features_40minwords_10context, ignoring all but first\n"
     ]
    },
    {
     "name": "stderr",
     "output_type": "stream",
     "text": [
      "2018-03-04 11:00:58,062 : WARNING : duplicate word '7' in /Users/orprager/PycharmProjects/ml/samples/movies_reviews_sentiment_analysis/300features_40minwords_10context, ignoring all but first\n"
     ]
    },
    {
     "name": "stderr",
     "output_type": "stream",
     "text": [
      "2018-03-04 11:00:58,064 : WARNING : duplicate word '13' in /Users/orprager/PycharmProjects/ml/samples/movies_reviews_sentiment_analysis/300features_40minwords_10context, ignoring all but first\n"
     ]
    },
    {
     "name": "stderr",
     "output_type": "stream",
     "text": [
      "2018-03-04 11:00:58,067 : WARNING : duplicate word '8' in /Users/orprager/PycharmProjects/ml/samples/movies_reviews_sentiment_analysis/300features_40minwords_10context, ignoring all but first\n"
     ]
    },
    {
     "name": "stderr",
     "output_type": "stream",
     "text": [
      "2018-03-04 11:00:58,068 : WARNING : duplicate word '' in /Users/orprager/PycharmProjects/ml/samples/movies_reviews_sentiment_analysis/300features_40minwords_10context, ignoring all but first\n"
     ]
    },
    {
     "name": "stderr",
     "output_type": "stream",
     "text": [
      "2018-03-04 11:00:58,070 : WARNING : duplicate word '8' in /Users/orprager/PycharmProjects/ml/samples/movies_reviews_sentiment_analysis/300features_40minwords_10context, ignoring all but first\n"
     ]
    },
    {
     "name": "stderr",
     "output_type": "stream",
     "text": [
      "2018-03-04 11:00:58,073 : WARNING : duplicate word '' in /Users/orprager/PycharmProjects/ml/samples/movies_reviews_sentiment_analysis/300features_40minwords_10context, ignoring all but first\n"
     ]
    },
    {
     "name": "stderr",
     "output_type": "stream",
     "text": [
      "2018-03-04 11:00:58,074 : WARNING : duplicate word '026' in /Users/orprager/PycharmProjects/ml/samples/movies_reviews_sentiment_analysis/300features_40minwords_10context, ignoring all but first\n"
     ]
    },
    {
     "name": "stderr",
     "output_type": "stream",
     "text": [
      "2018-03-04 11:00:58,076 : WARNING : duplicate word '' in /Users/orprager/PycharmProjects/ml/samples/movies_reviews_sentiment_analysis/300features_40minwords_10context, ignoring all but first\n"
     ]
    },
    {
     "name": "stderr",
     "output_type": "stream",
     "text": [
      "2018-03-04 11:00:58,079 : WARNING : duplicate word '' in /Users/orprager/PycharmProjects/ml/samples/movies_reviews_sentiment_analysis/300features_40minwords_10context, ignoring all but first\n"
     ]
    },
    {
     "name": "stderr",
     "output_type": "stream",
     "text": [
      "2018-03-04 11:00:58,081 : WARNING : duplicate word '4' in /Users/orprager/PycharmProjects/ml/samples/movies_reviews_sentiment_analysis/300features_40minwords_10context, ignoring all but first\n"
     ]
    },
    {
     "name": "stderr",
     "output_type": "stream",
     "text": [
      "2018-03-04 11:00:58,083 : WARNING : duplicate word '' in /Users/orprager/PycharmProjects/ml/samples/movies_reviews_sentiment_analysis/300features_40minwords_10context, ignoring all but first\n"
     ]
    },
    {
     "name": "stderr",
     "output_type": "stream",
     "text": [
      "2018-03-04 11:00:58,084 : WARNING : duplicate word '1' in /Users/orprager/PycharmProjects/ml/samples/movies_reviews_sentiment_analysis/300features_40minwords_10context, ignoring all but first\n"
     ]
    },
    {
     "name": "stderr",
     "output_type": "stream",
     "text": [
      "2018-03-04 11:00:58,086 : WARNING : duplicate word '2' in /Users/orprager/PycharmProjects/ml/samples/movies_reviews_sentiment_analysis/300features_40minwords_10context, ignoring all but first\n"
     ]
    },
    {
     "name": "stderr",
     "output_type": "stream",
     "text": [
      "2018-03-04 11:00:58,090 : WARNING : duplicate word '' in /Users/orprager/PycharmProjects/ml/samples/movies_reviews_sentiment_analysis/300features_40minwords_10context, ignoring all but first\n"
     ]
    },
    {
     "name": "stderr",
     "output_type": "stream",
     "text": [
      "2018-03-04 11:00:58,092 : WARNING : duplicate word '' in /Users/orprager/PycharmProjects/ml/samples/movies_reviews_sentiment_analysis/300features_40minwords_10context, ignoring all but first\n"
     ]
    },
    {
     "name": "stderr",
     "output_type": "stream",
     "text": [
      "2018-03-04 11:00:58,095 : WARNING : duplicate word '' in /Users/orprager/PycharmProjects/ml/samples/movies_reviews_sentiment_analysis/300features_40minwords_10context, ignoring all but first\n"
     ]
    },
    {
     "name": "stderr",
     "output_type": "stream",
     "text": [
      "2018-03-04 11:00:58,097 : WARNING : duplicate word '5' in /Users/orprager/PycharmProjects/ml/samples/movies_reviews_sentiment_analysis/300features_40minwords_10context, ignoring all but first\n"
     ]
    },
    {
     "name": "stderr",
     "output_type": "stream",
     "text": [
      "2018-03-04 11:00:58,102 : WARNING : duplicate word '06' in /Users/orprager/PycharmProjects/ml/samples/movies_reviews_sentiment_analysis/300features_40minwords_10context, ignoring all but first\n"
     ]
    },
    {
     "name": "stderr",
     "output_type": "stream",
     "text": [
      "2018-03-04 11:00:58,104 : WARNING : duplicate word '94' in /Users/orprager/PycharmProjects/ml/samples/movies_reviews_sentiment_analysis/300features_40minwords_10context, ignoring all but first\n"
     ]
    },
    {
     "name": "stderr",
     "output_type": "stream",
     "text": [
      "2018-03-04 11:00:58,105 : WARNING : duplicate word '' in /Users/orprager/PycharmProjects/ml/samples/movies_reviews_sentiment_analysis/300features_40minwords_10context, ignoring all but first\n"
     ]
    },
    {
     "name": "stderr",
     "output_type": "stream",
     "text": [
      "2018-03-04 11:00:58,107 : WARNING : duplicate word '98' in /Users/orprager/PycharmProjects/ml/samples/movies_reviews_sentiment_analysis/300features_40minwords_10context, ignoring all but first\n"
     ]
    },
    {
     "name": "stderr",
     "output_type": "stream",
     "text": [
      "2018-03-04 11:00:58,109 : WARNING : duplicate word '87' in /Users/orprager/PycharmProjects/ml/samples/movies_reviews_sentiment_analysis/300features_40minwords_10context, ignoring all but first\n"
     ]
    },
    {
     "name": "stderr",
     "output_type": "stream",
     "text": [
      "2018-03-04 11:00:58,110 : WARNING : duplicate word '113' in /Users/orprager/PycharmProjects/ml/samples/movies_reviews_sentiment_analysis/300features_40minwords_10context, ignoring all but first\n"
     ]
    },
    {
     "name": "stderr",
     "output_type": "stream",
     "text": [
      "2018-03-04 11:00:58,113 : WARNING : duplicate word '' in /Users/orprager/PycharmProjects/ml/samples/movies_reviews_sentiment_analysis/300features_40minwords_10context, ignoring all but first\n"
     ]
    },
    {
     "name": "stderr",
     "output_type": "stream",
     "text": [
      "2018-03-04 11:00:58,114 : WARNING : duplicate word '6' in /Users/orprager/PycharmProjects/ml/samples/movies_reviews_sentiment_analysis/300features_40minwords_10context, ignoring all but first\n"
     ]
    },
    {
     "name": "stderr",
     "output_type": "stream",
     "text": [
      "2018-03-04 11:00:58,118 : WARNING : duplicate word '5' in /Users/orprager/PycharmProjects/ml/samples/movies_reviews_sentiment_analysis/300features_40minwords_10context, ignoring all but first\n"
     ]
    },
    {
     "name": "stderr",
     "output_type": "stream",
     "text": [
      "2018-03-04 11:00:58,120 : WARNING : duplicate word '4343' in /Users/orprager/PycharmProjects/ml/samples/movies_reviews_sentiment_analysis/300features_40minwords_10context, ignoring all but first\n"
     ]
    },
    {
     "name": "stderr",
     "output_type": "stream",
     "text": [
      "2018-03-04 11:00:58,122 : WARNING : duplicate word '75' in /Users/orprager/PycharmProjects/ml/samples/movies_reviews_sentiment_analysis/300features_40minwords_10context, ignoring all but first\n"
     ]
    },
    {
     "name": "stderr",
     "output_type": "stream",
     "text": [
      "2018-03-04 11:00:58,124 : WARNING : duplicate word '' in /Users/orprager/PycharmProjects/ml/samples/movies_reviews_sentiment_analysis/300features_40minwords_10context, ignoring all but first\n"
     ]
    },
    {
     "name": "stderr",
     "output_type": "stream",
     "text": [
      "2018-03-04 11:00:58,126 : WARNING : duplicate word '6' in /Users/orprager/PycharmProjects/ml/samples/movies_reviews_sentiment_analysis/300features_40minwords_10context, ignoring all but first\n"
     ]
    },
    {
     "name": "stderr",
     "output_type": "stream",
     "text": [
      "2018-03-04 11:00:58,127 : WARNING : duplicate word '086' in /Users/orprager/PycharmProjects/ml/samples/movies_reviews_sentiment_analysis/300features_40minwords_10context, ignoring all but first\n"
     ]
    },
    {
     "name": "stderr",
     "output_type": "stream",
     "text": [
      "2018-03-04 11:00:58,128 : WARNING : duplicate word '' in /Users/orprager/PycharmProjects/ml/samples/movies_reviews_sentiment_analysis/300features_40minwords_10context, ignoring all but first\n"
     ]
    },
    {
     "name": "stderr",
     "output_type": "stream",
     "text": [
      "2018-03-04 11:00:58,130 : WARNING : duplicate word '95' in /Users/orprager/PycharmProjects/ml/samples/movies_reviews_sentiment_analysis/300features_40minwords_10context, ignoring all but first\n"
     ]
    },
    {
     "name": "stderr",
     "output_type": "stream",
     "text": [
      "2018-03-04 11:00:58,131 : WARNING : duplicate word '01' in /Users/orprager/PycharmProjects/ml/samples/movies_reviews_sentiment_analysis/300features_40minwords_10context, ignoring all but first\n"
     ]
    },
    {
     "name": "stderr",
     "output_type": "stream",
     "text": [
      "2018-03-04 11:00:58,133 : WARNING : duplicate word '' in /Users/orprager/PycharmProjects/ml/samples/movies_reviews_sentiment_analysis/300features_40minwords_10context, ignoring all but first\n"
     ]
    },
    {
     "name": "stderr",
     "output_type": "stream",
     "text": [
      "2018-03-04 11:00:58,134 : WARNING : duplicate word '28' in /Users/orprager/PycharmProjects/ml/samples/movies_reviews_sentiment_analysis/300features_40minwords_10context, ignoring all but first\n"
     ]
    },
    {
     "name": "stderr",
     "output_type": "stream",
     "text": [
      "2018-03-04 11:00:58,136 : WARNING : duplicate word '5' in /Users/orprager/PycharmProjects/ml/samples/movies_reviews_sentiment_analysis/300features_40minwords_10context, ignoring all but first\n"
     ]
    },
    {
     "name": "stderr",
     "output_type": "stream",
     "text": [
      "2018-03-04 11:00:58,138 : WARNING : duplicate word '24' in /Users/orprager/PycharmProjects/ml/samples/movies_reviews_sentiment_analysis/300features_40minwords_10context, ignoring all but first\n"
     ]
    },
    {
     "name": "stderr",
     "output_type": "stream",
     "text": [
      "2018-03-04 11:00:58,140 : WARNING : duplicate word '407' in /Users/orprager/PycharmProjects/ml/samples/movies_reviews_sentiment_analysis/300features_40minwords_10context, ignoring all but first\n"
     ]
    },
    {
     "name": "stderr",
     "output_type": "stream",
     "text": [
      "2018-03-04 11:00:58,141 : WARNING : duplicate word '02' in /Users/orprager/PycharmProjects/ml/samples/movies_reviews_sentiment_analysis/300features_40minwords_10context, ignoring all but first\n"
     ]
    },
    {
     "name": "stderr",
     "output_type": "stream",
     "text": [
      "2018-03-04 11:00:58,143 : WARNING : duplicate word '4' in /Users/orprager/PycharmProjects/ml/samples/movies_reviews_sentiment_analysis/300features_40minwords_10context, ignoring all but first\n"
     ]
    },
    {
     "name": "stderr",
     "output_type": "stream",
     "text": [
      "2018-03-04 11:00:58,147 : WARNING : duplicate word '4' in /Users/orprager/PycharmProjects/ml/samples/movies_reviews_sentiment_analysis/300features_40minwords_10context, ignoring all but first\n"
     ]
    },
    {
     "name": "stderr",
     "output_type": "stream",
     "text": [
      "2018-03-04 11:00:58,148 : WARNING : duplicate word '5' in /Users/orprager/PycharmProjects/ml/samples/movies_reviews_sentiment_analysis/300features_40minwords_10context, ignoring all but first\n"
     ]
    },
    {
     "name": "stderr",
     "output_type": "stream",
     "text": [
      "2018-03-04 11:00:58,150 : WARNING : duplicate word '3' in /Users/orprager/PycharmProjects/ml/samples/movies_reviews_sentiment_analysis/300features_40minwords_10context, ignoring all but first\n"
     ]
    },
    {
     "name": "stderr",
     "output_type": "stream",
     "text": [
      "2018-03-04 11:00:58,152 : WARNING : duplicate word '56' in /Users/orprager/PycharmProjects/ml/samples/movies_reviews_sentiment_analysis/300features_40minwords_10context, ignoring all but first\n"
     ]
    },
    {
     "name": "stderr",
     "output_type": "stream",
     "text": [
      "2018-03-04 11:00:58,154 : WARNING : duplicate word '9' in /Users/orprager/PycharmProjects/ml/samples/movies_reviews_sentiment_analysis/300features_40minwords_10context, ignoring all but first\n"
     ]
    },
    {
     "name": "stderr",
     "output_type": "stream",
     "text": [
      "2018-03-04 11:00:58,156 : WARNING : duplicate word '' in /Users/orprager/PycharmProjects/ml/samples/movies_reviews_sentiment_analysis/300features_40minwords_10context, ignoring all but first\n"
     ]
    },
    {
     "name": "stderr",
     "output_type": "stream",
     "text": [
      "2018-03-04 11:00:58,157 : WARNING : duplicate word '' in /Users/orprager/PycharmProjects/ml/samples/movies_reviews_sentiment_analysis/300features_40minwords_10context, ignoring all but first\n"
     ]
    },
    {
     "name": "stderr",
     "output_type": "stream",
     "text": [
      "2018-03-04 11:00:58,159 : WARNING : duplicate word '09' in /Users/orprager/PycharmProjects/ml/samples/movies_reviews_sentiment_analysis/300features_40minwords_10context, ignoring all but first\n"
     ]
    },
    {
     "name": "stderr",
     "output_type": "stream",
     "text": [
      "2018-03-04 11:00:58,161 : WARNING : duplicate word '96' in /Users/orprager/PycharmProjects/ml/samples/movies_reviews_sentiment_analysis/300features_40minwords_10context, ignoring all but first\n"
     ]
    },
    {
     "name": "stderr",
     "output_type": "stream",
     "text": [
      "2018-03-04 11:00:58,164 : WARNING : duplicate word '' in /Users/orprager/PycharmProjects/ml/samples/movies_reviews_sentiment_analysis/300features_40minwords_10context, ignoring all but first\n"
     ]
    },
    {
     "name": "stderr",
     "output_type": "stream",
     "text": [
      "2018-03-04 11:00:58,166 : WARNING : duplicate word '' in /Users/orprager/PycharmProjects/ml/samples/movies_reviews_sentiment_analysis/300features_40minwords_10context, ignoring all but first\n"
     ]
    },
    {
     "name": "stderr",
     "output_type": "stream",
     "text": [
      "2018-03-04 11:00:58,168 : WARNING : duplicate word '' in /Users/orprager/PycharmProjects/ml/samples/movies_reviews_sentiment_analysis/300features_40minwords_10context, ignoring all but first\n"
     ]
    },
    {
     "name": "stderr",
     "output_type": "stream",
     "text": [
      "2018-03-04 11:00:58,170 : WARNING : duplicate word '504' in /Users/orprager/PycharmProjects/ml/samples/movies_reviews_sentiment_analysis/300features_40minwords_10context, ignoring all but first\n"
     ]
    },
    {
     "name": "stderr",
     "output_type": "stream",
     "text": [
      "2018-03-04 11:00:58,172 : WARNING : duplicate word '36' in /Users/orprager/PycharmProjects/ml/samples/movies_reviews_sentiment_analysis/300features_40minwords_10context, ignoring all but first\n"
     ]
    },
    {
     "name": "stderr",
     "output_type": "stream",
     "text": [
      "2018-03-04 11:00:58,173 : WARNING : duplicate word '' in /Users/orprager/PycharmProjects/ml/samples/movies_reviews_sentiment_analysis/300features_40minwords_10context, ignoring all but first\n"
     ]
    },
    {
     "name": "stderr",
     "output_type": "stream",
     "text": [
      "2018-03-04 11:00:58,175 : WARNING : duplicate word '337' in /Users/orprager/PycharmProjects/ml/samples/movies_reviews_sentiment_analysis/300features_40minwords_10context, ignoring all but first\n"
     ]
    },
    {
     "name": "stderr",
     "output_type": "stream",
     "text": [
      "2018-03-04 11:00:58,176 : WARNING : duplicate word '81' in /Users/orprager/PycharmProjects/ml/samples/movies_reviews_sentiment_analysis/300features_40minwords_10context, ignoring all but first\n"
     ]
    },
    {
     "name": "stderr",
     "output_type": "stream",
     "text": [
      "2018-03-04 11:00:58,179 : WARNING : duplicate word '43' in /Users/orprager/PycharmProjects/ml/samples/movies_reviews_sentiment_analysis/300features_40minwords_10context, ignoring all but first\n"
     ]
    },
    {
     "name": "stderr",
     "output_type": "stream",
     "text": [
      "2018-03-04 11:00:58,180 : WARNING : duplicate word '05' in /Users/orprager/PycharmProjects/ml/samples/movies_reviews_sentiment_analysis/300features_40minwords_10context, ignoring all but first\n"
     ]
    },
    {
     "name": "stderr",
     "output_type": "stream",
     "text": [
      "2018-03-04 11:00:58,184 : WARNING : duplicate word '328' in /Users/orprager/PycharmProjects/ml/samples/movies_reviews_sentiment_analysis/300features_40minwords_10context, ignoring all but first\n"
     ]
    },
    {
     "name": "stderr",
     "output_type": "stream",
     "text": [
      "2018-03-04 11:00:58,188 : WARNING : duplicate word '' in /Users/orprager/PycharmProjects/ml/samples/movies_reviews_sentiment_analysis/300features_40minwords_10context, ignoring all but first\n"
     ]
    },
    {
     "name": "stderr",
     "output_type": "stream",
     "text": [
      "2018-03-04 11:00:58,190 : WARNING : duplicate word '348' in /Users/orprager/PycharmProjects/ml/samples/movies_reviews_sentiment_analysis/300features_40minwords_10context, ignoring all but first\n"
     ]
    }
   ],
   "source": [
    "%time\n",
    "# e.g: we can pull out of our model the word happy and see it's vector representation \n",
    "# model['happy'].shape\n",
    "import os\n",
    "from gensim.models import KeyedVectors\n",
    "\n",
    "model_name = os.path.join(PROJECT_PATH, \"samples/movies_reviews_sentiment_analysis\", \"300features_40minwords_10context\")\n",
    "model = KeyedVectors.load_word2vec_format(model_name, binary=True)"
   ]
  },
  {
   "cell_type": "code",
   "execution_count": 11,
   "metadata": {},
   "outputs": [
    {
     "ename": "ImportError",
     "evalue": "cannot import name words_vec_to_avg_feature_vec",
     "traceback": [
      "\u001b[0;31m\u001b[0m",
      "\u001b[0;31mImportError\u001b[0mTraceback (most recent call last)",
      "\u001b[0;32m<ipython-input-11-398f57184a83>\u001b[0m in \u001b[0;36m<module>\u001b[0;34m()\u001b[0m\n\u001b[1;32m      1\u001b[0m \u001b[0;32mimport\u001b[0m \u001b[0mnumpy\u001b[0m \u001b[0;32mas\u001b[0m \u001b[0mnp\u001b[0m  \u001b[0;31m# Make sure that numpy is imported\u001b[0m\u001b[0;34m\u001b[0m\u001b[0m\n\u001b[1;32m      2\u001b[0m \u001b[0;34m\u001b[0m\u001b[0m\n\u001b[0;32m----> 3\u001b[0;31m \u001b[0;32mfrom\u001b[0m \u001b[0mlib\u001b[0m\u001b[0;34m.\u001b[0m\u001b[0mnlp\u001b[0m \u001b[0;32mimport\u001b[0m \u001b[0mwords_vec_to_avg_feature_vec\u001b[0m\u001b[0;34m\u001b[0m\u001b[0m\n\u001b[0m\u001b[1;32m      4\u001b[0m \u001b[0;34m\u001b[0m\u001b[0m\n\u001b[1;32m      5\u001b[0m \u001b[0;32mdef\u001b[0m \u001b[0mgetAvgFeatureVecs\u001b[0m\u001b[0;34m(\u001b[0m\u001b[0mreviews\u001b[0m\u001b[0;34m,\u001b[0m \u001b[0mmodel\u001b[0m\u001b[0;34m,\u001b[0m \u001b[0mnum_features\u001b[0m\u001b[0;34m)\u001b[0m\u001b[0;34m:\u001b[0m\u001b[0;34m\u001b[0m\u001b[0m\n",
      "\u001b[0;31mImportError\u001b[0m: cannot import name words_vec_to_avg_feature_vec"
     ],
     "output_type": "error"
    }
   ],
   "source": [
    "%time\n",
    "\n",
    "import numpy as np  # Make sure that numpy is imported\n",
    "\n",
    "from lib.nlp import words_vec_to_avg_feature_vec\n",
    "\n",
    "def getAvgFeatureVecs(reviews, model, num_features):\n",
    "    # Given a set of reviews (each one a list of words), calculate \n",
    "    # the average feature vector for each one and return a 2D numpy array \n",
    "    # \n",
    "    # Initialize a counter\n",
    "    counter = 0.\n",
    "    # \n",
    "    # Preallocate a 2D numpy array, for speed\n",
    "    reviewFeatureVecs = np.zeros((len(reviews), num_features), dtype=\"float32\")\n",
    "    # \n",
    "    # Loop through the reviews\n",
    "    for review in reviews:\n",
    "        #\n",
    "        # Print a status message every 1000th review\n",
    "        if counter % 1000. == 0.:\n",
    "            print \"Review %d of %d\" % (counter, len(reviews))\n",
    "        # \n",
    "        # Call the function (defined above) that makes average feature vectors\n",
    "        reviewFeatureVecs[counter] = words_vec_to_avg_feature_vec(review, model, \\\n",
    "                                                    num_features)\n",
    "        #\n",
    "        # Increment the counter\n",
    "        counter = counter + 1.\n",
    "    return reviewFeatureVecs\n"
   ]
  },
  {
   "cell_type": "code",
   "execution_count": 10,
   "metadata": {},
   "outputs": [
    {
     "ename": "NameError",
     "evalue": "name 'num_features' is not defined",
     "traceback": [
      "\u001b[0;31m\u001b[0m",
      "\u001b[0;31mNameError\u001b[0mTraceback (most recent call last)",
      "\u001b[0;32m<ipython-input-10-d0a9eb394536>\u001b[0m in \u001b[0;36m<module>\u001b[0;34m()\u001b[0m\n\u001b[1;32m      8\u001b[0m     \u001b[0mclean_train_reviews\u001b[0m\u001b[0;34m.\u001b[0m\u001b[0mappend\u001b[0m\u001b[0;34m(\u001b[0m\u001b[0mreview_to_wordlist\u001b[0m\u001b[0;34m(\u001b[0m\u001b[0mreview\u001b[0m\u001b[0;34m,\u001b[0m \u001b[0mremove_stopwords\u001b[0m\u001b[0;34m=\u001b[0m\u001b[0mTrue\u001b[0m\u001b[0;34m)\u001b[0m\u001b[0;34m)\u001b[0m\u001b[0;34m\u001b[0m\u001b[0m\n\u001b[1;32m      9\u001b[0m \u001b[0;34m\u001b[0m\u001b[0m\n\u001b[0;32m---> 10\u001b[0;31m \u001b[0mtrainDataVecs\u001b[0m \u001b[0;34m=\u001b[0m \u001b[0mgetAvgFeatureVecs\u001b[0m\u001b[0;34m(\u001b[0m\u001b[0mclean_train_reviews\u001b[0m\u001b[0;34m,\u001b[0m \u001b[0mmodel\u001b[0m\u001b[0;34m,\u001b[0m \u001b[0mnum_features\u001b[0m\u001b[0;34m)\u001b[0m\u001b[0;34m\u001b[0m\u001b[0m\n\u001b[0m\u001b[1;32m     11\u001b[0m \u001b[0;34m\u001b[0m\u001b[0m\n\u001b[1;32m     12\u001b[0m \u001b[0;32mprint\u001b[0m \u001b[0;34m\"Creating average feature vecs for test reviews\"\u001b[0m\u001b[0;34m\u001b[0m\u001b[0m\n",
      "\u001b[0;31mNameError\u001b[0m: name 'num_features' is not defined"
     ],
     "output_type": "error"
    }
   ],
   "source": [
    "%time\n",
    "# ****************************************************************\n",
    "# Calculate average feature vectors for training and testing sets,\n",
    "# using the functions we defined above. Notice that we now use stop word\n",
    "# removal.\n",
    "\n",
    "clean_train_reviews = []\n",
    "for review in labeled_train_review[\"review\"]:\n",
    "    clean_train_reviews.append(review_to_wordlist(review, remove_stopwords=True))\n",
    "\n",
    "trainDataVecs = getAvgFeatureVecs(clean_train_reviews, model, num_features)\n",
    "\n",
    "print \"Creating average feature vecs for test reviews\"\n",
    "clean_test_reviews = []\n",
    "for review in test_reviews[\"review\"]:\n",
    "    clean_test_reviews.append(review_to_wordlist(review, remove_stopwords=True))\n",
    "\n",
    "testDataVecs = getAvgFeatureVecs(clean_test_reviews, model, num_features)"
   ]
  },
  {
   "cell_type": "code",
   "execution_count": null,
   "metadata": {},
   "outputs": [],
   "source": [
    "%time\n",
    "# Fit a random forest to the training data, using 100 trees\n",
    "from sklearn.ensemble import RandomForestClassifier\n",
    "\n",
    "forest = RandomForestClassifier(n_estimators=100)\n",
    "\n",
    "print \"Fitting a random forest to labeled training data...\"\n",
    "forest = forest.fit(trainDataVecs, labeled_train_review[\"sentiment\"])\n",
    "\n",
    "# Test & extract results \n",
    "result = forest.predict(testDataVecs)\n",
    "\n",
    "# Write the test results \n",
    "output = pd.DataFrame(data={\"id\": test_reviews[\"id\"], \"sentiment\": result})\n",
    "output.to_csv(\"./data/movie_reviews/Word2Vec_AverageVectors.csv\", index=False, quoting=3)\n"
   ]
  }
 ],
 "metadata": {
  "kernelspec": {
   "display_name": "Python 2",
   "language": "python",
   "name": "python2"
  },
  "language_info": {
   "codemirror_mode": {
    "name": "ipython",
    "version": 2
   },
   "file_extension": ".py",
   "mimetype": "text/x-python",
   "name": "python",
   "nbconvert_exporter": "python",
   "pygments_lexer": "ipython2",
   "version": "2.7.14"
  }
 },
 "nbformat": 4,
 "nbformat_minor": 2
}
