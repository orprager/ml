{
 "cells": [
  {
   "cell_type": "code",
   "execution_count": 8,
   "metadata": {},
   "outputs": [],
   "source": [
    "%time \n",
    "\n",
    "import os\n",
    "import sys\n",
    "\n",
    "PROJECT_PATH = '/Users/orprager/PycharmProjects/ml'\n",
    "module_path = os.path.abspath('/Users/orprager/PycharmProjects/ml')\n",
    "if module_path not in sys.path:\n",
    "    print \"adding {} to sys.path\".format(module_path)\n",
    "    sys.path.insert(1, module_path)\n"
   ]
  },
  {
   "cell_type": "code",
   "execution_count": 9,
   "metadata": {},
   "outputs": [
    {
     "name": "stdout",
     "output_type": "stream",
     "text": [
      "labeled reviews: (25000, 3)\ntest reviews: (25000, 2)\nunlabeled reviews: (50000, 2)\n\nlabeled reviews columns: ['id' 'sentiment' 'review']\n"
     ]
    }
   ],
   "source": [
    "%time\n",
    "\n",
    "# Loading the reviews\n",
    "import pandas as pd\n",
    "from samples.movies_reviews_sentiment_analysis import get_labeled_train_data, get_test_unlabeled_data, \\\n",
    "    get_unlabeled_train_data\n",
    "\n",
    "labeled_train_review = get_labeled_train_data()\n",
    "test_reviews = get_test_unlabeled_data()\n",
    "unlabeled_train_reviews = get_unlabeled_train_data()\n",
    "\n",
    "print \"labeled reviews: {}\".format(labeled_train_review.shape)\n",
    "print \"test reviews: {}\".format(test_reviews.shape)\n",
    "print \"unlabeled reviews: {}\".format(unlabeled_train_reviews.shape)\n",
    "\n",
    "print \"\\nlabeled reviews columns: {}\".format(labeled_train_review.columns.values)\n"
   ]
  },
  {
   "cell_type": "code",
   "execution_count": null,
   "metadata": {},
   "outputs": [
    {
     "name": "stdout",
     "output_type": "stream",
     "text": [
      "CPU times: user 2 µs, sys: 1 µs, total: 3 µs\nWall time: 4.05 µs\nParsing sentences from labeled training set\n"
     ]
    },
    {
     "name": "stderr",
     "output_type": "stream",
     "text": [
      "/usr/local/lib/python2.7/site-packages/bs4/__init__.py:219: UserWarning: \".\" looks like a filename, not markup. You should probably open this file and pass the filehandle into Beautiful Soup.\n  ' Beautiful Soup.' % markup)\n"
     ]
    },
    {
     "name": "stderr",
     "output_type": "stream",
     "text": [
      "/usr/local/lib/python2.7/site-packages/bs4/__init__.py:282: UserWarning: \"http://www.happierabroad.com\"\" looks like a URL. Beautiful Soup is not an HTTP client. You should probably use an HTTP client like requests to get the document behind the URL, and feed that document to Beautiful Soup.\n  ' that document to Beautiful Soup.' % decoded_markup\n"
     ]
    },
    {
     "name": "stdout",
     "output_type": "stream",
     "text": [
      "Parsing sentences from unlabeled set\n"
     ]
    },
    {
     "name": "stderr",
     "output_type": "stream",
     "text": [
      "/usr/local/lib/python2.7/site-packages/bs4/__init__.py:282: UserWarning: \"http://www.archive.org/details/LovefromaStranger\"\" looks like a URL. Beautiful Soup is not an HTTP client. You should probably use an HTTP client like requests to get the document behind the URL, and feed that document to Beautiful Soup.\n  ' that document to Beautiful Soup.' % decoded_markup\n"
     ]
    },
    {
     "name": "stderr",
     "output_type": "stream",
     "text": [
      "/usr/local/lib/python2.7/site-packages/bs4/__init__.py:282: UserWarning: \"http://www.loosechangeguide.com/LooseChangeGuide.html\"\" looks like a URL. Beautiful Soup is not an HTTP client. You should probably use an HTTP client like requests to get the document behind the URL, and feed that document to Beautiful Soup.\n  ' that document to Beautiful Soup.' % decoded_markup\n"
     ]
    },
    {
     "name": "stderr",
     "output_type": "stream",
     "text": [
      "/usr/local/lib/python2.7/site-packages/bs4/__init__.py:282: UserWarning: \"http://www.msnbc.msn.com/id/4972055/site/newsweek/\"\" looks like a URL. Beautiful Soup is not an HTTP client. You should probably use an HTTP client like requests to get the document behind the URL, and feed that document to Beautiful Soup.\n  ' that document to Beautiful Soup.' % decoded_markup\n"
     ]
    },
    {
     "name": "stderr",
     "output_type": "stream",
     "text": [
      "/usr/local/lib/python2.7/site-packages/bs4/__init__.py:219: UserWarning: \"..\" looks like a filename, not markup. You should probably open this file and pass the filehandle into Beautiful Soup.\n  ' Beautiful Soup.' % markup)\n"
     ]
    },
    {
     "name": "stderr",
     "output_type": "stream",
     "text": [
      "/usr/local/lib/python2.7/site-packages/bs4/__init__.py:282: UserWarning: \"http://www.youtube.com/watch?v=a0KSqelmgN8\"\" looks like a URL. Beautiful Soup is not an HTTP client. You should probably use an HTTP client like requests to get the document behind the URL, and feed that document to Beautiful Soup.\n  ' that document to Beautiful Soup.' % decoded_markup\n"
     ]
    }
   ],
   "source": [
    "%time\n",
    "# Review to list of sentences (word2vec expect to get the sentences separated)\n",
    "\n",
    "from lib.nlp import text_to_sentences\n",
    "import nltk\n",
    "\n",
    "# NLTK has a tokenizer allow us to split text by sentences\n",
    "sentence_tokenizer = nltk.data.load('tokenizers/punkt/english.pickle')\n",
    "\n",
    "sentences = []\n",
    "\n",
    "print \"Parsing sentences from labeled training set\"\n",
    "for review in labeled_train_review[\"review\"]:\n",
    "    sentences += text_to_sentences(review, sentence_tokenizer)\n",
    "\n",
    "print \"Parsing sentences from unlabeled set\"\n",
    "for review in unlabeled_train_reviews[\"review\"]:\n",
    "    sentences += text_to_sentences(review, sentence_tokenizer)\n"
   ]
  },
  {
   "cell_type": "code",
   "execution_count": 14,
   "metadata": {
    "collapsed": true
   },
   "outputs": [
    {
     "name": "stderr",
     "output_type": "stream",
     "text": [
      "2018-03-03 18:16:21,974 : INFO : collecting all words and their counts\n"
     ]
    },
    {
     "name": "stderr",
     "output_type": "stream",
     "text": [
      "2018-03-03 18:16:21,975 : INFO : PROGRESS: at sentence #0, processed 0 words, keeping 0 word types\n"
     ]
    },
    {
     "name": "stderr",
     "output_type": "stream",
     "text": [
      "2018-03-03 18:16:22,073 : INFO : PROGRESS: at sentence #10000, processed 225803 words, keeping 17776 word types\n"
     ]
    },
    {
     "name": "stderr",
     "output_type": "stream",
     "text": [
      "2018-03-03 18:16:22,142 : INFO : PROGRESS: at sentence #20000, processed 451892 words, keeping 24948 word types\n"
     ]
    },
    {
     "name": "stderr",
     "output_type": "stream",
     "text": [
      "2018-03-03 18:16:22,203 : INFO : PROGRESS: at sentence #30000, processed 671315 words, keeping 30034 word types\n"
     ]
    },
    {
     "name": "stderr",
     "output_type": "stream",
     "text": [
      "2018-03-03 18:16:22,260 : INFO : PROGRESS: at sentence #40000, processed 897815 words, keeping 34348 word types\n"
     ]
    },
    {
     "name": "stderr",
     "output_type": "stream",
     "text": [
      "2018-03-03 18:16:22,332 : INFO : PROGRESS: at sentence #50000, processed 1116963 words, keeping 37761 word types\n"
     ]
    },
    {
     "name": "stderr",
     "output_type": "stream",
     "text": [
      "2018-03-03 18:16:22,399 : INFO : PROGRESS: at sentence #60000, processed 1338404 words, keeping 40723 word types\n"
     ]
    },
    {
     "name": "stderr",
     "output_type": "stream",
     "text": [
      "2018-03-03 18:16:22,473 : INFO : PROGRESS: at sentence #70000, processed 1561580 words, keeping 43333 word types\n"
     ]
    },
    {
     "name": "stderr",
     "output_type": "stream",
     "text": [
      "2018-03-03 18:16:22,567 : INFO : PROGRESS: at sentence #80000, processed 1780887 words, keeping 45714 word types\n"
     ]
    },
    {
     "name": "stderr",
     "output_type": "stream",
     "text": [
      "2018-03-03 18:16:22,628 : INFO : PROGRESS: at sentence #90000, processed 2004996 words, keeping 48135 word types\n"
     ]
    },
    {
     "name": "stderr",
     "output_type": "stream",
     "text": [
      "2018-03-03 18:16:22,687 : INFO : PROGRESS: at sentence #100000, processed 2226967 words, keeping 50207 word types\n"
     ]
    },
    {
     "name": "stderr",
     "output_type": "stream",
     "text": [
      "2018-03-03 18:16:22,744 : INFO : PROGRESS: at sentence #110000, processed 2446581 words, keeping 52081 word types\n"
     ]
    },
    {
     "name": "stderr",
     "output_type": "stream",
     "text": [
      "2018-03-03 18:16:22,801 : INFO : PROGRESS: at sentence #120000, processed 2668776 words, keeping 54119 word types\n"
     ]
    },
    {
     "name": "stderr",
     "output_type": "stream",
     "text": [
      "2018-03-03 18:16:22,860 : INFO : PROGRESS: at sentence #130000, processed 2894304 words, keeping 55847 word types\n"
     ]
    },
    {
     "name": "stderr",
     "output_type": "stream",
     "text": [
      "2018-03-03 18:16:22,917 : INFO : PROGRESS: at sentence #140000, processed 3107006 words, keeping 57346 word types\n"
     ]
    },
    {
     "name": "stderr",
     "output_type": "stream",
     "text": [
      "2018-03-03 18:16:22,978 : INFO : PROGRESS: at sentence #150000, processed 3332628 words, keeping 59055 word types\n"
     ]
    },
    {
     "name": "stderr",
     "output_type": "stream",
     "text": [
      "2018-03-03 18:16:23,036 : INFO : PROGRESS: at sentence #160000, processed 3555316 words, keeping 60617 word types\n"
     ]
    },
    {
     "name": "stderr",
     "output_type": "stream",
     "text": [
      "2018-03-03 18:16:23,095 : INFO : PROGRESS: at sentence #170000, processed 3778656 words, keeping 62077 word types\n"
     ]
    },
    {
     "name": "stderr",
     "output_type": "stream",
     "text": [
      "2018-03-03 18:16:23,152 : INFO : PROGRESS: at sentence #180000, processed 3999237 words, keeping 63496 word types\n"
     ]
    },
    {
     "name": "stderr",
     "output_type": "stream",
     "text": [
      "2018-03-03 18:16:23,211 : INFO : PROGRESS: at sentence #190000, processed 4224450 words, keeping 64794 word types\n"
     ]
    },
    {
     "name": "stderr",
     "output_type": "stream",
     "text": [
      "2018-03-03 18:16:23,270 : INFO : PROGRESS: at sentence #200000, processed 4448604 words, keeping 66087 word types\n"
     ]
    },
    {
     "name": "stderr",
     "output_type": "stream",
     "text": [
      "2018-03-03 18:16:23,334 : INFO : PROGRESS: at sentence #210000, processed 4669968 words, keeping 67390 word types\n"
     ]
    },
    {
     "name": "stderr",
     "output_type": "stream",
     "text": [
      "2018-03-03 18:16:23,394 : INFO : PROGRESS: at sentence #220000, processed 4894969 words, keeping 68697 word types\n"
     ]
    },
    {
     "name": "stderr",
     "output_type": "stream",
     "text": [
      "2018-03-03 18:16:23,445 : INFO : PROGRESS: at sentence #230000, processed 5117546 words, keeping 69958 word types\n"
     ]
    },
    {
     "name": "stderr",
     "output_type": "stream",
     "text": [
      "2018-03-03 18:16:23,503 : INFO : PROGRESS: at sentence #240000, processed 5345051 words, keeping 71167 word types\n"
     ]
    },
    {
     "name": "stderr",
     "output_type": "stream",
     "text": [
      "2018-03-03 18:16:23,558 : INFO : PROGRESS: at sentence #250000, processed 5559166 words, keeping 72351 word types\n"
     ]
    },
    {
     "name": "stderr",
     "output_type": "stream",
     "text": [
      "2018-03-03 18:16:23,610 : INFO : PROGRESS: at sentence #260000, processed 5779147 words, keeping 73478 word types\n"
     ]
    },
    {
     "name": "stderr",
     "output_type": "stream",
     "text": [
      "2018-03-03 18:16:23,663 : INFO : PROGRESS: at sentence #270000, processed 6000436 words, keeping 74767 word types\n"
     ]
    },
    {
     "name": "stderr",
     "output_type": "stream",
     "text": [
      "2018-03-03 18:16:23,722 : INFO : PROGRESS: at sentence #280000, processed 6226315 words, keeping 76369 word types\n"
     ]
    },
    {
     "name": "stderr",
     "output_type": "stream",
     "text": [
      "2018-03-03 18:16:23,779 : INFO : PROGRESS: at sentence #290000, processed 6449475 words, keeping 77839 word types\n"
     ]
    },
    {
     "name": "stderr",
     "output_type": "stream",
     "text": [
      "2018-03-03 18:16:23,832 : INFO : PROGRESS: at sentence #300000, processed 6674078 words, keeping 79171 word types\n"
     ]
    },
    {
     "name": "stderr",
     "output_type": "stream",
     "text": [
      "2018-03-03 18:16:23,889 : INFO : PROGRESS: at sentence #310000, processed 6899392 words, keeping 80480 word types\n"
     ]
    },
    {
     "name": "stderr",
     "output_type": "stream",
     "text": [
      "2018-03-03 18:16:23,945 : INFO : PROGRESS: at sentence #320000, processed 7124279 words, keeping 81808 word types\n"
     ]
    },
    {
     "name": "stderr",
     "output_type": "stream",
     "text": [
      "2018-03-03 18:16:23,998 : INFO : PROGRESS: at sentence #330000, processed 7346022 words, keeping 83030 word types\n"
     ]
    },
    {
     "name": "stderr",
     "output_type": "stream",
     "text": [
      "2018-03-03 18:16:24,052 : INFO : PROGRESS: at sentence #340000, processed 7575534 words, keeping 84280 word types\n"
     ]
    },
    {
     "name": "stderr",
     "output_type": "stream",
     "text": [
      "2018-03-03 18:16:24,106 : INFO : PROGRESS: at sentence #350000, processed 7798804 words, keeping 85425 word types\n"
     ]
    },
    {
     "name": "stderr",
     "output_type": "stream",
     "text": [
      "2018-03-03 18:16:24,156 : INFO : PROGRESS: at sentence #360000, processed 8019467 words, keeping 86596 word types\n"
     ]
    },
    {
     "name": "stderr",
     "output_type": "stream",
     "text": [
      "2018-03-03 18:16:24,211 : INFO : PROGRESS: at sentence #370000, processed 8246659 words, keeping 87708 word types\n"
     ]
    },
    {
     "name": "stderr",
     "output_type": "stream",
     "text": [
      "2018-03-03 18:16:24,264 : INFO : PROGRESS: at sentence #380000, processed 8471806 words, keeping 88878 word types\n"
     ]
    },
    {
     "name": "stderr",
     "output_type": "stream",
     "text": [
      "2018-03-03 18:16:24,319 : INFO : PROGRESS: at sentence #390000, processed 8701556 words, keeping 89907 word types\n"
     ]
    },
    {
     "name": "stderr",
     "output_type": "stream",
     "text": [
      "2018-03-03 18:16:24,373 : INFO : PROGRESS: at sentence #400000, processed 8924505 words, keeping 90916 word types\n"
     ]
    },
    {
     "name": "stderr",
     "output_type": "stream",
     "text": [
      "2018-03-03 18:16:24,427 : INFO : PROGRESS: at sentence #410000, processed 9145855 words, keeping 91880 word types\n"
     ]
    },
    {
     "name": "stderr",
     "output_type": "stream",
     "text": [
      "2018-03-03 18:16:24,486 : INFO : PROGRESS: at sentence #420000, processed 9366935 words, keeping 92912 word types\n"
     ]
    },
    {
     "name": "stderr",
     "output_type": "stream",
     "text": [
      "2018-03-03 18:16:24,543 : INFO : PROGRESS: at sentence #430000, processed 9594472 words, keeping 93932 word types\n"
     ]
    },
    {
     "name": "stderr",
     "output_type": "stream",
     "text": [
      "2018-03-03 18:16:24,596 : INFO : PROGRESS: at sentence #440000, processed 9821225 words, keeping 94906 word types\n"
     ]
    },
    {
     "name": "stderr",
     "output_type": "stream",
     "text": [
      "2018-03-03 18:16:24,648 : INFO : PROGRESS: at sentence #450000, processed 10044987 words, keeping 96036 word types\n"
     ]
    },
    {
     "name": "stderr",
     "output_type": "stream",
     "text": [
      "2018-03-03 18:16:24,707 : INFO : PROGRESS: at sentence #460000, processed 10277747 words, keeping 97088 word types\n"
     ]
    },
    {
     "name": "stderr",
     "output_type": "stream",
     "text": [
      "2018-03-03 18:16:24,762 : INFO : PROGRESS: at sentence #470000, processed 10505672 words, keeping 97933 word types\n"
     ]
    },
    {
     "name": "stderr",
     "output_type": "stream",
     "text": [
      "2018-03-03 18:16:24,816 : INFO : PROGRESS: at sentence #480000, processed 10726056 words, keeping 98862 word types\n"
     ]
    },
    {
     "name": "stderr",
     "output_type": "stream",
     "text": [
      "2018-03-03 18:16:24,872 : INFO : PROGRESS: at sentence #490000, processed 10952800 words, keeping 99871 word types\n"
     ]
    },
    {
     "name": "stderr",
     "output_type": "stream",
     "text": [
      "2018-03-03 18:16:24,926 : INFO : PROGRESS: at sentence #500000, processed 11174456 words, keeping 100765 word types\n"
     ]
    },
    {
     "name": "stderr",
     "output_type": "stream",
     "text": [
      "2018-03-03 18:16:24,984 : INFO : PROGRESS: at sentence #510000, processed 11399731 words, keeping 101699 word types\n"
     ]
    },
    {
     "name": "stderr",
     "output_type": "stream",
     "text": [
      "2018-03-03 18:16:25,036 : INFO : PROGRESS: at sentence #520000, processed 11623082 words, keeping 102598 word types\n"
     ]
    },
    {
     "name": "stderr",
     "output_type": "stream",
     "text": [
      "2018-03-03 18:16:25,094 : INFO : PROGRESS: at sentence #530000, processed 11847480 words, keeping 103400 word types\n"
     ]
    },
    {
     "name": "stderr",
     "output_type": "stream",
     "text": [
      "2018-03-03 18:16:25,153 : INFO : PROGRESS: at sentence #540000, processed 12072095 words, keeping 104265 word types\n"
     ]
    },
    {
     "name": "stderr",
     "output_type": "stream",
     "text": [
      "2018-03-03 18:16:25,207 : INFO : PROGRESS: at sentence #550000, processed 12297646 words, keeping 105133 word types\n"
     ]
    },
    {
     "name": "stderr",
     "output_type": "stream",
     "text": [
      "2018-03-03 18:16:25,263 : INFO : PROGRESS: at sentence #560000, processed 12518936 words, keeping 105997 word types\n"
     ]
    },
    {
     "name": "stderr",
     "output_type": "stream",
     "text": [
      "2018-03-03 18:16:25,317 : INFO : PROGRESS: at sentence #570000, processed 12748083 words, keeping 106787 word types\n"
     ]
    },
    {
     "name": "stderr",
     "output_type": "stream",
     "text": [
      "2018-03-03 18:16:25,377 : INFO : PROGRESS: at sentence #580000, processed 12969579 words, keeping 107665 word types\n"
     ]
    },
    {
     "name": "stderr",
     "output_type": "stream",
     "text": [
      "2018-03-03 18:16:25,433 : INFO : PROGRESS: at sentence #590000, processed 13195104 words, keeping 108501 word types\n"
     ]
    },
    {
     "name": "stderr",
     "output_type": "stream",
     "text": [
      "2018-03-03 18:16:25,492 : INFO : PROGRESS: at sentence #600000, processed 13417302 words, keeping 109218 word types\n"
     ]
    },
    {
     "name": "stderr",
     "output_type": "stream",
     "text": [
      "2018-03-03 18:16:25,551 : INFO : PROGRESS: at sentence #610000, processed 13638325 words, keeping 110092 word types\n"
     ]
    },
    {
     "name": "stderr",
     "output_type": "stream",
     "text": [
      "2018-03-03 18:16:25,603 : INFO : PROGRESS: at sentence #620000, processed 13864650 words, keeping 110837 word types\n"
     ]
    },
    {
     "name": "stderr",
     "output_type": "stream",
     "text": [
      "2018-03-03 18:16:25,661 : INFO : PROGRESS: at sentence #630000, processed 14088936 words, keeping 111610 word types\n"
     ]
    },
    {
     "name": "stderr",
     "output_type": "stream",
     "text": [
      "2018-03-03 18:16:25,717 : INFO : PROGRESS: at sentence #640000, processed 14309719 words, keeping 112416 word types\n"
     ]
    },
    {
     "name": "stderr",
     "output_type": "stream",
     "text": [
      "2018-03-03 18:16:25,773 : INFO : PROGRESS: at sentence #650000, processed 14535475 words, keeping 113196 word types\n"
     ]
    },
    {
     "name": "stderr",
     "output_type": "stream",
     "text": [
      "2018-03-03 18:16:25,825 : INFO : PROGRESS: at sentence #660000, processed 14758265 words, keeping 113945 word types\n"
     ]
    },
    {
     "name": "stderr",
     "output_type": "stream",
     "text": [
      "2018-03-03 18:16:25,878 : INFO : PROGRESS: at sentence #670000, processed 14981658 words, keeping 114643 word types\n"
     ]
    },
    {
     "name": "stderr",
     "output_type": "stream",
     "text": [
      "2018-03-03 18:16:25,929 : INFO : PROGRESS: at sentence #680000, processed 15206490 words, keeping 115354 word types\n"
     ]
    },
    {
     "name": "stderr",
     "output_type": "stream",
     "text": [
      "2018-03-03 18:16:25,983 : INFO : PROGRESS: at sentence #690000, processed 15428683 words, keeping 116131 word types\n"
     ]
    },
    {
     "name": "stderr",
     "output_type": "stream",
     "text": [
      "2018-03-03 18:16:26,044 : INFO : PROGRESS: at sentence #700000, processed 15657389 words, keeping 116943 word types\n"
     ]
    },
    {
     "name": "stderr",
     "output_type": "stream",
     "text": [
      "2018-03-03 18:16:26,095 : INFO : PROGRESS: at sentence #710000, processed 15880378 words, keeping 117596 word types\n"
     ]
    },
    {
     "name": "stderr",
     "output_type": "stream",
     "text": [
      "2018-03-03 18:16:26,155 : INFO : PROGRESS: at sentence #720000, processed 16105665 words, keeping 118221 word types\n"
     ]
    },
    {
     "name": "stderr",
     "output_type": "stream",
     "text": [
      "2018-03-03 18:16:26,210 : INFO : PROGRESS: at sentence #730000, processed 16332046 words, keeping 118954 word types\n"
     ]
    },
    {
     "name": "stderr",
     "output_type": "stream",
     "text": [
      "2018-03-03 18:16:26,261 : INFO : PROGRESS: at sentence #740000, processed 16553079 words, keeping 119668 word types\n"
     ]
    },
    {
     "name": "stderr",
     "output_type": "stream",
     "text": [
      "2018-03-03 18:16:26,315 : INFO : PROGRESS: at sentence #750000, processed 16771406 words, keeping 120295 word types\n"
     ]
    },
    {
     "name": "stderr",
     "output_type": "stream",
     "text": [
      "2018-03-03 18:16:26,369 : INFO : PROGRESS: at sentence #760000, processed 16990810 words, keeping 120930 word types\n"
     ]
    },
    {
     "name": "stderr",
     "output_type": "stream",
     "text": [
      "2018-03-03 18:16:26,425 : INFO : PROGRESS: at sentence #770000, processed 17217947 words, keeping 121703 word types\n"
     ]
    },
    {
     "name": "stderr",
     "output_type": "stream",
     "text": [
      "2018-03-03 18:16:26,478 : INFO : PROGRESS: at sentence #780000, processed 17448093 words, keeping 122402 word types\n"
     ]
    },
    {
     "name": "stderr",
     "output_type": "stream",
     "text": [
      "2018-03-03 18:16:26,551 : INFO : PROGRESS: at sentence #790000, processed 17675169 words, keeping 123066 word types\n"
     ]
    },
    {
     "name": "stderr",
     "output_type": "stream",
     "text": [
      "2018-03-03 18:16:26,591 : INFO : collected 123504 word types from a corpus of 17798270 raw words and 795538 sentences\n"
     ]
    },
    {
     "name": "stderr",
     "output_type": "stream",
     "text": [
      "2018-03-03 18:16:26,594 : INFO : Loading a fresh vocabulary\n"
     ]
    },
    {
     "name": "stderr",
     "output_type": "stream",
     "text": [
      "2018-03-03 18:16:26,693 : INFO : min_count=40 retains 16490 unique words (13% of original 123504, drops 107014)\n"
     ]
    },
    {
     "name": "stderr",
     "output_type": "stream",
     "text": [
      "2018-03-03 18:16:26,695 : INFO : min_count=40 leaves 17239125 word corpus (96% of original 17798270, drops 559145)\n"
     ]
    },
    {
     "name": "stderr",
     "output_type": "stream",
     "text": [
      "2018-03-03 18:16:26,737 : INFO : deleting the raw counts dictionary of 123504 items\n"
     ]
    },
    {
     "name": "stderr",
     "output_type": "stream",
     "text": [
      "2018-03-03 18:16:26,750 : INFO : sample=0.001 downsamples 48 most-common words\n"
     ]
    },
    {
     "name": "stderr",
     "output_type": "stream",
     "text": [
      "2018-03-03 18:16:26,752 : INFO : downsampling leaves estimated 12749798 word corpus (74.0% of prior 17239125)\n"
     ]
    },
    {
     "name": "stderr",
     "output_type": "stream",
     "text": [
      "2018-03-03 18:16:26,805 : INFO : estimated required memory for 16490 words and 300 dimensions: 47821000 bytes\n"
     ]
    },
    {
     "name": "stderr",
     "output_type": "stream",
     "text": [
      "2018-03-03 18:16:26,807 : INFO : resetting layer weights\n"
     ]
    },
    {
     "name": "stderr",
     "output_type": "stream",
     "text": [
      "2018-03-03 18:16:27,037 : INFO : training model with 4 workers on 16490 vocabulary and 300 features, using sg=0 hs=0 sample=0.001 negative=5 window=10\n"
     ]
    },
    {
     "name": "stderr",
     "output_type": "stream",
     "text": [
      "2018-03-03 18:16:28,045 : INFO : EPOCH 1 - PROGRESS: at 7.25% examples, 918788 words/s, in_qsize 8, out_qsize 0\n"
     ]
    },
    {
     "name": "stderr",
     "output_type": "stream",
     "text": [
      "2018-03-03 18:16:29,049 : INFO : EPOCH 1 - PROGRESS: at 14.78% examples, 933702 words/s, in_qsize 7, out_qsize 0\n"
     ]
    },
    {
     "name": "stderr",
     "output_type": "stream",
     "text": [
      "2018-03-03 18:16:30,050 : INFO : EPOCH 1 - PROGRESS: at 22.03% examples, 927334 words/s, in_qsize 8, out_qsize 0\n"
     ]
    },
    {
     "name": "stderr",
     "output_type": "stream",
     "text": [
      "2018-03-03 18:16:31,051 : INFO : EPOCH 1 - PROGRESS: at 29.21% examples, 924033 words/s, in_qsize 8, out_qsize 0\n"
     ]
    },
    {
     "name": "stderr",
     "output_type": "stream",
     "text": [
      "2018-03-03 18:16:32,056 : INFO : EPOCH 1 - PROGRESS: at 36.17% examples, 914131 words/s, in_qsize 7, out_qsize 0\n"
     ]
    },
    {
     "name": "stderr",
     "output_type": "stream",
     "text": [
      "2018-03-03 18:16:33,058 : INFO : EPOCH 1 - PROGRESS: at 43.14% examples, 910659 words/s, in_qsize 6, out_qsize 0\n"
     ]
    },
    {
     "name": "stderr",
     "output_type": "stream",
     "text": [
      "2018-03-03 18:16:34,060 : INFO : EPOCH 1 - PROGRESS: at 50.16% examples, 909089 words/s, in_qsize 7, out_qsize 0\n"
     ]
    },
    {
     "name": "stderr",
     "output_type": "stream",
     "text": [
      "2018-03-03 18:16:35,060 : INFO : EPOCH 1 - PROGRESS: at 57.10% examples, 906161 words/s, in_qsize 8, out_qsize 0\n"
     ]
    },
    {
     "name": "stderr",
     "output_type": "stream",
     "text": [
      "2018-03-03 18:16:36,069 : INFO : EPOCH 1 - PROGRESS: at 64.11% examples, 904754 words/s, in_qsize 8, out_qsize 0\n"
     ]
    },
    {
     "name": "stderr",
     "output_type": "stream",
     "text": [
      "2018-03-03 18:16:37,071 : INFO : EPOCH 1 - PROGRESS: at 71.27% examples, 905617 words/s, in_qsize 7, out_qsize 0\n"
     ]
    },
    {
     "name": "stderr",
     "output_type": "stream",
     "text": [
      "2018-03-03 18:16:38,078 : INFO : EPOCH 1 - PROGRESS: at 78.31% examples, 904672 words/s, in_qsize 8, out_qsize 0\n"
     ]
    },
    {
     "name": "stderr",
     "output_type": "stream",
     "text": [
      "2018-03-03 18:16:39,087 : INFO : EPOCH 1 - PROGRESS: at 85.40% examples, 903678 words/s, in_qsize 7, out_qsize 0\n"
     ]
    },
    {
     "name": "stderr",
     "output_type": "stream",
     "text": [
      "2018-03-03 18:16:40,101 : INFO : EPOCH 1 - PROGRESS: at 92.10% examples, 899360 words/s, in_qsize 6, out_qsize 0\n"
     ]
    },
    {
     "name": "stderr",
     "output_type": "stream",
     "text": [
      "2018-03-03 18:16:41,101 : INFO : EPOCH 1 - PROGRESS: at 98.89% examples, 896875 words/s, in_qsize 7, out_qsize 0\n"
     ]
    },
    {
     "name": "stderr",
     "output_type": "stream",
     "text": [
      "2018-03-03 18:16:41,244 : INFO : worker thread finished; awaiting finish of 3 more threads\n"
     ]
    },
    {
     "name": "stderr",
     "output_type": "stream",
     "text": [
      "2018-03-03 18:16:41,253 : INFO : worker thread finished; awaiting finish of 2 more threads\n"
     ]
    },
    {
     "name": "stderr",
     "output_type": "stream",
     "text": [
      "2018-03-03 18:16:41,258 : INFO : worker thread finished; awaiting finish of 1 more threads\n"
     ]
    },
    {
     "name": "stderr",
     "output_type": "stream",
     "text": [
      "2018-03-03 18:16:41,264 : INFO : worker thread finished; awaiting finish of 0 more threads\n"
     ]
    },
    {
     "name": "stderr",
     "output_type": "stream",
     "text": [
      "2018-03-03 18:16:41,266 : INFO : EPOCH - 1 : training on 17798270 raw words (12751509 effective words) took 14.2s, 896435 effective words/s\n"
     ]
    },
    {
     "name": "stderr",
     "output_type": "stream",
     "text": [
      "2018-03-03 18:16:42,278 : INFO : EPOCH 2 - PROGRESS: at 6.85% examples, 867351 words/s, in_qsize 6, out_qsize 0\n"
     ]
    },
    {
     "name": "stderr",
     "output_type": "stream",
     "text": [
      "2018-03-03 18:16:43,281 : INFO : EPOCH 2 - PROGRESS: at 14.05% examples, 887361 words/s, in_qsize 8, out_qsize 0\n"
     ]
    },
    {
     "name": "stderr",
     "output_type": "stream",
     "text": [
      "2018-03-03 18:16:44,280 : INFO : EPOCH 2 - PROGRESS: at 21.07% examples, 886998 words/s, in_qsize 8, out_qsize 0\n"
     ]
    },
    {
     "name": "stderr",
     "output_type": "stream",
     "text": [
      "2018-03-03 18:16:45,283 : INFO : EPOCH 2 - PROGRESS: at 28.20% examples, 891610 words/s, in_qsize 8, out_qsize 0\n"
     ]
    },
    {
     "name": "stderr",
     "output_type": "stream",
     "text": [
      "2018-03-03 18:16:46,290 : INFO : EPOCH 2 - PROGRESS: at 35.22% examples, 890067 words/s, in_qsize 7, out_qsize 0\n"
     ]
    },
    {
     "name": "stderr",
     "output_type": "stream",
     "text": [
      "2018-03-03 18:16:47,291 : INFO : EPOCH 2 - PROGRESS: at 42.24% examples, 891326 words/s, in_qsize 7, out_qsize 0\n"
     ]
    },
    {
     "name": "stderr",
     "output_type": "stream",
     "text": [
      "2018-03-03 18:16:48,294 : INFO : EPOCH 2 - PROGRESS: at 49.27% examples, 892130 words/s, in_qsize 7, out_qsize 0\n"
     ]
    },
    {
     "name": "stderr",
     "output_type": "stream",
     "text": [
      "2018-03-03 18:16:49,301 : INFO : EPOCH 2 - PROGRESS: at 56.27% examples, 891423 words/s, in_qsize 7, out_qsize 0\n"
     ]
    },
    {
     "name": "stderr",
     "output_type": "stream",
     "text": [
      "2018-03-03 18:16:50,308 : INFO : EPOCH 2 - PROGRESS: at 63.22% examples, 890949 words/s, in_qsize 7, out_qsize 0\n"
     ]
    },
    {
     "name": "stderr",
     "output_type": "stream",
     "text": [
      "2018-03-03 18:16:51,322 : INFO : EPOCH 2 - PROGRESS: at 70.28% examples, 890782 words/s, in_qsize 7, out_qsize 0\n"
     ]
    },
    {
     "name": "stderr",
     "output_type": "stream",
     "text": [
      "2018-03-03 18:16:52,331 : INFO : EPOCH 2 - PROGRESS: at 77.43% examples, 892360 words/s, in_qsize 8, out_qsize 0\n"
     ]
    },
    {
     "name": "stderr",
     "output_type": "stream",
     "text": [
      "2018-03-03 18:16:53,339 : INFO : EPOCH 2 - PROGRESS: at 84.40% examples, 891753 words/s, in_qsize 7, out_qsize 0\n"
     ]
    },
    {
     "name": "stderr",
     "output_type": "stream",
     "text": [
      "2018-03-03 18:16:54,337 : INFO : EPOCH 2 - PROGRESS: at 91.37% examples, 891548 words/s, in_qsize 7, out_qsize 0\n"
     ]
    },
    {
     "name": "stderr",
     "output_type": "stream",
     "text": [
      "2018-03-03 18:16:55,352 : INFO : EPOCH 2 - PROGRESS: at 98.34% examples, 890729 words/s, in_qsize 8, out_qsize 1\n"
     ]
    },
    {
     "name": "stderr",
     "output_type": "stream",
     "text": [
      "2018-03-03 18:16:55,558 : INFO : worker thread finished; awaiting finish of 3 more threads\n"
     ]
    },
    {
     "name": "stderr",
     "output_type": "stream",
     "text": [
      "2018-03-03 18:16:55,567 : INFO : worker thread finished; awaiting finish of 2 more threads\n"
     ]
    },
    {
     "name": "stderr",
     "output_type": "stream",
     "text": [
      "2018-03-03 18:16:55,572 : INFO : worker thread finished; awaiting finish of 1 more threads\n"
     ]
    },
    {
     "name": "stderr",
     "output_type": "stream",
     "text": [
      "2018-03-03 18:16:55,580 : INFO : worker thread finished; awaiting finish of 0 more threads\n"
     ]
    },
    {
     "name": "stderr",
     "output_type": "stream",
     "text": [
      "2018-03-03 18:16:55,582 : INFO : EPOCH - 2 : training on 17798270 raw words (12749092 effective words) took 14.3s, 890979 effective words/s\n"
     ]
    },
    {
     "name": "stderr",
     "output_type": "stream",
     "text": [
      "2018-03-03 18:16:56,588 : INFO : EPOCH 3 - PROGRESS: at 6.40% examples, 812546 words/s, in_qsize 8, out_qsize 0\n"
     ]
    },
    {
     "name": "stderr",
     "output_type": "stream",
     "text": [
      "2018-03-03 18:16:57,601 : INFO : EPOCH 3 - PROGRESS: at 13.54% examples, 851788 words/s, in_qsize 7, out_qsize 0\n"
     ]
    },
    {
     "name": "stderr",
     "output_type": "stream",
     "text": [
      "2018-03-03 18:16:58,607 : INFO : EPOCH 3 - PROGRESS: at 20.90% examples, 875807 words/s, in_qsize 7, out_qsize 0\n"
     ]
    },
    {
     "name": "stderr",
     "output_type": "stream",
     "text": [
      "2018-03-03 18:16:59,620 : INFO : EPOCH 3 - PROGRESS: at 27.86% examples, 875777 words/s, in_qsize 8, out_qsize 1\n"
     ]
    },
    {
     "name": "stderr",
     "output_type": "stream",
     "text": [
      "2018-03-03 18:17:00,627 : INFO : EPOCH 3 - PROGRESS: at 35.16% examples, 883546 words/s, in_qsize 8, out_qsize 0\n"
     ]
    },
    {
     "name": "stderr",
     "output_type": "stream",
     "text": [
      "2018-03-03 18:17:01,631 : INFO : EPOCH 3 - PROGRESS: at 42.19% examples, 885947 words/s, in_qsize 7, out_qsize 0\n"
     ]
    },
    {
     "name": "stderr",
     "output_type": "stream",
     "text": [
      "2018-03-03 18:17:02,637 : INFO : EPOCH 3 - PROGRESS: at 49.43% examples, 891405 words/s, in_qsize 8, out_qsize 0\n"
     ]
    },
    {
     "name": "stderr",
     "output_type": "stream",
     "text": [
      "2018-03-03 18:17:03,646 : INFO : EPOCH 3 - PROGRESS: at 56.49% examples, 891465 words/s, in_qsize 7, out_qsize 0\n"
     ]
    },
    {
     "name": "stderr",
     "output_type": "stream",
     "text": [
      "2018-03-03 18:17:04,659 : INFO : EPOCH 3 - PROGRESS: at 63.45% examples, 890376 words/s, in_qsize 7, out_qsize 0\n"
     ]
    },
    {
     "name": "stderr",
     "output_type": "stream",
     "text": [
      "2018-03-03 18:17:05,664 : INFO : EPOCH 3 - PROGRESS: at 70.55% examples, 891789 words/s, in_qsize 7, out_qsize 0\n"
     ]
    },
    {
     "name": "stderr",
     "output_type": "stream",
     "text": [
      "2018-03-03 18:17:06,669 : INFO : EPOCH 3 - PROGRESS: at 77.66% examples, 892851 words/s, in_qsize 8, out_qsize 0\n"
     ]
    },
    {
     "name": "stderr",
     "output_type": "stream",
     "text": [
      "2018-03-03 18:17:07,682 : INFO : EPOCH 3 - PROGRESS: at 84.72% examples, 892592 words/s, in_qsize 8, out_qsize 0\n"
     ]
    },
    {
     "name": "stderr",
     "output_type": "stream",
     "text": [
      "2018-03-03 18:17:08,685 : INFO : EPOCH 3 - PROGRESS: at 91.87% examples, 894253 words/s, in_qsize 6, out_qsize 0\n"
     ]
    },
    {
     "name": "stderr",
     "output_type": "stream",
     "text": [
      "2018-03-03 18:17:09,687 : INFO : EPOCH 3 - PROGRESS: at 99.05% examples, 895433 words/s, in_qsize 8, out_qsize 0\n"
     ]
    },
    {
     "name": "stderr",
     "output_type": "stream",
     "text": [
      "2018-03-03 18:17:09,800 : INFO : worker thread finished; awaiting finish of 3 more threads\n"
     ]
    },
    {
     "name": "stderr",
     "output_type": "stream",
     "text": [
      "2018-03-03 18:17:09,809 : INFO : worker thread finished; awaiting finish of 2 more threads\n"
     ]
    },
    {
     "name": "stderr",
     "output_type": "stream",
     "text": [
      "2018-03-03 18:17:09,818 : INFO : worker thread finished; awaiting finish of 1 more threads\n"
     ]
    },
    {
     "name": "stderr",
     "output_type": "stream",
     "text": [
      "2018-03-03 18:17:09,820 : INFO : worker thread finished; awaiting finish of 0 more threads\n"
     ]
    },
    {
     "name": "stderr",
     "output_type": "stream",
     "text": [
      "2018-03-03 18:17:09,822 : INFO : EPOCH - 3 : training on 17798270 raw words (12748126 effective words) took 14.2s, 895478 effective words/s\n"
     ]
    },
    {
     "name": "stderr",
     "output_type": "stream",
     "text": [
      "2018-03-03 18:17:10,834 : INFO : EPOCH 4 - PROGRESS: at 6.85% examples, 866723 words/s, in_qsize 7, out_qsize 0\n"
     ]
    },
    {
     "name": "stderr",
     "output_type": "stream",
     "text": [
      "2018-03-03 18:17:11,836 : INFO : EPOCH 4 - PROGRESS: at 13.94% examples, 880015 words/s, in_qsize 7, out_qsize 0\n"
     ]
    },
    {
     "name": "stderr",
     "output_type": "stream",
     "text": [
      "2018-03-03 18:17:12,849 : INFO : EPOCH 4 - PROGRESS: at 21.02% examples, 880888 words/s, in_qsize 7, out_qsize 0\n"
     ]
    },
    {
     "name": "stderr",
     "output_type": "stream",
     "text": [
      "2018-03-03 18:17:13,855 : INFO : EPOCH 4 - PROGRESS: at 28.31% examples, 891672 words/s, in_qsize 8, out_qsize 0\n"
     ]
    },
    {
     "name": "stderr",
     "output_type": "stream",
     "text": [
      "2018-03-03 18:17:14,860 : INFO : EPOCH 4 - PROGRESS: at 35.50% examples, 893681 words/s, in_qsize 7, out_qsize 0\n"
     ]
    },
    {
     "name": "stderr",
     "output_type": "stream",
     "text": [
      "2018-03-03 18:17:15,863 : INFO : EPOCH 4 - PROGRESS: at 42.52% examples, 894459 words/s, in_qsize 8, out_qsize 0\n"
     ]
    },
    {
     "name": "stderr",
     "output_type": "stream",
     "text": [
      "2018-03-03 18:17:16,867 : INFO : EPOCH 4 - PROGRESS: at 49.43% examples, 893028 words/s, in_qsize 8, out_qsize 0\n"
     ]
    },
    {
     "name": "stderr",
     "output_type": "stream",
     "text": [
      "2018-03-03 18:17:17,874 : INFO : EPOCH 4 - PROGRESS: at 56.38% examples, 891445 words/s, in_qsize 7, out_qsize 0\n"
     ]
    },
    {
     "name": "stderr",
     "output_type": "stream",
     "text": [
      "2018-03-03 18:17:18,884 : INFO : EPOCH 4 - PROGRESS: at 63.50% examples, 893063 words/s, in_qsize 7, out_qsize 0\n"
     ]
    },
    {
     "name": "stderr",
     "output_type": "stream",
     "text": [
      "2018-03-03 18:17:19,891 : INFO : EPOCH 4 - PROGRESS: at 70.71% examples, 895511 words/s, in_qsize 7, out_qsize 0\n"
     ]
    },
    {
     "name": "stderr",
     "output_type": "stream",
     "text": [
      "2018-03-03 18:17:20,899 : INFO : EPOCH 4 - PROGRESS: at 77.72% examples, 894704 words/s, in_qsize 8, out_qsize 0\n"
     ]
    },
    {
     "name": "stderr",
     "output_type": "stream",
     "text": [
      "2018-03-03 18:17:21,903 : INFO : EPOCH 4 - PROGRESS: at 84.83% examples, 895463 words/s, in_qsize 7, out_qsize 0\n"
     ]
    },
    {
     "name": "stderr",
     "output_type": "stream",
     "text": [
      "2018-03-03 18:17:22,908 : INFO : EPOCH 4 - PROGRESS: at 91.92% examples, 896120 words/s, in_qsize 7, out_qsize 0\n"
     ]
    },
    {
     "name": "stderr",
     "output_type": "stream",
     "text": [
      "2018-03-03 18:17:23,913 : INFO : EPOCH 4 - PROGRESS: at 99.16% examples, 897791 words/s, in_qsize 7, out_qsize 0\n"
     ]
    },
    {
     "name": "stderr",
     "output_type": "stream",
     "text": [
      "2018-03-03 18:17:24,018 : INFO : worker thread finished; awaiting finish of 3 more threads\n"
     ]
    },
    {
     "name": "stderr",
     "output_type": "stream",
     "text": [
      "2018-03-03 18:17:24,026 : INFO : worker thread finished; awaiting finish of 2 more threads\n"
     ]
    },
    {
     "name": "stderr",
     "output_type": "stream",
     "text": [
      "2018-03-03 18:17:24,033 : INFO : worker thread finished; awaiting finish of 1 more threads\n"
     ]
    },
    {
     "name": "stderr",
     "output_type": "stream",
     "text": [
      "2018-03-03 18:17:24,039 : INFO : worker thread finished; awaiting finish of 0 more threads\n"
     ]
    },
    {
     "name": "stderr",
     "output_type": "stream",
     "text": [
      "2018-03-03 18:17:24,041 : INFO : EPOCH - 4 : training on 17798270 raw words (12750414 effective words) took 14.2s, 897145 effective words/s\n"
     ]
    },
    {
     "name": "stderr",
     "output_type": "stream",
     "text": [
      "2018-03-03 18:17:25,050 : INFO : EPOCH 5 - PROGRESS: at 6.51% examples, 823314 words/s, in_qsize 8, out_qsize 0\n"
     ]
    },
    {
     "name": "stderr",
     "output_type": "stream",
     "text": [
      "2018-03-03 18:17:26,059 : INFO : EPOCH 5 - PROGRESS: at 13.37% examples, 841015 words/s, in_qsize 7, out_qsize 0\n"
     ]
    },
    {
     "name": "stderr",
     "output_type": "stream",
     "text": [
      "2018-03-03 18:17:27,062 : INFO : EPOCH 5 - PROGRESS: at 20.22% examples, 847990 words/s, in_qsize 7, out_qsize 0\n"
     ]
    },
    {
     "name": "stderr",
     "output_type": "stream",
     "text": [
      "2018-03-03 18:17:28,071 : INFO : EPOCH 5 - PROGRESS: at 27.47% examples, 864799 words/s, in_qsize 7, out_qsize 0\n"
     ]
    },
    {
     "name": "stderr",
     "output_type": "stream",
     "text": [
      "2018-03-03 18:17:29,089 : INFO : EPOCH 5 - PROGRESS: at 34.65% examples, 870100 words/s, in_qsize 7, out_qsize 0\n"
     ]
    },
    {
     "name": "stderr",
     "output_type": "stream",
     "text": [
      "2018-03-03 18:17:30,098 : INFO : EPOCH 5 - PROGRESS: at 41.81% examples, 876419 words/s, in_qsize 6, out_qsize 0\n"
     ]
    },
    {
     "name": "stderr",
     "output_type": "stream",
     "text": [
      "2018-03-03 18:17:31,100 : INFO : EPOCH 5 - PROGRESS: at 48.82% examples, 879702 words/s, in_qsize 7, out_qsize 0\n"
     ]
    },
    {
     "name": "stderr",
     "output_type": "stream",
     "text": [
      "2018-03-03 18:17:32,113 : INFO : EPOCH 5 - PROGRESS: at 55.94% examples, 881834 words/s, in_qsize 7, out_qsize 0\n"
     ]
    },
    {
     "name": "stderr",
     "output_type": "stream",
     "text": [
      "2018-03-03 18:17:33,115 : INFO : EPOCH 5 - PROGRESS: at 62.94% examples, 883602 words/s, in_qsize 8, out_qsize 0\n"
     ]
    },
    {
     "name": "stderr",
     "output_type": "stream",
     "text": [
      "2018-03-03 18:17:34,117 : INFO : EPOCH 5 - PROGRESS: at 69.94% examples, 884460 words/s, in_qsize 7, out_qsize 0\n"
     ]
    },
    {
     "name": "stderr",
     "output_type": "stream",
     "text": [
      "2018-03-03 18:17:35,124 : INFO : EPOCH 5 - PROGRESS: at 77.04% examples, 886083 words/s, in_qsize 8, out_qsize 0\n"
     ]
    },
    {
     "name": "stderr",
     "output_type": "stream",
     "text": [
      "2018-03-03 18:17:36,138 : INFO : EPOCH 5 - PROGRESS: at 83.83% examples, 883457 words/s, in_qsize 7, out_qsize 2\n"
     ]
    },
    {
     "name": "stderr",
     "output_type": "stream",
     "text": [
      "2018-03-03 18:17:37,140 : INFO : EPOCH 5 - PROGRESS: at 91.04% examples, 886196 words/s, in_qsize 7, out_qsize 0\n"
     ]
    },
    {
     "name": "stderr",
     "output_type": "stream",
     "text": [
      "2018-03-03 18:17:38,145 : INFO : EPOCH 5 - PROGRESS: at 98.11% examples, 886945 words/s, in_qsize 8, out_qsize 0\n"
     ]
    },
    {
     "name": "stderr",
     "output_type": "stream",
     "text": [
      "2018-03-03 18:17:38,395 : INFO : worker thread finished; awaiting finish of 3 more threads\n"
     ]
    },
    {
     "name": "stderr",
     "output_type": "stream",
     "text": [
      "2018-03-03 18:17:38,402 : INFO : worker thread finished; awaiting finish of 2 more threads\n"
     ]
    },
    {
     "name": "stderr",
     "output_type": "stream",
     "text": [
      "2018-03-03 18:17:38,409 : INFO : worker thread finished; awaiting finish of 1 more threads\n"
     ]
    },
    {
     "name": "stderr",
     "output_type": "stream",
     "text": [
      "2018-03-03 18:17:38,414 : INFO : worker thread finished; awaiting finish of 0 more threads\n"
     ]
    },
    {
     "name": "stderr",
     "output_type": "stream",
     "text": [
      "2018-03-03 18:17:38,416 : INFO : EPOCH - 5 : training on 17798270 raw words (12750075 effective words) took 14.4s, 887146 effective words/s\n"
     ]
    },
    {
     "name": "stderr",
     "output_type": "stream",
     "text": [
      "2018-03-03 18:17:38,417 : INFO : training on a 88991350 raw words (63749216 effective words) took 71.4s, 893112 effective words/s\n"
     ]
    },
    {
     "name": "stderr",
     "output_type": "stream",
     "text": [
      "2018-03-03 18:17:38,418 : INFO : precomputing L2-norms of word weight vectors\n"
     ]
    },
    {
     "name": "stderr",
     "output_type": "stream",
     "text": [
      "2018-03-03 18:17:38,566 : INFO : storing 16490x300 projection weights into 300features_40minwords_10context\n"
     ]
    }
   ],
   "source": [
    "%time\n",
    "\n",
    "# Word2vec training\n",
    "from gensim.models import Word2Vec\n",
    "import logging\n",
    "\n",
    "logging.basicConfig(format='%(asctime)s : %(levelname)s : %(message)s', level=logging.INFO)\n",
    "\n",
    "# Set values for various parameters\n",
    "num_features = 300  # Word vector dimensionality                      \n",
    "min_word_count = 40  # min word count to include in vocabulary                        \n",
    "num_workers = 4  # Number of threads to run in parallel\n",
    "context = 10  # Context window size - the max size between predicated word to other in same context                                                                                   \n",
    "downsampling = 1e-3  # Downsample setting for frequent words\n",
    "\n",
    "model = Word2Vec(sentences, workers=num_workers, size=num_features, min_count=min_word_count,\n",
    "                 window=context, sample=downsampling)\n",
    "\n",
    "# If you don't plan to train the model any further, calling \n",
    "# init_sims will make the model much more memory-efficient.\n",
    "model.init_sims(replace=True)\n",
    "\n",
    "# It can be helpful to create a meaningful model name and \n",
    "# save the model for later use. You can load it later using Word2Vec.load()\n",
    "model_name = \"{0}features_{1}minwords_{2}context\".format(num_features, min_word_count, context)\n",
    "model.wv.save_word2vec_format(model_name)"
   ]
  },
  {
   "cell_type": "code",
   "execution_count": 16,
   "metadata": {},
   "outputs": [
    {
     "name": "stderr",
     "output_type": "stream",
     "text": [
      "/usr/local/lib/python2.7/site-packages/ipykernel_launcher.py:3: DeprecationWarning: Call to deprecated `most_similar` (Method will be removed in 4.0.0, use self.wv.most_similar() instead).\n  This is separate from the ipykernel package so we can avoid doing imports until\n"
     ]
    },
    {
     "data": {
      "text/plain": [
       "[(u'decent', 0.687891960144043),\n (u'bad', 0.6487659811973572),\n (u'great', 0.6134573817253113),\n (u'nice', 0.5892657041549683),\n (u'lousy', 0.5792396664619446),\n (u'fine', 0.5522958636283875),\n (u'mediocre', 0.5507618188858032),\n (u'cool', 0.5476139783859253),\n (u'weak', 0.5302174091339111),\n (u'terrible', 0.5284218192100525)]"
      ]
     },
     "execution_count": 16,
     "metadata": {},
     "output_type": "execute_result"
    }
   ],
   "source": [
    "%time\n",
    "# Here we can play with our model\n",
    "\n",
    "model.most_similar(\"good\", topn=10)"
   ]
  },
  {
   "cell_type": "code",
   "execution_count": 3,
   "metadata": {},
   "outputs": [],
   "source": [
    "%time\n",
    "# e.g: we can pull out of our model the word happy and see it's vector representation \n",
    "# model['happy'].shape\n",
    "import os\n",
    "from gensim.models import KeyedVectors\n",
    "\n",
    "model_name = os.path.join(PROJECT_PATH, \"samples/movies_reviews_sentiment_analysis\", \"300features_40minwords_10context\")\n",
    "model = KeyedVectors.load_word2vec_format(model_name, binary=True)"
   ]
  },
  {
   "cell_type": "code",
   "execution_count": 11,
   "metadata": {},
   "outputs": [
    {
     "ename": "ImportError",
     "evalue": "cannot import name words_vec_to_avg_feature_vec",
     "traceback": [
      "\u001b[0;31m\u001b[0m",
      "\u001b[0;31mImportError\u001b[0mTraceback (most recent call last)",
      "\u001b[0;32m<ipython-input-11-398f57184a83>\u001b[0m in \u001b[0;36m<module>\u001b[0;34m()\u001b[0m\n\u001b[1;32m      1\u001b[0m \u001b[0;32mimport\u001b[0m \u001b[0mnumpy\u001b[0m \u001b[0;32mas\u001b[0m \u001b[0mnp\u001b[0m  \u001b[0;31m# Make sure that numpy is imported\u001b[0m\u001b[0;34m\u001b[0m\u001b[0m\n\u001b[1;32m      2\u001b[0m \u001b[0;34m\u001b[0m\u001b[0m\n\u001b[0;32m----> 3\u001b[0;31m \u001b[0;32mfrom\u001b[0m \u001b[0mlib\u001b[0m\u001b[0;34m.\u001b[0m\u001b[0mnlp\u001b[0m \u001b[0;32mimport\u001b[0m \u001b[0mwords_vec_to_avg_feature_vec\u001b[0m\u001b[0;34m\u001b[0m\u001b[0m\n\u001b[0m\u001b[1;32m      4\u001b[0m \u001b[0;34m\u001b[0m\u001b[0m\n\u001b[1;32m      5\u001b[0m \u001b[0;32mdef\u001b[0m \u001b[0mgetAvgFeatureVecs\u001b[0m\u001b[0;34m(\u001b[0m\u001b[0mreviews\u001b[0m\u001b[0;34m,\u001b[0m \u001b[0mmodel\u001b[0m\u001b[0;34m,\u001b[0m \u001b[0mnum_features\u001b[0m\u001b[0;34m)\u001b[0m\u001b[0;34m:\u001b[0m\u001b[0;34m\u001b[0m\u001b[0m\n",
      "\u001b[0;31mImportError\u001b[0m: cannot import name words_vec_to_avg_feature_vec"
     ],
     "output_type": "error"
    }
   ],
   "source": [
    "%time\n",
    "\n",
    "import numpy as np  # Make sure that numpy is imported\n",
    "\n",
    "from lib.nlp import words_vec_to_avg_feature_vec\n",
    "\n",
    "def getAvgFeatureVecs(reviews, model, num_features):\n",
    "    # Given a set of reviews (each one a list of words), calculate \n",
    "    # the average feature vector for each one and return a 2D numpy array \n",
    "    # \n",
    "    # Initialize a counter\n",
    "    counter = 0.\n",
    "    # \n",
    "    # Preallocate a 2D numpy array, for speed\n",
    "    reviewFeatureVecs = np.zeros((len(reviews), num_features), dtype=\"float32\")\n",
    "    # \n",
    "    # Loop through the reviews\n",
    "    for review in reviews:\n",
    "        #\n",
    "        # Print a status message every 1000th review\n",
    "        if counter % 1000. == 0.:\n",
    "            print \"Review %d of %d\" % (counter, len(reviews))\n",
    "        # \n",
    "        # Call the function (defined above) that makes average feature vectors\n",
    "        reviewFeatureVecs[counter] = words_vec_to_avg_feature_vec(review, model, \\\n",
    "                                                    num_features)\n",
    "        #\n",
    "        # Increment the counter\n",
    "        counter = counter + 1.\n",
    "    return reviewFeatureVecs\n"
   ]
  },
  {
   "cell_type": "code",
   "execution_count": 10,
   "metadata": {},
   "outputs": [
    {
     "ename": "NameError",
     "evalue": "name 'num_features' is not defined",
     "traceback": [
      "\u001b[0;31m\u001b[0m",
      "\u001b[0;31mNameError\u001b[0mTraceback (most recent call last)",
      "\u001b[0;32m<ipython-input-10-d0a9eb394536>\u001b[0m in \u001b[0;36m<module>\u001b[0;34m()\u001b[0m\n\u001b[1;32m      8\u001b[0m     \u001b[0mclean_train_reviews\u001b[0m\u001b[0;34m.\u001b[0m\u001b[0mappend\u001b[0m\u001b[0;34m(\u001b[0m\u001b[0mreview_to_wordlist\u001b[0m\u001b[0;34m(\u001b[0m\u001b[0mreview\u001b[0m\u001b[0;34m,\u001b[0m \u001b[0mremove_stopwords\u001b[0m\u001b[0;34m=\u001b[0m\u001b[0mTrue\u001b[0m\u001b[0;34m)\u001b[0m\u001b[0;34m)\u001b[0m\u001b[0;34m\u001b[0m\u001b[0m\n\u001b[1;32m      9\u001b[0m \u001b[0;34m\u001b[0m\u001b[0m\n\u001b[0;32m---> 10\u001b[0;31m \u001b[0mtrainDataVecs\u001b[0m \u001b[0;34m=\u001b[0m \u001b[0mgetAvgFeatureVecs\u001b[0m\u001b[0;34m(\u001b[0m\u001b[0mclean_train_reviews\u001b[0m\u001b[0;34m,\u001b[0m \u001b[0mmodel\u001b[0m\u001b[0;34m,\u001b[0m \u001b[0mnum_features\u001b[0m\u001b[0;34m)\u001b[0m\u001b[0;34m\u001b[0m\u001b[0m\n\u001b[0m\u001b[1;32m     11\u001b[0m \u001b[0;34m\u001b[0m\u001b[0m\n\u001b[1;32m     12\u001b[0m \u001b[0;32mprint\u001b[0m \u001b[0;34m\"Creating average feature vecs for test reviews\"\u001b[0m\u001b[0;34m\u001b[0m\u001b[0m\n",
      "\u001b[0;31mNameError\u001b[0m: name 'num_features' is not defined"
     ],
     "output_type": "error"
    }
   ],
   "source": [
    "%time\n",
    "# ****************************************************************\n",
    "# Calculate average feature vectors for training and testing sets,\n",
    "# using the functions we defined above. Notice that we now use stop word\n",
    "# removal.\n",
    "\n",
    "clean_train_reviews = []\n",
    "for review in labeled_train_review[\"review\"]:\n",
    "    clean_train_reviews.append(review_to_wordlist(review, remove_stopwords=True))\n",
    "\n",
    "trainDataVecs = getAvgFeatureVecs(clean_train_reviews, model, num_features)\n",
    "\n",
    "print \"Creating average feature vecs for test reviews\"\n",
    "clean_test_reviews = []\n",
    "for review in test_reviews[\"review\"]:\n",
    "    clean_test_reviews.append(review_to_wordlist(review, remove_stopwords=True))\n",
    "\n",
    "testDataVecs = getAvgFeatureVecs(clean_test_reviews, model, num_features)"
   ]
  },
  {
   "cell_type": "code",
   "execution_count": null,
   "metadata": {},
   "outputs": [],
   "source": [
    "%time\n",
    "# Fit a random forest to the training data, using 100 trees\n",
    "from sklearn.ensemble import RandomForestClassifier\n",
    "\n",
    "forest = RandomForestClassifier(n_estimators=100)\n",
    "\n",
    "print \"Fitting a random forest to labeled training data...\"\n",
    "forest = forest.fit(trainDataVecs, labeled_train_review[\"sentiment\"])\n",
    "\n",
    "# Test & extract results \n",
    "result = forest.predict(testDataVecs)\n",
    "\n",
    "# Write the test results \n",
    "output = pd.DataFrame(data={\"id\": test_reviews[\"id\"], \"sentiment\": result})\n",
    "output.to_csv(\"./data/movie_reviews/Word2Vec_AverageVectors.csv\", index=False, quoting=3)\n"
   ]
  }
 ],
 "metadata": {
  "kernelspec": {
   "display_name": "Python 2",
   "language": "python",
   "name": "python2"
  },
  "language_info": {
   "codemirror_mode": {
    "name": "ipython",
    "version": 2
   },
   "file_extension": ".py",
   "mimetype": "text/x-python",
   "name": "python",
   "nbconvert_exporter": "python",
   "pygments_lexer": "ipython2",
   "version": "2.7.14"
  }
 },
 "nbformat": 4,
 "nbformat_minor": 2
}
