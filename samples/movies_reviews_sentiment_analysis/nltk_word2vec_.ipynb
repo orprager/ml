{
 "cells": [
  {
   "cell_type": "code",
   "execution_count": 1,
   "metadata": {},
   "outputs": [
    {
     "name": "stdout",
     "output_type": "stream",
     "text": [
      "reviews data shape: (5000, 3)\nreviews columns: ['id' 'sentiment' 'review']\n"
     ]
    }
   ],
   "source": [
    "# Loading the labeled reviews\n",
    "import pandas as pd\n",
    "\n",
    "REVIEW_TO_PROCESS = 5000\n",
    "\n",
    "train_reviews = pd.read_csv(\"./data/movie_reviews/labeledTrainData.tsv\", header=0, delimiter=\"\\t\", quoting=3)\n",
    "train_reviews = train_reviews[0:REVIEW_TO_PROCESS]\n",
    "\n",
    "print \"reviews data shape: {}\".format(train_reviews.shape)\n",
    "print \"reviews columns: {}\".format(train_reviews.columns.values)"
   ]
  },
  {
   "cell_type": "code",
   "execution_count": 5,
   "metadata": {},
   "outputs": [],
   "source": [
    "import re\n",
    "\n",
    "from bs4 import BeautifulSoup\n",
    "from nltk.corpus import stopwords\n",
    "\n",
    "def review_to_words(text):\n",
    "    # Function to convert a raw review to a string of words\n",
    "    # The input is a single string (a raw movie review), and \n",
    "    # the output is a single string (a preprocessed movie review)\n",
    "    #\n",
    "    # 1. Remove HTML Tags\n",
    "    review_text = BeautifulSoup(text, 'html5lib').get_text()\n",
    "    #\n",
    "    # 2. Remove non-letters        \n",
    "    letters_only = re.sub(\"[^a-zA-Z]\", \" \", review_text)\n",
    "    #\n",
    "    # 3. Convert to lower case, split into individual words\n",
    "    words = letters_only.lower().split()\n",
    "    #\n",
    "    # 4. In Python, searching a set is much faster than searching\n",
    "    #   a list, so convert the stop words to a set\n",
    "    stops = set(stopwords.words(\"english\"))\n",
    "    # \n",
    "    # 5. Remove stop words\n",
    "    meaningful_words = [w for w in words if not w in stops]\n",
    "    #\n",
    "    # 6. Join the words back into one string separated by space, \n",
    "    # and return the result.\n",
    "    return \" \".join(meaningful_words)\n",
    "\n",
    "clean_reviews = []\n",
    "for i in xrange(0, train_reviews['review'].size):\n",
    "    clean_reviews.append(review_to_words(train_reviews['review'][0]))\n"
   ]
  },
  {
   "cell_type": "code",
   "execution_count": null,
   "metadata": {},
   "outputs": [],
   "source": []
  }
 ],
 "metadata": {
  "kernelspec": {
   "display_name": "Python 2",
   "language": "python",
   "name": "python2"
  },
  "language_info": {
   "codemirror_mode": {
    "name": "ipython",
    "version": 2
   },
   "file_extension": ".py",
   "mimetype": "text/x-python",
   "name": "python",
   "nbconvert_exporter": "python",
   "pygments_lexer": "ipython2",
   "version": "2.7.14"
  }
 },
 "nbformat": 4,
 "nbformat_minor": 2
}
